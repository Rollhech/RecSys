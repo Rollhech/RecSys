{
 "cells": [
  {
   "cell_type": "code",
   "execution_count": 1,
   "metadata": {
    "ExecuteTime": {
     "end_time": "2022-09-26T14:46:55.514560Z",
     "start_time": "2022-09-26T14:46:52.526373Z"
    }
   },
   "outputs": [],
   "source": [
    "# standard libraries:\n",
    "import pandas as pd\n",
    "import numpy as np\n",
    "\n",
    "#saving csv output to different location with:\n",
    "import os.path\n",
    "\n",
    " # self-created helping module:\n",
    "from RL_Helper import helpers as hlp\n"
   ]
  },
  {
   "cell_type": "markdown",
   "metadata": {},
   "source": [
    "# Policy Aggregation\n",
    "\n",
    "## Refineing Output from Replay Simulation "
   ]
  },
  {
   "cell_type": "markdown",
   "metadata": {},
   "source": [
    "Several Bandits were trained in the given setting with the Replay method. The Replay DataFrames need to be aggregated to be of use for recommendation. This is achieved with a helper-function form the self-created module. Following Replay Dataframes are examined:<br>\n",
    "\n",
    "1. Political Science Bachelor, $\\epsilon$-value = 0.05, binary reward\n",
    "2. Political Science Bachelor, $\\epsilon$-value = 0.05, non-binary reward (grades)\n",
    "3. All Programs, $\\epsilon$-value = 0.05, binary reward"
   ]
  },
  {
   "cell_type": "code",
   "execution_count": 3,
   "metadata": {
    "ExecuteTime": {
     "end_time": "2022-09-26T15:02:46.471571Z",
     "start_time": "2022-09-26T15:02:46.196724Z"
    }
   },
   "outputs": [],
   "source": [
    "# load data from previous notebook\n",
    "eps05_pol_bin = pd.read_csv('C:~your_path~/RecSys/obtained_data/epsilon_05_pol_bin.csv')"
   ]
  },
  {
   "cell_type": "code",
   "execution_count": 4,
   "metadata": {
    "ExecuteTime": {
     "end_time": "2022-09-26T15:02:47.383128Z",
     "start_time": "2022-09-26T15:02:47.134223Z"
    }
   },
   "outputs": [],
   "source": [
    "eps05_pol_grades = pd.read_csv('C:~your_path~/RecSys/obtained_data/epsilon_greedy_05_grades_pol.csv')"
   ]
  },
  {
   "cell_type": "code",
   "execution_count": 5,
   "metadata": {
    "ExecuteTime": {
     "end_time": "2022-09-26T15:04:09.708751Z",
     "start_time": "2022-09-26T15:04:09.477718Z"
    }
   },
   "outputs": [],
   "source": [
    "eps05_complete = pd.read_csv('C:~your_path~/RecSys/obtained_data/epsilon_greedy_05_bin_complete.csv')"
   ]
  },
  {
   "cell_type": "code",
   "execution_count": 9,
   "metadata": {
    "ExecuteTime": {
     "end_time": "2022-09-26T15:05:19.228880Z",
     "start_time": "2022-09-26T15:05:19.205894Z"
    }
   },
   "outputs": [
    {
     "data": {
      "text/plain": [
       "20"
      ]
     },
     "execution_count": 9,
     "metadata": {},
     "output_type": "execute_result"
    }
   ],
   "source": [
    "eps05_pol_bin['iteration'].nunique() #20\n",
    "eps05_pol_grades['iteration'].nunique() #20\n",
    "eps05_complete['iteration'].nunique() #20"
   ]
  },
  {
   "cell_type": "code",
   "execution_count": 12,
   "metadata": {
    "ExecuteTime": {
     "end_time": "2022-09-26T15:06:34.373176Z",
     "start_time": "2022-09-26T15:06:34.334199Z"
    }
   },
   "outputs": [
    {
     "data": {
      "text/plain": [
       "10000"
      ]
     },
     "execution_count": 12,
     "metadata": {},
     "output_type": "execute_result"
    }
   ],
   "source": [
    "eps05_pol_bin['visit'].nunique() # 10000\n",
    "eps05_pol_grades['visit'].nunique() # 10000\n",
    "eps05_complete['visit'].nunique() # 10000\n"
   ]
  },
  {
   "cell_type": "code",
   "execution_count": 15,
   "metadata": {
    "ExecuteTime": {
     "end_time": "2022-09-26T15:07:36.570426Z",
     "start_time": "2022-09-26T15:07:36.542422Z"
    }
   },
   "outputs": [
    {
     "data": {
      "text/plain": [
       "480"
      ]
     },
     "execution_count": 15,
     "metadata": {},
     "output_type": "execute_result"
    }
   ],
   "source": [
    "eps05_pol_bin['visitor_id'].nunique() #240\n",
    "eps05_pol_grades['visitor_id'].nunique() # 240 students are in the trainind df per program, all students where visted\n",
    "eps05_complete['visitor_id'].nunique()# 480 students are in the trainind df, all students where visted"
   ]
  },
  {
   "cell_type": "markdown",
   "metadata": {},
   "source": [
    "## Aggregation of Binary Reward"
   ]
  },
  {
   "cell_type": "markdown",
   "metadata": {},
   "source": [
    "### $\\epsilon$-greedy 0.05 $\\rightarrow$ Bachelor of Political Science"
   ]
  },
  {
   "cell_type": "code",
   "execution_count": 16,
   "metadata": {
    "ExecuteTime": {
     "end_time": "2022-09-26T15:08:35.020669Z",
     "start_time": "2022-09-26T15:08:33.478329Z"
    }
   },
   "outputs": [],
   "source": [
    "corrected_policy = hlp.aggregate_policy_reward(eps05_pol_bin)"
   ]
  },
  {
   "cell_type": "code",
   "execution_count": 17,
   "metadata": {
    "ExecuteTime": {
     "end_time": "2022-09-26T15:08:37.390587Z",
     "start_time": "2022-09-26T15:08:37.381614Z"
    }
   },
   "outputs": [],
   "source": [
    "corrected_policy = corrected_policy.sort_values(by = ['Rank'], ascending = False)"
   ]
  },
  {
   "cell_type": "code",
   "execution_count": 20,
   "metadata": {
    "ExecuteTime": {
     "end_time": "2022-09-26T15:11:01.167479Z",
     "start_time": "2022-09-26T15:11:01.145495Z"
    }
   },
   "outputs": [
    {
     "data": {
      "text/html": [
       "<div>\n",
       "<style scoped>\n",
       "    .dataframe tbody tr th:only-of-type {\n",
       "        vertical-align: middle;\n",
       "    }\n",
       "\n",
       "    .dataframe tbody tr th {\n",
       "        vertical-align: top;\n",
       "    }\n",
       "\n",
       "    .dataframe thead th {\n",
       "        text-align: right;\n",
       "    }\n",
       "</style>\n",
       "<table border=\"1\" class=\"dataframe\">\n",
       "  <thead>\n",
       "    <tr style=\"text-align: right;\">\n",
       "      <th></th>\n",
       "      <th>CourseID</th>\n",
       "      <th>Rank</th>\n",
       "    </tr>\n",
       "  </thead>\n",
       "  <tbody>\n",
       "    <tr>\n",
       "      <th>0</th>\n",
       "      <td>T100007</td>\n",
       "      <td>1.0</td>\n",
       "    </tr>\n",
       "    <tr>\n",
       "      <th>0</th>\n",
       "      <td>T200000</td>\n",
       "      <td>1.0</td>\n",
       "    </tr>\n",
       "    <tr>\n",
       "      <th>0</th>\n",
       "      <td>T100000</td>\n",
       "      <td>1.0</td>\n",
       "    </tr>\n",
       "    <tr>\n",
       "      <th>0</th>\n",
       "      <td>T100006</td>\n",
       "      <td>1.0</td>\n",
       "    </tr>\n",
       "    <tr>\n",
       "      <th>0</th>\n",
       "      <td>T100005</td>\n",
       "      <td>1.0</td>\n",
       "    </tr>\n",
       "  </tbody>\n",
       "</table>\n",
       "</div>"
      ],
      "text/plain": [
       "  CourseID  Rank\n",
       "0  T100007   1.0\n",
       "0  T200000   1.0\n",
       "0  T100000   1.0\n",
       "0  T100006   1.0\n",
       "0  T100005   1.0"
      ]
     },
     "execution_count": 20,
     "metadata": {},
     "output_type": "execute_result"
    }
   ],
   "source": [
    "corrected_policy.head()"
   ]
  },
  {
   "cell_type": "code",
   "execution_count": 21,
   "metadata": {
    "ExecuteTime": {
     "end_time": "2022-09-26T15:14:15.321629Z",
     "start_time": "2022-09-26T15:14:15.294643Z"
    }
   },
   "outputs": [],
   "source": [
    "corrected_policy.to_csv(os.path.join('C:~your_path~/RecSys/obtained_data', 'corrected_policy_maj_vote_pol_eps05.csv'), index = False)"
   ]
  },
  {
   "cell_type": "markdown",
   "metadata": {},
   "source": [
    "## Aggregation of Non- Binary Reward (Grades)"
   ]
  },
  {
   "cell_type": "markdown",
   "metadata": {},
   "source": [
    "### $\\epsilon$-greedy 0.05 $\\rightarrow$ Bachelor of Political Science"
   ]
  },
  {
   "cell_type": "code",
   "execution_count": 23,
   "metadata": {
    "ExecuteTime": {
     "end_time": "2022-09-26T15:18:25.529108Z",
     "start_time": "2022-09-26T15:18:23.973551Z"
    }
   },
   "outputs": [],
   "source": [
    "corrected_policy_grades = hlp.aggregate_policy_reward(eps05_pol_grades)\n"
   ]
  },
  {
   "cell_type": "code",
   "execution_count": 24,
   "metadata": {
    "ExecuteTime": {
     "end_time": "2022-09-26T15:18:27.428953Z",
     "start_time": "2022-09-26T15:18:27.413943Z"
    }
   },
   "outputs": [],
   "source": [
    "corrected_policy_grades = corrected_policy_grades.sort_values(by = ['Rank'], ascending = False)"
   ]
  },
  {
   "cell_type": "code",
   "execution_count": 26,
   "metadata": {
    "ExecuteTime": {
     "end_time": "2022-09-26T15:19:06.429972Z",
     "start_time": "2022-09-26T15:19:06.414979Z"
    }
   },
   "outputs": [
    {
     "data": {
      "text/html": [
       "<div>\n",
       "<style scoped>\n",
       "    .dataframe tbody tr th:only-of-type {\n",
       "        vertical-align: middle;\n",
       "    }\n",
       "\n",
       "    .dataframe tbody tr th {\n",
       "        vertical-align: top;\n",
       "    }\n",
       "\n",
       "    .dataframe thead th {\n",
       "        text-align: right;\n",
       "    }\n",
       "</style>\n",
       "<table border=\"1\" class=\"dataframe\">\n",
       "  <thead>\n",
       "    <tr style=\"text-align: right;\">\n",
       "      <th></th>\n",
       "      <th>CourseID</th>\n",
       "      <th>Rank</th>\n",
       "    </tr>\n",
       "  </thead>\n",
       "  <tbody>\n",
       "    <tr>\n",
       "      <th>0</th>\n",
       "      <td>T200003</td>\n",
       "      <td>5.061377</td>\n",
       "    </tr>\n",
       "    <tr>\n",
       "      <th>0</th>\n",
       "      <td>T100001</td>\n",
       "      <td>5.051862</td>\n",
       "    </tr>\n",
       "    <tr>\n",
       "      <th>0</th>\n",
       "      <td>T200001</td>\n",
       "      <td>5.029813</td>\n",
       "    </tr>\n",
       "    <tr>\n",
       "      <th>0</th>\n",
       "      <td>T200002</td>\n",
       "      <td>5.026534</td>\n",
       "    </tr>\n",
       "    <tr>\n",
       "      <th>0</th>\n",
       "      <td>T100005</td>\n",
       "      <td>5.024570</td>\n",
       "    </tr>\n",
       "  </tbody>\n",
       "</table>\n",
       "</div>"
      ],
      "text/plain": [
       "  CourseID      Rank\n",
       "0  T200003  5.061377\n",
       "0  T100001  5.051862\n",
       "0  T200001  5.029813\n",
       "0  T200002  5.026534\n",
       "0  T100005  5.024570"
      ]
     },
     "execution_count": 26,
     "metadata": {},
     "output_type": "execute_result"
    }
   ],
   "source": [
    "corrected_policy_grades.head()"
   ]
  },
  {
   "cell_type": "code",
   "execution_count": 29,
   "metadata": {
    "ExecuteTime": {
     "end_time": "2022-09-26T15:22:28.625602Z",
     "start_time": "2022-09-26T15:22:28.610608Z"
    }
   },
   "outputs": [],
   "source": [
    "corrected_policy_grades.to_csv(os.path.join('C:~your_path~/RecSys/obtained_data', 'corrected_policy_mean_grades_pol_eps05.csv'), index = False)"
   ]
  },
  {
   "cell_type": "markdown",
   "metadata": {},
   "source": [
    "## Aggregation of Binary Reward All Students"
   ]
  },
  {
   "cell_type": "code",
   "execution_count": 27,
   "metadata": {
    "ExecuteTime": {
     "end_time": "2022-09-26T15:21:35.053173Z",
     "start_time": "2022-09-26T15:21:31.334890Z"
    }
   },
   "outputs": [],
   "source": [
    "corrected_policy_complete = hlp.aggregate_policy_reward(eps05_complete)"
   ]
  },
  {
   "cell_type": "code",
   "execution_count": 28,
   "metadata": {
    "ExecuteTime": {
     "end_time": "2022-09-26T15:21:55.608902Z",
     "start_time": "2022-09-26T15:21:55.598906Z"
    }
   },
   "outputs": [],
   "source": [
    "corrected_policy_complete = corrected_policy_complete.sort_values(by = ['Rank'], ascending = False)"
   ]
  },
  {
   "cell_type": "code",
   "execution_count": 30,
   "metadata": {
    "ExecuteTime": {
     "end_time": "2022-09-26T15:22:45.754484Z",
     "start_time": "2022-09-26T15:22:45.743490Z"
    }
   },
   "outputs": [],
   "source": [
    "corrected_policy_complete.to_csv(os.path.join('C:~your_path~/RecSys/obtained_data', 'corrected_policy_complete_eps05.csv'), index = False)"
   ]
  },
  {
   "cell_type": "markdown",
   "metadata": {},
   "source": [
    "# Are obtained Policies valid study plans?\n",
    "\n",
    "Studyplan as of academic year 2021/2022 is inspected (Political Science Program Only): <br>\n",
    "https://www.unige.ch/sciences-societe/formations/bachelors/sciences-politiques/plan-detudes-et-reglement/"
   ]
  },
  {
   "cell_type": "code",
   "execution_count": 31,
   "metadata": {
    "ExecuteTime": {
     "end_time": "2022-09-26T15:22:50.446949Z",
     "start_time": "2022-09-26T15:22:50.429941Z"
    }
   },
   "outputs": [],
   "source": [
    "##    MANDATORY WORKLOAD\n",
    "\n",
    "first_year = {'T100007','T100005','T107005','T100000','T100001','T100004','T100006','T107009','T100003'}\n",
    "second_year = {'T200002','T200000','T200001','T207041','T207033','T207040','T200003','T207000'}\n",
    "\n",
    "# # Electives in Part 1:\n",
    "elecp1 = {'T108000','T108002','T106001','T105001'} # choose 3 out of 4\n",
    "elec_seminars_p1 = {'T108001','T108003','T106006','T105006'} # choose 1\n",
    "\n",
    "# Electives in Part 2\n",
    "# choose 5 out of 7\n",
    "elec_pol = {'T207012', 'T207035', 'T207037','T207038','T207034','T207036','T207004'}                  \n",
    "\n",
    "# 26 in total\n",
    "# 36 CP still to choose, some have 3 (12 more are missing) some have 6 CP (6 more missing)"
   ]
  },
  {
   "cell_type": "code",
   "execution_count": 32,
   "metadata": {
    "ExecuteTime": {
     "end_time": "2022-09-26T15:22:54.589006Z",
     "start_time": "2022-09-26T15:22:54.580007Z"
    }
   },
   "outputs": [
    {
     "data": {
      "text/plain": [
       "17"
      ]
     },
     "execution_count": 32,
     "metadata": {},
     "output_type": "execute_result"
    }
   ],
   "source": [
    "len(first_year) + len(second_year) # 17 "
   ]
  },
  {
   "cell_type": "code",
   "execution_count": 38,
   "metadata": {
    "ExecuteTime": {
     "end_time": "2022-09-26T15:24:03.943306Z",
     "start_time": "2022-09-26T15:24:03.917322Z"
    }
   },
   "outputs": [
    {
     "data": {
      "text/plain": [
       "True"
      ]
     },
     "execution_count": 38,
     "metadata": {},
     "output_type": "execute_result"
    }
   ],
   "source": [
    "(set(corrected_policy[:39].CourseID) & first_year) == first_year \n",
    "(set(corrected_policy[:39].CourseID) & second_year) == second_year\n",
    "(set(corrected_policy[:39].CourseID) & elecp1) == elecp1 # 1 more than needed\n",
    "(set(corrected_policy[:39].CourseID) & elec_pol) == elec_pol \n",
    "# 2 more than needed, fills Enseignements à choix, as these two categories overlap\n",
    "# all True"
   ]
  },
  {
   "cell_type": "code",
   "execution_count": 39,
   "metadata": {
    "ExecuteTime": {
     "end_time": "2022-09-26T15:24:11.173236Z",
     "start_time": "2022-09-26T15:24:11.165243Z"
    }
   },
   "outputs": [
    {
     "data": {
      "text/plain": [
       "False"
      ]
     },
     "execution_count": 39,
     "metadata": {},
     "output_type": "execute_result"
    }
   ],
   "source": [
    "##    /!\\ Attention /!\\ \n",
    "(set(corrected_policy[:39].CourseID) & elec_seminars_p1) == elec_seminars_p1 "
   ]
  },
  {
   "cell_type": "code",
   "execution_count": 41,
   "metadata": {
    "ExecuteTime": {
     "end_time": "2022-09-26T15:33:07.725359Z",
     "start_time": "2022-09-26T15:33:07.710347Z"
    }
   },
   "outputs": [
    {
     "data": {
      "text/plain": [
       "{'T106006'}"
      ]
     },
     "execution_count": 41,
     "metadata": {},
     "output_type": "execute_result"
    }
   ],
   "source": [
    "(set(corrected_policy[:39].CourseID) & elec_seminars_p1)\n",
    "# 1 is missing, namely the history seminar"
   ]
  },
  {
   "cell_type": "code",
   "execution_count": 42,
   "metadata": {
    "ExecuteTime": {
     "end_time": "2022-09-26T15:33:09.158178Z",
     "start_time": "2022-09-26T15:33:09.141171Z"
    }
   },
   "outputs": [],
   "source": [
    "mandatory = (first_year | second_year | elecp1 | elec_pol | elec_seminars_p1)"
   ]
  },
  {
   "cell_type": "code",
   "execution_count": 43,
   "metadata": {
    "ExecuteTime": {
     "end_time": "2022-09-26T15:33:10.617376Z",
     "start_time": "2022-09-26T15:33:10.599386Z"
    }
   },
   "outputs": [],
   "source": [
    "left_over = set(corrected_policy[:39].CourseID) - mandatory\n",
    "# These leftover courses should be eligable to fill 24 CP of open faculty, 12 CP are optional"
   ]
  },
  {
   "cell_type": "code",
   "execution_count": 49,
   "metadata": {
    "ExecuteTime": {
     "end_time": "2022-09-26T15:35:48.810940Z",
     "start_time": "2022-09-26T15:35:48.789953Z"
    }
   },
   "outputs": [
    {
     "data": {
      "text/plain": [
       "{'12E050SCIENCES',\n",
       " '12E051SCIENCES',\n",
       " '5870',\n",
       " 'J2D035',\n",
       " 'J2P015',\n",
       " 'J2P201',\n",
       " 'T205020',\n",
       " 'T206060',\n",
       " 'T207002',\n",
       " 'T207059'}"
      ]
     },
     "execution_count": 49,
     "metadata": {},
     "output_type": "execute_result"
    }
   ],
   "source": [
    "left_over #"
   ]
  },
  {
   "cell_type": "code",
   "execution_count": 50,
   "metadata": {
    "ExecuteTime": {
     "end_time": "2022-09-26T15:35:51.500221Z",
     "start_time": "2022-09-26T15:35:51.493227Z"
    }
   },
   "outputs": [],
   "source": [
    "elec_part2_p = {'T207012','T207035','T207037','T207038','J2P273','J2D034','T207001','J2P234','T207039','J2P302', 'T207034','T207036','T207004','J2D035','T207002','J2P201','J2P015','T207059'}\n",
    "open_faculty_courses = {'12E050SCIENCES','12E051SCIENCES','5870','5869','T206054','T206007','T205011','T206000','T208013','T208002','T207003','T214006','T206059','T208016','T208017','T208006','S102012','T208033','T208015','T205000','T205023','T206024','T206001','T208003','T208012','T206056','T206058','T206006','T208014','S102013','T208000','T206002','T206057','T208011','T205004','T205020','T205027'}"
   ]
  },
  {
   "cell_type": "code",
   "execution_count": 51,
   "metadata": {
    "ExecuteTime": {
     "end_time": "2022-09-26T15:35:52.326516Z",
     "start_time": "2022-09-26T15:35:52.310521Z"
    }
   },
   "outputs": [
    {
     "data": {
      "text/plain": [
       "{'12E050SCIENCES', '12E051SCIENCES', '5870', 'T205020'}"
      ]
     },
     "execution_count": 51,
     "metadata": {},
     "output_type": "execute_result"
    }
   ],
   "source": [
    "open_faculty_courses & left_over"
   ]
  },
  {
   "cell_type": "code",
   "execution_count": 52,
   "metadata": {
    "ExecuteTime": {
     "end_time": "2022-09-26T15:35:57.655885Z",
     "start_time": "2022-09-26T15:35:57.637892Z"
    }
   },
   "outputs": [
    {
     "data": {
      "text/plain": [
       "{'J2D035', 'J2P015', 'J2P201', 'T207002', 'T207059'}"
      ]
     },
     "execution_count": 52,
     "metadata": {},
     "output_type": "execute_result"
    }
   ],
   "source": [
    "elec_part2_p & left_over"
   ]
  },
  {
   "cell_type": "markdown",
   "metadata": {},
   "source": [
    "## $\\rightarrow$ Binary Reward, $\\epsilon$ = 0.05 is in deed a valid study plan"
   ]
  },
  {
   "cell_type": "code",
   "execution_count": 53,
   "metadata": {
    "ExecuteTime": {
     "end_time": "2022-09-26T15:36:26.810503Z",
     "start_time": "2022-09-26T15:36:26.798495Z"
    }
   },
   "outputs": [
    {
     "data": {
      "text/plain": [
       "True"
      ]
     },
     "execution_count": 53,
     "metadata": {},
     "output_type": "execute_result"
    }
   ],
   "source": [
    "(set(corrected_policy_grades[:39].CourseID) & first_year) == first_year \n",
    "(set(corrected_policy_grades[:39].CourseID) & second_year) == second_year\n",
    "(set(corrected_policy_grades[:39].CourseID) & elecp1) == elecp1 # 1 more than needed\n",
    "(set(corrected_policy_grades[:39].CourseID) & elec_pol) == elec_pol \n",
    "# 2 more than needed, fills Enseignements à choix, as these two categories overlap\n",
    "# all True"
   ]
  },
  {
   "cell_type": "code",
   "execution_count": 54,
   "metadata": {
    "ExecuteTime": {
     "end_time": "2022-09-26T15:36:28.585086Z",
     "start_time": "2022-09-26T15:36:28.574074Z"
    }
   },
   "outputs": [
    {
     "data": {
      "text/plain": [
       "False"
      ]
     },
     "execution_count": 54,
     "metadata": {},
     "output_type": "execute_result"
    }
   ],
   "source": [
    "(set(corrected_policy_grades[:39].CourseID) & elec_seminars_p1) == elec_seminars_p1 #same is missing"
   ]
  },
  {
   "cell_type": "code",
   "execution_count": 55,
   "metadata": {
    "ExecuteTime": {
     "end_time": "2022-09-26T15:36:30.126955Z",
     "start_time": "2022-09-26T15:36:30.117949Z"
    }
   },
   "outputs": [],
   "source": [
    "left_over_grades = set(corrected_policy_grades[:39].CourseID) - mandatory"
   ]
  },
  {
   "cell_type": "code",
   "execution_count": 56,
   "metadata": {
    "ExecuteTime": {
     "end_time": "2022-09-26T15:36:32.235638Z",
     "start_time": "2022-09-26T15:36:32.214034Z"
    }
   },
   "outputs": [
    {
     "data": {
      "text/plain": [
       "{'12E050SCIENCES',\n",
       " '12E051SCIENCES',\n",
       " '5870',\n",
       " 'J2D035',\n",
       " 'J2P015',\n",
       " 'J2P201',\n",
       " 'T206057',\n",
       " 'T206060',\n",
       " 'T207002',\n",
       " 'T207059'}"
      ]
     },
     "execution_count": 56,
     "metadata": {},
     "output_type": "execute_result"
    }
   ],
   "source": [
    "left_over_grades"
   ]
  },
  {
   "cell_type": "code",
   "execution_count": 58,
   "metadata": {
    "ExecuteTime": {
     "end_time": "2022-09-26T15:36:55.213908Z",
     "start_time": "2022-09-26T15:36:55.206911Z"
    }
   },
   "outputs": [
    {
     "data": {
      "text/plain": [
       "{'12E050SCIENCES',\n",
       " '12E051SCIENCES',\n",
       " '5870',\n",
       " 'J2D035',\n",
       " 'J2P015',\n",
       " 'J2P201',\n",
       " 'T205020',\n",
       " 'T206060',\n",
       " 'T207002',\n",
       " 'T207059'}"
      ]
     },
     "execution_count": 58,
     "metadata": {},
     "output_type": "execute_result"
    }
   ],
   "source": [
    "left_over # There is no difference to what is left over between the two policies"
   ]
  },
  {
   "cell_type": "code",
   "execution_count": 59,
   "metadata": {
    "ExecuteTime": {
     "end_time": "2022-09-26T15:36:58.071433Z",
     "start_time": "2022-09-26T15:36:58.054426Z"
    }
   },
   "outputs": [
    {
     "data": {
      "text/plain": [
       "{'12E050SCIENCES', '12E051SCIENCES', '5870', 'T206057'}"
      ]
     },
     "execution_count": 59,
     "metadata": {},
     "output_type": "execute_result"
    }
   ],
   "source": [
    "open_faculty_courses & left_over_grades"
   ]
  },
  {
   "cell_type": "code",
   "execution_count": 60,
   "metadata": {
    "ExecuteTime": {
     "end_time": "2022-09-26T15:37:00.178920Z",
     "start_time": "2022-09-26T15:37:00.166926Z"
    }
   },
   "outputs": [
    {
     "data": {
      "text/plain": [
       "{'J2D035', 'J2P015', 'J2P201', 'T207002', 'T207059'}"
      ]
     },
     "execution_count": 60,
     "metadata": {},
     "output_type": "execute_result"
    }
   ],
   "source": [
    "elec_part2_p & left_over_grades"
   ]
  },
  {
   "cell_type": "markdown",
   "metadata": {},
   "source": [
    "## $\\rightarrow$ Non Binary Reward, $\\epsilon$ = 0.05 is in deed a valid study plan"
   ]
  }
 ],
 "metadata": {
  "kernelspec": {
   "display_name": "Python 3",
   "language": "python",
   "name": "python3"
  },
  "language_info": {
   "codemirror_mode": {
    "name": "ipython",
    "version": 3
   },
   "file_extension": ".py",
   "mimetype": "text/x-python",
   "name": "python",
   "nbconvert_exporter": "python",
   "pygments_lexer": "ipython3",
   "version": "3.8.5"
  }
 },
 "nbformat": 4,
 "nbformat_minor": 4
}
