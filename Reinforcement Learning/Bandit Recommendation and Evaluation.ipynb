{
 "cells": [
  {
   "cell_type": "code",
   "execution_count": 22,
   "metadata": {
    "ExecuteTime": {
     "end_time": "2022-09-27T08:13:45.428821Z",
     "start_time": "2022-09-27T08:13:45.423823Z"
    }
   },
   "outputs": [],
   "source": [
    "import numpy as np\n",
    "import pandas as pd\n",
    "import random\n",
    "\n",
    " # self-created helping module:\n",
    "from RL_Helper import helpers as hlp\n"
   ]
  },
  {
   "cell_type": "markdown",
   "metadata": {},
   "source": [
    "# RL-based Recsys and Evaluation"
   ]
  },
  {
   "cell_type": "code",
   "execution_count": 23,
   "metadata": {
    "ExecuteTime": {
     "end_time": "2022-09-27T08:13:50.338871Z",
     "start_time": "2022-09-27T08:13:50.327878Z"
    }
   },
   "outputs": [],
   "source": [
    "# load data\n",
    "corrected_policy = pd.read_csv('C:/~your_path~/RecSys/obtained_data/corrected_policy_maj_vote_pol_eps05.csv')"
   ]
  },
  {
   "cell_type": "code",
   "execution_count": 24,
   "metadata": {
    "ExecuteTime": {
     "end_time": "2022-09-27T08:13:51.009068Z",
     "start_time": "2022-09-27T08:13:50.992061Z"
    }
   },
   "outputs": [],
   "source": [
    "corrected_policy_grades = pd.read_csv('C:/~your_path~/RecSys/obtained_data/corrected_policy_mean_grades_pol_eps05.csv')"
   ]
  },
  {
   "cell_type": "code",
   "execution_count": 25,
   "metadata": {
    "ExecuteTime": {
     "end_time": "2022-09-27T08:13:51.613858Z",
     "start_time": "2022-09-27T08:13:51.583873Z"
    }
   },
   "outputs": [],
   "source": [
    "corrected_policy_complete = pd.read_csv('C:~your_path~/RecSys/obtained_data/corrected_policy_complete_eps05.csv')"
   ]
  },
  {
   "cell_type": "code",
   "execution_count": 26,
   "metadata": {
    "ExecuteTime": {
     "end_time": "2022-09-27T08:13:52.363274Z",
     "start_time": "2022-09-27T08:13:52.337267Z"
    }
   },
   "outputs": [
    {
     "data": {
      "text/html": [
       "<div>\n",
       "<style scoped>\n",
       "    .dataframe tbody tr th:only-of-type {\n",
       "        vertical-align: middle;\n",
       "    }\n",
       "\n",
       "    .dataframe tbody tr th {\n",
       "        vertical-align: top;\n",
       "    }\n",
       "\n",
       "    .dataframe thead th {\n",
       "        text-align: right;\n",
       "    }\n",
       "</style>\n",
       "<table border=\"1\" class=\"dataframe\">\n",
       "  <thead>\n",
       "    <tr style=\"text-align: right;\">\n",
       "      <th></th>\n",
       "      <th>CourseID</th>\n",
       "      <th>Rank</th>\n",
       "    </tr>\n",
       "  </thead>\n",
       "  <tbody>\n",
       "    <tr>\n",
       "      <th>63</th>\n",
       "      <td>T208015</td>\n",
       "      <td>0.0</td>\n",
       "    </tr>\n",
       "    <tr>\n",
       "      <th>64</th>\n",
       "      <td>T205000</td>\n",
       "      <td>0.0</td>\n",
       "    </tr>\n",
       "    <tr>\n",
       "      <th>65</th>\n",
       "      <td>T206059</td>\n",
       "      <td>0.0</td>\n",
       "    </tr>\n",
       "    <tr>\n",
       "      <th>66</th>\n",
       "      <td>T214006</td>\n",
       "      <td>0.0</td>\n",
       "    </tr>\n",
       "    <tr>\n",
       "      <th>67</th>\n",
       "      <td>T208033</td>\n",
       "      <td>0.0</td>\n",
       "    </tr>\n",
       "  </tbody>\n",
       "</table>\n",
       "</div>"
      ],
      "text/plain": [
       "   CourseID  Rank\n",
       "63  T208015   0.0\n",
       "64  T205000   0.0\n",
       "65  T206059   0.0\n",
       "66  T214006   0.0\n",
       "67  T208033   0.0"
      ]
     },
     "execution_count": 26,
     "metadata": {},
     "output_type": "execute_result"
    }
   ],
   "source": [
    "# inspect data\n",
    "corrected_policy.tail()"
   ]
  },
  {
   "cell_type": "code",
   "execution_count": 27,
   "metadata": {
    "ExecuteTime": {
     "end_time": "2022-09-27T08:13:53.001741Z",
     "start_time": "2022-09-27T08:13:52.982750Z"
    }
   },
   "outputs": [
    {
     "data": {
      "text/html": [
       "<div>\n",
       "<style scoped>\n",
       "    .dataframe tbody tr th:only-of-type {\n",
       "        vertical-align: middle;\n",
       "    }\n",
       "\n",
       "    .dataframe tbody tr th {\n",
       "        vertical-align: top;\n",
       "    }\n",
       "\n",
       "    .dataframe thead th {\n",
       "        text-align: right;\n",
       "    }\n",
       "</style>\n",
       "<table border=\"1\" class=\"dataframe\">\n",
       "  <thead>\n",
       "    <tr style=\"text-align: right;\">\n",
       "      <th></th>\n",
       "      <th>CourseID</th>\n",
       "      <th>Rank</th>\n",
       "    </tr>\n",
       "  </thead>\n",
       "  <tbody>\n",
       "    <tr>\n",
       "      <th>63</th>\n",
       "      <td>T205023</td>\n",
       "      <td>0.0</td>\n",
       "    </tr>\n",
       "    <tr>\n",
       "      <th>64</th>\n",
       "      <td>T206059</td>\n",
       "      <td>0.0</td>\n",
       "    </tr>\n",
       "    <tr>\n",
       "      <th>65</th>\n",
       "      <td>T208015</td>\n",
       "      <td>0.0</td>\n",
       "    </tr>\n",
       "    <tr>\n",
       "      <th>66</th>\n",
       "      <td>T214006</td>\n",
       "      <td>0.0</td>\n",
       "    </tr>\n",
       "    <tr>\n",
       "      <th>67</th>\n",
       "      <td>T208033</td>\n",
       "      <td>0.0</td>\n",
       "    </tr>\n",
       "  </tbody>\n",
       "</table>\n",
       "</div>"
      ],
      "text/plain": [
       "   CourseID  Rank\n",
       "63  T205023   0.0\n",
       "64  T206059   0.0\n",
       "65  T208015   0.0\n",
       "66  T214006   0.0\n",
       "67  T208033   0.0"
      ]
     },
     "execution_count": 27,
     "metadata": {},
     "output_type": "execute_result"
    }
   ],
   "source": [
    "corrected_policy_grades.tail()"
   ]
  },
  {
   "cell_type": "code",
   "execution_count": 28,
   "metadata": {
    "ExecuteTime": {
     "end_time": "2022-09-27T08:13:53.651036Z",
     "start_time": "2022-09-27T08:13:53.624049Z"
    }
   },
   "outputs": [],
   "source": [
    "test_df_NaN = pd.read_csv('C:~your_path~/RecSys/obtained_data/test_df_NaN.csv') # both programs\n",
    "test_df_NaN_pol = pd.read_csv('C:~your_path~/RecSys/obtained_data/test_df_NaN_pol.csv')\n",
    "#courses = pd.read_csv('obtained_data/all_courses.csv')"
   ]
  },
  {
   "cell_type": "code",
   "execution_count": 71,
   "metadata": {
    "ExecuteTime": {
     "end_time": "2022-09-27T09:01:45.834964Z",
     "start_time": "2022-09-27T09:01:45.794985Z"
    }
   },
   "outputs": [],
   "source": [
    "## initial data set that is needed for validation\n",
    "test_df = pd.read_csv('C:/Users/Christina Rollheiser/Desktop/RecSys/obtained_data/test_df.csv')\n",
    "test_df_pol = pd.read_csv('C:/Users/Christina Rollheiser/Desktop/RecSys/obtained_data/test_df_pol.csv')"
   ]
  },
  {
   "cell_type": "code",
   "execution_count": 30,
   "metadata": {
    "ExecuteTime": {
     "end_time": "2022-09-27T08:13:58.717864Z",
     "start_time": "2022-09-27T08:13:58.687881Z"
    }
   },
   "outputs": [
    {
     "data": {
      "text/html": [
       "<div>\n",
       "<style scoped>\n",
       "    .dataframe tbody tr th:only-of-type {\n",
       "        vertical-align: middle;\n",
       "    }\n",
       "\n",
       "    .dataframe tbody tr th {\n",
       "        vertical-align: top;\n",
       "    }\n",
       "\n",
       "    .dataframe thead th {\n",
       "        text-align: right;\n",
       "    }\n",
       "</style>\n",
       "<table border=\"1\" class=\"dataframe\">\n",
       "  <thead>\n",
       "    <tr style=\"text-align: right;\">\n",
       "      <th></th>\n",
       "      <th>CourseID</th>\n",
       "      <th>StudentID</th>\n",
       "      <th>Grades</th>\n",
       "    </tr>\n",
       "  </thead>\n",
       "  <tbody>\n",
       "    <tr>\n",
       "      <th>4649</th>\n",
       "      <td>T207002</td>\n",
       "      <td>172</td>\n",
       "      <td>4.25</td>\n",
       "    </tr>\n",
       "    <tr>\n",
       "      <th>4650</th>\n",
       "      <td>T206060</td>\n",
       "      <td>172</td>\n",
       "      <td>NaN</td>\n",
       "    </tr>\n",
       "    <tr>\n",
       "      <th>4651</th>\n",
       "      <td>T207004</td>\n",
       "      <td>172</td>\n",
       "      <td>NaN</td>\n",
       "    </tr>\n",
       "    <tr>\n",
       "      <th>4652</th>\n",
       "      <td>T207036</td>\n",
       "      <td>172</td>\n",
       "      <td>NaN</td>\n",
       "    </tr>\n",
       "    <tr>\n",
       "      <th>4653</th>\n",
       "      <td>J2D035</td>\n",
       "      <td>172</td>\n",
       "      <td>NaN</td>\n",
       "    </tr>\n",
       "    <tr>\n",
       "      <th>4654</th>\n",
       "      <td>T207002</td>\n",
       "      <td>172</td>\n",
       "      <td>NaN</td>\n",
       "    </tr>\n",
       "    <tr>\n",
       "      <th>4655</th>\n",
       "      <td>5869</td>\n",
       "      <td>172</td>\n",
       "      <td>NaN</td>\n",
       "    </tr>\n",
       "    <tr>\n",
       "      <th>4656</th>\n",
       "      <td>5870</td>\n",
       "      <td>172</td>\n",
       "      <td>NaN</td>\n",
       "    </tr>\n",
       "    <tr>\n",
       "      <th>4657</th>\n",
       "      <td>T206057</td>\n",
       "      <td>172</td>\n",
       "      <td>NaN</td>\n",
       "    </tr>\n",
       "    <tr>\n",
       "      <th>4658</th>\n",
       "      <td>T206024</td>\n",
       "      <td>172</td>\n",
       "      <td>NaN</td>\n",
       "    </tr>\n",
       "    <tr>\n",
       "      <th>4659</th>\n",
       "      <td>T208014</td>\n",
       "      <td>172</td>\n",
       "      <td>NaN</td>\n",
       "    </tr>\n",
       "  </tbody>\n",
       "</table>\n",
       "</div>"
      ],
      "text/plain": [
       "     CourseID  StudentID  Grades\n",
       "4649  T207002        172    4.25\n",
       "4650  T206060        172     NaN\n",
       "4651  T207004        172     NaN\n",
       "4652  T207036        172     NaN\n",
       "4653   J2D035        172     NaN\n",
       "4654  T207002        172     NaN\n",
       "4655     5869        172     NaN\n",
       "4656     5870        172     NaN\n",
       "4657  T206057        172     NaN\n",
       "4658  T206024        172     NaN\n",
       "4659  T208014        172     NaN"
      ]
     },
     "execution_count": 30,
     "metadata": {},
     "output_type": "execute_result"
    }
   ],
   "source": [
    "test_df_NaN.tail(11)"
   ]
  },
  {
   "cell_type": "markdown",
   "metadata": {},
   "source": [
    "## Core Functions"
   ]
  },
  {
   "cell_type": "code",
   "execution_count": 32,
   "metadata": {
    "ExecuteTime": {
     "end_time": "2022-09-27T08:14:19.451728Z",
     "start_time": "2022-09-27T08:14:19.424744Z"
    }
   },
   "outputs": [],
   "source": [
    "def bandit(candidates, x):# x is the number of recommendations to be obtained \n",
    "    random.seed(32)\n",
    "    chosen_arms = pd.DataFrame()\n",
    "    candidates = candidates.sort_values(by = 'Rank', ascending = False)\n",
    "    df_temp = pd.DataFrame({ # adding the first 50 % of x recommendations needed to the list, as candidates are sorted in descending order\n",
    "        'CourseID':candidates.CourseID[: int(x / 2)],\n",
    "        'Rank':candidates.Rank[: int(x / 2)]\n",
    "    })\n",
    "    chosen_arms = pd.concat([chosen_arms, df_temp])\n",
    "    count = int(x / 2)\n",
    "    candidates = candidates[~candidates.CourseID.isin(chosen_arms.CourseID)] # filter candidates\n",
    "    explore_arms = int(x / 6)\n",
    "    count += explore_arms\n",
    "    a = candidates.CourseID.to_list()\n",
    "    ex = list(np.random.choice(a, explore_arms, replace = False))\n",
    "    temp = pd.DataFrame()\n",
    "    for i in ex:\n",
    "        b = candidates.loc[candidates['CourseID'] == i]\n",
    "        df = pd.DataFrame({\n",
    "            'CourseID': b.CourseID.values,\n",
    "            'Rank': b.Rank.values\n",
    "        })\n",
    "        temp = pd.concat([temp, df])\n",
    "    chosen_arms = pd.concat([chosen_arms, temp])\n",
    "    candidates = candidates[~candidates.CourseID.isin(chosen_arms.CourseID)] # filter candidates\n",
    "    remaining = x - count\n",
    "    df_temp = pd.DataFrame({ \n",
    "        'CourseID':candidates.CourseID[: remaining],\n",
    "        'Rank':candidates.Rank[: remaining]\n",
    "    })\n",
    "    chosen_arms = pd.concat([chosen_arms, df_temp])\n",
    "    return chosen_arms"
   ]
  },
  {
   "cell_type": "code",
   "execution_count": 33,
   "metadata": {
    "ExecuteTime": {
     "end_time": "2022-09-27T08:14:25.770315Z",
     "start_time": "2022-09-27T08:14:25.751323Z"
    }
   },
   "outputs": [],
   "source": [
    "# input: test set, aggregated policy, x = number of recommendations to be obtained\n",
    "def get_recommendations(test_df, corrected_policy, x):\n",
    "    rec_df = pd.DataFrame()\n",
    "    test_df_index = list(test_df.StudentID.unique())\n",
    "    for i in test_df_index:\n",
    "        student_data = test_df[test_df['StudentID'] == i].dropna(axis=0) \n",
    "        courses_taken = student_data.CourseID.to_list()\n",
    "        candidates = corrected_policy[~corrected_policy.CourseID.isin(courses_taken)]\n",
    "        recommendations = bandit(candidates, x)\n",
    "        recommendations['StudentID'] = [i] * len(recommendations)\n",
    "        rec_df = pd.concat([rec_df, recommendations])   \n",
    "    return rec_df\n",
    "        "
   ]
  },
  {
   "cell_type": "code",
   "execution_count": 98,
   "metadata": {
    "ExecuteTime": {
     "end_time": "2022-09-27T09:34:02.883809Z",
     "start_time": "2022-09-27T09:34:00.671017Z"
    }
   },
   "outputs": [],
   "source": [
    "pol_rec_binary =  get_recommendations(test_df_NaN_pol, corrected_policy, 10)\n",
    "pol_rec_grades = get_recommendations(test_df_NaN_pol, corrected_policy_grades, 10)"
   ]
  },
  {
   "cell_type": "code",
   "execution_count": 99,
   "metadata": {
    "ExecuteTime": {
     "end_time": "2022-09-27T09:34:21.158307Z",
     "start_time": "2022-09-27T09:34:18.662756Z"
    }
   },
   "outputs": [],
   "source": [
    "pol_rec_binary_soft =  get_recommendations(test_df_NaN_pol, corrected_policy, 14)\n",
    "pol_rec_grades_soft = get_recommendations(test_df_NaN_pol, corrected_policy_grades, 14)"
   ]
  },
  {
   "cell_type": "code",
   "execution_count": 81,
   "metadata": {
    "ExecuteTime": {
     "end_time": "2022-09-27T09:11:13.938891Z",
     "start_time": "2022-09-27T09:11:13.907907Z"
    }
   },
   "outputs": [
    {
     "data": {
      "text/html": [
       "<div>\n",
       "<style scoped>\n",
       "    .dataframe tbody tr th:only-of-type {\n",
       "        vertical-align: middle;\n",
       "    }\n",
       "\n",
       "    .dataframe tbody tr th {\n",
       "        vertical-align: top;\n",
       "    }\n",
       "\n",
       "    .dataframe thead th {\n",
       "        text-align: right;\n",
       "    }\n",
       "</style>\n",
       "<table border=\"1\" class=\"dataframe\">\n",
       "  <thead>\n",
       "    <tr style=\"text-align: right;\">\n",
       "      <th></th>\n",
       "      <th>CourseID</th>\n",
       "      <th>Rank</th>\n",
       "      <th>StudentID</th>\n",
       "    </tr>\n",
       "  </thead>\n",
       "  <tbody>\n",
       "    <tr>\n",
       "      <th>18</th>\n",
       "      <td>T207012</td>\n",
       "      <td>0.840278</td>\n",
       "      <td>266</td>\n",
       "    </tr>\n",
       "    <tr>\n",
       "      <th>21</th>\n",
       "      <td>T207004</td>\n",
       "      <td>0.823129</td>\n",
       "      <td>266</td>\n",
       "    </tr>\n",
       "    <tr>\n",
       "      <th>22</th>\n",
       "      <td>T206060</td>\n",
       "      <td>0.790541</td>\n",
       "      <td>266</td>\n",
       "    </tr>\n",
       "    <tr>\n",
       "      <th>23</th>\n",
       "      <td>T105001</td>\n",
       "      <td>0.784314</td>\n",
       "      <td>266</td>\n",
       "    </tr>\n",
       "    <tr>\n",
       "      <th>24</th>\n",
       "      <td>T207036</td>\n",
       "      <td>0.782609</td>\n",
       "      <td>266</td>\n",
       "    </tr>\n",
       "    <tr>\n",
       "      <th>26</th>\n",
       "      <td>T207034</td>\n",
       "      <td>0.751634</td>\n",
       "      <td>266</td>\n",
       "    </tr>\n",
       "    <tr>\n",
       "      <th>0</th>\n",
       "      <td>S102013</td>\n",
       "      <td>0.188811</td>\n",
       "      <td>266</td>\n",
       "    </tr>\n",
       "    <tr>\n",
       "      <th>0</th>\n",
       "      <td>T206057</td>\n",
       "      <td>0.246667</td>\n",
       "      <td>266</td>\n",
       "    </tr>\n",
       "    <tr>\n",
       "      <th>31</th>\n",
       "      <td>T207059</td>\n",
       "      <td>0.426471</td>\n",
       "      <td>266</td>\n",
       "    </tr>\n",
       "    <tr>\n",
       "      <th>32</th>\n",
       "      <td>12E051SCIENCES</td>\n",
       "      <td>0.362319</td>\n",
       "      <td>266</td>\n",
       "    </tr>\n",
       "    <tr>\n",
       "      <th>33</th>\n",
       "      <td>12E050SCIENCES</td>\n",
       "      <td>0.357664</td>\n",
       "      <td>266</td>\n",
       "    </tr>\n",
       "    <tr>\n",
       "      <th>34</th>\n",
       "      <td>J2P201</td>\n",
       "      <td>0.305195</td>\n",
       "      <td>266</td>\n",
       "    </tr>\n",
       "    <tr>\n",
       "      <th>17</th>\n",
       "      <td>T207002</td>\n",
       "      <td>0.849673</td>\n",
       "      <td>256</td>\n",
       "    </tr>\n",
       "  </tbody>\n",
       "</table>\n",
       "</div>"
      ],
      "text/plain": [
       "          CourseID      Rank  StudentID\n",
       "18         T207012  0.840278        266\n",
       "21         T207004  0.823129        266\n",
       "22         T206060  0.790541        266\n",
       "23         T105001  0.784314        266\n",
       "24         T207036  0.782609        266\n",
       "26         T207034  0.751634        266\n",
       "0          S102013  0.188811        266\n",
       "0          T206057  0.246667        266\n",
       "31         T207059  0.426471        266\n",
       "32  12E051SCIENCES  0.362319        266\n",
       "33  12E050SCIENCES  0.357664        266\n",
       "34          J2P201  0.305195        266\n",
       "17         T207002  0.849673        256"
      ]
     },
     "execution_count": 81,
     "metadata": {},
     "output_type": "execute_result"
    }
   ],
   "source": [
    "pol_rec_binary.head(13)"
   ]
  },
  {
   "cell_type": "code",
   "execution_count": 82,
   "metadata": {
    "ExecuteTime": {
     "end_time": "2022-09-27T09:11:18.141178Z",
     "start_time": "2022-09-27T09:11:18.119169Z"
    }
   },
   "outputs": [
    {
     "data": {
      "text/html": [
       "<div>\n",
       "<style scoped>\n",
       "    .dataframe tbody tr th:only-of-type {\n",
       "        vertical-align: middle;\n",
       "    }\n",
       "\n",
       "    .dataframe tbody tr th {\n",
       "        vertical-align: top;\n",
       "    }\n",
       "\n",
       "    .dataframe thead th {\n",
       "        text-align: right;\n",
       "    }\n",
       "</style>\n",
       "<table border=\"1\" class=\"dataframe\">\n",
       "  <thead>\n",
       "    <tr style=\"text-align: right;\">\n",
       "      <th></th>\n",
       "      <th>CourseID</th>\n",
       "      <th>Rank</th>\n",
       "      <th>StudentID</th>\n",
       "    </tr>\n",
       "  </thead>\n",
       "  <tbody>\n",
       "    <tr>\n",
       "      <th>17</th>\n",
       "      <td>T207012</td>\n",
       "      <td>4.157104</td>\n",
       "      <td>266</td>\n",
       "    </tr>\n",
       "    <tr>\n",
       "      <th>20</th>\n",
       "      <td>T207004</td>\n",
       "      <td>4.002674</td>\n",
       "      <td>266</td>\n",
       "    </tr>\n",
       "    <tr>\n",
       "      <th>22</th>\n",
       "      <td>T206060</td>\n",
       "      <td>3.945652</td>\n",
       "      <td>266</td>\n",
       "    </tr>\n",
       "    <tr>\n",
       "      <th>23</th>\n",
       "      <td>T105001</td>\n",
       "      <td>3.854037</td>\n",
       "      <td>266</td>\n",
       "    </tr>\n",
       "    <tr>\n",
       "      <th>24</th>\n",
       "      <td>T207036</td>\n",
       "      <td>3.849719</td>\n",
       "      <td>266</td>\n",
       "    </tr>\n",
       "    <tr>\n",
       "      <th>26</th>\n",
       "      <td>T207034</td>\n",
       "      <td>3.772606</td>\n",
       "      <td>266</td>\n",
       "    </tr>\n",
       "    <tr>\n",
       "      <th>0</th>\n",
       "      <td>T208000</td>\n",
       "      <td>0.870313</td>\n",
       "      <td>266</td>\n",
       "    </tr>\n",
       "    <tr>\n",
       "      <th>0</th>\n",
       "      <td>T206024</td>\n",
       "      <td>1.055901</td>\n",
       "      <td>266</td>\n",
       "    </tr>\n",
       "    <tr>\n",
       "      <th>31</th>\n",
       "      <td>T207059</td>\n",
       "      <td>2.125000</td>\n",
       "      <td>266</td>\n",
       "    </tr>\n",
       "    <tr>\n",
       "      <th>32</th>\n",
       "      <td>12E050SCIENCES</td>\n",
       "      <td>1.841837</td>\n",
       "      <td>266</td>\n",
       "    </tr>\n",
       "    <tr>\n",
       "      <th>33</th>\n",
       "      <td>12E051SCIENCES</td>\n",
       "      <td>1.769231</td>\n",
       "      <td>266</td>\n",
       "    </tr>\n",
       "  </tbody>\n",
       "</table>\n",
       "</div>"
      ],
      "text/plain": [
       "          CourseID      Rank  StudentID\n",
       "17         T207012  4.157104        266\n",
       "20         T207004  4.002674        266\n",
       "22         T206060  3.945652        266\n",
       "23         T105001  3.854037        266\n",
       "24         T207036  3.849719        266\n",
       "26         T207034  3.772606        266\n",
       "0          T208000  0.870313        266\n",
       "0          T206024  1.055901        266\n",
       "31         T207059  2.125000        266\n",
       "32  12E050SCIENCES  1.841837        266\n",
       "33  12E051SCIENCES  1.769231        266"
      ]
     },
     "execution_count": 82,
     "metadata": {},
     "output_type": "execute_result"
    }
   ],
   "source": [
    "pol_rec_grades.head(11) # very slight differences"
   ]
  },
  {
   "cell_type": "code",
   "execution_count": 41,
   "metadata": {
    "ExecuteTime": {
     "end_time": "2022-09-27T08:24:09.738514Z",
     "start_time": "2022-09-27T08:24:09.699532Z"
    }
   },
   "outputs": [],
   "source": [
    "# Save results, epsilon = 0.05, binary reward\n",
    "pol_rec_binary.to_csv('C:/~your_path~/RecSys/obtained_data/eps05_binary_reward_recommendations_pol_bin.csv', index = False)\n",
    "pol_rec_grades.to_csv('C:/~your_path~/RecSys/obtained_data/eps05_binary_reward_recommendations_pol_grades.csv', index = False)"
   ]
  },
  {
   "cell_type": "code",
   "execution_count": 38,
   "metadata": {
    "ExecuteTime": {
     "end_time": "2022-09-27T08:19:13.931671Z",
     "start_time": "2022-09-27T08:19:12.001141Z"
    }
   },
   "outputs": [],
   "source": [
    "complete_rec = get_recommendations(test_df, corrected_policy_complete, 10)"
   ]
  },
  {
   "cell_type": "code",
   "execution_count": 40,
   "metadata": {
    "ExecuteTime": {
     "end_time": "2022-09-27T08:19:31.009803Z",
     "start_time": "2022-09-27T08:19:30.992812Z"
    }
   },
   "outputs": [
    {
     "data": {
      "text/html": [
       "<div>\n",
       "<style scoped>\n",
       "    .dataframe tbody tr th:only-of-type {\n",
       "        vertical-align: middle;\n",
       "    }\n",
       "\n",
       "    .dataframe tbody tr th {\n",
       "        vertical-align: top;\n",
       "    }\n",
       "\n",
       "    .dataframe thead th {\n",
       "        text-align: right;\n",
       "    }\n",
       "</style>\n",
       "<table border=\"1\" class=\"dataframe\">\n",
       "  <thead>\n",
       "    <tr style=\"text-align: right;\">\n",
       "      <th></th>\n",
       "      <th>CourseID</th>\n",
       "      <th>Rank</th>\n",
       "      <th>StudentID</th>\n",
       "    </tr>\n",
       "  </thead>\n",
       "  <tbody>\n",
       "    <tr>\n",
       "      <th>4</th>\n",
       "      <td>T207000</td>\n",
       "      <td>0.498813</td>\n",
       "      <td>313</td>\n",
       "    </tr>\n",
       "    <tr>\n",
       "      <th>5</th>\n",
       "      <td>T200003</td>\n",
       "      <td>0.496616</td>\n",
       "      <td>313</td>\n",
       "    </tr>\n",
       "    <tr>\n",
       "      <th>6</th>\n",
       "      <td>T100001</td>\n",
       "      <td>0.494841</td>\n",
       "      <td>313</td>\n",
       "    </tr>\n",
       "    <tr>\n",
       "      <th>7</th>\n",
       "      <td>T200000</td>\n",
       "      <td>0.493932</td>\n",
       "      <td>313</td>\n",
       "    </tr>\n",
       "    <tr>\n",
       "      <th>8</th>\n",
       "      <td>T207033</td>\n",
       "      <td>0.492225</td>\n",
       "      <td>313</td>\n",
       "    </tr>\n",
       "    <tr>\n",
       "      <th>0</th>\n",
       "      <td>7420AF</td>\n",
       "      <td>0.036364</td>\n",
       "      <td>313</td>\n",
       "    </tr>\n",
       "    <tr>\n",
       "      <th>9</th>\n",
       "      <td>T200002</td>\n",
       "      <td>0.490838</td>\n",
       "      <td>313</td>\n",
       "    </tr>\n",
       "    <tr>\n",
       "      <th>10</th>\n",
       "      <td>T207040</td>\n",
       "      <td>0.490597</td>\n",
       "      <td>313</td>\n",
       "    </tr>\n",
       "    <tr>\n",
       "      <th>11</th>\n",
       "      <td>T207041</td>\n",
       "      <td>0.489641</td>\n",
       "      <td>313</td>\n",
       "    </tr>\n",
       "    <tr>\n",
       "      <th>12</th>\n",
       "      <td>T100004</td>\n",
       "      <td>0.488000</td>\n",
       "      <td>313</td>\n",
       "    </tr>\n",
       "    <tr>\n",
       "      <th>0</th>\n",
       "      <td>7417I</td>\n",
       "      <td>0.510442</td>\n",
       "      <td>175</td>\n",
       "    </tr>\n",
       "  </tbody>\n",
       "</table>\n",
       "</div>"
      ],
      "text/plain": [
       "   CourseID      Rank  StudentID\n",
       "4   T207000  0.498813        313\n",
       "5   T200003  0.496616        313\n",
       "6   T100001  0.494841        313\n",
       "7   T200000  0.493932        313\n",
       "8   T207033  0.492225        313\n",
       "0    7420AF  0.036364        313\n",
       "9   T200002  0.490838        313\n",
       "10  T207040  0.490597        313\n",
       "11  T207041  0.489641        313\n",
       "12  T100004  0.488000        313\n",
       "0     7417I  0.510442        175"
      ]
     },
     "execution_count": 40,
     "metadata": {},
     "output_type": "execute_result"
    }
   ],
   "source": [
    "complete_rec.head(11)"
   ]
  },
  {
   "cell_type": "markdown",
   "metadata": {},
   "source": [
    "## Testing diversity in Recommendations for StudentID 775036\n",
    "### CF-based RecSys vs RL-based RecSys"
   ]
  },
  {
   "cell_type": "code",
   "execution_count": 42,
   "metadata": {
    "ExecuteTime": {
     "end_time": "2022-09-27T08:41:27.507609Z",
     "start_time": "2022-09-27T08:41:27.472578Z"
    }
   },
   "outputs": [],
   "source": [
    "cf_mean_rec = pd.read_csv('C:~your_path~/RecSys/obtained_data/rec_mean_grades.csv')\n",
    "cf_maj_rec = pd.read_csv('C:~your_path~/RecSys/obtained_data/rec_majority.csv')"
   ]
  },
  {
   "cell_type": "code",
   "execution_count": 54,
   "metadata": {
    "ExecuteTime": {
     "end_time": "2022-09-27T08:46:50.675510Z",
     "start_time": "2022-09-27T08:46:50.655501Z"
    }
   },
   "outputs": [
    {
     "data": {
      "text/plain": [
       "{9, 18, 20, 45, 61, 92, 132, 189, 202, 220}"
      ]
     },
     "execution_count": 54,
     "metadata": {},
     "output_type": "execute_result"
    }
   ],
   "source": [
    "set(pol_rec_binary['StudentID'].unique()) & set(cf_maj_rec['StudentID'].unique())"
   ]
  },
  {
   "cell_type": "code",
   "execution_count": 55,
   "metadata": {
    "ExecuteTime": {
     "end_time": "2022-09-27T08:47:21.508137Z",
     "start_time": "2022-09-27T08:47:21.497141Z"
    }
   },
   "outputs": [],
   "source": [
    "cf_mean = cf_mean_rec[cf_mean_rec.StudentID ==132].CourseID.values"
   ]
  },
  {
   "cell_type": "code",
   "execution_count": 56,
   "metadata": {
    "ExecuteTime": {
     "end_time": "2022-09-27T08:47:22.507167Z",
     "start_time": "2022-09-27T08:47:22.487175Z"
    }
   },
   "outputs": [],
   "source": [
    "cf_maj = cf_maj_rec[cf_maj_rec.StudentID == 132].CourseID.values"
   ]
  },
  {
   "cell_type": "code",
   "execution_count": 57,
   "metadata": {
    "ExecuteTime": {
     "end_time": "2022-09-27T08:47:23.331352Z",
     "start_time": "2022-09-27T08:47:23.319363Z"
    }
   },
   "outputs": [
    {
     "data": {
      "text/plain": [
       "{'12E050SCIENCES',\n",
       " '12E051SCIENCES',\n",
       " 'T207012',\n",
       " 'T207034',\n",
       " 'T207036',\n",
       " 'T207059'}"
      ]
     },
     "execution_count": 57,
     "metadata": {},
     "output_type": "execute_result"
    }
   ],
   "source": [
    "set(cf_mean) & set(cf_maj) # 6 courses in common"
   ]
  },
  {
   "cell_type": "code",
   "execution_count": 58,
   "metadata": {
    "ExecuteTime": {
     "end_time": "2022-09-27T08:47:37.634026Z",
     "start_time": "2022-09-27T08:47:37.625025Z"
    }
   },
   "outputs": [],
   "source": [
    "rl_maj = pol_rec_binary[pol_rec_binary.StudentID == 132].CourseID.values"
   ]
  },
  {
   "cell_type": "code",
   "execution_count": 59,
   "metadata": {
    "ExecuteTime": {
     "end_time": "2022-09-27T08:47:43.134506Z",
     "start_time": "2022-09-27T08:47:43.119493Z"
    }
   },
   "outputs": [
    {
     "data": {
      "text/plain": [
       "array(['T207012', 'T207004', 'T206060', 'T207036', 'T108000', 'T207059',\n",
       "       'T207034', '12E051SCIENCES', '12E050SCIENCES', 'J2P201'],\n",
       "      dtype=object)"
      ]
     },
     "execution_count": 59,
     "metadata": {},
     "output_type": "execute_result"
    }
   ],
   "source": [
    "rl_maj"
   ]
  },
  {
   "cell_type": "code",
   "execution_count": 60,
   "metadata": {
    "ExecuteTime": {
     "end_time": "2022-09-27T08:48:20.210473Z",
     "start_time": "2022-09-27T08:48:20.191485Z"
    }
   },
   "outputs": [],
   "source": [
    "rl_mean = pol_rec_grades[pol_rec_grades.StudentID == 132].CourseID.values"
   ]
  },
  {
   "cell_type": "code",
   "execution_count": 61,
   "metadata": {
    "ExecuteTime": {
     "end_time": "2022-09-27T08:48:38.328472Z",
     "start_time": "2022-09-27T08:48:38.312500Z"
    }
   },
   "outputs": [
    {
     "data": {
      "text/plain": [
       "array(['T207012', 'T207004', 'T206060', 'T207036', 'T108000', 'T208014',\n",
       "       'T207034', 'T207059', '12E050SCIENCES', '12E051SCIENCES'],\n",
       "      dtype=object)"
      ]
     },
     "execution_count": 61,
     "metadata": {},
     "output_type": "execute_result"
    }
   ],
   "source": [
    "rl_mean"
   ]
  },
  {
   "cell_type": "code",
   "execution_count": 63,
   "metadata": {
    "ExecuteTime": {
     "end_time": "2022-09-27T08:48:53.737475Z",
     "start_time": "2022-09-27T08:48:53.728478Z"
    }
   },
   "outputs": [
    {
     "data": {
      "text/plain": [
       "9"
      ]
     },
     "execution_count": 63,
     "metadata": {},
     "output_type": "execute_result"
    }
   ],
   "source": [
    "len(set(rl_mean) & set(rl_maj)) # 9 courses in common"
   ]
  },
  {
   "cell_type": "code",
   "execution_count": 64,
   "metadata": {
    "ExecuteTime": {
     "end_time": "2022-09-27T08:49:04.191443Z",
     "start_time": "2022-09-27T08:49:04.183446Z"
    }
   },
   "outputs": [
    {
     "data": {
      "text/plain": [
       "6"
      ]
     },
     "execution_count": 64,
     "metadata": {},
     "output_type": "execute_result"
    }
   ],
   "source": [
    "len(set(rl_mean) & set(cf_mean)) # 6 courses in common"
   ]
  },
  {
   "cell_type": "code",
   "execution_count": 65,
   "metadata": {
    "ExecuteTime": {
     "end_time": "2022-09-27T08:49:24.491458Z",
     "start_time": "2022-09-27T08:49:24.471468Z"
    }
   },
   "outputs": [
    {
     "data": {
      "text/plain": [
       "9"
      ]
     },
     "execution_count": 65,
     "metadata": {},
     "output_type": "execute_result"
    }
   ],
   "source": [
    "len(set(rl_maj) & set(cf_maj)) # 9 courses in common"
   ]
  },
  {
   "cell_type": "code",
   "execution_count": 66,
   "metadata": {
    "ExecuteTime": {
     "end_time": "2022-09-27T08:49:33.560485Z",
     "start_time": "2022-09-27T08:49:33.537497Z"
    }
   },
   "outputs": [],
   "source": [
    "comparison_mean = pd.DataFrame({\n",
    "    'Bandit Rec Mean': rl_mean,\n",
    "    'CF Rec Mean': cf_mean\n",
    "})\n",
    "\n",
    "comparison_maj = pd.DataFrame({\n",
    "    'Bandit Rec Maj': rl_maj,\n",
    "    'CF Rec Maj':cf_maj\n",
    "})"
   ]
  },
  {
   "cell_type": "code",
   "execution_count": 68,
   "metadata": {
    "ExecuteTime": {
     "end_time": "2022-09-27T08:49:57.239443Z",
     "start_time": "2022-09-27T08:49:57.208460Z"
    }
   },
   "outputs": [
    {
     "data": {
      "text/html": [
       "<div>\n",
       "<style scoped>\n",
       "    .dataframe tbody tr th:only-of-type {\n",
       "        vertical-align: middle;\n",
       "    }\n",
       "\n",
       "    .dataframe tbody tr th {\n",
       "        vertical-align: top;\n",
       "    }\n",
       "\n",
       "    .dataframe thead th {\n",
       "        text-align: right;\n",
       "    }\n",
       "</style>\n",
       "<table border=\"1\" class=\"dataframe\">\n",
       "  <thead>\n",
       "    <tr style=\"text-align: right;\">\n",
       "      <th></th>\n",
       "      <th>Bandit Rec Maj</th>\n",
       "      <th>CF Rec Maj</th>\n",
       "    </tr>\n",
       "  </thead>\n",
       "  <tbody>\n",
       "    <tr>\n",
       "      <th>0</th>\n",
       "      <td>T207012</td>\n",
       "      <td>T207012</td>\n",
       "    </tr>\n",
       "    <tr>\n",
       "      <th>1</th>\n",
       "      <td>T207004</td>\n",
       "      <td>T207004</td>\n",
       "    </tr>\n",
       "    <tr>\n",
       "      <th>2</th>\n",
       "      <td>T206060</td>\n",
       "      <td>T207036</td>\n",
       "    </tr>\n",
       "    <tr>\n",
       "      <th>3</th>\n",
       "      <td>T207036</td>\n",
       "      <td>T206060</td>\n",
       "    </tr>\n",
       "    <tr>\n",
       "      <th>4</th>\n",
       "      <td>T108000</td>\n",
       "      <td>T207034</td>\n",
       "    </tr>\n",
       "    <tr>\n",
       "      <th>5</th>\n",
       "      <td>T207059</td>\n",
       "      <td>T207059</td>\n",
       "    </tr>\n",
       "    <tr>\n",
       "      <th>6</th>\n",
       "      <td>T207034</td>\n",
       "      <td>12E051SCIENCES</td>\n",
       "    </tr>\n",
       "    <tr>\n",
       "      <th>7</th>\n",
       "      <td>12E051SCIENCES</td>\n",
       "      <td>12E050SCIENCES</td>\n",
       "    </tr>\n",
       "    <tr>\n",
       "      <th>8</th>\n",
       "      <td>12E050SCIENCES</td>\n",
       "      <td>J2D035</td>\n",
       "    </tr>\n",
       "    <tr>\n",
       "      <th>9</th>\n",
       "      <td>J2P201</td>\n",
       "      <td>J2P201</td>\n",
       "    </tr>\n",
       "  </tbody>\n",
       "</table>\n",
       "</div>"
      ],
      "text/plain": [
       "   Bandit Rec Maj      CF Rec Maj\n",
       "0         T207012         T207012\n",
       "1         T207004         T207004\n",
       "2         T206060         T207036\n",
       "3         T207036         T206060\n",
       "4         T108000         T207034\n",
       "5         T207059         T207059\n",
       "6         T207034  12E051SCIENCES\n",
       "7  12E051SCIENCES  12E050SCIENCES\n",
       "8  12E050SCIENCES          J2D035\n",
       "9          J2P201          J2P201"
      ]
     },
     "execution_count": 68,
     "metadata": {},
     "output_type": "execute_result"
    }
   ],
   "source": [
    "comparison_maj # 9 courses in common"
   ]
  },
  {
   "cell_type": "code",
   "execution_count": 69,
   "metadata": {
    "ExecuteTime": {
     "end_time": "2022-09-27T08:50:46.683438Z",
     "start_time": "2022-09-27T08:50:46.656458Z"
    }
   },
   "outputs": [
    {
     "data": {
      "text/html": [
       "<div>\n",
       "<style scoped>\n",
       "    .dataframe tbody tr th:only-of-type {\n",
       "        vertical-align: middle;\n",
       "    }\n",
       "\n",
       "    .dataframe tbody tr th {\n",
       "        vertical-align: top;\n",
       "    }\n",
       "\n",
       "    .dataframe thead th {\n",
       "        text-align: right;\n",
       "    }\n",
       "</style>\n",
       "<table border=\"1\" class=\"dataframe\">\n",
       "  <thead>\n",
       "    <tr style=\"text-align: right;\">\n",
       "      <th></th>\n",
       "      <th>Bandit Rec Mean</th>\n",
       "      <th>CF Rec Mean</th>\n",
       "    </tr>\n",
       "  </thead>\n",
       "  <tbody>\n",
       "    <tr>\n",
       "      <th>0</th>\n",
       "      <td>T207012</td>\n",
       "      <td>12E050SCIENCES</td>\n",
       "    </tr>\n",
       "    <tr>\n",
       "      <th>1</th>\n",
       "      <td>T207004</td>\n",
       "      <td>12E051SCIENCES</td>\n",
       "    </tr>\n",
       "    <tr>\n",
       "      <th>2</th>\n",
       "      <td>T206060</td>\n",
       "      <td>T208012</td>\n",
       "    </tr>\n",
       "    <tr>\n",
       "      <th>3</th>\n",
       "      <td>T207036</td>\n",
       "      <td>T208011</td>\n",
       "    </tr>\n",
       "    <tr>\n",
       "      <th>4</th>\n",
       "      <td>T108000</td>\n",
       "      <td>T208003</td>\n",
       "    </tr>\n",
       "    <tr>\n",
       "      <th>5</th>\n",
       "      <td>T208014</td>\n",
       "      <td>T208000</td>\n",
       "    </tr>\n",
       "    <tr>\n",
       "      <th>6</th>\n",
       "      <td>T207034</td>\n",
       "      <td>T207059</td>\n",
       "    </tr>\n",
       "    <tr>\n",
       "      <th>7</th>\n",
       "      <td>T207059</td>\n",
       "      <td>T207036</td>\n",
       "    </tr>\n",
       "    <tr>\n",
       "      <th>8</th>\n",
       "      <td>12E050SCIENCES</td>\n",
       "      <td>T207034</td>\n",
       "    </tr>\n",
       "    <tr>\n",
       "      <th>9</th>\n",
       "      <td>12E051SCIENCES</td>\n",
       "      <td>T207012</td>\n",
       "    </tr>\n",
       "  </tbody>\n",
       "</table>\n",
       "</div>"
      ],
      "text/plain": [
       "  Bandit Rec Mean     CF Rec Mean\n",
       "0         T207012  12E050SCIENCES\n",
       "1         T207004  12E051SCIENCES\n",
       "2         T206060         T208012\n",
       "3         T207036         T208011\n",
       "4         T108000         T208003\n",
       "5         T208014         T208000\n",
       "6         T207034         T207059\n",
       "7         T207059         T207036\n",
       "8  12E050SCIENCES         T207034\n",
       "9  12E051SCIENCES         T207012"
      ]
     },
     "execution_count": 69,
     "metadata": {},
     "output_type": "execute_result"
    }
   ],
   "source": [
    "comparison_mean # 6 courses in common"
   ]
  },
  {
   "cell_type": "markdown",
   "metadata": {},
   "source": [
    "**$\\rightarrow$ The recommendations obtained by ranking according explicit ratings (mean grades, or non-binary reward) display more diversity than ranking according to majority vote**"
   ]
  },
  {
   "cell_type": "markdown",
   "metadata": {},
   "source": [
    "## Evaluation Binary Reward and Non-Binary Reward, Epsilon = 0.05 "
   ]
  },
  {
   "cell_type": "code",
   "execution_count": 70,
   "metadata": {
    "ExecuteTime": {
     "end_time": "2022-09-27T08:59:03.555304Z",
     "start_time": "2022-09-27T08:59:03.529298Z"
    }
   },
   "outputs": [],
   "source": [
    "# Evaluation in the same way as described in CF_Evaluation\n",
    "\n",
    "def evaluate_rec(true_test_df, rec_df, entries_removed):\n",
    "    evaluation_df = pd.DataFrame()\n",
    "    IDs = rec_df['StudentID'].unique().tolist()\n",
    "    for i in IDs:\n",
    "        true = set(true_test_df[true_test_df['StudentID'] == i][-entries_removed:]['CourseID'].tolist())\n",
    "        rec_temp = rec_df[rec_df['StudentID'] == i]\n",
    "        rec = set(rec_temp['CourseID'].tolist())\n",
    "        intersection = true & rec\n",
    "        tp = len(intersection)\n",
    "        fn = len(true) - len(intersection)\n",
    "        fp = len(rec) - tp\n",
    "        recall = tp / (tp + fn)\n",
    "        precision = tp / (tp + fp)\n",
    "        if (recall > 0) & (precision > 0): \n",
    "            f1 = (2*(precision * recall)) / (precision + recall)\n",
    "        else: \n",
    "            f1 = 0\n",
    "        evaluation_i = pd.DataFrame(columns = ['StudentID', 'Recall', 'Precision', 'F1'], index = [0])\n",
    "        evaluation_i.iloc[0] = [i, recall, precision, f1]\n",
    "        evaluation_df = pd.concat([evaluation_df, evaluation_i], axis = 0)\n",
    "    evaluation_df = evaluation_df.set_index(['StudentID'])\n",
    "    return evaluation_df"
   ]
  },
  {
   "cell_type": "code",
   "execution_count": 100,
   "metadata": {
    "ExecuteTime": {
     "end_time": "2022-09-27T09:35:29.296523Z",
     "start_time": "2022-09-27T09:35:28.925396Z"
    }
   },
   "outputs": [],
   "source": [
    "eval_test = evaluate_rec(test_df_pol, pol_rec_binary, 10)"
   ]
  },
  {
   "cell_type": "code",
   "execution_count": 101,
   "metadata": {
    "ExecuteTime": {
     "end_time": "2022-09-27T09:35:30.426683Z",
     "start_time": "2022-09-27T09:35:30.086631Z"
    }
   },
   "outputs": [],
   "source": [
    "eval_test_grades = evaluate_rec(test_df_pol, pol_rec_grades, 10)"
   ]
  },
  {
   "cell_type": "code",
   "execution_count": 102,
   "metadata": {
    "ExecuteTime": {
     "end_time": "2022-09-27T09:35:33.274559Z",
     "start_time": "2022-09-27T09:35:32.623267Z"
    }
   },
   "outputs": [],
   "source": [
    "eval_test_soft = evaluate_rec(test_df_pol, pol_rec_binary_soft, 10)\n",
    "eval_test_grades_soft = evaluate_rec(test_df_pol, pol_rec_grades_soft, 10)"
   ]
  },
  {
   "cell_type": "code",
   "execution_count": 93,
   "metadata": {
    "ExecuteTime": {
     "end_time": "2022-09-27T09:12:23.353841Z",
     "start_time": "2022-09-27T09:12:22.807435Z"
    }
   },
   "outputs": [],
   "source": [
    "eval_test_complete = evaluate_rec(test_df, complete_rec, 10)"
   ]
  },
  {
   "cell_type": "markdown",
   "metadata": {},
   "source": [
    "### Illustration of Results"
   ]
  },
  {
   "cell_type": "markdown",
   "metadata": {},
   "source": [
    "### Hard Evaluation: 10 candidates for 10 recommendations"
   ]
  },
  {
   "cell_type": "code",
   "execution_count": 103,
   "metadata": {
    "ExecuteTime": {
     "end_time": "2022-09-27T09:35:35.109622Z",
     "start_time": "2022-09-27T09:35:35.094631Z"
    }
   },
   "outputs": [],
   "source": [
    "\n",
    "a = eval_test.mean() # Binary Political, eps = 0.05\n",
    "b = eval_test_grades.mean() # Grades Political, eps = 0.05\n",
    "c = eval_test_complete.mean() # Binary Both Programs 2, eps = 0.05\n"
   ]
  },
  {
   "cell_type": "code",
   "execution_count": 104,
   "metadata": {
    "ExecuteTime": {
     "end_time": "2022-09-27T09:35:37.782757Z",
     "start_time": "2022-09-27T09:35:37.758771Z"
    }
   },
   "outputs": [],
   "source": [
    "result_df_eps05 = pd.concat([a.rename('Binary Pol'), b.rename('Grades Pol'), c.rename('Binary Complete')], axis = 1)"
   ]
  },
  {
   "cell_type": "code",
   "execution_count": 105,
   "metadata": {
    "ExecuteTime": {
     "end_time": "2022-09-27T09:35:38.680808Z",
     "start_time": "2022-09-27T09:35:38.665818Z"
    }
   },
   "outputs": [],
   "source": [
    "result_df_eps05 = np.round(result_df_eps05 , 4)"
   ]
  },
  {
   "cell_type": "code",
   "execution_count": 106,
   "metadata": {
    "ExecuteTime": {
     "end_time": "2022-09-27T09:35:39.492271Z",
     "start_time": "2022-09-27T09:35:39.474280Z"
    }
   },
   "outputs": [
    {
     "data": {
      "text/html": [
       "<div>\n",
       "<style scoped>\n",
       "    .dataframe tbody tr th:only-of-type {\n",
       "        vertical-align: middle;\n",
       "    }\n",
       "\n",
       "    .dataframe tbody tr th {\n",
       "        vertical-align: top;\n",
       "    }\n",
       "\n",
       "    .dataframe thead th {\n",
       "        text-align: right;\n",
       "    }\n",
       "</style>\n",
       "<table border=\"1\" class=\"dataframe\">\n",
       "  <thead>\n",
       "    <tr style=\"text-align: right;\">\n",
       "      <th></th>\n",
       "      <th>Binary Pol</th>\n",
       "      <th>Grades Pol</th>\n",
       "      <th>Binary Complete</th>\n",
       "    </tr>\n",
       "  </thead>\n",
       "  <tbody>\n",
       "    <tr>\n",
       "      <th>Recall</th>\n",
       "      <td>0.4637</td>\n",
       "      <td>0.4719</td>\n",
       "      <td>0.0</td>\n",
       "    </tr>\n",
       "    <tr>\n",
       "      <th>Precision</th>\n",
       "      <td>0.4583</td>\n",
       "      <td>0.4667</td>\n",
       "      <td>0.0</td>\n",
       "    </tr>\n",
       "    <tr>\n",
       "      <th>F1</th>\n",
       "      <td>0.4609</td>\n",
       "      <td>0.4691</td>\n",
       "      <td>0.0</td>\n",
       "    </tr>\n",
       "  </tbody>\n",
       "</table>\n",
       "</div>"
      ],
      "text/plain": [
       "           Binary Pol  Grades Pol  Binary Complete\n",
       "Recall         0.4637      0.4719              0.0\n",
       "Precision      0.4583      0.4667              0.0\n",
       "F1             0.4609      0.4691              0.0"
      ]
     },
     "execution_count": 106,
     "metadata": {},
     "output_type": "execute_result"
    }
   ],
   "source": [
    "result_df_eps05"
   ]
  },
  {
   "cell_type": "markdown",
   "metadata": {},
   "source": [
    "### Soft Evaluation: 14 candidates for 10 recommendations"
   ]
  },
  {
   "cell_type": "code",
   "execution_count": 107,
   "metadata": {
    "ExecuteTime": {
     "end_time": "2022-09-27T09:36:04.154739Z",
     "start_time": "2022-09-27T09:36:04.126456Z"
    }
   },
   "outputs": [
    {
     "data": {
      "text/html": [
       "<div>\n",
       "<style scoped>\n",
       "    .dataframe tbody tr th:only-of-type {\n",
       "        vertical-align: middle;\n",
       "    }\n",
       "\n",
       "    .dataframe tbody tr th {\n",
       "        vertical-align: top;\n",
       "    }\n",
       "\n",
       "    .dataframe thead th {\n",
       "        text-align: right;\n",
       "    }\n",
       "</style>\n",
       "<table border=\"1\" class=\"dataframe\">\n",
       "  <thead>\n",
       "    <tr style=\"text-align: right;\">\n",
       "      <th></th>\n",
       "      <th>Binary Pol</th>\n",
       "      <th>Grades Pol</th>\n",
       "      <th>Binary Complete</th>\n",
       "    </tr>\n",
       "  </thead>\n",
       "  <tbody>\n",
       "    <tr>\n",
       "      <th>Recall</th>\n",
       "      <td>0.5591</td>\n",
       "      <td>0.5659</td>\n",
       "      <td>0.0</td>\n",
       "    </tr>\n",
       "    <tr>\n",
       "      <th>Precision</th>\n",
       "      <td>0.3952</td>\n",
       "      <td>0.4000</td>\n",
       "      <td>0.0</td>\n",
       "    </tr>\n",
       "    <tr>\n",
       "      <th>F1</th>\n",
       "      <td>0.4630</td>\n",
       "      <td>0.4686</td>\n",
       "      <td>0.0</td>\n",
       "    </tr>\n",
       "  </tbody>\n",
       "</table>\n",
       "</div>"
      ],
      "text/plain": [
       "           Binary Pol  Grades Pol  Binary Complete\n",
       "Recall         0.5591      0.5659              0.0\n",
       "Precision      0.3952      0.4000              0.0\n",
       "F1             0.4630      0.4686              0.0"
      ]
     },
     "execution_count": 107,
     "metadata": {},
     "output_type": "execute_result"
    }
   ],
   "source": [
    "a_soft = eval_test_soft.mean() # Binary Political Science, eps = 0.05\n",
    "b_soft = eval_test_grades_soft.mean() # Grades Political Science, eps = 0.05\n",
    "c_soft = eval_test_complete.mean() # Binary Both Programs 2, eps = 0.05\n",
    "\n",
    "result_df_eps05_soft = pd.concat([a_soft.rename('Binary Pol'), b_soft.rename('Grades Pol'), c_soft.rename('Binary Complete')], axis = 1)\n",
    "result_df_eps05_soft = np.round(result_df_eps05_soft , 4)\n",
    "result_df_eps05_soft"
   ]
  },
  {
   "cell_type": "markdown",
   "metadata": {},
   "source": [
    "Independent on whether a soft (more candidates than recommendations) or a hard evaluation (candidates = recommendations) was conducted or whether the reward was binary or non-binary, the balanced mean between Recall and Precision remains at roughly 46 %. In contrast to the CF-based RecSys, a significant difference is apperent between using mean grades and majority vote, however, the F1-Measure remains at 46% for the majority vote approach (highest score)! Letting the bandit algorithm learn in a non-associative setting on both study programs at the same time, simply results in no useful recommendations. For having the scenario where the context is greater than 1, contextual bandits need to be deployed in order to obtain a valid recommendation policy."
   ]
  }
 ],
 "metadata": {
  "kernelspec": {
   "display_name": "Python 3",
   "language": "python",
   "name": "python3"
  },
  "language_info": {
   "codemirror_mode": {
    "name": "ipython",
    "version": 3
   },
   "file_extension": ".py",
   "mimetype": "text/x-python",
   "name": "python",
   "nbconvert_exporter": "python",
   "pygments_lexer": "ipython3",
   "version": "3.8.5"
  }
 },
 "nbformat": 4,
 "nbformat_minor": 4
}
