{
 "cells": [
  {
   "cell_type": "code",
   "execution_count": 47,
   "metadata": {
    "ExecuteTime": {
     "end_time": "2022-09-23T14:08:24.253602Z",
     "start_time": "2022-09-23T14:08:24.235595Z"
    }
   },
   "outputs": [],
   "source": [
    "# standard libraries\n",
    "import pandas as pd\n",
    "import numpy as np\n",
    "\n",
    "# plotting\n",
    "%matplotlib inline\n",
    "from matplotlib import pyplot as plt\n",
    "import seaborn as sns\n",
    "\n",
    "# Bandit Evaluations\n",
    "from Replayers import EpsilonGreedyReplayer\n",
    "\n",
    "# self-created helping module\n",
    "from RL_Helper import helpers as hlp\n",
    "\n",
    "\n",
    "import os.path"
   ]
  },
  {
   "cell_type": "markdown",
   "metadata": {},
   "source": [
    "# Reinforcement Learning in Recommendation Systems\n",
    "## The Echo Chamber and its Implication\n"
   ]
  },
  {
   "cell_type": "markdown",
   "metadata": {},
   "source": [
    "Collaborative-Based Recommendation Systems are based on computed similarity scores between items, users or content and are initially designed to help the user navigate through an overwhelming quantity of items, by displaying content that is most likely to be enjoyed. Recommendation Systems in today's society take on the role to serve as mediators between information consumption, i.e. selective content exposure and the spread of information. In this role they have been increasingly criticized,  as to accelerate societal harm via selective information exposure to users.<br> While interacting, if the feedback of one or several similar items is positive, the user will be exposed to highly similar content over and over again and thus, the unintended side-effect of thereby creating filter bubbles or so-called **Echo Chambers** is observed.<br>  In the case of Collaborative Filtering Techniques, Noordeh et al. (2020) found that the diversity of content recommended to a user significantly decreases over time. They also investigated, whether it is possible for a user to break out of this feedback loop by merely changing their own feedback. Though different approaches were investigated, none showed significant feasibility for a user in escaping their own bubble. The content within an Echo Chamber is increasingly shrinking, although this effect is not visible to the user.<br> Recommendations that are based on Reinforcement Learning are good candidates to maintain content diversity, as they are designed to explicitly explore content that is proposed to a certain user, rather than always taking the best option that results from its internal computations and learn from that respective action. This way, the creation of explicit feedback loops that lead to solid Echo Chambers can be prevented as content outside computed preference are displayed on regular basis. As **diversity** is a key characteristic of today's society, Recommendation Systems based on Reinforcement Learning enjoy increased popularity and thus, are deployed by major commercial platforms that offer diverse content, such as YouTube, Netflix, Amazon and the like. "
   ]
  },
  {
   "cell_type": "markdown",
   "metadata": {},
   "source": [
    "## K-armed Bandits: Exploration–Exploitation Trade-off"
   ]
  },
  {
   "cell_type": "markdown",
   "metadata": {},
   "source": [
    "Reinforcement Learning significantly differs from other Machine Learning approaches, as it uses information from the learning process to **evaluate** the action taken and **learn** from its feedback. Thus, there is a necessity to explicitly search for positive feedback by actively exploring, to reach the underlying goal. The mechanism of evaluating feedback and the need for exploration is introduced in a simplified, *non-associative* setting, where learning does not involve acting in more than one situation.<br>The following learning problem is considered. At each time step $t$, the learner is confronted with a choice set of $k$ different actions to take. After each decision, the learner will receive a numerical reward, depending on the choice that was made. The goal is to maximize the total reward over a given time period, by choosing one action at the time. This is known as the traditional learning setting of a **k**-armed (also called *multi-armed*) bandit problem. The name originates from the casino context, where slot machines with one lever, so-called *one-armed bandits*, can be operated to endeavour one's luck with gambling activities. These slot machines are called *bandits* for their tendency to take your money, as chances of winning are modelled to be low. To follow along with this analogy, the Reinforced Learning bandit has several levers instead of one and is focused on maximizing pay-offs by repeatedly pulling the best levers. It is important to point out that in a **full** Reinforced Learning problem the agent tries to maximize total reward by maximizing value states over time, with learning a specific policy that achieves exactly that. Hence, the agent takes all the states of an environment into account and is therefore considered to be model-based. Here, with this simplified setting, only a single value state at the time is considered and the **Multi-Armed Bandit (MAB)** can be considered as a model-free, trial-and-error learner.<br> In the k-armed bandit setting, each of the $k$ arms represent an action $a$ with an associated expected reward - or value of $a$ - that is given when $a$ is selected. An action that is actually selected by the bandit in time step $t$ is denoted as $A_{t}$ and its associated reward as $R_{t}$. The value of any action $a$ is the expected reward at time step $t$, given $a$ is selected and is formalized as followed:<br>\n",
    "\n",
    "\\begin{equation} \n",
    "    q_{\\star}(a) = \\mathbb{E}[R_{t} | A_{t} = a]\n",
    "    \\label{eq: exp_value_of_action}\n",
    "\\end{equation} <br>\n",
    "The true value of action $a$ at time step $t$ is denoted as $Q_{t}(a)$ and the underlying goal is that this value should be as close as possible to the expected value of an action $q_{*}(a)$, as detailed above.\n",
    "For any action $a$ the agent memorizes the corresponding action values at any time $t$. The agent is said to **exploit** its current knowledge, when choosing a **greedy** action, a previous action that yielded the highest reward. Exploitation is the correct behaviour in the realm of reward maximization for a given step, however, **exploring** other options might reveal actions with an even higher reward. With choosing non-greedy actions in the exploration phase, the total accumulated reward will be substantially lower, but chances are that an action of higher reward to the current greedy action will be encountered. This depicts the uncertainty, the agent operates in, which leads to the so-called **Exploration-Exploitation Dilemma**. Neither option by itself will attain the goal of reward maximization in the long run, thus a good trade-off between the two needs to be found. Numerous approaches in solving this dilemma exist, which are collectively called **Action-Value Methods**."
   ]
  },
  {
   "cell_type": "markdown",
   "metadata": {},
   "source": [
    "## Training Bandits with Replay\n"
   ]
  },
  {
   "cell_type": "markdown",
   "metadata": {},
   "source": [
    "### Replay: Offline Evaluation of Online Learner"
   ]
  },
  {
   "cell_type": "markdown",
   "metadata": {},
   "source": [
    "Compared to other paradigms of Machine Learning, training and evaluation of a learning agent is a strenuous process, as the underlying nature of the problem requires an interactive online environment, that constantly reacts to the chosen actions of the agent. Especially in industrial Recommendation Systems, evaluating a bandit algorithm on a live user-data stream, imposes potential risks to user experience and consumes extensive engineering resources, such that the learning process needs to be tested in an offline environment beforehand. The key concept of evaluation of a method is to undertake this in an  unbiased manner, in order to conclude accurate statements. One intuitive approach is to build a simulator for the learning agent, but besides the difficulty to capture the complexity of such online environment, this approach often introduces so-called **modeling bias**. With further introducing bias from the simulation process, the reliability of evaluation results becomes questionable.<br> Li et al. (2011) introduced an approach named **Replay**, with which bandit algorithms can be evaluated  offline using historic data, without introducing additional bias from the simulation process. Using (historic) offline data to evaluate an online learner however, brings about its own challenge, namely the so-called **Off-Policy Evaluation Problem**. For instance, offline data from a user-data stream, is logged following a (past) behaviour policy, namely the one of a set of chosen users, which introduces sample selection bias in the observed data set. The bandit algorithm might try completely different policies, however, as only observed actions from the historic behaviour policy are available, the bandit is likely to just learn a policy that will exactly mimic the historic data set.<br> Especially as the selected sample is most likely not to be representative in the realm of logged *Big Data* online streams, it follows that policies that might be powerful in the online setting are suppressed, as the agent is only confronted with observed rewards from certain actions in the past. **Replay** proved to be an unbiased offline estimator to avoid exactly that in the following manner.<br> First, in order to evaluate any policy using **Replay**, one needs to provide as an input the respective bandit algorithm and **valid** events of desired length, e.g. from a historic data stream. Then, the method iterates through event one by one. If for a given event, the bandit chooses an action that corresponds to the actual, observed action of the event, a random policy is consulted. This policy draws at random one action from the set of valid events and only if this action is equal to the action the bandit chose for this time step, the event is retained and the reward for that action is updated accordingly by the agent. If the random policy selects a different action than what was chosen by the agent, then the event is ignored, even though it might correspond to an actual observed reward in the historic data set. The events that are generated and stored by **Replay** are called *history*. <br> The random policy chooses each action independent and uniformly at random, with each action having the probability of exactly $1 / K$ to be chosen. That means the random policy chooses from the same distribution of $K$ arms as the bandit algorithm. Hence, both mechanisms work under the **assumptions of i.i.d**, actions that are chosen independently and from the same distribution. Thus, the two processes of choosing actions are equivalent, although the bandit is trying to learn a policy from the generated data, whereas the policy evaluator is evaluating this bandit policy given the input data stream simultaneously.<br> The i.i.d assumption further demands that the set of total arms $K$ is constant. This might not hold in practice, as especially in industrial Recommendation Systems, new options (arms) might become available, and others might be dismissed. In this case, the agent will still draw an arm independently, but from different distributions. Li et al. (2011) do not explicitly investigate this setting of variable arm sets, however, they point out that Replay can be generalized to be equally applicable."
   ]
  },
  {
   "cell_type": "markdown",
   "metadata": {},
   "source": [
    "#### Credits to Ogorman's amazing contribution \n",
    "Code Snippet is taken from Github Repository: <br>\n",
    "https://github.com/brian-c-ogorman/ABanditTesting <br>\n"
   ]
  },
  {
   "cell_type": "markdown",
   "metadata": {},
   "source": [
    "### 1) Political Science Bachelor: Data Prep (Binary Reward)"
   ]
  },
  {
   "cell_type": "code",
   "execution_count": 60,
   "metadata": {
    "ExecuteTime": {
     "end_time": "2022-09-23T14:12:09.961887Z",
     "start_time": "2022-09-23T14:12:09.931903Z"
    }
   },
   "outputs": [],
   "source": [
    "# Load data Poliltical Science\n",
    "\n",
    "test_NaN_pol = pd.read_csv('C:~your_path~/RecSys/obtained_data/test_df_NaN_pol.csv')\n",
    "train_df_pol = pd.read_csv('C:~your_path~/RecSys/obtained_data/train_df_pol.csv')\n",
    "true_test_pol = pd.read_csv('C::~your_path~/RecSys/obtained_data/test_df_pol.csv')\n"
   ]
  },
  {
   "cell_type": "code",
   "execution_count": 64,
   "metadata": {
    "ExecuteTime": {
     "end_time": "2022-09-23T14:12:54.884230Z",
     "start_time": "2022-09-23T14:12:54.860227Z"
    }
   },
   "outputs": [
    {
     "data": {
      "text/html": [
       "<div>\n",
       "<style scoped>\n",
       "    .dataframe tbody tr th:only-of-type {\n",
       "        vertical-align: middle;\n",
       "    }\n",
       "\n",
       "    .dataframe tbody tr th {\n",
       "        vertical-align: top;\n",
       "    }\n",
       "\n",
       "    .dataframe thead th {\n",
       "        text-align: right;\n",
       "    }\n",
       "</style>\n",
       "<table border=\"1\" class=\"dataframe\">\n",
       "  <thead>\n",
       "    <tr style=\"text-align: right;\">\n",
       "      <th></th>\n",
       "      <th>CourseID</th>\n",
       "      <th>StudentID</th>\n",
       "      <th>Grades</th>\n",
       "    </tr>\n",
       "  </thead>\n",
       "  <tbody>\n",
       "    <tr>\n",
       "      <th>2040</th>\n",
       "      <td>5869</td>\n",
       "      <td>116</td>\n",
       "      <td>4.50</td>\n",
       "    </tr>\n",
       "    <tr>\n",
       "      <th>2041</th>\n",
       "      <td>5870</td>\n",
       "      <td>116</td>\n",
       "      <td>4.75</td>\n",
       "    </tr>\n",
       "    <tr>\n",
       "      <th>2042</th>\n",
       "      <td>T205027</td>\n",
       "      <td>116</td>\n",
       "      <td>5.00</td>\n",
       "    </tr>\n",
       "    <tr>\n",
       "      <th>2043</th>\n",
       "      <td>T205020</td>\n",
       "      <td>116</td>\n",
       "      <td>5.00</td>\n",
       "    </tr>\n",
       "    <tr>\n",
       "      <th>2044</th>\n",
       "      <td>T206056</td>\n",
       "      <td>116</td>\n",
       "      <td>4.25</td>\n",
       "    </tr>\n",
       "  </tbody>\n",
       "</table>\n",
       "</div>"
      ],
      "text/plain": [
       "     CourseID  StudentID  Grades\n",
       "2040     5869        116    4.50\n",
       "2041     5870        116    4.75\n",
       "2042  T205027        116    5.00\n",
       "2043  T205020        116    5.00\n",
       "2044  T206056        116    4.25"
      ]
     },
     "execution_count": 64,
     "metadata": {},
     "output_type": "execute_result"
    }
   ],
   "source": [
    "true_test_pol.tail()"
   ]
  },
  {
   "cell_type": "code",
   "execution_count": 65,
   "metadata": {
    "ExecuteTime": {
     "end_time": "2022-09-23T14:13:07.676223Z",
     "start_time": "2022-09-23T14:13:07.651220Z"
    }
   },
   "outputs": [
    {
     "data": {
      "text/html": [
       "<div>\n",
       "<style scoped>\n",
       "    .dataframe tbody tr th:only-of-type {\n",
       "        vertical-align: middle;\n",
       "    }\n",
       "\n",
       "    .dataframe tbody tr th {\n",
       "        vertical-align: top;\n",
       "    }\n",
       "\n",
       "    .dataframe thead th {\n",
       "        text-align: right;\n",
       "    }\n",
       "</style>\n",
       "<table border=\"1\" class=\"dataframe\">\n",
       "  <thead>\n",
       "    <tr style=\"text-align: right;\">\n",
       "      <th></th>\n",
       "      <th>CourseID</th>\n",
       "      <th>StudentID</th>\n",
       "      <th>Grades</th>\n",
       "    </tr>\n",
       "  </thead>\n",
       "  <tbody>\n",
       "    <tr>\n",
       "      <th>2040</th>\n",
       "      <td>5869</td>\n",
       "      <td>116</td>\n",
       "      <td>NaN</td>\n",
       "    </tr>\n",
       "    <tr>\n",
       "      <th>2041</th>\n",
       "      <td>5870</td>\n",
       "      <td>116</td>\n",
       "      <td>NaN</td>\n",
       "    </tr>\n",
       "    <tr>\n",
       "      <th>2042</th>\n",
       "      <td>T205027</td>\n",
       "      <td>116</td>\n",
       "      <td>NaN</td>\n",
       "    </tr>\n",
       "    <tr>\n",
       "      <th>2043</th>\n",
       "      <td>T205020</td>\n",
       "      <td>116</td>\n",
       "      <td>NaN</td>\n",
       "    </tr>\n",
       "    <tr>\n",
       "      <th>2044</th>\n",
       "      <td>T206056</td>\n",
       "      <td>116</td>\n",
       "      <td>NaN</td>\n",
       "    </tr>\n",
       "  </tbody>\n",
       "</table>\n",
       "</div>"
      ],
      "text/plain": [
       "     CourseID  StudentID  Grades\n",
       "2040     5869        116     NaN\n",
       "2041     5870        116     NaN\n",
       "2042  T205027        116     NaN\n",
       "2043  T205020        116     NaN\n",
       "2044  T206056        116     NaN"
      ]
     },
     "execution_count": 65,
     "metadata": {},
     "output_type": "execute_result"
    }
   ],
   "source": [
    "test_NaN_pol.tail()"
   ]
  },
  {
   "cell_type": "code",
   "execution_count": 69,
   "metadata": {
    "ExecuteTime": {
     "end_time": "2022-09-23T14:14:20.282352Z",
     "start_time": "2022-09-23T14:14:20.268356Z"
    }
   },
   "outputs": [],
   "source": [
    "# prep data set for binary reward simulation\n",
    "# instead of grades, take 1 for course taken\n",
    "\n",
    "train_prep_pol = pd.DataFrame({\n",
    "    'StudentID': train_df_pol['StudentID'].values,\n",
    "    'CourseID': train_df_pol.CourseID,\n",
    "    'Course_Taken': [1] * len(train_df_pol)\n",
    "})\n"
   ]
  },
  {
   "cell_type": "code",
   "execution_count": 70,
   "metadata": {
    "ExecuteTime": {
     "end_time": "2022-09-23T14:14:30.011828Z",
     "start_time": "2022-09-23T14:14:29.995840Z"
    }
   },
   "outputs": [
    {
     "data": {
      "text/html": [
       "<div>\n",
       "<style scoped>\n",
       "    .dataframe tbody tr th:only-of-type {\n",
       "        vertical-align: middle;\n",
       "    }\n",
       "\n",
       "    .dataframe tbody tr th {\n",
       "        vertical-align: top;\n",
       "    }\n",
       "\n",
       "    .dataframe thead th {\n",
       "        text-align: right;\n",
       "    }\n",
       "</style>\n",
       "<table border=\"1\" class=\"dataframe\">\n",
       "  <thead>\n",
       "    <tr style=\"text-align: right;\">\n",
       "      <th></th>\n",
       "      <th>StudentID</th>\n",
       "      <th>CourseID</th>\n",
       "      <th>Course_Taken</th>\n",
       "    </tr>\n",
       "  </thead>\n",
       "  <tbody>\n",
       "    <tr>\n",
       "      <th>0</th>\n",
       "      <td>157</td>\n",
       "      <td>T100007</td>\n",
       "      <td>1</td>\n",
       "    </tr>\n",
       "    <tr>\n",
       "      <th>1</th>\n",
       "      <td>157</td>\n",
       "      <td>T100005</td>\n",
       "      <td>1</td>\n",
       "    </tr>\n",
       "    <tr>\n",
       "      <th>2</th>\n",
       "      <td>157</td>\n",
       "      <td>T107005</td>\n",
       "      <td>1</td>\n",
       "    </tr>\n",
       "    <tr>\n",
       "      <th>3</th>\n",
       "      <td>157</td>\n",
       "      <td>T100000</td>\n",
       "      <td>1</td>\n",
       "    </tr>\n",
       "    <tr>\n",
       "      <th>4</th>\n",
       "      <td>157</td>\n",
       "      <td>T100001</td>\n",
       "      <td>1</td>\n",
       "    </tr>\n",
       "  </tbody>\n",
       "</table>\n",
       "</div>"
      ],
      "text/plain": [
       "   StudentID CourseID  Course_Taken\n",
       "0        157  T100007             1\n",
       "1        157  T100005             1\n",
       "2        157  T107005             1\n",
       "3        157  T100000             1\n",
       "4        157  T100001             1"
      ]
     },
     "execution_count": 70,
     "metadata": {},
     "output_type": "execute_result"
    }
   ],
   "source": [
    "train_prep_pol.head()"
   ]
  },
  {
   "cell_type": "code",
   "execution_count": 71,
   "metadata": {
    "ExecuteTime": {
     "end_time": "2022-09-23T14:14:33.531679Z",
     "start_time": "2022-09-23T14:14:33.515691Z"
    }
   },
   "outputs": [
    {
     "data": {
      "text/html": [
       "<div>\n",
       "<style scoped>\n",
       "    .dataframe tbody tr th:only-of-type {\n",
       "        vertical-align: middle;\n",
       "    }\n",
       "\n",
       "    .dataframe tbody tr th {\n",
       "        vertical-align: top;\n",
       "    }\n",
       "\n",
       "    .dataframe thead th {\n",
       "        text-align: right;\n",
       "    }\n",
       "</style>\n",
       "<table border=\"1\" class=\"dataframe\">\n",
       "  <thead>\n",
       "    <tr style=\"text-align: right;\">\n",
       "      <th></th>\n",
       "      <th>CourseID</th>\n",
       "      <th>StudentID</th>\n",
       "      <th>Grades</th>\n",
       "    </tr>\n",
       "  </thead>\n",
       "  <tbody>\n",
       "    <tr>\n",
       "      <th>0</th>\n",
       "      <td>T100007</td>\n",
       "      <td>157</td>\n",
       "      <td>5.00</td>\n",
       "    </tr>\n",
       "    <tr>\n",
       "      <th>1</th>\n",
       "      <td>T100005</td>\n",
       "      <td>157</td>\n",
       "      <td>5.00</td>\n",
       "    </tr>\n",
       "    <tr>\n",
       "      <th>2</th>\n",
       "      <td>T107005</td>\n",
       "      <td>157</td>\n",
       "      <td>5.75</td>\n",
       "    </tr>\n",
       "    <tr>\n",
       "      <th>3</th>\n",
       "      <td>T100000</td>\n",
       "      <td>157</td>\n",
       "      <td>4.00</td>\n",
       "    </tr>\n",
       "    <tr>\n",
       "      <th>4</th>\n",
       "      <td>T100001</td>\n",
       "      <td>157</td>\n",
       "      <td>5.25</td>\n",
       "    </tr>\n",
       "  </tbody>\n",
       "</table>\n",
       "</div>"
      ],
      "text/plain": [
       "  CourseID  StudentID  Grades\n",
       "0  T100007        157    5.00\n",
       "1  T100005        157    5.00\n",
       "2  T107005        157    5.75\n",
       "3  T100000        157    4.00\n",
       "4  T100001        157    5.25"
      ]
     },
     "execution_count": 71,
     "metadata": {},
     "output_type": "execute_result"
    }
   ],
   "source": [
    "train_df_pol.head()"
   ]
  },
  {
   "cell_type": "code",
   "execution_count": 72,
   "metadata": {
    "ExecuteTime": {
     "end_time": "2022-09-23T14:14:37.988672Z",
     "start_time": "2022-09-23T14:14:37.971664Z"
    }
   },
   "outputs": [
    {
     "data": {
      "text/plain": [
       "8199"
      ]
     },
     "execution_count": 72,
     "metadata": {},
     "output_type": "execute_result"
    }
   ],
   "source": [
    "len(train_df_pol)"
   ]
  },
  {
   "cell_type": "code",
   "execution_count": 73,
   "metadata": {
    "ExecuteTime": {
     "end_time": "2022-09-23T14:14:42.408561Z",
     "start_time": "2022-09-23T14:14:42.395572Z"
    }
   },
   "outputs": [
    {
     "data": {
      "text/plain": [
       "8199"
      ]
     },
     "execution_count": 73,
     "metadata": {},
     "output_type": "execute_result"
    }
   ],
   "source": [
    "len(train_prep_pol)"
   ]
  },
  {
   "cell_type": "code",
   "execution_count": 74,
   "metadata": {
    "ExecuteTime": {
     "end_time": "2022-09-23T14:14:50.115669Z",
     "start_time": "2022-09-23T14:14:50.092679Z"
    }
   },
   "outputs": [],
   "source": [
    "# all courses\n",
    "all_courses_pol = list(set(train_df_pol['CourseID'].unique()) | set(true_test_pol['CourseID'].unique()) | set(test_NaN_pol['CourseID'].unique()))"
   ]
  },
  {
   "cell_type": "code",
   "execution_count": 75,
   "metadata": {
    "ExecuteTime": {
     "end_time": "2022-09-23T14:14:53.008927Z",
     "start_time": "2022-09-23T14:14:52.997929Z"
    }
   },
   "outputs": [
    {
     "data": {
      "text/plain": [
       "68"
      ]
     },
     "execution_count": 75,
     "metadata": {},
     "output_type": "execute_result"
    }
   ],
   "source": [
    "len(all_courses_pol)"
   ]
  },
  {
   "cell_type": "code",
   "execution_count": 76,
   "metadata": {
    "ExecuteTime": {
     "end_time": "2022-09-23T14:14:57.153773Z",
     "start_time": "2022-09-23T14:14:57.138765Z"
    }
   },
   "outputs": [],
   "source": [
    "course_df_pol = pd.DataFrame({\n",
    "    'CourseID':all_courses_pol})"
   ]
  },
  {
   "cell_type": "code",
   "execution_count": 77,
   "metadata": {
    "ExecuteTime": {
     "end_time": "2022-09-23T14:15:30.583338Z",
     "start_time": "2022-09-23T14:15:28.963532Z"
    }
   },
   "outputs": [],
   "source": [
    "df_pol = hlp.add_non_choices(train_prep, all_courses_pol)\n",
    "# the function add_non_choices adds "
   ]
  },
  {
   "cell_type": "code",
   "execution_count": 78,
   "metadata": {
    "ExecuteTime": {
     "end_time": "2022-09-23T14:15:31.495450Z",
     "start_time": "2022-09-23T14:15:31.475480Z"
    }
   },
   "outputs": [
    {
     "data": {
      "text/plain": [
       "16376"
      ]
     },
     "execution_count": 78,
     "metadata": {},
     "output_type": "execute_result"
    }
   ],
   "source": [
    "len(df_pol)"
   ]
  },
  {
   "cell_type": "code",
   "execution_count": 80,
   "metadata": {
    "ExecuteTime": {
     "end_time": "2022-09-23T14:15:46.926357Z",
     "start_time": "2022-09-23T14:15:46.907368Z"
    }
   },
   "outputs": [
    {
     "data": {
      "text/html": [
       "<div>\n",
       "<style scoped>\n",
       "    .dataframe tbody tr th:only-of-type {\n",
       "        vertical-align: middle;\n",
       "    }\n",
       "\n",
       "    .dataframe tbody tr th {\n",
       "        vertical-align: top;\n",
       "    }\n",
       "\n",
       "    .dataframe thead th {\n",
       "        text-align: right;\n",
       "    }\n",
       "</style>\n",
       "<table border=\"1\" class=\"dataframe\">\n",
       "  <thead>\n",
       "    <tr style=\"text-align: right;\">\n",
       "      <th></th>\n",
       "      <th>StudentID</th>\n",
       "      <th>CourseID</th>\n",
       "      <th>Course_Taken</th>\n",
       "    </tr>\n",
       "  </thead>\n",
       "  <tbody>\n",
       "    <tr>\n",
       "      <th>28</th>\n",
       "      <td>216</td>\n",
       "      <td>T208000</td>\n",
       "      <td>0</td>\n",
       "    </tr>\n",
       "    <tr>\n",
       "      <th>29</th>\n",
       "      <td>216</td>\n",
       "      <td>12E051SCIENCES</td>\n",
       "      <td>0</td>\n",
       "    </tr>\n",
       "    <tr>\n",
       "      <th>30</th>\n",
       "      <td>216</td>\n",
       "      <td>T205011</td>\n",
       "      <td>0</td>\n",
       "    </tr>\n",
       "    <tr>\n",
       "      <th>31</th>\n",
       "      <td>216</td>\n",
       "      <td>T205023</td>\n",
       "      <td>0</td>\n",
       "    </tr>\n",
       "    <tr>\n",
       "      <th>32</th>\n",
       "      <td>216</td>\n",
       "      <td>T208015</td>\n",
       "      <td>0</td>\n",
       "    </tr>\n",
       "  </tbody>\n",
       "</table>\n",
       "</div>"
      ],
      "text/plain": [
       "    StudentID        CourseID  Course_Taken\n",
       "28        216         T208000             0\n",
       "29        216  12E051SCIENCES             0\n",
       "30        216         T205011             0\n",
       "31        216         T205023             0\n",
       "32        216         T208015             0"
      ]
     },
     "execution_count": 80,
     "metadata": {},
     "output_type": "execute_result"
    }
   ],
   "source": [
    "df_pol.tail()"
   ]
  },
  {
   "cell_type": "code",
   "execution_count": 81,
   "metadata": {
    "ExecuteTime": {
     "end_time": "2022-09-23T14:15:50.574544Z",
     "start_time": "2022-09-23T14:15:50.554554Z"
    }
   },
   "outputs": [
    {
     "data": {
      "text/plain": [
       "68"
      ]
     },
     "execution_count": 81,
     "metadata": {},
     "output_type": "execute_result"
    }
   ],
   "source": [
    "len(all_courses_pol)"
   ]
  },
  {
   "cell_type": "code",
   "execution_count": 82,
   "metadata": {
    "ExecuteTime": {
     "end_time": "2022-09-23T14:15:51.486415Z",
     "start_time": "2022-09-23T14:15:51.475420Z"
    }
   },
   "outputs": [
    {
     "data": {
      "text/plain": [
       "68"
      ]
     },
     "execution_count": 82,
     "metadata": {},
     "output_type": "execute_result"
    }
   ],
   "source": [
    "len(df_pol[df_pol['StudentID']==157])"
   ]
  },
  {
   "cell_type": "markdown",
   "metadata": {},
   "source": [
    "## $\\epsilon$-Greedy Replay Simulation (Binary)"
   ]
  },
  {
   "cell_type": "code",
   "execution_count": 122,
   "metadata": {
    "ExecuteTime": {
     "end_time": "2022-09-23T16:00:59.359967Z",
     "start_time": "2022-09-23T16:00:59.350950Z"
    }
   },
   "outputs": [],
   "source": [
    "# set params for the simulations\n",
    "\n",
    "n_visits = 10000\n",
    "n_iterations = 20\n",
    "\n",
    "reward_history = df_pol\n",
    "item_col_name = 'CourseID'\n",
    "visitor_col_name = 'StudentID'\n",
    "reward_col_name = 'Course_Taken' #Binary "
   ]
  },
  {
   "cell_type": "code",
   "execution_count": 123,
   "metadata": {
    "ExecuteTime": {
     "end_time": "2022-09-23T16:15:49.813605Z",
     "start_time": "2022-09-23T16:01:10.823278Z"
    }
   },
   "outputs": [
    {
     "name": "stderr",
     "output_type": "stream",
     "text": [
      "100%|██████████| 20/20 [14:38<00:00, 43.93s/it]\n"
     ]
    }
   ],
   "source": [
    "epsilon = 0.05\n",
    "epsilon_05_results = EpsilonGreedyReplayer(epsilon, n_visits, reward_history,\n",
    "                                           item_col_name, visitor_col_name, reward_col_name,\n",
    "                                           n_iterations=n_iterations).replay()"
   ]
  },
  {
   "cell_type": "code",
   "execution_count": 124,
   "metadata": {
    "ExecuteTime": {
     "end_time": "2022-09-23T16:28:59.722736Z",
     "start_time": "2022-09-23T16:28:58.979449Z"
    }
   },
   "outputs": [
    {
     "data": {
      "text/html": [
       "<div>\n",
       "<style scoped>\n",
       "    .dataframe tbody tr th:only-of-type {\n",
       "        vertical-align: middle;\n",
       "    }\n",
       "\n",
       "    .dataframe tbody tr th {\n",
       "        vertical-align: top;\n",
       "    }\n",
       "\n",
       "    .dataframe thead th {\n",
       "        text-align: right;\n",
       "    }\n",
       "</style>\n",
       "<table border=\"1\" class=\"dataframe\">\n",
       "  <thead>\n",
       "    <tr style=\"text-align: right;\">\n",
       "      <th></th>\n",
       "      <th>iteration</th>\n",
       "      <th>visit</th>\n",
       "      <th>item_id</th>\n",
       "      <th>visitor_id</th>\n",
       "      <th>reward</th>\n",
       "      <th>total_reward</th>\n",
       "      <th>fraction_relevant</th>\n",
       "    </tr>\n",
       "  </thead>\n",
       "  <tbody>\n",
       "    <tr>\n",
       "      <th>0</th>\n",
       "      <td>0</td>\n",
       "      <td>0</td>\n",
       "      <td>T100007</td>\n",
       "      <td>119</td>\n",
       "      <td>1</td>\n",
       "      <td>1</td>\n",
       "      <td>1.0</td>\n",
       "    </tr>\n",
       "    <tr>\n",
       "      <th>1</th>\n",
       "      <td>0</td>\n",
       "      <td>1</td>\n",
       "      <td>T100004</td>\n",
       "      <td>136</td>\n",
       "      <td>1</td>\n",
       "      <td>2</td>\n",
       "      <td>1.0</td>\n",
       "    </tr>\n",
       "    <tr>\n",
       "      <th>2</th>\n",
       "      <td>0</td>\n",
       "      <td>2</td>\n",
       "      <td>T100007</td>\n",
       "      <td>156</td>\n",
       "      <td>1</td>\n",
       "      <td>3</td>\n",
       "      <td>1.0</td>\n",
       "    </tr>\n",
       "    <tr>\n",
       "      <th>3</th>\n",
       "      <td>0</td>\n",
       "      <td>3</td>\n",
       "      <td>T100007</td>\n",
       "      <td>269</td>\n",
       "      <td>1</td>\n",
       "      <td>4</td>\n",
       "      <td>1.0</td>\n",
       "    </tr>\n",
       "    <tr>\n",
       "      <th>4</th>\n",
       "      <td>0</td>\n",
       "      <td>4</td>\n",
       "      <td>T100007</td>\n",
       "      <td>89</td>\n",
       "      <td>1</td>\n",
       "      <td>5</td>\n",
       "      <td>1.0</td>\n",
       "    </tr>\n",
       "  </tbody>\n",
       "</table>\n",
       "</div>"
      ],
      "text/plain": [
       "   iteration  visit  item_id  visitor_id  reward  total_reward  \\\n",
       "0          0      0  T100007         119       1             1   \n",
       "1          0      1  T100004         136       1             2   \n",
       "2          0      2  T100007         156       1             3   \n",
       "3          0      3  T100007         269       1             4   \n",
       "4          0      4  T100007          89       1             5   \n",
       "\n",
       "   fraction_relevant  \n",
       "0                1.0  \n",
       "1                1.0  \n",
       "2                1.0  \n",
       "3                1.0  \n",
       "4                1.0  "
      ]
     },
     "execution_count": 124,
     "metadata": {},
     "output_type": "execute_result"
    }
   ],
   "source": [
    "epsilon_05_results_df_pol_binary = pd.DataFrame(epsilon_05_results)\n",
    "epsilon_05_results_df_pol_binary.head()"
   ]
  },
  {
   "cell_type": "code",
   "execution_count": 132,
   "metadata": {
    "ExecuteTime": {
     "end_time": "2022-09-23T16:30:47.196471Z",
     "start_time": "2022-09-23T16:30:45.872113Z"
    }
   },
   "outputs": [],
   "source": [
    "epsilon_05_results_df_pol_binary.to_csv(os.path.join('C:~your_path~/RecSys/obtained_data', 'epsilon_05_pol_bin.csv'), index = False)"
   ]
  },
  {
   "cell_type": "code",
   "execution_count": 125,
   "metadata": {
    "ExecuteTime": {
     "end_time": "2022-09-23T16:29:07.905663Z",
     "start_time": "2022-09-23T16:29:07.872679Z"
    }
   },
   "outputs": [
    {
     "data": {
      "text/plain": [
       "68"
      ]
     },
     "execution_count": 125,
     "metadata": {},
     "output_type": "execute_result"
    }
   ],
   "source": [
    "epsilon_05_results_df_pol_binary['item_id'].nunique() # all courses where explored"
   ]
  },
  {
   "cell_type": "code",
   "execution_count": 126,
   "metadata": {
    "ExecuteTime": {
     "end_time": "2022-09-23T16:29:11.143193Z",
     "start_time": "2022-09-23T16:29:11.127256Z"
    }
   },
   "outputs": [
    {
     "data": {
      "text/plain": [
       "240"
      ]
     },
     "execution_count": 126,
     "metadata": {},
     "output_type": "execute_result"
    }
   ],
   "source": [
    "epsilon_05_results_df_pol_binary['visitor_id'].nunique() # all students where explored"
   ]
  },
  {
   "cell_type": "code",
   "execution_count": 127,
   "metadata": {
    "ExecuteTime": {
     "end_time": "2022-09-23T16:29:12.415493Z",
     "start_time": "2022-09-23T16:29:12.399500Z"
    }
   },
   "outputs": [
    {
     "data": {
      "text/plain": [
       "20"
      ]
     },
     "execution_count": 127,
     "metadata": {},
     "output_type": "execute_result"
    }
   ],
   "source": [
    "epsilon_05_results_df_pol_binary['iteration'].nunique() "
   ]
  },
  {
   "cell_type": "code",
   "execution_count": 128,
   "metadata": {
    "ExecuteTime": {
     "end_time": "2022-09-23T16:29:13.629804Z",
     "start_time": "2022-09-23T16:29:13.608814Z"
    }
   },
   "outputs": [
    {
     "data": {
      "text/plain": [
       "10000"
      ]
     },
     "execution_count": 128,
     "metadata": {},
     "output_type": "execute_result"
    }
   ],
   "source": [
    "epsilon_05_results_df_pol_binary['visit'].nunique()"
   ]
  },
  {
   "cell_type": "code",
   "execution_count": 133,
   "metadata": {
    "ExecuteTime": {
     "end_time": "2022-09-23T16:45:53.156948Z",
     "start_time": "2022-09-23T16:30:53.393464Z"
    }
   },
   "outputs": [
    {
     "name": "stderr",
     "output_type": "stream",
     "text": [
      "100%|██████████| 20/20 [14:59<00:00, 44.97s/it]\n"
     ]
    }
   ],
   "source": [
    "epsilon = 0.10\n",
    "epsilon_10_results = EpsilonGreedyReplayer(epsilon, n_visits, reward_history,\n",
    "                                           item_col_name, visitor_col_name, reward_col_name,\n",
    "                                           n_iterations=n_iterations).replay()"
   ]
  },
  {
   "cell_type": "code",
   "execution_count": 145,
   "metadata": {
    "ExecuteTime": {
     "end_time": "2022-09-23T17:14:50.819074Z",
     "start_time": "2022-09-23T17:14:50.028764Z"
    }
   },
   "outputs": [
    {
     "data": {
      "text/html": [
       "<div>\n",
       "<style scoped>\n",
       "    .dataframe tbody tr th:only-of-type {\n",
       "        vertical-align: middle;\n",
       "    }\n",
       "\n",
       "    .dataframe tbody tr th {\n",
       "        vertical-align: top;\n",
       "    }\n",
       "\n",
       "    .dataframe thead th {\n",
       "        text-align: right;\n",
       "    }\n",
       "</style>\n",
       "<table border=\"1\" class=\"dataframe\">\n",
       "  <thead>\n",
       "    <tr style=\"text-align: right;\">\n",
       "      <th></th>\n",
       "      <th>iteration</th>\n",
       "      <th>visit</th>\n",
       "      <th>item_id</th>\n",
       "      <th>visitor_id</th>\n",
       "      <th>reward</th>\n",
       "      <th>total_reward</th>\n",
       "      <th>fraction_relevant</th>\n",
       "    </tr>\n",
       "  </thead>\n",
       "  <tbody>\n",
       "    <tr>\n",
       "      <th>199995</th>\n",
       "      <td>19</td>\n",
       "      <td>9995</td>\n",
       "      <td>T100007</td>\n",
       "      <td>10</td>\n",
       "      <td>1</td>\n",
       "      <td>9493</td>\n",
       "      <td>0.949680</td>\n",
       "    </tr>\n",
       "    <tr>\n",
       "      <th>199996</th>\n",
       "      <td>19</td>\n",
       "      <td>9996</td>\n",
       "      <td>T100007</td>\n",
       "      <td>97</td>\n",
       "      <td>1</td>\n",
       "      <td>9494</td>\n",
       "      <td>0.949685</td>\n",
       "    </tr>\n",
       "    <tr>\n",
       "      <th>199997</th>\n",
       "      <td>19</td>\n",
       "      <td>9997</td>\n",
       "      <td>T100007</td>\n",
       "      <td>118</td>\n",
       "      <td>1</td>\n",
       "      <td>9495</td>\n",
       "      <td>0.949690</td>\n",
       "    </tr>\n",
       "    <tr>\n",
       "      <th>199998</th>\n",
       "      <td>19</td>\n",
       "      <td>9998</td>\n",
       "      <td>T100007</td>\n",
       "      <td>197</td>\n",
       "      <td>1</td>\n",
       "      <td>9496</td>\n",
       "      <td>0.949695</td>\n",
       "    </tr>\n",
       "    <tr>\n",
       "      <th>199999</th>\n",
       "      <td>19</td>\n",
       "      <td>9999</td>\n",
       "      <td>T100007</td>\n",
       "      <td>212</td>\n",
       "      <td>1</td>\n",
       "      <td>9497</td>\n",
       "      <td>0.949700</td>\n",
       "    </tr>\n",
       "  </tbody>\n",
       "</table>\n",
       "</div>"
      ],
      "text/plain": [
       "        iteration  visit  item_id  visitor_id  reward  total_reward  \\\n",
       "199995         19   9995  T100007          10       1          9493   \n",
       "199996         19   9996  T100007          97       1          9494   \n",
       "199997         19   9997  T100007         118       1          9495   \n",
       "199998         19   9998  T100007         197       1          9496   \n",
       "199999         19   9999  T100007         212       1          9497   \n",
       "\n",
       "        fraction_relevant  \n",
       "199995           0.949680  \n",
       "199996           0.949685  \n",
       "199997           0.949690  \n",
       "199998           0.949695  \n",
       "199999           0.949700  "
      ]
     },
     "execution_count": 145,
     "metadata": {},
     "output_type": "execute_result"
    }
   ],
   "source": [
    "epsilon_10_results_df_pol_binary = pd.DataFrame(epsilon_10_results)\n",
    "epsilon_10_results_df_pol_binary.tail()"
   ]
  },
  {
   "cell_type": "code",
   "execution_count": 146,
   "metadata": {
    "ExecuteTime": {
     "end_time": "2022-09-23T17:14:59.320414Z",
     "start_time": "2022-09-23T17:14:59.289508Z"
    }
   },
   "outputs": [
    {
     "data": {
      "text/plain": [
       "68"
      ]
     },
     "execution_count": 146,
     "metadata": {},
     "output_type": "execute_result"
    }
   ],
   "source": [
    "epsilon_10_results_df_pol_binary['item_id'].nunique() # all courses where explored ?"
   ]
  },
  {
   "cell_type": "code",
   "execution_count": 147,
   "metadata": {
    "ExecuteTime": {
     "end_time": "2022-09-23T17:15:00.107294Z",
     "start_time": "2022-09-23T17:15:00.082305Z"
    }
   },
   "outputs": [
    {
     "data": {
      "text/plain": [
       "240"
      ]
     },
     "execution_count": 147,
     "metadata": {},
     "output_type": "execute_result"
    }
   ],
   "source": [
    "epsilon_10_results_df_pol_binary['visitor_id'].nunique() # all students where explored ?"
   ]
  },
  {
   "cell_type": "code",
   "execution_count": 148,
   "metadata": {
    "ExecuteTime": {
     "end_time": "2022-09-23T17:15:00.863035Z",
     "start_time": "2022-09-23T17:15:00.850042Z"
    }
   },
   "outputs": [
    {
     "data": {
      "text/plain": [
       "20"
      ]
     },
     "execution_count": 148,
     "metadata": {},
     "output_type": "execute_result"
    }
   ],
   "source": [
    "epsilon_10_results_df_pol_binary['iteration'].nunique() # all iterations explored ?"
   ]
  },
  {
   "cell_type": "code",
   "execution_count": 149,
   "metadata": {
    "ExecuteTime": {
     "end_time": "2022-09-23T17:15:41.401479Z",
     "start_time": "2022-09-23T17:15:41.386486Z"
    }
   },
   "outputs": [
    {
     "data": {
      "text/plain": [
       "10000"
      ]
     },
     "execution_count": 149,
     "metadata": {},
     "output_type": "execute_result"
    }
   ],
   "source": [
    "epsilon_10_results_df_pol_binary['visit'].nunique() # was the requiremend to this parameter fullfilled ? "
   ]
  },
  {
   "cell_type": "code",
   "execution_count": 150,
   "metadata": {
    "ExecuteTime": {
     "end_time": "2022-09-23T17:15:45.384695Z",
     "start_time": "2022-09-23T17:15:43.953330Z"
    }
   },
   "outputs": [],
   "source": [
    "epsilon_10_results_df_pol_binary.to_csv(os.path.join('C:~your_path~/RecSys/obtained_data', 'epsilon_10_pol_bin.csv'), index = False)"
   ]
  },
  {
   "cell_type": "markdown",
   "metadata": {},
   "source": [
    "## $\\epsilon$-Greedy - Plotting (Binary Reward)"
   ]
  },
  {
   "cell_type": "code",
   "execution_count": 151,
   "metadata": {
    "ExecuteTime": {
     "end_time": "2022-09-23T17:15:50.792441Z",
     "start_time": "2022-09-23T17:15:50.684176Z"
    }
   },
   "outputs": [],
   "source": [
    "# obtain averages for plotting\n",
    "eps_greedy_05_avg_pol_binary = epsilon_05_results_df_pol_binary.groupby(['visit'], as_index=False).mean()\n",
    "eps_greedy_10_avg_pol_binary = epsilon_10_results_df_pol_binary.groupby(['visit'], as_index=False).mean()"
   ]
  },
  {
   "cell_type": "code",
   "execution_count": 152,
   "metadata": {
    "ExecuteTime": {
     "end_time": "2022-09-23T17:15:51.822173Z",
     "start_time": "2022-09-23T17:15:51.813177Z"
    }
   },
   "outputs": [
    {
     "data": {
      "text/plain": [
       "0.9748"
      ]
     },
     "execution_count": 152,
     "metadata": {},
     "output_type": "execute_result"
    }
   ],
   "source": [
    "# accuracy of recommending the right arm after 20000 visits, per 20 iterations\n",
    "eps05_acc_pol_binary = np.round(eps_greedy_05_avg_pol_binary['fraction_relevant'].iloc[-1], 4)\n",
    "eps05_acc_pol_binary"
   ]
  },
  {
   "cell_type": "code",
   "execution_count": 153,
   "metadata": {
    "ExecuteTime": {
     "end_time": "2022-09-23T17:15:55.532149Z",
     "start_time": "2022-09-23T17:15:55.516162Z"
    }
   },
   "outputs": [
    {
     "data": {
      "text/plain": [
       "0.9494"
      ]
     },
     "execution_count": 153,
     "metadata": {},
     "output_type": "execute_result"
    }
   ],
   "source": [
    "# accuracy of recommending the right arm after 20000 visits, per 20 iterations\n",
    "eps10_acc_pol_binary = np.round(eps_greedy_10_avg_pol_binary['fraction_relevant'].iloc[-1], 4)\n",
    "eps10_acc_pol_binary"
   ]
  },
  {
   "cell_type": "code",
   "execution_count": 194,
   "metadata": {
    "ExecuteTime": {
     "end_time": "2022-09-26T09:13:17.903359Z",
     "start_time": "2022-09-26T09:13:17.209728Z"
    }
   },
   "outputs": [
    {
     "data": {
      "image/png": "[encoded data removed]",
      "text/plain": [
       "<Figure size 864x720 with 1 Axes>"
      ]
     },
     "metadata": {
      "needs_background": "light"
     },
     "output_type": "display_data"
    }
   ],
   "source": [
    "plt.rcParams.update({'font.size': 14})\n",
    "fig, ax = plt.subplots(figsize=(12,10))\n",
    "\n",
    "for (avg_results_df, style) in [(eps_greedy_05_avg_pol_binary, 'b-'),\n",
    "                                (eps_greedy_10_avg_pol_binary, 'r--')]:\n",
    "    \n",
    "    ax.plot(avg_results_df.visit, avg_results_df.fraction_relevant, style, linewidth=2.5)\n",
    "\n",
    "\n",
    "ax.axhline(y = eps05_acc_pol_binary, color = 'b', linestyle = ':', linewidth = 1.5)\n",
    "ax.axhline(y = eps10_acc_pol_binary, color = 'r', linestyle = ':', linewidth = 1.5)\n",
    "    \n",
    "ax.set_title('Percentage of Successful Course Recommendations in Binary Bandit Replayer')\n",
    "ax.set_xlabel('Number of recommended Courses (= Arms pulled)')\n",
    "ax.set_ylabel('% of recommended Courses taken')\n",
    "\n",
    "ax.set_xticks(range(0,11000,1000))\n",
    "ax.set_ylim(0.9, 1.05)\n",
    "ax.set_yticks(np.arange(0.9, 1.05, 0.01))\n",
    "\n",
    "# rescale the y-axis tick labels to show them as a percentage\n",
    "ax.set_yticklabels((ax.get_yticks()*100).astype(int))\n",
    "\n",
    "ax.legend(['$\\epsilon$ = 0.05',\n",
    "           '$\\epsilon$ = 0.10',\n",
    "           'Accuracy = 0.9748',\n",
    "           'Accuracy = 0.9494'],\n",
    "          loc='upper right'\n",
    "         )\n",
    "\n",
    "plt.tight_layout()\n",
    "plt.show()"
   ]
  },
  {
   "cell_type": "markdown",
   "metadata": {},
   "source": [
    "Both $\\epsilon$-values yield a similar picture. The bandit started off with picking a course that is by chance a course that is mandotory, receives a reward and exploits this option until the exploration-mechanism kicks in. While exploring, the percentage of courses that are recommended were actually chosen drops, for the $\\epsilon$-value of 0.1 more severly as for a value of 0.05. After about 7000 arms pulled, both approaches converge to their respective highest accuracy. "
   ]
  },
  {
   "cell_type": "markdown",
   "metadata": {},
   "source": [
    "## $\\epsilon$-Greedy Replay Simulation (Grades)"
   ]
  },
  {
   "cell_type": "code",
   "execution_count": 155,
   "metadata": {
    "ExecuteTime": {
     "end_time": "2022-09-23T17:16:45.734112Z",
     "start_time": "2022-09-23T17:16:45.722097Z"
    }
   },
   "outputs": [],
   "source": [
    "# Rerun Simulations with grades after building RecSys Engine for this usecase\n",
    "# prep data set \n",
    "\n",
    "train_prep_g = pd.DataFrame({\n",
    "    'StudentID': train_df_pol['StudentID'].values,\n",
    "    'CourseID': train_df_pol.CourseID,\n",
    "    'Course_Taken': train_df_pol.Grades\n",
    "})\n",
    "\n"
   ]
  },
  {
   "cell_type": "code",
   "execution_count": 156,
   "metadata": {
    "ExecuteTime": {
     "end_time": "2022-09-23T17:16:46.625369Z",
     "start_time": "2022-09-23T17:16:46.602368Z"
    }
   },
   "outputs": [
    {
     "data": {
      "text/html": [
       "<div>\n",
       "<style scoped>\n",
       "    .dataframe tbody tr th:only-of-type {\n",
       "        vertical-align: middle;\n",
       "    }\n",
       "\n",
       "    .dataframe tbody tr th {\n",
       "        vertical-align: top;\n",
       "    }\n",
       "\n",
       "    .dataframe thead th {\n",
       "        text-align: right;\n",
       "    }\n",
       "</style>\n",
       "<table border=\"1\" class=\"dataframe\">\n",
       "  <thead>\n",
       "    <tr style=\"text-align: right;\">\n",
       "      <th></th>\n",
       "      <th>StudentID</th>\n",
       "      <th>CourseID</th>\n",
       "      <th>Course_Taken</th>\n",
       "    </tr>\n",
       "  </thead>\n",
       "  <tbody>\n",
       "    <tr>\n",
       "      <th>0</th>\n",
       "      <td>157</td>\n",
       "      <td>T100007</td>\n",
       "      <td>5.00</td>\n",
       "    </tr>\n",
       "    <tr>\n",
       "      <th>1</th>\n",
       "      <td>157</td>\n",
       "      <td>T100005</td>\n",
       "      <td>5.00</td>\n",
       "    </tr>\n",
       "    <tr>\n",
       "      <th>2</th>\n",
       "      <td>157</td>\n",
       "      <td>T107005</td>\n",
       "      <td>5.75</td>\n",
       "    </tr>\n",
       "    <tr>\n",
       "      <th>3</th>\n",
       "      <td>157</td>\n",
       "      <td>T100000</td>\n",
       "      <td>4.00</td>\n",
       "    </tr>\n",
       "    <tr>\n",
       "      <th>4</th>\n",
       "      <td>157</td>\n",
       "      <td>T100001</td>\n",
       "      <td>5.25</td>\n",
       "    </tr>\n",
       "  </tbody>\n",
       "</table>\n",
       "</div>"
      ],
      "text/plain": [
       "   StudentID CourseID  Course_Taken\n",
       "0        157  T100007          5.00\n",
       "1        157  T100005          5.00\n",
       "2        157  T107005          5.75\n",
       "3        157  T100000          4.00\n",
       "4        157  T100001          5.25"
      ]
     },
     "execution_count": 156,
     "metadata": {},
     "output_type": "execute_result"
    }
   ],
   "source": [
    "train_prep_g.head()"
   ]
  },
  {
   "cell_type": "code",
   "execution_count": 158,
   "metadata": {
    "ExecuteTime": {
     "end_time": "2022-09-23T17:16:58.559712Z",
     "start_time": "2022-09-23T17:16:56.843773Z"
    }
   },
   "outputs": [],
   "source": [
    "df_grades_pol = hlp.add_non_choices(train_prep_g, all_courses_pol)"
   ]
  },
  {
   "cell_type": "code",
   "execution_count": 160,
   "metadata": {
    "ExecuteTime": {
     "end_time": "2022-09-23T17:17:07.638975Z",
     "start_time": "2022-09-23T17:17:07.619986Z"
    }
   },
   "outputs": [
    {
     "data": {
      "text/html": [
       "<div>\n",
       "<style scoped>\n",
       "    .dataframe tbody tr th:only-of-type {\n",
       "        vertical-align: middle;\n",
       "    }\n",
       "\n",
       "    .dataframe tbody tr th {\n",
       "        vertical-align: top;\n",
       "    }\n",
       "\n",
       "    .dataframe thead th {\n",
       "        text-align: right;\n",
       "    }\n",
       "</style>\n",
       "<table border=\"1\" class=\"dataframe\">\n",
       "  <thead>\n",
       "    <tr style=\"text-align: right;\">\n",
       "      <th></th>\n",
       "      <th>StudentID</th>\n",
       "      <th>CourseID</th>\n",
       "      <th>Course_Taken</th>\n",
       "    </tr>\n",
       "  </thead>\n",
       "  <tbody>\n",
       "    <tr>\n",
       "      <th>28</th>\n",
       "      <td>216</td>\n",
       "      <td>T208000</td>\n",
       "      <td>0.0</td>\n",
       "    </tr>\n",
       "    <tr>\n",
       "      <th>29</th>\n",
       "      <td>216</td>\n",
       "      <td>12E051SCIENCES</td>\n",
       "      <td>0.0</td>\n",
       "    </tr>\n",
       "    <tr>\n",
       "      <th>30</th>\n",
       "      <td>216</td>\n",
       "      <td>T205011</td>\n",
       "      <td>0.0</td>\n",
       "    </tr>\n",
       "    <tr>\n",
       "      <th>31</th>\n",
       "      <td>216</td>\n",
       "      <td>T205023</td>\n",
       "      <td>0.0</td>\n",
       "    </tr>\n",
       "    <tr>\n",
       "      <th>32</th>\n",
       "      <td>216</td>\n",
       "      <td>T208015</td>\n",
       "      <td>0.0</td>\n",
       "    </tr>\n",
       "  </tbody>\n",
       "</table>\n",
       "</div>"
      ],
      "text/plain": [
       "    StudentID        CourseID  Course_Taken\n",
       "28        216         T208000           0.0\n",
       "29        216  12E051SCIENCES           0.0\n",
       "30        216         T205011           0.0\n",
       "31        216         T205023           0.0\n",
       "32        216         T208015           0.0"
      ]
     },
     "execution_count": 160,
     "metadata": {},
     "output_type": "execute_result"
    }
   ],
   "source": [
    "df_grades_pol.tail()"
   ]
  },
  {
   "cell_type": "code",
   "execution_count": 161,
   "metadata": {
    "ExecuteTime": {
     "end_time": "2022-09-23T17:17:12.809618Z",
     "start_time": "2022-09-23T17:17:12.794260Z"
    }
   },
   "outputs": [],
   "source": [
    "# reset params for the simulations\n",
    "\n",
    "n_visits = 10000\n",
    "n_iterations = 20\n",
    "\n",
    "reward_history = df_grades_pol\n",
    "item_col_name = 'CourseID'\n",
    "visitor_col_name = 'StudentID'\n",
    "reward_col_name = 'Course_Taken' "
   ]
  },
  {
   "cell_type": "code",
   "execution_count": 162,
   "metadata": {
    "ExecuteTime": {
     "end_time": "2022-09-23T17:31:57.523007Z",
     "start_time": "2022-09-23T17:17:16.425962Z"
    }
   },
   "outputs": [
    {
     "name": "stderr",
     "output_type": "stream",
     "text": [
      "100%|██████████| 20/20 [14:41<00:00, 44.05s/it]\n"
     ]
    }
   ],
   "source": [
    "epsilon = 0.05\n",
    "epsilon_05_results_grades_pol = EpsilonGreedyReplayer(epsilon, n_visits, reward_history,\n",
    "                                           item_col_name, visitor_col_name, reward_col_name,\n",
    "                                           n_iterations=n_iterations).replay()"
   ]
  },
  {
   "cell_type": "code",
   "execution_count": 164,
   "metadata": {
    "ExecuteTime": {
     "end_time": "2022-09-26T07:20:00.907620Z",
     "start_time": "2022-09-26T07:19:59.509930Z"
    }
   },
   "outputs": [
    {
     "data": {
      "text/html": [
       "<div>\n",
       "<style scoped>\n",
       "    .dataframe tbody tr th:only-of-type {\n",
       "        vertical-align: middle;\n",
       "    }\n",
       "\n",
       "    .dataframe tbody tr th {\n",
       "        vertical-align: top;\n",
       "    }\n",
       "\n",
       "    .dataframe thead th {\n",
       "        text-align: right;\n",
       "    }\n",
       "</style>\n",
       "<table border=\"1\" class=\"dataframe\">\n",
       "  <thead>\n",
       "    <tr style=\"text-align: right;\">\n",
       "      <th></th>\n",
       "      <th>iteration</th>\n",
       "      <th>visit</th>\n",
       "      <th>item_id</th>\n",
       "      <th>visitor_id</th>\n",
       "      <th>reward</th>\n",
       "      <th>total_reward</th>\n",
       "      <th>fraction_relevant</th>\n",
       "    </tr>\n",
       "  </thead>\n",
       "  <tbody>\n",
       "    <tr>\n",
       "      <th>199995</th>\n",
       "      <td>19</td>\n",
       "      <td>9995</td>\n",
       "      <td>T200001</td>\n",
       "      <td>125</td>\n",
       "      <td>4.75</td>\n",
       "      <td>48949.00</td>\n",
       "      <td>4.896859</td>\n",
       "    </tr>\n",
       "    <tr>\n",
       "      <th>199996</th>\n",
       "      <td>19</td>\n",
       "      <td>9996</td>\n",
       "      <td>T200001</td>\n",
       "      <td>204</td>\n",
       "      <td>5.00</td>\n",
       "      <td>48954.00</td>\n",
       "      <td>4.896869</td>\n",
       "    </tr>\n",
       "    <tr>\n",
       "      <th>199997</th>\n",
       "      <td>19</td>\n",
       "      <td>9997</td>\n",
       "      <td>T200001</td>\n",
       "      <td>282</td>\n",
       "      <td>4.75</td>\n",
       "      <td>48958.75</td>\n",
       "      <td>4.896854</td>\n",
       "    </tr>\n",
       "    <tr>\n",
       "      <th>199998</th>\n",
       "      <td>19</td>\n",
       "      <td>9998</td>\n",
       "      <td>T200001</td>\n",
       "      <td>106</td>\n",
       "      <td>5.00</td>\n",
       "      <td>48963.75</td>\n",
       "      <td>4.896865</td>\n",
       "    </tr>\n",
       "    <tr>\n",
       "      <th>199999</th>\n",
       "      <td>19</td>\n",
       "      <td>9999</td>\n",
       "      <td>T200001</td>\n",
       "      <td>276</td>\n",
       "      <td>5.25</td>\n",
       "      <td>48969.00</td>\n",
       "      <td>4.896900</td>\n",
       "    </tr>\n",
       "  </tbody>\n",
       "</table>\n",
       "</div>"
      ],
      "text/plain": [
       "        iteration  visit  item_id  visitor_id  reward  total_reward  \\\n",
       "199995         19   9995  T200001         125    4.75      48949.00   \n",
       "199996         19   9996  T200001         204    5.00      48954.00   \n",
       "199997         19   9997  T200001         282    4.75      48958.75   \n",
       "199998         19   9998  T200001         106    5.00      48963.75   \n",
       "199999         19   9999  T200001         276    5.25      48969.00   \n",
       "\n",
       "        fraction_relevant  \n",
       "199995           4.896859  \n",
       "199996           4.896869  \n",
       "199997           4.896854  \n",
       "199998           4.896865  \n",
       "199999           4.896900  "
      ]
     },
     "execution_count": 164,
     "metadata": {},
     "output_type": "execute_result"
    }
   ],
   "source": [
    "epsilon_05_results_df_grades_pol = pd.DataFrame(epsilon_05_results_grades_pol)\n",
    "epsilon_05_results_df_grades_pol.tail()"
   ]
  },
  {
   "cell_type": "code",
   "execution_count": 165,
   "metadata": {
    "ExecuteTime": {
     "end_time": "2022-09-26T07:20:11.156215Z",
     "start_time": "2022-09-26T07:20:11.113239Z"
    }
   },
   "outputs": [
    {
     "data": {
      "text/plain": [
       "68"
      ]
     },
     "execution_count": 165,
     "metadata": {},
     "output_type": "execute_result"
    }
   ],
   "source": [
    "epsilon_05_results_df_grades_pol['item_id'].nunique()"
   ]
  },
  {
   "cell_type": "code",
   "execution_count": 166,
   "metadata": {
    "ExecuteTime": {
     "end_time": "2022-09-26T07:20:12.559615Z",
     "start_time": "2022-09-26T07:20:12.536628Z"
    }
   },
   "outputs": [
    {
     "data": {
      "text/plain": [
       "240"
      ]
     },
     "execution_count": 166,
     "metadata": {},
     "output_type": "execute_result"
    }
   ],
   "source": [
    "epsilon_05_results_df_grades_pol['visitor_id'].nunique()"
   ]
  },
  {
   "cell_type": "code",
   "execution_count": 167,
   "metadata": {
    "ExecuteTime": {
     "end_time": "2022-09-26T07:20:15.334769Z",
     "start_time": "2022-09-26T07:20:15.313781Z"
    }
   },
   "outputs": [
    {
     "data": {
      "text/plain": [
       "20"
      ]
     },
     "execution_count": 167,
     "metadata": {},
     "output_type": "execute_result"
    }
   ],
   "source": [
    "epsilon_05_results_df_grades_pol['iteration'].nunique()"
   ]
  },
  {
   "cell_type": "code",
   "execution_count": 168,
   "metadata": {
    "ExecuteTime": {
     "end_time": "2022-09-26T07:20:16.254258Z",
     "start_time": "2022-09-26T07:20:16.232270Z"
    }
   },
   "outputs": [
    {
     "data": {
      "text/plain": [
       "10000"
      ]
     },
     "execution_count": 168,
     "metadata": {},
     "output_type": "execute_result"
    }
   ],
   "source": [
    "epsilon_05_results_df_grades_pol['visit'].nunique()"
   ]
  },
  {
   "cell_type": "code",
   "execution_count": 169,
   "metadata": {
    "ExecuteTime": {
     "end_time": "2022-09-26T07:22:40.142858Z",
     "start_time": "2022-09-26T07:22:37.233015Z"
    }
   },
   "outputs": [],
   "source": [
    "epsilon_05_results_df_grades_pol.to_csv(os.path.join('C:/~your_path~/RecSys/obtained_data', 'epsilon_greedy_05_grades_pol.csv'), index = False)\n"
   ]
  },
  {
   "cell_type": "code",
   "execution_count": 170,
   "metadata": {
    "ExecuteTime": {
     "end_time": "2022-09-26T07:22:45.262457Z",
     "start_time": "2022-09-26T07:22:45.247444Z"
    }
   },
   "outputs": [],
   "source": [
    "# reset params for the simulations\n",
    "\n",
    "n_visits = 10000\n",
    "n_iterations = 20\n",
    "\n",
    "reward_history = df_grades_pol\n",
    "item_col_name = 'CourseID'\n",
    "visitor_col_name = 'StudentID'\n",
    "reward_col_name = 'Course_Taken' "
   ]
  },
  {
   "cell_type": "code",
   "execution_count": 171,
   "metadata": {
    "ExecuteTime": {
     "end_time": "2022-09-26T07:40:14.666354Z",
     "start_time": "2022-09-26T07:22:57.662885Z"
    }
   },
   "outputs": [
    {
     "name": "stderr",
     "output_type": "stream",
     "text": [
      "100%|██████████| 20/20 [17:16<00:00, 51.85s/it]\n"
     ]
    }
   ],
   "source": [
    "epsilon = 0.10\n",
    "epsilon_10_results_grades_pol = EpsilonGreedyReplayer(epsilon, n_visits, reward_history,\n",
    "                                           item_col_name, visitor_col_name, reward_col_name,\n",
    "                                           n_iterations=n_iterations).replay()"
   ]
  },
  {
   "cell_type": "code",
   "execution_count": 172,
   "metadata": {
    "ExecuteTime": {
     "end_time": "2022-09-26T07:40:15.357090Z",
     "start_time": "2022-09-26T07:40:14.669659Z"
    }
   },
   "outputs": [
    {
     "data": {
      "text/html": [
       "<div>\n",
       "<style scoped>\n",
       "    .dataframe tbody tr th:only-of-type {\n",
       "        vertical-align: middle;\n",
       "    }\n",
       "\n",
       "    .dataframe tbody tr th {\n",
       "        vertical-align: top;\n",
       "    }\n",
       "\n",
       "    .dataframe thead th {\n",
       "        text-align: right;\n",
       "    }\n",
       "</style>\n",
       "<table border=\"1\" class=\"dataframe\">\n",
       "  <thead>\n",
       "    <tr style=\"text-align: right;\">\n",
       "      <th></th>\n",
       "      <th>iteration</th>\n",
       "      <th>visit</th>\n",
       "      <th>item_id</th>\n",
       "      <th>visitor_id</th>\n",
       "      <th>reward</th>\n",
       "      <th>total_reward</th>\n",
       "      <th>fraction_relevant</th>\n",
       "    </tr>\n",
       "  </thead>\n",
       "  <tbody>\n",
       "    <tr>\n",
       "      <th>199995</th>\n",
       "      <td>19</td>\n",
       "      <td>9995</td>\n",
       "      <td>T200002</td>\n",
       "      <td>10</td>\n",
       "      <td>5.25</td>\n",
       "      <td>47616.00</td>\n",
       "      <td>4.763505</td>\n",
       "    </tr>\n",
       "    <tr>\n",
       "      <th>199996</th>\n",
       "      <td>19</td>\n",
       "      <td>9996</td>\n",
       "      <td>T200002</td>\n",
       "      <td>97</td>\n",
       "      <td>5.50</td>\n",
       "      <td>47621.50</td>\n",
       "      <td>4.763579</td>\n",
       "    </tr>\n",
       "    <tr>\n",
       "      <th>199997</th>\n",
       "      <td>19</td>\n",
       "      <td>9997</td>\n",
       "      <td>T200002</td>\n",
       "      <td>118</td>\n",
       "      <td>5.25</td>\n",
       "      <td>47626.75</td>\n",
       "      <td>4.763628</td>\n",
       "    </tr>\n",
       "    <tr>\n",
       "      <th>199998</th>\n",
       "      <td>19</td>\n",
       "      <td>9998</td>\n",
       "      <td>T200002</td>\n",
       "      <td>197</td>\n",
       "      <td>4.75</td>\n",
       "      <td>47631.50</td>\n",
       "      <td>4.763626</td>\n",
       "    </tr>\n",
       "    <tr>\n",
       "      <th>199999</th>\n",
       "      <td>19</td>\n",
       "      <td>9999</td>\n",
       "      <td>T200002</td>\n",
       "      <td>212</td>\n",
       "      <td>5.25</td>\n",
       "      <td>47636.75</td>\n",
       "      <td>4.763675</td>\n",
       "    </tr>\n",
       "  </tbody>\n",
       "</table>\n",
       "</div>"
      ],
      "text/plain": [
       "        iteration  visit  item_id  visitor_id  reward  total_reward  \\\n",
       "199995         19   9995  T200002          10    5.25      47616.00   \n",
       "199996         19   9996  T200002          97    5.50      47621.50   \n",
       "199997         19   9997  T200002         118    5.25      47626.75   \n",
       "199998         19   9998  T200002         197    4.75      47631.50   \n",
       "199999         19   9999  T200002         212    5.25      47636.75   \n",
       "\n",
       "        fraction_relevant  \n",
       "199995           4.763505  \n",
       "199996           4.763579  \n",
       "199997           4.763628  \n",
       "199998           4.763626  \n",
       "199999           4.763675  "
      ]
     },
     "execution_count": 172,
     "metadata": {},
     "output_type": "execute_result"
    }
   ],
   "source": [
    "epsilon_10_results_df_grades_pol = pd.DataFrame(epsilon_10_results_grades_pol)\n",
    "epsilon_10_results_df_grades_pol.tail()"
   ]
  },
  {
   "cell_type": "code",
   "execution_count": 173,
   "metadata": {
    "ExecuteTime": {
     "end_time": "2022-09-26T07:40:15.412170Z",
     "start_time": "2022-09-26T07:40:15.362591Z"
    }
   },
   "outputs": [
    {
     "data": {
      "text/plain": [
       "68"
      ]
     },
     "execution_count": 173,
     "metadata": {},
     "output_type": "execute_result"
    }
   ],
   "source": [
    "epsilon_10_results_df_grades_pol['item_id'].nunique()"
   ]
  },
  {
   "cell_type": "code",
   "execution_count": 174,
   "metadata": {
    "ExecuteTime": {
     "end_time": "2022-09-26T07:40:15.444171Z",
     "start_time": "2022-09-26T07:40:15.413485Z"
    }
   },
   "outputs": [
    {
     "data": {
      "text/plain": [
       "240"
      ]
     },
     "execution_count": 174,
     "metadata": {},
     "output_type": "execute_result"
    }
   ],
   "source": [
    "epsilon_10_results_df_grades_pol['visitor_id'].nunique()"
   ]
  },
  {
   "cell_type": "code",
   "execution_count": 175,
   "metadata": {
    "ExecuteTime": {
     "end_time": "2022-09-26T07:40:15.478446Z",
     "start_time": "2022-09-26T07:40:15.444994Z"
    }
   },
   "outputs": [
    {
     "data": {
      "text/plain": [
       "20"
      ]
     },
     "execution_count": 175,
     "metadata": {},
     "output_type": "execute_result"
    }
   ],
   "source": [
    "epsilon_10_results_df_grades_pol['iteration'].nunique()"
   ]
  },
  {
   "cell_type": "code",
   "execution_count": 176,
   "metadata": {
    "ExecuteTime": {
     "end_time": "2022-09-26T07:40:15.511368Z",
     "start_time": "2022-09-26T07:40:15.478983Z"
    }
   },
   "outputs": [
    {
     "data": {
      "text/plain": [
       "10000"
      ]
     },
     "execution_count": 176,
     "metadata": {},
     "output_type": "execute_result"
    }
   ],
   "source": [
    "epsilon_10_results_df_grades_pol['visit'].nunique()"
   ]
  },
  {
   "cell_type": "code",
   "execution_count": 191,
   "metadata": {
    "ExecuteTime": {
     "end_time": "2022-09-26T07:45:39.457522Z",
     "start_time": "2022-09-26T07:45:37.621159Z"
    }
   },
   "outputs": [],
   "source": [
    "\n",
    "epsilon_10_results_df_grades_pol.to_csv(os.path.join('C:~your_path~/RecSys/obtained_data', 'epsilon_10_pol_bin.csv'), index = False)"
   ]
  },
  {
   "cell_type": "markdown",
   "metadata": {},
   "source": [
    "## $\\epsilon$-Greedy - Plotting (Non Binary Reward)"
   ]
  },
  {
   "cell_type": "code",
   "execution_count": 177,
   "metadata": {
    "ExecuteTime": {
     "end_time": "2022-09-26T07:40:15.608513Z",
     "start_time": "2022-09-26T07:40:15.511368Z"
    }
   },
   "outputs": [],
   "source": [
    "# obtain averages for plotting\n",
    "eps_greedy_05_avg_grades = epsilon_05_results_df_grades_pol.groupby(['visit'], as_index=False).mean()\n",
    "eps_greedy_10_avg_grades = epsilon_10_results_df_grades_pol.groupby(['visit'], as_index=False).mean()"
   ]
  },
  {
   "cell_type": "code",
   "execution_count": 178,
   "metadata": {
    "ExecuteTime": {
     "end_time": "2022-09-26T07:40:15.624503Z",
     "start_time": "2022-09-26T07:40:15.614509Z"
    }
   },
   "outputs": [
    {
     "data": {
      "text/plain": [
       "5.0"
      ]
     },
     "execution_count": 178,
     "metadata": {},
     "output_type": "execute_result"
    }
   ],
   "source": [
    "x = train_df_pol['Grades'].mean()\n",
    "global_mean = hlp.round_to_nearest_grade(x)\n",
    "global_mean"
   ]
  },
  {
   "cell_type": "code",
   "execution_count": 181,
   "metadata": {
    "ExecuteTime": {
     "end_time": "2022-09-26T07:42:22.002095Z",
     "start_time": "2022-09-26T07:42:21.997097Z"
    }
   },
   "outputs": [],
   "source": [
    "# Total reward the bandit will obtain after 20000 visits per 20 iterations\n",
    "eps05_mean = np.round(eps_greedy_05_avg_grades['fraction_relevant'].iloc[-1], 4)"
   ]
  },
  {
   "cell_type": "code",
   "execution_count": 189,
   "metadata": {
    "ExecuteTime": {
     "end_time": "2022-09-26T07:44:17.586678Z",
     "start_time": "2022-09-26T07:44:17.573668Z"
    }
   },
   "outputs": [
    {
     "data": {
      "text/plain": [
       "4.9041"
      ]
     },
     "execution_count": 189,
     "metadata": {},
     "output_type": "execute_result"
    }
   ],
   "source": [
    "eps05_mean"
   ]
  },
  {
   "cell_type": "code",
   "execution_count": 183,
   "metadata": {
    "ExecuteTime": {
     "end_time": "2022-09-26T07:42:37.859648Z",
     "start_time": "2022-09-26T07:42:37.853086Z"
    }
   },
   "outputs": [],
   "source": [
    "# Total reward the bandit will obtain after 20000 visits per 20 iterations\n",
    "eps10_mean = np.round(eps_greedy_10_avg_grades['fraction_relevant'].iloc[-1], 4)"
   ]
  },
  {
   "cell_type": "code",
   "execution_count": 190,
   "metadata": {
    "ExecuteTime": {
     "end_time": "2022-09-26T07:44:57.934374Z",
     "start_time": "2022-09-26T07:44:57.917363Z"
    }
   },
   "outputs": [
    {
     "data": {
      "text/plain": [
       "4.7742"
      ]
     },
     "execution_count": 190,
     "metadata": {},
     "output_type": "execute_result"
    }
   ],
   "source": [
    "eps10_mean"
   ]
  },
  {
   "cell_type": "code",
   "execution_count": 184,
   "metadata": {
    "ExecuteTime": {
     "end_time": "2022-09-26T07:42:40.013604Z",
     "start_time": "2022-09-26T07:42:40.004602Z"
    }
   },
   "outputs": [
    {
     "data": {
      "text/plain": [
       "4.75"
      ]
     },
     "execution_count": 184,
     "metadata": {},
     "output_type": "execute_result"
    }
   ],
   "source": [
    "hlp.round_to_nearest_grade(eps10_mean)"
   ]
  },
  {
   "cell_type": "code",
   "execution_count": 195,
   "metadata": {
    "ExecuteTime": {
     "end_time": "2022-09-26T09:13:43.452020Z",
     "start_time": "2022-09-26T09:13:42.721854Z"
    }
   },
   "outputs": [
    {
     "data": {
      "image/png": "[encoded data removed]",
      "text/plain": [
       "<Figure size 864x720 with 1 Axes>"
      ]
     },
     "metadata": {
      "needs_background": "light"
     },
     "output_type": "display_data"
    }
   ],
   "source": [
    "plt.rcParams.update({'font.size': 14})\n",
    "\n",
    "fig, ax = plt.subplots(figsize=(12,10))\n",
    "\n",
    "for (avg_results_df, style) in [(eps_greedy_05_avg_grades, 'b-'),\n",
    "                                (eps_greedy_10_avg_grades, 'r--')]:\n",
    "    \n",
    "    ax.plot(avg_results_df.visit, avg_results_df.fraction_relevant, style, linewidth = 2.5)\n",
    "\n",
    "# add a line for the global mean grade)\n",
    "ax.axhline(y = global_mean, color = 'k', linestyle = ':', linewidth = 1.5)\n",
    "ax.axhline(y = eps05_mean, color = 'b', linestyle = ':', linewidth = 1.5)\n",
    "ax.axhline(y = eps10_mean, color = 'r', linestyle = ':', linewidth = 1.5)\n",
    "\n",
    "ax.set_title('Total Reward for Non-Binary Bandit Replayer in Grade Units')\n",
    "ax.set_xlabel('Number of recommended Courses')\n",
    "ax.set_ylabel('Total Reward (accumlated)')\n",
    "\n",
    "ax.set_xticks(range(0, 11000, 1000))\n",
    "ax.set_ylim(4, 6.25)\n",
    "ax.set_yticks(np.arange(4, 6.25, 0.25))\n",
    "\n",
    "# rescale the y-axis tick labels to show them as a percentage\n",
    "#ax.set_yticklabels((ax.get_yticks()*100).astype(int))\n",
    "\n",
    "ax.legend(['$\\epsilon$ = 0.05',\n",
    "           '$\\epsilon$ = 0.10',\n",
    "           'Global Grade Average',\n",
    "           'Grade Average, $\\epsilon$ = 0.05',\n",
    "           'Grade Average, $\\epsilon$ = 0.10'\n",
    "          ],\n",
    "          loc='upper right'\n",
    "         )\n",
    "\n",
    "plt.tight_layout()\n",
    "\n",
    "plt.show()"
   ]
  },
  {
   "cell_type": "markdown",
   "metadata": {},
   "source": [
    "This depiction of the replay training for both $\\epsilon$-approaches do yield a very similar picture to the one of binary course choices. The global grade average is at an average grade of 5.0, which is only approached by training with an $\\epsilon$-value of 0.05, when rounded to tne nearest Swiss grade. The results of this scenario are taken with a grain of salt however. <br> One can take following approaches to bandit training with replay in the exploration-exploitation scenario: \n",
    "1.) Binary choices, binary reward\n",
    "2.) Non-binary choices, **constant** non-binary reward\n",
    "3.) Non-binary choices, **inconstant** non-binary reward\n",
    "<br>\n",
    "In this scenario, in case we take the grades into account, students tend to perform differntly in different subjects, therefore this should be modelled as inconstant non-binary reward with the use of **contextual bandits** (associative search task). Here, the problem is modelled a non-associative task, were only one state at the time is considered. "
   ]
  },
  {
   "cell_type": "markdown",
   "metadata": {},
   "source": [
    "## 2) Training with both Study Programs"
   ]
  },
  {
   "cell_type": "code",
   "execution_count": 196,
   "metadata": {
    "ExecuteTime": {
     "end_time": "2022-09-26T09:47:18.351701Z",
     "start_time": "2022-09-26T09:47:18.269586Z"
    }
   },
   "outputs": [],
   "source": [
    "# load data, collect all courses to make sure actions are drawn i.i.d\n",
    "\n",
    "train_df = pd.read_csv('C:/~your_path~/RecSys/obtained_data/train_df.csv')\n",
    "test_df = pd.read_csv('C:/~your_path~/RecSys/obtained_data/test_df.csv')\n",
    "test_df_NaN = pd.read_csv('C:/~your_path~/RecSys/obtained_data/test_df_NaN.csv')"
   ]
  },
  {
   "cell_type": "code",
   "execution_count": 204,
   "metadata": {
    "ExecuteTime": {
     "end_time": "2022-09-26T09:51:46.136379Z",
     "start_time": "2022-09-26T09:51:46.113847Z"
    }
   },
   "outputs": [],
   "source": [
    "# prep data set for binary reward simulation\n",
    "# instead of grades, take 1 for course taken\n",
    "\n",
    "train_prep = pd.DataFrame({\n",
    "    'StudentID': train_df['StudentID'].values,\n",
    "    'CourseID': train_df.CourseID,\n",
    "    'Course_Taken': [1] * len(train_df)\n",
    "})\n"
   ]
  },
  {
   "cell_type": "code",
   "execution_count": 205,
   "metadata": {
    "ExecuteTime": {
     "end_time": "2022-09-26T09:51:46.820309Z",
     "start_time": "2022-09-26T09:51:46.804319Z"
    }
   },
   "outputs": [],
   "source": [
    "# all courses\n",
    "all_courses = list(set(train_df['CourseID'].unique()) | set(test_df['CourseID'].unique()) | set(test_df_NaN['CourseID'].unique()))"
   ]
  },
  {
   "cell_type": "code",
   "execution_count": 206,
   "metadata": {
    "ExecuteTime": {
     "end_time": "2022-09-26T09:51:51.569153Z",
     "start_time": "2022-09-26T09:51:47.466134Z"
    }
   },
   "outputs": [],
   "source": [
    "df = hlp.add_non_choices(train_prep, all_courses)\n",
    "# the function add_non_choices adds "
   ]
  },
  {
   "cell_type": "code",
   "execution_count": 207,
   "metadata": {
    "ExecuteTime": {
     "end_time": "2022-09-26T09:52:01.929870Z",
     "start_time": "2022-09-26T09:52:01.908886Z"
    }
   },
   "outputs": [
    {
     "data": {
      "text/plain": [
       "18784"
      ]
     },
     "execution_count": 207,
     "metadata": {},
     "output_type": "execute_result"
    }
   ],
   "source": [
    "len(train_df)"
   ]
  },
  {
   "cell_type": "code",
   "execution_count": 208,
   "metadata": {
    "ExecuteTime": {
     "end_time": "2022-09-26T09:52:13.238734Z",
     "start_time": "2022-09-26T09:52:13.220744Z"
    }
   },
   "outputs": [
    {
     "data": {
      "text/plain": [
       "18784"
      ]
     },
     "execution_count": 208,
     "metadata": {},
     "output_type": "execute_result"
    }
   ],
   "source": [
    "len(train_prep)"
   ]
  },
  {
   "cell_type": "code",
   "execution_count": 210,
   "metadata": {
    "ExecuteTime": {
     "end_time": "2022-09-26T09:52:26.735815Z",
     "start_time": "2022-09-26T09:52:26.716826Z"
    }
   },
   "outputs": [
    {
     "data": {
      "text/html": [
       "<div>\n",
       "<style scoped>\n",
       "    .dataframe tbody tr th:only-of-type {\n",
       "        vertical-align: middle;\n",
       "    }\n",
       "\n",
       "    .dataframe tbody tr th {\n",
       "        vertical-align: top;\n",
       "    }\n",
       "\n",
       "    .dataframe thead th {\n",
       "        text-align: right;\n",
       "    }\n",
       "</style>\n",
       "<table border=\"1\" class=\"dataframe\">\n",
       "  <thead>\n",
       "    <tr style=\"text-align: right;\">\n",
       "      <th></th>\n",
       "      <th>StudentID</th>\n",
       "      <th>CourseID</th>\n",
       "      <th>Course_Taken</th>\n",
       "    </tr>\n",
       "  </thead>\n",
       "  <tbody>\n",
       "    <tr>\n",
       "      <th>120</th>\n",
       "      <td>556</td>\n",
       "      <td>742215</td>\n",
       "      <td>0</td>\n",
       "    </tr>\n",
       "    <tr>\n",
       "      <th>121</th>\n",
       "      <td>556</td>\n",
       "      <td>T207012</td>\n",
       "      <td>0</td>\n",
       "    </tr>\n",
       "    <tr>\n",
       "      <th>122</th>\n",
       "      <td>556</td>\n",
       "      <td>742205</td>\n",
       "      <td>0</td>\n",
       "    </tr>\n",
       "    <tr>\n",
       "      <th>123</th>\n",
       "      <td>556</td>\n",
       "      <td>71121</td>\n",
       "      <td>0</td>\n",
       "    </tr>\n",
       "    <tr>\n",
       "      <th>124</th>\n",
       "      <td>556</td>\n",
       "      <td>742209</td>\n",
       "      <td>0</td>\n",
       "    </tr>\n",
       "  </tbody>\n",
       "</table>\n",
       "</div>"
      ],
      "text/plain": [
       "     StudentID CourseID  Course_Taken\n",
       "120        556   742215             0\n",
       "121        556  T207012             0\n",
       "122        556   742205             0\n",
       "123        556    71121             0\n",
       "124        556   742209             0"
      ]
     },
     "execution_count": 210,
     "metadata": {},
     "output_type": "execute_result"
    }
   ],
   "source": [
    "df.tail()"
   ]
  },
  {
   "cell_type": "code",
   "execution_count": 211,
   "metadata": {
    "ExecuteTime": {
     "end_time": "2022-09-26T09:53:03.839995Z",
     "start_time": "2022-09-26T09:53:03.821011Z"
    }
   },
   "outputs": [],
   "source": [
    "n_visits = 10000\n",
    "n_iterations = 20\n",
    "\n",
    "reward_history = df\n",
    "item_col_name = 'CourseID'\n",
    "visitor_col_name = 'StudentID'\n",
    "reward_col_name = 'Course_Taken' #Binary "
   ]
  },
  {
   "cell_type": "code",
   "execution_count": 212,
   "metadata": {
    "ExecuteTime": {
     "end_time": "2022-09-26T10:18:53.493026Z",
     "start_time": "2022-09-26T09:55:51.525588Z"
    }
   },
   "outputs": [
    {
     "name": "stderr",
     "output_type": "stream",
     "text": [
      "100%|██████████| 20/20 [23:01<00:00, 69.08s/it]\n"
     ]
    }
   ],
   "source": [
    "epsilon = 0.05\n",
    "epsilon_05_results = EpsilonGreedyReplayer(epsilon, n_visits, reward_history,\n",
    "                                           item_col_name, visitor_col_name, reward_col_name,\n",
    "                                           n_iterations=n_iterations).replay()"
   ]
  },
  {
   "cell_type": "code",
   "execution_count": 213,
   "metadata": {
    "ExecuteTime": {
     "end_time": "2022-09-26T10:18:54.386517Z",
     "start_time": "2022-09-26T10:18:53.500410Z"
    }
   },
   "outputs": [
    {
     "data": {
      "text/html": [
       "<div>\n",
       "<style scoped>\n",
       "    .dataframe tbody tr th:only-of-type {\n",
       "        vertical-align: middle;\n",
       "    }\n",
       "\n",
       "    .dataframe tbody tr th {\n",
       "        vertical-align: top;\n",
       "    }\n",
       "\n",
       "    .dataframe thead th {\n",
       "        text-align: right;\n",
       "    }\n",
       "</style>\n",
       "<table border=\"1\" class=\"dataframe\">\n",
       "  <thead>\n",
       "    <tr style=\"text-align: right;\">\n",
       "      <th></th>\n",
       "      <th>iteration</th>\n",
       "      <th>visit</th>\n",
       "      <th>item_id</th>\n",
       "      <th>visitor_id</th>\n",
       "      <th>reward</th>\n",
       "      <th>total_reward</th>\n",
       "      <th>fraction_relevant</th>\n",
       "    </tr>\n",
       "  </thead>\n",
       "  <tbody>\n",
       "    <tr>\n",
       "      <th>199995</th>\n",
       "      <td>19</td>\n",
       "      <td>9995</td>\n",
       "      <td>7422A5</td>\n",
       "      <td>257</td>\n",
       "      <td>0</td>\n",
       "      <td>4932</td>\n",
       "      <td>0.493397</td>\n",
       "    </tr>\n",
       "    <tr>\n",
       "      <th>199996</th>\n",
       "      <td>19</td>\n",
       "      <td>9996</td>\n",
       "      <td>7422A5</td>\n",
       "      <td>214</td>\n",
       "      <td>0</td>\n",
       "      <td>4932</td>\n",
       "      <td>0.493348</td>\n",
       "    </tr>\n",
       "    <tr>\n",
       "      <th>199997</th>\n",
       "      <td>19</td>\n",
       "      <td>9997</td>\n",
       "      <td>7422A5</td>\n",
       "      <td>375</td>\n",
       "      <td>1</td>\n",
       "      <td>4933</td>\n",
       "      <td>0.493399</td>\n",
       "    </tr>\n",
       "    <tr>\n",
       "      <th>199998</th>\n",
       "      <td>19</td>\n",
       "      <td>9998</td>\n",
       "      <td>7422A5</td>\n",
       "      <td>358</td>\n",
       "      <td>1</td>\n",
       "      <td>4934</td>\n",
       "      <td>0.493449</td>\n",
       "    </tr>\n",
       "    <tr>\n",
       "      <th>199999</th>\n",
       "      <td>19</td>\n",
       "      <td>9999</td>\n",
       "      <td>7422A5</td>\n",
       "      <td>554</td>\n",
       "      <td>1</td>\n",
       "      <td>4935</td>\n",
       "      <td>0.493500</td>\n",
       "    </tr>\n",
       "  </tbody>\n",
       "</table>\n",
       "</div>"
      ],
      "text/plain": [
       "        iteration  visit item_id  visitor_id  reward  total_reward  \\\n",
       "199995         19   9995  7422A5         257       0          4932   \n",
       "199996         19   9996  7422A5         214       0          4932   \n",
       "199997         19   9997  7422A5         375       1          4933   \n",
       "199998         19   9998  7422A5         358       1          4934   \n",
       "199999         19   9999  7422A5         554       1          4935   \n",
       "\n",
       "        fraction_relevant  \n",
       "199995           0.493397  \n",
       "199996           0.493348  \n",
       "199997           0.493399  \n",
       "199998           0.493449  \n",
       "199999           0.493500  "
      ]
     },
     "execution_count": 213,
     "metadata": {},
     "output_type": "execute_result"
    }
   ],
   "source": [
    "epsilon_05_results_df = pd.DataFrame(epsilon_05_results)\n",
    "epsilon_05_results_df.tail()"
   ]
  },
  {
   "cell_type": "code",
   "execution_count": 214,
   "metadata": {
    "ExecuteTime": {
     "end_time": "2022-09-26T10:18:54.436831Z",
     "start_time": "2022-09-26T10:18:54.390495Z"
    }
   },
   "outputs": [
    {
     "data": {
      "text/plain": [
       "168"
      ]
     },
     "execution_count": 214,
     "metadata": {},
     "output_type": "execute_result"
    }
   ],
   "source": [
    "epsilon_05_results_df['item_id'].nunique()"
   ]
  },
  {
   "cell_type": "code",
   "execution_count": 215,
   "metadata": {
    "ExecuteTime": {
     "end_time": "2022-09-26T10:18:54.467131Z",
     "start_time": "2022-09-26T10:18:54.436831Z"
    }
   },
   "outputs": [
    {
     "data": {
      "text/plain": [
       "480"
      ]
     },
     "execution_count": 215,
     "metadata": {},
     "output_type": "execute_result"
    }
   ],
   "source": [
    "epsilon_05_results_df['visitor_id'].nunique()"
   ]
  },
  {
   "cell_type": "code",
   "execution_count": 216,
   "metadata": {
    "ExecuteTime": {
     "end_time": "2022-09-26T10:18:54.495069Z",
     "start_time": "2022-09-26T10:18:54.471110Z"
    }
   },
   "outputs": [
    {
     "data": {
      "text/plain": [
       "20"
      ]
     },
     "execution_count": 216,
     "metadata": {},
     "output_type": "execute_result"
    }
   ],
   "source": [
    "epsilon_05_results_df['iteration'].nunique()"
   ]
  },
  {
   "cell_type": "code",
   "execution_count": 217,
   "metadata": {
    "ExecuteTime": {
     "end_time": "2022-09-26T10:18:54.522114Z",
     "start_time": "2022-09-26T10:18:54.500067Z"
    }
   },
   "outputs": [
    {
     "data": {
      "text/plain": [
       "10000"
      ]
     },
     "execution_count": 217,
     "metadata": {},
     "output_type": "execute_result"
    }
   ],
   "source": [
    "epsilon_05_results_df['visit'].nunique()"
   ]
  },
  {
   "cell_type": "code",
   "execution_count": 218,
   "metadata": {
    "ExecuteTime": {
     "end_time": "2022-09-26T10:20:50.051944Z",
     "start_time": "2022-09-26T10:20:48.287342Z"
    }
   },
   "outputs": [],
   "source": [
    "epsilon_05_results_df.to_csv(os.path.join('C:/~your_path~/RecSys/obtained_data', 'epsilon_greedy_05_bin_complete.csv'), index = False)\n"
   ]
  },
  {
   "cell_type": "code",
   "execution_count": 219,
   "metadata": {
    "ExecuteTime": {
     "end_time": "2022-09-26T10:44:26.776657Z",
     "start_time": "2022-09-26T10:20:52.960102Z"
    }
   },
   "outputs": [
    {
     "name": "stderr",
     "output_type": "stream",
     "text": [
      "100%|██████████| 20/20 [23:33<00:00, 70.67s/it]\n"
     ]
    }
   ],
   "source": [
    "epsilon = 0.1\n",
    "epsilon_10_results = EpsilonGreedyReplayer(epsilon, n_visits, reward_history,\n",
    "                                           item_col_name, visitor_col_name, reward_col_name,\n",
    "                                           n_iterations=n_iterations).replay()"
   ]
  },
  {
   "cell_type": "code",
   "execution_count": 220,
   "metadata": {
    "ExecuteTime": {
     "end_time": "2022-09-26T10:44:27.560438Z",
     "start_time": "2022-09-26T10:44:26.776657Z"
    }
   },
   "outputs": [
    {
     "data": {
      "text/html": [
       "<div>\n",
       "<style scoped>\n",
       "    .dataframe tbody tr th:only-of-type {\n",
       "        vertical-align: middle;\n",
       "    }\n",
       "\n",
       "    .dataframe tbody tr th {\n",
       "        vertical-align: top;\n",
       "    }\n",
       "\n",
       "    .dataframe thead th {\n",
       "        text-align: right;\n",
       "    }\n",
       "</style>\n",
       "<table border=\"1\" class=\"dataframe\">\n",
       "  <thead>\n",
       "    <tr style=\"text-align: right;\">\n",
       "      <th></th>\n",
       "      <th>iteration</th>\n",
       "      <th>visit</th>\n",
       "      <th>item_id</th>\n",
       "      <th>visitor_id</th>\n",
       "      <th>reward</th>\n",
       "      <th>total_reward</th>\n",
       "      <th>fraction_relevant</th>\n",
       "    </tr>\n",
       "  </thead>\n",
       "  <tbody>\n",
       "    <tr>\n",
       "      <th>199995</th>\n",
       "      <td>19</td>\n",
       "      <td>9995</td>\n",
       "      <td>T100003</td>\n",
       "      <td>312</td>\n",
       "      <td>0</td>\n",
       "      <td>4490</td>\n",
       "      <td>0.449180</td>\n",
       "    </tr>\n",
       "    <tr>\n",
       "      <th>199996</th>\n",
       "      <td>19</td>\n",
       "      <td>9996</td>\n",
       "      <td>T100003</td>\n",
       "      <td>171</td>\n",
       "      <td>1</td>\n",
       "      <td>4491</td>\n",
       "      <td>0.449235</td>\n",
       "    </tr>\n",
       "    <tr>\n",
       "      <th>199997</th>\n",
       "      <td>19</td>\n",
       "      <td>9997</td>\n",
       "      <td>T100003</td>\n",
       "      <td>503</td>\n",
       "      <td>0</td>\n",
       "      <td>4491</td>\n",
       "      <td>0.449190</td>\n",
       "    </tr>\n",
       "    <tr>\n",
       "      <th>199998</th>\n",
       "      <td>19</td>\n",
       "      <td>9998</td>\n",
       "      <td>T100003</td>\n",
       "      <td>597</td>\n",
       "      <td>0</td>\n",
       "      <td>4491</td>\n",
       "      <td>0.449145</td>\n",
       "    </tr>\n",
       "    <tr>\n",
       "      <th>199999</th>\n",
       "      <td>19</td>\n",
       "      <td>9999</td>\n",
       "      <td>T100003</td>\n",
       "      <td>249</td>\n",
       "      <td>1</td>\n",
       "      <td>4492</td>\n",
       "      <td>0.449200</td>\n",
       "    </tr>\n",
       "  </tbody>\n",
       "</table>\n",
       "</div>"
      ],
      "text/plain": [
       "        iteration  visit  item_id  visitor_id  reward  total_reward  \\\n",
       "199995         19   9995  T100003         312       0          4490   \n",
       "199996         19   9996  T100003         171       1          4491   \n",
       "199997         19   9997  T100003         503       0          4491   \n",
       "199998         19   9998  T100003         597       0          4491   \n",
       "199999         19   9999  T100003         249       1          4492   \n",
       "\n",
       "        fraction_relevant  \n",
       "199995           0.449180  \n",
       "199996           0.449235  \n",
       "199997           0.449190  \n",
       "199998           0.449145  \n",
       "199999           0.449200  "
      ]
     },
     "execution_count": 220,
     "metadata": {},
     "output_type": "execute_result"
    }
   ],
   "source": [
    "epsilon_10_results_df = pd.DataFrame(epsilon_10_results)\n",
    "epsilon_10_results_df.tail()"
   ]
  },
  {
   "cell_type": "code",
   "execution_count": 221,
   "metadata": {
    "ExecuteTime": {
     "end_time": "2022-09-26T10:44:27.607347Z",
     "start_time": "2022-09-26T10:44:27.560438Z"
    }
   },
   "outputs": [
    {
     "data": {
      "text/plain": [
       "168"
      ]
     },
     "execution_count": 221,
     "metadata": {},
     "output_type": "execute_result"
    }
   ],
   "source": [
    "epsilon_10_results_df['item_id'].nunique()"
   ]
  },
  {
   "cell_type": "code",
   "execution_count": 222,
   "metadata": {
    "ExecuteTime": {
     "end_time": "2022-09-26T10:44:27.622911Z",
     "start_time": "2022-09-26T10:44:27.607347Z"
    }
   },
   "outputs": [
    {
     "data": {
      "text/plain": [
       "480"
      ]
     },
     "execution_count": 222,
     "metadata": {},
     "output_type": "execute_result"
    }
   ],
   "source": [
    "epsilon_10_results_df['visitor_id'].nunique()"
   ]
  },
  {
   "cell_type": "code",
   "execution_count": 223,
   "metadata": {
    "ExecuteTime": {
     "end_time": "2022-09-26T10:44:27.654159Z",
     "start_time": "2022-09-26T10:44:27.622911Z"
    }
   },
   "outputs": [
    {
     "data": {
      "text/plain": [
       "20"
      ]
     },
     "execution_count": 223,
     "metadata": {},
     "output_type": "execute_result"
    }
   ],
   "source": [
    "epsilon_10_results_df['iteration'].nunique()"
   ]
  },
  {
   "cell_type": "code",
   "execution_count": 224,
   "metadata": {
    "ExecuteTime": {
     "end_time": "2022-09-26T10:44:27.685411Z",
     "start_time": "2022-09-26T10:44:27.654159Z"
    }
   },
   "outputs": [
    {
     "data": {
      "text/plain": [
       "10000"
      ]
     },
     "execution_count": 224,
     "metadata": {},
     "output_type": "execute_result"
    }
   ],
   "source": [
    "epsilon_10_results_df['visit'].nunique()"
   ]
  },
  {
   "cell_type": "code",
   "execution_count": 236,
   "metadata": {
    "ExecuteTime": {
     "end_time": "2022-09-26T11:37:16.100537Z",
     "start_time": "2022-09-26T11:37:14.441799Z"
    }
   },
   "outputs": [],
   "source": [
    "epsilon_10_results_df.to_csv(os.path.join('C:/~your_path~/RecSys/obtained_data', 'epsilon_greedy_10_bin_complete.csv'), index = False)\n"
   ]
  },
  {
   "cell_type": "code",
   "execution_count": 228,
   "metadata": {
    "ExecuteTime": {
     "end_time": "2022-09-26T11:33:48.629009Z",
     "start_time": "2022-09-26T11:33:48.461105Z"
    }
   },
   "outputs": [],
   "source": [
    "eps_greedy_05_avg= epsilon_05_results_df.groupby(['visit'], as_index=False).mean()\n",
    "eps_greedy_10_avg = epsilon_10_results_df.groupby(['visit'], as_index=False).mean()\n"
   ]
  },
  {
   "cell_type": "code",
   "execution_count": 230,
   "metadata": {
    "ExecuteTime": {
     "end_time": "2022-09-26T11:34:30.904641Z",
     "start_time": "2022-09-26T11:34:30.889655Z"
    }
   },
   "outputs": [
    {
     "data": {
      "text/plain": [
       "0.474"
      ]
     },
     "execution_count": 230,
     "metadata": {},
     "output_type": "execute_result"
    }
   ],
   "source": [
    "eps05_acc = np.round(eps_greedy_05_avg['fraction_relevant'].iloc[-1], 4)\n",
    "eps05_acc"
   ]
  },
  {
   "cell_type": "code",
   "execution_count": 231,
   "metadata": {
    "ExecuteTime": {
     "end_time": "2022-09-26T11:34:32.550248Z",
     "start_time": "2022-09-26T11:34:32.537256Z"
    }
   },
   "outputs": [
    {
     "data": {
      "text/plain": [
       "0.4626"
      ]
     },
     "execution_count": 231,
     "metadata": {},
     "output_type": "execute_result"
    }
   ],
   "source": [
    "# accuracy of recommending the right arm after 20000 visits, per 20 iterations\n",
    "eps10_acc = np.round(eps_greedy_10_avg['fraction_relevant'].iloc[-1], 4)\n",
    "eps10_acc"
   ]
  },
  {
   "cell_type": "code",
   "execution_count": 235,
   "metadata": {
    "ExecuteTime": {
     "end_time": "2022-09-26T11:36:47.316614Z",
     "start_time": "2022-09-26T11:36:46.481518Z"
    }
   },
   "outputs": [
    {
     "data": {
      "image/png": "[encoded data removed]",
      "text/plain": [
       "<Figure size 864x720 with 1 Axes>"
      ]
     },
     "metadata": {
      "needs_background": "light"
     },
     "output_type": "display_data"
    }
   ],
   "source": [
    "plt.rcParams.update({'font.size': 14})\n",
    "fig, ax = plt.subplots(figsize=(12,10))\n",
    "\n",
    "for (avg_results_df, style) in [(eps_greedy_05_avg, 'b-'),\n",
    "                                (eps_greedy_10_avg, 'r--')]:\n",
    "    \n",
    "    ax.plot(avg_results_df.visit, avg_results_df.fraction_relevant, style, linewidth=2.5)\n",
    "\n",
    "\n",
    "ax.axhline(y = eps05_acc, color = 'b', linestyle = ':', linewidth = 1.5)\n",
    "ax.axhline(y = eps10_acc, color = 'r', linestyle = ':', linewidth = 1.5)\n",
    "    \n",
    "ax.set_title('Percentage of Successful Course Recommendations in Binary Bandit Replayer')\n",
    "ax.set_xlabel('Number of recommended Courses (= Arms pulled)')\n",
    "ax.set_ylabel('% of recommended Courses taken')\n",
    "\n",
    "ax.set_xticks(range(0,11000,1000))\n",
    "ax.set_ylim(0.2, 1.05)\n",
    "ax.set_yticks(np.arange(0.0, 1.05, 0.05))\n",
    "\n",
    "# rescale the y-axis tick labels to show them as a percentage\n",
    "ax.set_yticklabels((ax.get_yticks()*100).astype(int))\n",
    "\n",
    "ax.legend(['$\\epsilon$ = 0.05',\n",
    "           '$\\epsilon$ = 0.10',\n",
    "           'Accuracy = 0.474 ',\n",
    "           'Accuracy = 0.4626'],\n",
    "          loc='upper right'\n",
    "         )\n",
    "\n",
    "plt.tight_layout()\n",
    "plt.show()"
   ]
  },
  {
   "cell_type": "markdown",
   "metadata": {},
   "source": [
    "When using both study programsthe accuracy seem to reduce by half as the likelihood to choose the right arm at random is respectively reduced. All obtained Replay Dataframes are in the following notebook aggregated und inspect the prediction accuracy of courses according to the defined metrics."
   ]
  }
 ],
 "metadata": {
  "kernelspec": {
   "display_name": "Python 3",
   "language": "python",
   "name": "python3"
  },
  "language_info": {
   "codemirror_mode": {
    "name": "ipython",
    "version": 3
   },
   "file_extension": ".py",
   "mimetype": "text/x-python",
   "name": "python",
   "nbconvert_exporter": "python",
   "pygments_lexer": "ipython3",
   "version": "3.8.5"
  }
 },
 "nbformat": 4,
 "nbformat_minor": 4
}
