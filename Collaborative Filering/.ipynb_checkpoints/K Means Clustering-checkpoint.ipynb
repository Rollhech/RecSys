{
 "cells": [
  {
   "cell_type": "code",
   "execution_count": 1,
   "metadata": {
    "ExecuteTime": {
     "end_time": "2022-09-23T10:40:30.141384Z",
     "start_time": "2022-09-23T10:40:24.602023Z"
    }
   },
   "outputs": [],
   "source": [
    "import numpy as np\n",
    "import pandas as pd\n",
    "from scipy.sparse import csr_matrix\n",
    "import matplotlib.pyplot as plt\n",
    "from sklearn.cluster import KMeans\n",
    "from sklearn.metrics import mean_squared_error\n",
    "import itertools\n",
    "from sklearn.metrics import silhouette_samples, silhouette_score\n",
    "import os.path\n",
    "\n",
    "# self-built module:\n",
    "from CF_Helpers import cf_helpers as hlp"
   ]
  },
  {
   "cell_type": "markdown",
   "metadata": {},
   "source": [
    "# Content\n",
    "## 1) Create (sparse) student-course matrix\n",
    "## 2) Hypertune parameter k \n",
    "## 3) Cluster Data with tuned parameters\n",
    "## 4) Inspect Clusters, Predict clusters of test subjects"
   ]
  },
  {
   "cell_type": "code",
   "execution_count": 2,
   "metadata": {
    "ExecuteTime": {
     "end_time": "2022-09-23T10:40:30.202375Z",
     "start_time": "2022-09-23T10:40:30.145382Z"
    }
   },
   "outputs": [
    {
     "data": {
      "text/html": [
       "<div>\n",
       "<style scoped>\n",
       "    .dataframe tbody tr th:only-of-type {\n",
       "        vertical-align: middle;\n",
       "    }\n",
       "\n",
       "    .dataframe tbody tr th {\n",
       "        vertical-align: top;\n",
       "    }\n",
       "\n",
       "    .dataframe thead th {\n",
       "        text-align: right;\n",
       "    }\n",
       "</style>\n",
       "<table border=\"1\" class=\"dataframe\">\n",
       "  <thead>\n",
       "    <tr style=\"text-align: right;\">\n",
       "      <th></th>\n",
       "      <th>CourseID</th>\n",
       "      <th>StudentID</th>\n",
       "      <th>Grades</th>\n",
       "    </tr>\n",
       "  </thead>\n",
       "  <tbody>\n",
       "    <tr>\n",
       "      <th>0</th>\n",
       "      <td>742001</td>\n",
       "      <td>521</td>\n",
       "      <td>5.25</td>\n",
       "    </tr>\n",
       "    <tr>\n",
       "      <th>1</th>\n",
       "      <td>742006</td>\n",
       "      <td>521</td>\n",
       "      <td>4.75</td>\n",
       "    </tr>\n",
       "    <tr>\n",
       "      <th>2</th>\n",
       "      <td>742002</td>\n",
       "      <td>521</td>\n",
       "      <td>4.50</td>\n",
       "    </tr>\n",
       "    <tr>\n",
       "      <th>3</th>\n",
       "      <td>742007</td>\n",
       "      <td>521</td>\n",
       "      <td>4.50</td>\n",
       "    </tr>\n",
       "    <tr>\n",
       "      <th>4</th>\n",
       "      <td>742067</td>\n",
       "      <td>521</td>\n",
       "      <td>4.25</td>\n",
       "    </tr>\n",
       "  </tbody>\n",
       "</table>\n",
       "</div>"
      ],
      "text/plain": [
       "  CourseID  StudentID  Grades\n",
       "0   742001        521    5.25\n",
       "1   742006        521    4.75\n",
       "2   742002        521    4.50\n",
       "3   742007        521    4.50\n",
       "4   742067        521    4.25"
      ]
     },
     "execution_count": 2,
     "metadata": {},
     "output_type": "execute_result"
    }
   ],
   "source": [
    "# Loading the training data to train and tune the k-Means Clustering Algorithm\n",
    "train_df = pd.read_csv('C:~your_path~/RecSys/obtained_data/train_df.csv')\n",
    "train_df.head()"
   ]
  },
  {
   "cell_type": "code",
   "execution_count": 3,
   "metadata": {
    "ExecuteTime": {
     "end_time": "2022-09-23T10:40:30.246846Z",
     "start_time": "2022-09-23T10:40:30.210491Z"
    }
   },
   "outputs": [
    {
     "name": "stdout",
     "output_type": "stream",
     "text": [
      "<class 'pandas.core.frame.DataFrame'>\n",
      "RangeIndex: 18784 entries, 0 to 18783\n",
      "Data columns (total 3 columns):\n",
      " #   Column     Non-Null Count  Dtype  \n",
      "---  ------     --------------  -----  \n",
      " 0   CourseID   18784 non-null  object \n",
      " 1   StudentID  18784 non-null  int64  \n",
      " 2   Grades     18784 non-null  float64\n",
      "dtypes: float64(1), int64(1), object(1)\n",
      "memory usage: 440.4+ KB\n"
     ]
    }
   ],
   "source": [
    "train_df.info()"
   ]
  },
  {
   "cell_type": "markdown",
   "metadata": {},
   "source": [
    "## 1) Create (sparse) student-course matrix"
   ]
  },
  {
   "cell_type": "markdown",
   "metadata": {},
   "source": [
    "In order to create an adequate input, one needs to map the complete course catalogue to the dataframe to make sure no items will get lost in the training and that the dimensions are of same length when predicting test subjects with the trained clusters. To ensure this, a fake dataframe with StudentID = 1 and Grade 1, for all the courses in the course catalogue is added to the training data set, and removed at a later preprocessing step. That way the dimensionality of the student-course matrix is kept and can be compressed into a sparse matrix."
   ]
  },
  {
   "cell_type": "code",
   "execution_count": 4,
   "metadata": {
    "ExecuteTime": {
     "end_time": "2022-09-23T10:40:30.297903Z",
     "start_time": "2022-09-23T10:40:30.246846Z"
    }
   },
   "outputs": [],
   "source": [
    "df_complete = pd.read_csv('C:/~your_path~/RecSys/obtained_data/df_complete.csv')"
   ]
  },
  {
   "cell_type": "code",
   "execution_count": 5,
   "metadata": {
    "ExecuteTime": {
     "end_time": "2022-09-23T10:40:30.322439Z",
     "start_time": "2022-09-23T10:40:30.297903Z"
    }
   },
   "outputs": [
    {
     "data": {
      "text/plain": [
       "168"
      ]
     },
     "execution_count": 5,
     "metadata": {},
     "output_type": "execute_result"
    }
   ],
   "source": [
    "df_complete['CourseID'].nunique()"
   ]
  },
  {
   "cell_type": "code",
   "execution_count": 6,
   "metadata": {
    "ExecuteTime": {
     "end_time": "2022-09-23T10:40:30.355090Z",
     "start_time": "2022-09-23T10:40:30.322439Z"
    }
   },
   "outputs": [
    {
     "data": {
      "text/plain": [
       "163"
      ]
     },
     "execution_count": 6,
     "metadata": {},
     "output_type": "execute_result"
    }
   ],
   "source": [
    "train_df['CourseID'].nunique() "
   ]
  },
  {
   "cell_type": "markdown",
   "metadata": {},
   "source": [
    "**Due to splitting into training and test sets the number of dimensions might be uneven when applying the clustering algorithm!!**"
   ]
  },
  {
   "cell_type": "code",
   "execution_count": 7,
   "metadata": {
    "ExecuteTime": {
     "end_time": "2022-09-23T10:40:30.377697Z",
     "start_time": "2022-09-23T10:40:30.360089Z"
    }
   },
   "outputs": [],
   "source": [
    "courses = sorted(list(set(df_complete['CourseID'].unique())))"
   ]
  },
  {
   "cell_type": "code",
   "execution_count": 8,
   "metadata": {
    "ExecuteTime": {
     "end_time": "2022-09-23T10:40:30.418932Z",
     "start_time": "2022-09-23T10:40:30.386692Z"
    }
   },
   "outputs": [
    {
     "data": {
      "text/html": [
       "<div>\n",
       "<style scoped>\n",
       "    .dataframe tbody tr th:only-of-type {\n",
       "        vertical-align: middle;\n",
       "    }\n",
       "\n",
       "    .dataframe tbody tr th {\n",
       "        vertical-align: top;\n",
       "    }\n",
       "\n",
       "    .dataframe thead th {\n",
       "        text-align: right;\n",
       "    }\n",
       "</style>\n",
       "<table border=\"1\" class=\"dataframe\">\n",
       "  <thead>\n",
       "    <tr style=\"text-align: right;\">\n",
       "      <th></th>\n",
       "      <th>StudentID</th>\n",
       "      <th>CourseID</th>\n",
       "      <th>Grades</th>\n",
       "    </tr>\n",
       "  </thead>\n",
       "  <tbody>\n",
       "    <tr>\n",
       "      <th>0</th>\n",
       "      <td>1</td>\n",
       "      <td>12E050SCIENCES</td>\n",
       "      <td>1</td>\n",
       "    </tr>\n",
       "    <tr>\n",
       "      <th>1</th>\n",
       "      <td>1</td>\n",
       "      <td>12E051SCIENCES</td>\n",
       "      <td>1</td>\n",
       "    </tr>\n",
       "    <tr>\n",
       "      <th>2</th>\n",
       "      <td>1</td>\n",
       "      <td>5869</td>\n",
       "      <td>1</td>\n",
       "    </tr>\n",
       "    <tr>\n",
       "      <th>3</th>\n",
       "      <td>1</td>\n",
       "      <td>5870</td>\n",
       "      <td>1</td>\n",
       "    </tr>\n",
       "    <tr>\n",
       "      <th>4</th>\n",
       "      <td>1</td>\n",
       "      <td>71105</td>\n",
       "      <td>1</td>\n",
       "    </tr>\n",
       "  </tbody>\n",
       "</table>\n",
       "</div>"
      ],
      "text/plain": [
       "   StudentID        CourseID  Grades\n",
       "0          1  12E050SCIENCES       1\n",
       "1          1  12E051SCIENCES       1\n",
       "2          1            5869       1\n",
       "3          1            5870       1\n",
       "4          1           71105       1"
      ]
     },
     "execution_count": 8,
     "metadata": {},
     "output_type": "execute_result"
    }
   ],
   "source": [
    "fake_df = pd.DataFrame({\n",
    "    'StudentID': [1] * len(courses),\n",
    "    'CourseID': courses,\n",
    "    'Grades': [1] * len(courses)})\n",
    "fake_df.head()"
   ]
  },
  {
   "cell_type": "code",
   "execution_count": 9,
   "metadata": {
    "ExecuteTime": {
     "end_time": "2022-09-23T10:40:30.455098Z",
     "start_time": "2022-09-23T10:40:30.428200Z"
    }
   },
   "outputs": [],
   "source": [
    "train_df = pd.concat([train_df, fake_df])"
   ]
  },
  {
   "cell_type": "code",
   "execution_count": 10,
   "metadata": {
    "ExecuteTime": {
     "end_time": "2022-09-23T10:40:30.599698Z",
     "start_time": "2022-09-23T10:40:30.461096Z"
    }
   },
   "outputs": [
    {
     "data": {
      "text/html": [
       "<div>\n",
       "<style scoped>\n",
       "    .dataframe tbody tr th:only-of-type {\n",
       "        vertical-align: middle;\n",
       "    }\n",
       "\n",
       "    .dataframe tbody tr th {\n",
       "        vertical-align: top;\n",
       "    }\n",
       "\n",
       "    .dataframe thead th {\n",
       "        text-align: right;\n",
       "    }\n",
       "</style>\n",
       "<table border=\"1\" class=\"dataframe\">\n",
       "  <thead>\n",
       "    <tr style=\"text-align: right;\">\n",
       "      <th>CourseID</th>\n",
       "      <th>12E050SCIENCES</th>\n",
       "      <th>12E051SCIENCES</th>\n",
       "      <th>5869</th>\n",
       "      <th>5870</th>\n",
       "      <th>71105</th>\n",
       "      <th>71120</th>\n",
       "      <th>71121</th>\n",
       "      <th>71133</th>\n",
       "      <th>74110</th>\n",
       "      <th>74112</th>\n",
       "      <th>...</th>\n",
       "      <th>T208003</th>\n",
       "      <th>T208011</th>\n",
       "      <th>T208012</th>\n",
       "      <th>T208013</th>\n",
       "      <th>T208014</th>\n",
       "      <th>T208015</th>\n",
       "      <th>T208016</th>\n",
       "      <th>T208017</th>\n",
       "      <th>T208033</th>\n",
       "      <th>T214006</th>\n",
       "    </tr>\n",
       "    <tr>\n",
       "      <th>StudentID</th>\n",
       "      <th></th>\n",
       "      <th></th>\n",
       "      <th></th>\n",
       "      <th></th>\n",
       "      <th></th>\n",
       "      <th></th>\n",
       "      <th></th>\n",
       "      <th></th>\n",
       "      <th></th>\n",
       "      <th></th>\n",
       "      <th></th>\n",
       "      <th></th>\n",
       "      <th></th>\n",
       "      <th></th>\n",
       "      <th></th>\n",
       "      <th></th>\n",
       "      <th></th>\n",
       "      <th></th>\n",
       "      <th></th>\n",
       "      <th></th>\n",
       "      <th></th>\n",
       "    </tr>\n",
       "  </thead>\n",
       "  <tbody>\n",
       "    <tr>\n",
       "      <th>1</th>\n",
       "      <td>1.00</td>\n",
       "      <td>1.0</td>\n",
       "      <td>1.00</td>\n",
       "      <td>1.00</td>\n",
       "      <td>1.0</td>\n",
       "      <td>1.0</td>\n",
       "      <td>1.0</td>\n",
       "      <td>1.0</td>\n",
       "      <td>1.0</td>\n",
       "      <td>1.0</td>\n",
       "      <td>...</td>\n",
       "      <td>1.0</td>\n",
       "      <td>1.00</td>\n",
       "      <td>1.0</td>\n",
       "      <td>1.0</td>\n",
       "      <td>1.0</td>\n",
       "      <td>1.0</td>\n",
       "      <td>1.0</td>\n",
       "      <td>1.0</td>\n",
       "      <td>1.0</td>\n",
       "      <td>1.0</td>\n",
       "    </tr>\n",
       "    <tr>\n",
       "      <th>3</th>\n",
       "      <td>4.50</td>\n",
       "      <td>5.5</td>\n",
       "      <td>0.00</td>\n",
       "      <td>0.00</td>\n",
       "      <td>0.0</td>\n",
       "      <td>0.0</td>\n",
       "      <td>0.0</td>\n",
       "      <td>0.0</td>\n",
       "      <td>0.0</td>\n",
       "      <td>0.0</td>\n",
       "      <td>...</td>\n",
       "      <td>0.0</td>\n",
       "      <td>0.00</td>\n",
       "      <td>0.0</td>\n",
       "      <td>0.0</td>\n",
       "      <td>0.0</td>\n",
       "      <td>0.0</td>\n",
       "      <td>0.0</td>\n",
       "      <td>0.0</td>\n",
       "      <td>0.0</td>\n",
       "      <td>0.0</td>\n",
       "    </tr>\n",
       "    <tr>\n",
       "      <th>4</th>\n",
       "      <td>0.00</td>\n",
       "      <td>0.0</td>\n",
       "      <td>5.25</td>\n",
       "      <td>5.25</td>\n",
       "      <td>0.0</td>\n",
       "      <td>0.0</td>\n",
       "      <td>0.0</td>\n",
       "      <td>0.0</td>\n",
       "      <td>0.0</td>\n",
       "      <td>0.0</td>\n",
       "      <td>...</td>\n",
       "      <td>4.5</td>\n",
       "      <td>4.25</td>\n",
       "      <td>0.0</td>\n",
       "      <td>0.0</td>\n",
       "      <td>0.0</td>\n",
       "      <td>0.0</td>\n",
       "      <td>0.0</td>\n",
       "      <td>0.0</td>\n",
       "      <td>0.0</td>\n",
       "      <td>0.0</td>\n",
       "    </tr>\n",
       "    <tr>\n",
       "      <th>5</th>\n",
       "      <td>0.00</td>\n",
       "      <td>0.0</td>\n",
       "      <td>5.00</td>\n",
       "      <td>5.00</td>\n",
       "      <td>0.0</td>\n",
       "      <td>0.0</td>\n",
       "      <td>0.0</td>\n",
       "      <td>0.0</td>\n",
       "      <td>0.0</td>\n",
       "      <td>0.0</td>\n",
       "      <td>...</td>\n",
       "      <td>0.0</td>\n",
       "      <td>0.00</td>\n",
       "      <td>0.0</td>\n",
       "      <td>0.0</td>\n",
       "      <td>0.0</td>\n",
       "      <td>0.0</td>\n",
       "      <td>0.0</td>\n",
       "      <td>0.0</td>\n",
       "      <td>0.0</td>\n",
       "      <td>0.0</td>\n",
       "    </tr>\n",
       "    <tr>\n",
       "      <th>7</th>\n",
       "      <td>5.25</td>\n",
       "      <td>5.0</td>\n",
       "      <td>0.00</td>\n",
       "      <td>0.00</td>\n",
       "      <td>0.0</td>\n",
       "      <td>0.0</td>\n",
       "      <td>0.0</td>\n",
       "      <td>0.0</td>\n",
       "      <td>0.0</td>\n",
       "      <td>0.0</td>\n",
       "      <td>...</td>\n",
       "      <td>0.0</td>\n",
       "      <td>0.00</td>\n",
       "      <td>0.0</td>\n",
       "      <td>0.0</td>\n",
       "      <td>0.0</td>\n",
       "      <td>0.0</td>\n",
       "      <td>0.0</td>\n",
       "      <td>0.0</td>\n",
       "      <td>0.0</td>\n",
       "      <td>0.0</td>\n",
       "    </tr>\n",
       "  </tbody>\n",
       "</table>\n",
       "<p>5 rows × 168 columns</p>\n",
       "</div>"
      ],
      "text/plain": [
       "CourseID   12E050SCIENCES  12E051SCIENCES  5869  5870  71105  71120  71121  \\\n",
       "StudentID                                                                    \n",
       "1                    1.00             1.0  1.00  1.00    1.0    1.0    1.0   \n",
       "3                    4.50             5.5  0.00  0.00    0.0    0.0    0.0   \n",
       "4                    0.00             0.0  5.25  5.25    0.0    0.0    0.0   \n",
       "5                    0.00             0.0  5.00  5.00    0.0    0.0    0.0   \n",
       "7                    5.25             5.0  0.00  0.00    0.0    0.0    0.0   \n",
       "\n",
       "CourseID   71133  74110  74112  ...  T208003  T208011  T208012  T208013  \\\n",
       "StudentID                       ...                                       \n",
       "1            1.0    1.0    1.0  ...      1.0     1.00      1.0      1.0   \n",
       "3            0.0    0.0    0.0  ...      0.0     0.00      0.0      0.0   \n",
       "4            0.0    0.0    0.0  ...      4.5     4.25      0.0      0.0   \n",
       "5            0.0    0.0    0.0  ...      0.0     0.00      0.0      0.0   \n",
       "7            0.0    0.0    0.0  ...      0.0     0.00      0.0      0.0   \n",
       "\n",
       "CourseID   T208014  T208015  T208016  T208017  T208033  T214006  \n",
       "StudentID                                                        \n",
       "1              1.0      1.0      1.0      1.0      1.0      1.0  \n",
       "3              0.0      0.0      0.0      0.0      0.0      0.0  \n",
       "4              0.0      0.0      0.0      0.0      0.0      0.0  \n",
       "5              0.0      0.0      0.0      0.0      0.0      0.0  \n",
       "7              0.0      0.0      0.0      0.0      0.0      0.0  \n",
       "\n",
       "[5 rows x 168 columns]"
      ]
     },
     "execution_count": 10,
     "metadata": {},
     "output_type": "execute_result"
    }
   ],
   "source": [
    "train_df = train_df.set_index('StudentID') # set StudentID as an index, to have one row per student\n",
    "student_course_matrix =  train_df.pivot_table(values='Grades', index = train_df.index, columns='CourseID', aggfunc='first')\n",
    "student_course_matrix = student_course_matrix.fillna(0) #fill with zero instead of np.NaN for tuning k\n",
    "student_course_matrix.head()\n",
    "# Result is the matrix with students as rows and courses as columns\n",
    "# 163 Columns"
   ]
  },
  {
   "cell_type": "code",
   "execution_count": 11,
   "metadata": {
    "ExecuteTime": {
     "end_time": "2022-09-23T10:40:30.663001Z",
     "start_time": "2022-09-23T10:40:30.604696Z"
    }
   },
   "outputs": [
    {
     "data": {
      "text/html": [
       "<div>\n",
       "<style scoped>\n",
       "    .dataframe tbody tr th:only-of-type {\n",
       "        vertical-align: middle;\n",
       "    }\n",
       "\n",
       "    .dataframe tbody tr th {\n",
       "        vertical-align: top;\n",
       "    }\n",
       "\n",
       "    .dataframe thead th {\n",
       "        text-align: right;\n",
       "    }\n",
       "</style>\n",
       "<table border=\"1\" class=\"dataframe\">\n",
       "  <thead>\n",
       "    <tr style=\"text-align: right;\">\n",
       "      <th>CourseID</th>\n",
       "      <th>12E050SCIENCES</th>\n",
       "      <th>12E051SCIENCES</th>\n",
       "      <th>5869</th>\n",
       "      <th>5870</th>\n",
       "      <th>71105</th>\n",
       "      <th>71120</th>\n",
       "      <th>71121</th>\n",
       "      <th>71133</th>\n",
       "      <th>74110</th>\n",
       "      <th>74112</th>\n",
       "      <th>...</th>\n",
       "      <th>T208003</th>\n",
       "      <th>T208011</th>\n",
       "      <th>T208012</th>\n",
       "      <th>T208013</th>\n",
       "      <th>T208014</th>\n",
       "      <th>T208015</th>\n",
       "      <th>T208016</th>\n",
       "      <th>T208017</th>\n",
       "      <th>T208033</th>\n",
       "      <th>T214006</th>\n",
       "    </tr>\n",
       "    <tr>\n",
       "      <th>StudentID</th>\n",
       "      <th></th>\n",
       "      <th></th>\n",
       "      <th></th>\n",
       "      <th></th>\n",
       "      <th></th>\n",
       "      <th></th>\n",
       "      <th></th>\n",
       "      <th></th>\n",
       "      <th></th>\n",
       "      <th></th>\n",
       "      <th></th>\n",
       "      <th></th>\n",
       "      <th></th>\n",
       "      <th></th>\n",
       "      <th></th>\n",
       "      <th></th>\n",
       "      <th></th>\n",
       "      <th></th>\n",
       "      <th></th>\n",
       "      <th></th>\n",
       "      <th></th>\n",
       "    </tr>\n",
       "  </thead>\n",
       "  <tbody>\n",
       "    <tr>\n",
       "      <th>3</th>\n",
       "      <td>4.50</td>\n",
       "      <td>5.5</td>\n",
       "      <td>0.00</td>\n",
       "      <td>0.00</td>\n",
       "      <td>0.0</td>\n",
       "      <td>0.0</td>\n",
       "      <td>0.0</td>\n",
       "      <td>0.0</td>\n",
       "      <td>0.0</td>\n",
       "      <td>0.0</td>\n",
       "      <td>...</td>\n",
       "      <td>0.0</td>\n",
       "      <td>0.00</td>\n",
       "      <td>0.0</td>\n",
       "      <td>0.0</td>\n",
       "      <td>0.0</td>\n",
       "      <td>0.0</td>\n",
       "      <td>0.0</td>\n",
       "      <td>0.0</td>\n",
       "      <td>0.0</td>\n",
       "      <td>0.0</td>\n",
       "    </tr>\n",
       "    <tr>\n",
       "      <th>4</th>\n",
       "      <td>0.00</td>\n",
       "      <td>0.0</td>\n",
       "      <td>5.25</td>\n",
       "      <td>5.25</td>\n",
       "      <td>0.0</td>\n",
       "      <td>0.0</td>\n",
       "      <td>0.0</td>\n",
       "      <td>0.0</td>\n",
       "      <td>0.0</td>\n",
       "      <td>0.0</td>\n",
       "      <td>...</td>\n",
       "      <td>4.5</td>\n",
       "      <td>4.25</td>\n",
       "      <td>0.0</td>\n",
       "      <td>0.0</td>\n",
       "      <td>0.0</td>\n",
       "      <td>0.0</td>\n",
       "      <td>0.0</td>\n",
       "      <td>0.0</td>\n",
       "      <td>0.0</td>\n",
       "      <td>0.0</td>\n",
       "    </tr>\n",
       "    <tr>\n",
       "      <th>5</th>\n",
       "      <td>0.00</td>\n",
       "      <td>0.0</td>\n",
       "      <td>5.00</td>\n",
       "      <td>5.00</td>\n",
       "      <td>0.0</td>\n",
       "      <td>0.0</td>\n",
       "      <td>0.0</td>\n",
       "      <td>0.0</td>\n",
       "      <td>0.0</td>\n",
       "      <td>0.0</td>\n",
       "      <td>...</td>\n",
       "      <td>0.0</td>\n",
       "      <td>0.00</td>\n",
       "      <td>0.0</td>\n",
       "      <td>0.0</td>\n",
       "      <td>0.0</td>\n",
       "      <td>0.0</td>\n",
       "      <td>0.0</td>\n",
       "      <td>0.0</td>\n",
       "      <td>0.0</td>\n",
       "      <td>0.0</td>\n",
       "    </tr>\n",
       "    <tr>\n",
       "      <th>7</th>\n",
       "      <td>5.25</td>\n",
       "      <td>5.0</td>\n",
       "      <td>0.00</td>\n",
       "      <td>0.00</td>\n",
       "      <td>0.0</td>\n",
       "      <td>0.0</td>\n",
       "      <td>0.0</td>\n",
       "      <td>0.0</td>\n",
       "      <td>0.0</td>\n",
       "      <td>0.0</td>\n",
       "      <td>...</td>\n",
       "      <td>0.0</td>\n",
       "      <td>0.00</td>\n",
       "      <td>0.0</td>\n",
       "      <td>0.0</td>\n",
       "      <td>0.0</td>\n",
       "      <td>0.0</td>\n",
       "      <td>0.0</td>\n",
       "      <td>0.0</td>\n",
       "      <td>0.0</td>\n",
       "      <td>0.0</td>\n",
       "    </tr>\n",
       "    <tr>\n",
       "      <th>8</th>\n",
       "      <td>5.75</td>\n",
       "      <td>5.0</td>\n",
       "      <td>0.00</td>\n",
       "      <td>0.00</td>\n",
       "      <td>0.0</td>\n",
       "      <td>0.0</td>\n",
       "      <td>0.0</td>\n",
       "      <td>0.0</td>\n",
       "      <td>0.0</td>\n",
       "      <td>0.0</td>\n",
       "      <td>...</td>\n",
       "      <td>0.0</td>\n",
       "      <td>0.00</td>\n",
       "      <td>0.0</td>\n",
       "      <td>0.0</td>\n",
       "      <td>0.0</td>\n",
       "      <td>0.0</td>\n",
       "      <td>0.0</td>\n",
       "      <td>0.0</td>\n",
       "      <td>0.0</td>\n",
       "      <td>0.0</td>\n",
       "    </tr>\n",
       "  </tbody>\n",
       "</table>\n",
       "<p>5 rows × 168 columns</p>\n",
       "</div>"
      ],
      "text/plain": [
       "CourseID   12E050SCIENCES  12E051SCIENCES  5869  5870  71105  71120  71121  \\\n",
       "StudentID                                                                    \n",
       "3                    4.50             5.5  0.00  0.00    0.0    0.0    0.0   \n",
       "4                    0.00             0.0  5.25  5.25    0.0    0.0    0.0   \n",
       "5                    0.00             0.0  5.00  5.00    0.0    0.0    0.0   \n",
       "7                    5.25             5.0  0.00  0.00    0.0    0.0    0.0   \n",
       "8                    5.75             5.0  0.00  0.00    0.0    0.0    0.0   \n",
       "\n",
       "CourseID   71133  74110  74112  ...  T208003  T208011  T208012  T208013  \\\n",
       "StudentID                       ...                                       \n",
       "3            0.0    0.0    0.0  ...      0.0     0.00      0.0      0.0   \n",
       "4            0.0    0.0    0.0  ...      4.5     4.25      0.0      0.0   \n",
       "5            0.0    0.0    0.0  ...      0.0     0.00      0.0      0.0   \n",
       "7            0.0    0.0    0.0  ...      0.0     0.00      0.0      0.0   \n",
       "8            0.0    0.0    0.0  ...      0.0     0.00      0.0      0.0   \n",
       "\n",
       "CourseID   T208014  T208015  T208016  T208017  T208033  T214006  \n",
       "StudentID                                                        \n",
       "3              0.0      0.0      0.0      0.0      0.0      0.0  \n",
       "4              0.0      0.0      0.0      0.0      0.0      0.0  \n",
       "5              0.0      0.0      0.0      0.0      0.0      0.0  \n",
       "7              0.0      0.0      0.0      0.0      0.0      0.0  \n",
       "8              0.0      0.0      0.0      0.0      0.0      0.0  \n",
       "\n",
       "[5 rows x 168 columns]"
      ]
     },
     "execution_count": 11,
     "metadata": {},
     "output_type": "execute_result"
    }
   ],
   "source": [
    "# As Student 1 is still in the trainings data set, the row needs to be removed, however the dimensionality of the matrix remains\n",
    "student_course_matrix = student_course_matrix.drop([1])\n",
    "student_course_matrix.head()"
   ]
  },
  {
   "cell_type": "code",
   "execution_count": 12,
   "metadata": {
    "ExecuteTime": {
     "end_time": "2022-09-23T10:40:30.694981Z",
     "start_time": "2022-09-23T10:40:30.666999Z"
    }
   },
   "outputs": [],
   "source": [
    "# obtain the sparse format of the full matrix with csr_matrix()\n",
    "sparse_matrix = csr_matrix(student_course_matrix)"
   ]
  },
  {
   "cell_type": "code",
   "execution_count": 13,
   "metadata": {
    "ExecuteTime": {
     "end_time": "2022-09-23T10:40:30.706461Z",
     "start_time": "2022-09-23T10:40:30.697980Z"
    }
   },
   "outputs": [
    {
     "data": {
      "text/plain": [
       "<480x168 sparse matrix of type '<class 'numpy.float64'>'\n",
       "\twith 18646 stored elements in Compressed Sparse Row format>"
      ]
     },
     "execution_count": 13,
     "metadata": {},
     "output_type": "execute_result"
    }
   ],
   "source": [
    "sparse_matrix"
   ]
  },
  {
   "cell_type": "markdown",
   "metadata": {},
   "source": [
    "## 2) Tuning Hyperparameter k"
   ]
  },
  {
   "cell_type": "markdown",
   "metadata": {},
   "source": [
    "One approach to determine $K^*$ is the silhouette value, which can be used to validate cluster consistency. Precisely, it measures how well any observation $i$ fits its respective cluster (cohesion or *tightness* compared to other clusters (separation).The silhouette measure is composed of two measurements that are detailed in the following. <br>\n",
    "For any given observation $i$, let $a(i)$ be the average dissimilarity measure of $i$ to all other observations within that very cluster, in the following denoted as $C_1$ for illustration purposes. After computing $a(i)$, a chosen dissimilarity measure $d$ is applied to determine $d(i,C_k)$ for that very observation $i$ and all other observation of other clusters, here denoted as $C_k$. By choosing the minimum of all computations, one obtains the nearest cluster or *closest neighbour* which is: <br>\n",
    "<br>\n",
    "\\begin{equation}\n",
    "    b(i) = \\min_{C_k \\neq C_1} d(i,C_k)\n",
    "\\end{equation}\n",
    "<br>\n",
    "Combining the average intra-cluster dissimilarity $a(i)$ and its closest neighbour as defined above as b(i), one obtains the silhouette of the $i$th observation by:<br>\n",
    "\\begin{equation}\n",
    "    s(i) = \\frac{b(i) - a(i)}{max(a(i), b(i))} \\in -1 \\leq s(i) \\leq 1\n",
    "    \\label{eq:silhouette}\n",
    "\\end{equation}\n",
    "<br>\n",
    "The silhouette $s(i)$ provides insight on how well the observation $i$ is classified. A value of $s(i)$ that is close to 1, indicates that $a(i)$, the intra-cluster dissimilarity, is much smaller than the dissimilarity obtained by its closest neighbour, which implies that the observation is *well-clustered*. A negative value close to -1 implies the exact opposite, the nearest neighbour cluster is much closer than the actual cluster, such that one can infer that $i$ is misclassified. For values around zero, the data might not be clearly separable as $a(i)$ and $b(i)$ are approximately the same, such that $i$ could belong to either cluster. Using the silhouette value of clustered observations can assist in further fine-tuning the hyperparameter $k$ as it provides the opportunity to validate the cohesion of the clusters obtained"
   ]
  },
  {
   "cell_type": "code",
   "execution_count": 14,
   "metadata": {
    "ExecuteTime": {
     "end_time": "2022-09-23T10:40:35.032062Z",
     "start_time": "2022-09-23T10:40:30.706461Z"
    }
   },
   "outputs": [],
   "source": [
    "k_values = range(2, 12 + 1, 1) \n",
    "sil_scores = [hlp.silhouette_score_by_cluster(k, sparse_matrix) for k in k_values]"
   ]
  },
  {
   "cell_type": "code",
   "execution_count": 15,
   "metadata": {
    "ExecuteTime": {
     "end_time": "2022-09-23T10:40:35.598856Z",
     "start_time": "2022-09-23T10:40:35.032062Z"
    }
   },
   "outputs": [
    {
     "data": {
      "image/png": "[encoded data removed]",
      "text/plain": [
       "<Figure size 864x720 with 1 Axes>"
      ]
     },
     "metadata": {
      "needs_background": "light"
     },
     "output_type": "display_data"
    }
   ],
   "source": [
    "plt.rcParams.update({'font.size': 16})\n",
    "x = ['1', '2', '3', '4', '5', '6', '7', '8', '9', '10', '11']\n",
    "fig, ax = plt.subplots(figsize=(12, 10))\n",
    "ax.set_xlabel('Number of Clusters')\n",
    "ax.set_ylabel('Silhouette Score')\n",
    "plt.plot(x, sil_scores)\n",
    "plt.title(\"Silhouette Score\")\n",
    "plt.grid()\n",
    "plt.show()"
   ]
  },
  {
   "cell_type": "markdown",
   "metadata": {},
   "source": [
    "The highest silhouette score is obtained with dividing the data into 2 clusters. Values near 0, indicate that clusters are not distinct and somehow overlap. This is naturally the case in the underlying data set, as the course history is a mix of mandatory and elective courses. Thus, the silhouette score is expected to obtain lower values as each student will have to some extend the same courses."
   ]
  },
  {
   "cell_type": "code",
   "execution_count": 16,
   "metadata": {
    "ExecuteTime": {
     "end_time": "2022-09-23T10:40:35.614843Z",
     "start_time": "2022-09-23T10:40:35.603850Z"
    }
   },
   "outputs": [],
   "source": [
    "kmeans_kwargs = {\n",
    "    \"init\": \"random\",\n",
    "    \"n_init\": 100,\n",
    "     \"max_iter\": 300,\n",
    "    \"random_state\": 32,\n",
    "}"
   ]
  },
  {
   "cell_type": "code",
   "execution_count": 17,
   "metadata": {
    "ExecuteTime": {
     "end_time": "2022-09-23T10:40:54.155870Z",
     "start_time": "2022-09-23T10:40:35.618846Z"
    }
   },
   "outputs": [],
   "source": [
    "# A list holds the SSE values for each k (Within Cluster Variation, also often denoted as W(C_k))\n",
    "sse = []\n",
    "for k in range(1, 11):\n",
    "    kmeans = KMeans(n_clusters= k, **kmeans_kwargs)\n",
    "    kmeans.fit(sparse_matrix)\n",
    "    sse.append(kmeans.inertia_)"
   ]
  },
  {
   "cell_type": "code",
   "execution_count": 18,
   "metadata": {
    "ExecuteTime": {
     "end_time": "2022-09-23T10:40:54.171492Z",
     "start_time": "2022-09-23T10:40:54.155870Z"
    }
   },
   "outputs": [
    {
     "data": {
      "text/plain": [
       "[0, 1, 2, 3, 4, 5, 6, 7, 8, 9]"
      ]
     },
     "execution_count": 18,
     "metadata": {},
     "output_type": "execute_result"
    }
   ],
   "source": [
    "number_of_clusters = list(range(0,10))\n",
    "number_of_clusters"
   ]
  },
  {
   "cell_type": "code",
   "execution_count": 19,
   "metadata": {
    "ExecuteTime": {
     "end_time": "2022-09-23T10:40:54.187117Z",
     "start_time": "2022-09-23T10:40:54.171492Z"
    }
   },
   "outputs": [],
   "source": [
    "sse_frame = pd.DataFrame({\n",
    "    'SSE': sse,\n",
    "}, index = number_of_clusters)"
   ]
  },
  {
   "cell_type": "code",
   "execution_count": 20,
   "metadata": {
    "ExecuteTime": {
     "end_time": "2022-09-23T10:40:54.202740Z",
     "start_time": "2022-09-23T10:40:54.187117Z"
    }
   },
   "outputs": [],
   "source": [
    "sse_frame['Pct_change'] = sse_frame.pct_change()"
   ]
  },
  {
   "cell_type": "code",
   "execution_count": 21,
   "metadata": {
    "ExecuteTime": {
     "end_time": "2022-09-23T10:40:54.233987Z",
     "start_time": "2022-09-23T10:40:54.202740Z"
    }
   },
   "outputs": [
    {
     "data": {
      "text/html": [
       "<div>\n",
       "<style scoped>\n",
       "    .dataframe tbody tr th:only-of-type {\n",
       "        vertical-align: middle;\n",
       "    }\n",
       "\n",
       "    .dataframe tbody tr th {\n",
       "        vertical-align: top;\n",
       "    }\n",
       "\n",
       "    .dataframe thead th {\n",
       "        text-align: right;\n",
       "    }\n",
       "</style>\n",
       "<table border=\"1\" class=\"dataframe\">\n",
       "  <thead>\n",
       "    <tr style=\"text-align: right;\">\n",
       "      <th></th>\n",
       "      <th>SSE</th>\n",
       "      <th>Pct_change</th>\n",
       "    </tr>\n",
       "  </thead>\n",
       "  <tbody>\n",
       "    <tr>\n",
       "      <th>0</th>\n",
       "      <td>312098.3509</td>\n",
       "      <td>NaN</td>\n",
       "    </tr>\n",
       "    <tr>\n",
       "      <th>1</th>\n",
       "      <td>154459.0945</td>\n",
       "      <td>-0.5051</td>\n",
       "    </tr>\n",
       "    <tr>\n",
       "      <th>2</th>\n",
       "      <td>149892.9871</td>\n",
       "      <td>-0.0296</td>\n",
       "    </tr>\n",
       "    <tr>\n",
       "      <th>3</th>\n",
       "      <td>146378.7574</td>\n",
       "      <td>-0.0234</td>\n",
       "    </tr>\n",
       "    <tr>\n",
       "      <th>4</th>\n",
       "      <td>143531.1635</td>\n",
       "      <td>-0.0195</td>\n",
       "    </tr>\n",
       "    <tr>\n",
       "      <th>5</th>\n",
       "      <td>141117.1862</td>\n",
       "      <td>-0.0168</td>\n",
       "    </tr>\n",
       "    <tr>\n",
       "      <th>6</th>\n",
       "      <td>139851.9413</td>\n",
       "      <td>-0.0090</td>\n",
       "    </tr>\n",
       "    <tr>\n",
       "      <th>7</th>\n",
       "      <td>138300.6753</td>\n",
       "      <td>-0.0111</td>\n",
       "    </tr>\n",
       "    <tr>\n",
       "      <th>8</th>\n",
       "      <td>136948.7441</td>\n",
       "      <td>-0.0098</td>\n",
       "    </tr>\n",
       "    <tr>\n",
       "      <th>9</th>\n",
       "      <td>136085.2432</td>\n",
       "      <td>-0.0063</td>\n",
       "    </tr>\n",
       "  </tbody>\n",
       "</table>\n",
       "</div>"
      ],
      "text/plain": [
       "           SSE  Pct_change\n",
       "0  312098.3509         NaN\n",
       "1  154459.0945     -0.5051\n",
       "2  149892.9871     -0.0296\n",
       "3  146378.7574     -0.0234\n",
       "4  143531.1635     -0.0195\n",
       "5  141117.1862     -0.0168\n",
       "6  139851.9413     -0.0090\n",
       "7  138300.6753     -0.0111\n",
       "8  136948.7441     -0.0098\n",
       "9  136085.2432     -0.0063"
      ]
     },
     "execution_count": 21,
     "metadata": {},
     "output_type": "execute_result"
    }
   ],
   "source": [
    "sse_frame = sse_frame.round(4)\n",
    "sse_frame"
   ]
  },
  {
   "cell_type": "markdown",
   "metadata": {},
   "source": [
    "### What about scaling features?\n",
    "**In this very case**, working with grades that follow a predefined scale, the practice of scaling features does not significantly add to determining the number of clusters."
   ]
  },
  {
   "cell_type": "markdown",
   "metadata": {},
   "source": [
    "**Reasoning behind the heuristic approach of examining the Within Cluster Variation:** <br>\n",
    "A data-based method for estimating the optimal number of clusters, in the following denoted as $K^*$, depicts the number of clusters as a function of the Within-Cluster variation measure $W(C_k)$. With increasing number of clusters $k$, the corresponding value of $W(C_k)$ decreases, such that if $K^* = N$, with $N$ being the total number of observations, the value of $W(C_k)$ equals zero. This phenomena can be equally observed, when validating the measure of $W(C_k)$ on an independent test set, such that cross-validation methods for obtaining $K^*$ is not applicable in this setting. We are dealing here with an unsupervised learning algorithm.<br>However, such a data-based approach is still of use due to the following reasoning. If $K^*$ non-overlapping clusters in the data set exist, then for any $K$ < $K^*$ the obtained partitioning will contain at least a subset of the true, natural clusters. The measurement of the objective function $W(C_k)$ will hence decrease substantially, with each additional cluster added below $K^*$, as the algorithm will not assign observations that are part of an existing group to different clusters. However, as soon as $K$ > $K^*$, the algorithm will divide an existing group into two subgroups, such that the defined solution criteria will reduce significantly less. It follows that there must be sharp successive decreasing values in the measurement of interest until $K$ = $K^*$. Although this is rather a heuristic approach, this process aids in the selection of the optimal number of clusters, when visually depicted."
   ]
  },
  {
   "cell_type": "code",
   "execution_count": 22,
   "metadata": {
    "ExecuteTime": {
     "end_time": "2022-09-23T10:40:54.562757Z",
     "start_time": "2022-09-23T10:40:54.233987Z"
    }
   },
   "outputs": [
    {
     "data": {
      "image/png": "[encoded data removed]",
      "text/plain": [
       "<Figure size 720x576 with 1 Axes>"
      ]
     },
     "metadata": {
      "needs_background": "light"
     },
     "output_type": "display_data"
    }
   ],
   "source": [
    "x = ['0','1', '2', '3', '4', '5', '6', '7', '8', '9']\n",
    "fig, ax = plt.subplots(figsize=(10, 8))\n",
    "ax.set_xlabel('Number of Clusters')\n",
    "ax.set_ylabel('Percentage Change in W(Ck)')\n",
    "plt.plot(x, sse_frame['Pct_change'])\n",
    "plt.title('Percentage Change in Within Cluster Variation')\n",
    "plt.grid()\n",
    "plt.show()"
   ]
  },
  {
   "cell_type": "markdown",
   "metadata": {},
   "source": [
    "**Result**:<br>\n",
    "The percentage change from 2 to 3 clusters is insignificant in comparison to the decrease in $W(C_k)$ from 1 to 2 clusters. This is in accordance to the silhouette method and thus the optimal number of $K*$ is set to **2**."
   ]
  },
  {
   "cell_type": "markdown",
   "metadata": {},
   "source": [
    "## 3) Cluster Data with tuned k"
   ]
  },
  {
   "cell_type": "code",
   "execution_count": 23,
   "metadata": {
    "ExecuteTime": {
     "end_time": "2022-09-23T10:40:54.578381Z",
     "start_time": "2022-09-23T10:40:54.562757Z"
    }
   },
   "outputs": [],
   "source": [
    "kmeans_algo = KMeans(n_clusters = 2, algorithm='full', random_state = 42, max_iter = 100)"
   ]
  },
  {
   "cell_type": "code",
   "execution_count": 24,
   "metadata": {
    "ExecuteTime": {
     "end_time": "2022-09-23T10:40:55.243813Z",
     "start_time": "2022-09-23T10:40:54.584822Z"
    }
   },
   "outputs": [
    {
     "data": {
      "text/plain": [
       "KMeans(algorithm='full', max_iter=100, n_clusters=2, random_state=42)"
      ]
     },
     "execution_count": 24,
     "metadata": {},
     "output_type": "execute_result"
    }
   ],
   "source": [
    "kmeans_algo.fit(sparse_matrix)"
   ]
  },
  {
   "cell_type": "code",
   "execution_count": 25,
   "metadata": {
    "ExecuteTime": {
     "end_time": "2022-09-23T10:40:55.263311Z",
     "start_time": "2022-09-23T10:40:55.244873Z"
    }
   },
   "outputs": [
    {
     "data": {
      "text/plain": [
       "154459.09446137445"
      ]
     },
     "execution_count": 25,
     "metadata": {},
     "output_type": "execute_result"
    }
   ],
   "source": [
    "kmeans_algo.inertia_ # lowest value for obtained sum of squared errors "
   ]
  },
  {
   "cell_type": "code",
   "execution_count": 26,
   "metadata": {
    "ExecuteTime": {
     "end_time": "2022-09-23T10:40:55.296994Z",
     "start_time": "2022-09-23T10:40:55.263311Z"
    }
   },
   "outputs": [
    {
     "data": {
      "text/plain": [
       "array([0, 0, 0, 0, 0, 0, 0, 0, 0, 0])"
      ]
     },
     "execution_count": 26,
     "metadata": {},
     "output_type": "execute_result"
    }
   ],
   "source": [
    "kmeans_algo.labels_[:10] # cluster labels of first ten students in the training set"
   ]
  },
  {
   "cell_type": "code",
   "execution_count": 27,
   "metadata": {
    "ExecuteTime": {
     "end_time": "2022-09-23T10:40:55.330731Z",
     "start_time": "2022-09-23T10:40:55.301556Z"
    }
   },
   "outputs": [
    {
     "data": {
      "text/plain": [
       "array([1.74156118, 1.71518987, 1.16561181, 1.14451477, 0.        ,\n",
       "       0.        , 0.        , 0.        , 0.        , 0.        ,\n",
       "       0.        , 0.        , 0.        , 0.        , 0.        ])"
      ]
     },
     "execution_count": 27,
     "metadata": {},
     "output_type": "execute_result"
    }
   ],
   "source": [
    "# Cordinates of the cluster centeres\n",
    "kmeans_algo.cluster_centers_[0][:15] # some cluster centers are very close (clusters might overlap), some have a decent distance"
   ]
  },
  {
   "cell_type": "code",
   "execution_count": 28,
   "metadata": {
    "ExecuteTime": {
     "end_time": "2022-09-23T10:40:55.361251Z",
     "start_time": "2022-09-23T10:40:55.330731Z"
    }
   },
   "outputs": [
    {
     "data": {
      "text/plain": [
       "array([0.        , 0.        , 0.        , 0.        , 0.15534979,\n",
       "       0.45781893, 0.31790123, 0.40946502, 2.22427984, 0.29320988,\n",
       "       2.46502058, 2.98662551, 5.0308642 , 2.62037037, 2.64197531])"
      ]
     },
     "execution_count": 28,
     "metadata": {},
     "output_type": "execute_result"
    }
   ],
   "source": [
    "kmeans_algo.cluster_centers_[1][:15]"
   ]
  },
  {
   "cell_type": "code",
   "execution_count": 29,
   "metadata": {
    "ExecuteTime": {
     "end_time": "2022-09-23T10:40:55.371681Z",
     "start_time": "2022-09-23T10:40:55.363767Z"
    }
   },
   "outputs": [
    {
     "data": {
      "text/plain": [
       "168"
      ]
     },
     "execution_count": 29,
     "metadata": {},
     "output_type": "execute_result"
    }
   ],
   "source": [
    "len(kmeans_algo.cluster_centers_[0]) \n",
    "# 163 courses (number of features), each feature has a coordinate to assigned to their cluster center"
   ]
  },
  {
   "cell_type": "code",
   "execution_count": 30,
   "metadata": {
    "ExecuteTime": {
     "end_time": "2022-09-23T10:40:55.387305Z",
     "start_time": "2022-09-23T10:40:55.371681Z"
    }
   },
   "outputs": [
    {
     "data": {
      "text/plain": [
       "2"
      ]
     },
     "execution_count": 30,
     "metadata": {},
     "output_type": "execute_result"
    }
   ],
   "source": [
    "kmeans_algo.n_iter_ #only 2 iterations until convergence"
   ]
  },
  {
   "cell_type": "code",
   "execution_count": 31,
   "metadata": {
    "ExecuteTime": {
     "end_time": "2022-09-23T10:40:55.402932Z",
     "start_time": "2022-09-23T10:40:55.387305Z"
    }
   },
   "outputs": [],
   "source": [
    "train_predictions = kmeans_algo.predict(sparse_matrix)"
   ]
  },
  {
   "cell_type": "markdown",
   "metadata": {},
   "source": [
    "## 4) Inspect Clusters, Predict clusters of test subjects"
   ]
  },
  {
   "cell_type": "code",
   "execution_count": 32,
   "metadata": {
    "ExecuteTime": {
     "end_time": "2022-09-23T10:40:55.465426Z",
     "start_time": "2022-09-23T10:40:55.402932Z"
    }
   },
   "outputs": [
    {
     "data": {
      "text/html": [
       "<div>\n",
       "<style scoped>\n",
       "    .dataframe tbody tr th:only-of-type {\n",
       "        vertical-align: middle;\n",
       "    }\n",
       "\n",
       "    .dataframe tbody tr th {\n",
       "        vertical-align: top;\n",
       "    }\n",
       "\n",
       "    .dataframe thead th {\n",
       "        text-align: right;\n",
       "    }\n",
       "</style>\n",
       "<table border=\"1\" class=\"dataframe\">\n",
       "  <thead>\n",
       "    <tr style=\"text-align: right;\">\n",
       "      <th></th>\n",
       "      <th>StudentID</th>\n",
       "      <th>12E050SCIENCES</th>\n",
       "      <th>12E051SCIENCES</th>\n",
       "      <th>5869</th>\n",
       "      <th>5870</th>\n",
       "      <th>71105</th>\n",
       "      <th>71120</th>\n",
       "      <th>71121</th>\n",
       "      <th>71133</th>\n",
       "      <th>74110</th>\n",
       "      <th>...</th>\n",
       "      <th>T208011</th>\n",
       "      <th>T208012</th>\n",
       "      <th>T208013</th>\n",
       "      <th>T208014</th>\n",
       "      <th>T208015</th>\n",
       "      <th>T208016</th>\n",
       "      <th>T208017</th>\n",
       "      <th>T208033</th>\n",
       "      <th>T214006</th>\n",
       "      <th>cluster</th>\n",
       "    </tr>\n",
       "  </thead>\n",
       "  <tbody>\n",
       "    <tr>\n",
       "      <th>0</th>\n",
       "      <td>3</td>\n",
       "      <td>4.50</td>\n",
       "      <td>5.5</td>\n",
       "      <td>0.00</td>\n",
       "      <td>0.00</td>\n",
       "      <td>0.0</td>\n",
       "      <td>0.0</td>\n",
       "      <td>0.0</td>\n",
       "      <td>0.0</td>\n",
       "      <td>0.0</td>\n",
       "      <td>...</td>\n",
       "      <td>0.00</td>\n",
       "      <td>0.0</td>\n",
       "      <td>0.0</td>\n",
       "      <td>0.0</td>\n",
       "      <td>0.0</td>\n",
       "      <td>0.0</td>\n",
       "      <td>0.0</td>\n",
       "      <td>0.0</td>\n",
       "      <td>0.0</td>\n",
       "      <td>0</td>\n",
       "    </tr>\n",
       "    <tr>\n",
       "      <th>1</th>\n",
       "      <td>4</td>\n",
       "      <td>0.00</td>\n",
       "      <td>0.0</td>\n",
       "      <td>5.25</td>\n",
       "      <td>5.25</td>\n",
       "      <td>0.0</td>\n",
       "      <td>0.0</td>\n",
       "      <td>0.0</td>\n",
       "      <td>0.0</td>\n",
       "      <td>0.0</td>\n",
       "      <td>...</td>\n",
       "      <td>4.25</td>\n",
       "      <td>0.0</td>\n",
       "      <td>0.0</td>\n",
       "      <td>0.0</td>\n",
       "      <td>0.0</td>\n",
       "      <td>0.0</td>\n",
       "      <td>0.0</td>\n",
       "      <td>0.0</td>\n",
       "      <td>0.0</td>\n",
       "      <td>0</td>\n",
       "    </tr>\n",
       "    <tr>\n",
       "      <th>2</th>\n",
       "      <td>5</td>\n",
       "      <td>0.00</td>\n",
       "      <td>0.0</td>\n",
       "      <td>5.00</td>\n",
       "      <td>5.00</td>\n",
       "      <td>0.0</td>\n",
       "      <td>0.0</td>\n",
       "      <td>0.0</td>\n",
       "      <td>0.0</td>\n",
       "      <td>0.0</td>\n",
       "      <td>...</td>\n",
       "      <td>0.00</td>\n",
       "      <td>0.0</td>\n",
       "      <td>0.0</td>\n",
       "      <td>0.0</td>\n",
       "      <td>0.0</td>\n",
       "      <td>0.0</td>\n",
       "      <td>0.0</td>\n",
       "      <td>0.0</td>\n",
       "      <td>0.0</td>\n",
       "      <td>0</td>\n",
       "    </tr>\n",
       "    <tr>\n",
       "      <th>3</th>\n",
       "      <td>7</td>\n",
       "      <td>5.25</td>\n",
       "      <td>5.0</td>\n",
       "      <td>0.00</td>\n",
       "      <td>0.00</td>\n",
       "      <td>0.0</td>\n",
       "      <td>0.0</td>\n",
       "      <td>0.0</td>\n",
       "      <td>0.0</td>\n",
       "      <td>0.0</td>\n",
       "      <td>...</td>\n",
       "      <td>0.00</td>\n",
       "      <td>0.0</td>\n",
       "      <td>0.0</td>\n",
       "      <td>0.0</td>\n",
       "      <td>0.0</td>\n",
       "      <td>0.0</td>\n",
       "      <td>0.0</td>\n",
       "      <td>0.0</td>\n",
       "      <td>0.0</td>\n",
       "      <td>0</td>\n",
       "    </tr>\n",
       "    <tr>\n",
       "      <th>4</th>\n",
       "      <td>8</td>\n",
       "      <td>5.75</td>\n",
       "      <td>5.0</td>\n",
       "      <td>0.00</td>\n",
       "      <td>0.00</td>\n",
       "      <td>0.0</td>\n",
       "      <td>0.0</td>\n",
       "      <td>0.0</td>\n",
       "      <td>0.0</td>\n",
       "      <td>0.0</td>\n",
       "      <td>...</td>\n",
       "      <td>0.00</td>\n",
       "      <td>0.0</td>\n",
       "      <td>0.0</td>\n",
       "      <td>0.0</td>\n",
       "      <td>0.0</td>\n",
       "      <td>0.0</td>\n",
       "      <td>0.0</td>\n",
       "      <td>0.0</td>\n",
       "      <td>0.0</td>\n",
       "      <td>0</td>\n",
       "    </tr>\n",
       "  </tbody>\n",
       "</table>\n",
       "<p>5 rows × 170 columns</p>\n",
       "</div>"
      ],
      "text/plain": [
       "   StudentID  12E050SCIENCES  12E051SCIENCES  5869  5870  71105  71120  71121  \\\n",
       "0          3            4.50             5.5  0.00  0.00    0.0    0.0    0.0   \n",
       "1          4            0.00             0.0  5.25  5.25    0.0    0.0    0.0   \n",
       "2          5            0.00             0.0  5.00  5.00    0.0    0.0    0.0   \n",
       "3          7            5.25             5.0  0.00  0.00    0.0    0.0    0.0   \n",
       "4          8            5.75             5.0  0.00  0.00    0.0    0.0    0.0   \n",
       "\n",
       "   71133  74110  ...  T208011  T208012  T208013  T208014  T208015  T208016  \\\n",
       "0    0.0    0.0  ...     0.00      0.0      0.0      0.0      0.0      0.0   \n",
       "1    0.0    0.0  ...     4.25      0.0      0.0      0.0      0.0      0.0   \n",
       "2    0.0    0.0  ...     0.00      0.0      0.0      0.0      0.0      0.0   \n",
       "3    0.0    0.0  ...     0.00      0.0      0.0      0.0      0.0      0.0   \n",
       "4    0.0    0.0  ...     0.00      0.0      0.0      0.0      0.0      0.0   \n",
       "\n",
       "   T208017  T208033  T214006  cluster  \n",
       "0      0.0      0.0      0.0        0  \n",
       "1      0.0      0.0      0.0        0  \n",
       "2      0.0      0.0      0.0        0  \n",
       "3      0.0      0.0      0.0        0  \n",
       "4      0.0      0.0      0.0        0  \n",
       "\n",
       "[5 rows x 170 columns]"
      ]
     },
     "execution_count": 32,
     "metadata": {},
     "output_type": "execute_result"
    }
   ],
   "source": [
    "#inspecting clusters \n",
    "predicted_cluster_train = pd.concat([student_course_matrix.reset_index(), pd.DataFrame({'cluster':train_predictions})], axis=1)\n",
    "predicted_cluster_train.head()"
   ]
  },
  {
   "cell_type": "code",
   "execution_count": 33,
   "metadata": {
    "ExecuteTime": {
     "end_time": "2022-09-23T10:40:55.481049Z",
     "start_time": "2022-09-23T10:40:55.465426Z"
    }
   },
   "outputs": [
    {
     "data": {
      "text/plain": [
       "array([0, 0, 0, 0, 0, 0, 0, 0, 0, 0, 0, 0, 0, 0, 0, 0, 0, 0, 0, 0])"
      ]
     },
     "execution_count": 33,
     "metadata": {},
     "output_type": "execute_result"
    }
   ],
   "source": [
    "train_predictions[:20]"
   ]
  },
  {
   "cell_type": "code",
   "execution_count": 34,
   "metadata": {
    "ExecuteTime": {
     "end_time": "2022-09-23T10:40:55.496673Z",
     "start_time": "2022-09-23T10:40:55.481049Z"
    }
   },
   "outputs": [
    {
     "data": {
      "text/plain": [
       "480"
      ]
     },
     "execution_count": 34,
     "metadata": {},
     "output_type": "execute_result"
    }
   ],
   "source": [
    "len(train_predictions)"
   ]
  },
  {
   "cell_type": "code",
   "execution_count": 35,
   "metadata": {
    "ExecuteTime": {
     "end_time": "2022-09-23T10:40:55.512297Z",
     "start_time": "2022-09-23T10:40:55.496673Z"
    }
   },
   "outputs": [],
   "source": [
    "cluster_1 = predicted_cluster_train[predicted_cluster_train.cluster == 0]\n",
    "cluster_2 = predicted_cluster_train[predicted_cluster_train.cluster == 1]"
   ]
  },
  {
   "cell_type": "code",
   "execution_count": 36,
   "metadata": {
    "ExecuteTime": {
     "end_time": "2022-09-23T10:40:55.574793Z",
     "start_time": "2022-09-23T10:40:55.512297Z"
    }
   },
   "outputs": [
    {
     "data": {
      "text/html": [
       "<div>\n",
       "<style scoped>\n",
       "    .dataframe tbody tr th:only-of-type {\n",
       "        vertical-align: middle;\n",
       "    }\n",
       "\n",
       "    .dataframe tbody tr th {\n",
       "        vertical-align: top;\n",
       "    }\n",
       "\n",
       "    .dataframe thead th {\n",
       "        text-align: right;\n",
       "    }\n",
       "</style>\n",
       "<table border=\"1\" class=\"dataframe\">\n",
       "  <thead>\n",
       "    <tr style=\"text-align: right;\">\n",
       "      <th></th>\n",
       "      <th>StudentID</th>\n",
       "      <th>12E050SCIENCES</th>\n",
       "      <th>12E051SCIENCES</th>\n",
       "      <th>5869</th>\n",
       "      <th>5870</th>\n",
       "      <th>71105</th>\n",
       "      <th>71120</th>\n",
       "      <th>71121</th>\n",
       "      <th>71133</th>\n",
       "      <th>74110</th>\n",
       "      <th>...</th>\n",
       "      <th>T208011</th>\n",
       "      <th>T208012</th>\n",
       "      <th>T208013</th>\n",
       "      <th>T208014</th>\n",
       "      <th>T208015</th>\n",
       "      <th>T208016</th>\n",
       "      <th>T208017</th>\n",
       "      <th>T208033</th>\n",
       "      <th>T214006</th>\n",
       "      <th>cluster</th>\n",
       "    </tr>\n",
       "  </thead>\n",
       "  <tbody>\n",
       "    <tr>\n",
       "      <th>0</th>\n",
       "      <td>3</td>\n",
       "      <td>4.50</td>\n",
       "      <td>5.5</td>\n",
       "      <td>0.00</td>\n",
       "      <td>0.00</td>\n",
       "      <td>0.0</td>\n",
       "      <td>0.0</td>\n",
       "      <td>0.0</td>\n",
       "      <td>0.0</td>\n",
       "      <td>0.0</td>\n",
       "      <td>...</td>\n",
       "      <td>0.00</td>\n",
       "      <td>0.00</td>\n",
       "      <td>0.0</td>\n",
       "      <td>0.00</td>\n",
       "      <td>0.0</td>\n",
       "      <td>0.0</td>\n",
       "      <td>0.0</td>\n",
       "      <td>0.0</td>\n",
       "      <td>0.0</td>\n",
       "      <td>0</td>\n",
       "    </tr>\n",
       "    <tr>\n",
       "      <th>1</th>\n",
       "      <td>4</td>\n",
       "      <td>0.00</td>\n",
       "      <td>0.0</td>\n",
       "      <td>5.25</td>\n",
       "      <td>5.25</td>\n",
       "      <td>0.0</td>\n",
       "      <td>0.0</td>\n",
       "      <td>0.0</td>\n",
       "      <td>0.0</td>\n",
       "      <td>0.0</td>\n",
       "      <td>...</td>\n",
       "      <td>4.25</td>\n",
       "      <td>0.00</td>\n",
       "      <td>0.0</td>\n",
       "      <td>0.00</td>\n",
       "      <td>0.0</td>\n",
       "      <td>0.0</td>\n",
       "      <td>0.0</td>\n",
       "      <td>0.0</td>\n",
       "      <td>0.0</td>\n",
       "      <td>0</td>\n",
       "    </tr>\n",
       "    <tr>\n",
       "      <th>2</th>\n",
       "      <td>5</td>\n",
       "      <td>0.00</td>\n",
       "      <td>0.0</td>\n",
       "      <td>5.00</td>\n",
       "      <td>5.00</td>\n",
       "      <td>0.0</td>\n",
       "      <td>0.0</td>\n",
       "      <td>0.0</td>\n",
       "      <td>0.0</td>\n",
       "      <td>0.0</td>\n",
       "      <td>...</td>\n",
       "      <td>0.00</td>\n",
       "      <td>0.00</td>\n",
       "      <td>0.0</td>\n",
       "      <td>0.00</td>\n",
       "      <td>0.0</td>\n",
       "      <td>0.0</td>\n",
       "      <td>0.0</td>\n",
       "      <td>0.0</td>\n",
       "      <td>0.0</td>\n",
       "      <td>0</td>\n",
       "    </tr>\n",
       "    <tr>\n",
       "      <th>3</th>\n",
       "      <td>7</td>\n",
       "      <td>5.25</td>\n",
       "      <td>5.0</td>\n",
       "      <td>0.00</td>\n",
       "      <td>0.00</td>\n",
       "      <td>0.0</td>\n",
       "      <td>0.0</td>\n",
       "      <td>0.0</td>\n",
       "      <td>0.0</td>\n",
       "      <td>0.0</td>\n",
       "      <td>...</td>\n",
       "      <td>0.00</td>\n",
       "      <td>0.00</td>\n",
       "      <td>0.0</td>\n",
       "      <td>0.00</td>\n",
       "      <td>0.0</td>\n",
       "      <td>0.0</td>\n",
       "      <td>0.0</td>\n",
       "      <td>0.0</td>\n",
       "      <td>0.0</td>\n",
       "      <td>0</td>\n",
       "    </tr>\n",
       "    <tr>\n",
       "      <th>4</th>\n",
       "      <td>8</td>\n",
       "      <td>5.75</td>\n",
       "      <td>5.0</td>\n",
       "      <td>0.00</td>\n",
       "      <td>0.00</td>\n",
       "      <td>0.0</td>\n",
       "      <td>0.0</td>\n",
       "      <td>0.0</td>\n",
       "      <td>0.0</td>\n",
       "      <td>0.0</td>\n",
       "      <td>...</td>\n",
       "      <td>0.00</td>\n",
       "      <td>0.00</td>\n",
       "      <td>0.0</td>\n",
       "      <td>0.00</td>\n",
       "      <td>0.0</td>\n",
       "      <td>0.0</td>\n",
       "      <td>0.0</td>\n",
       "      <td>0.0</td>\n",
       "      <td>0.0</td>\n",
       "      <td>0</td>\n",
       "    </tr>\n",
       "    <tr>\n",
       "      <th>...</th>\n",
       "      <td>...</td>\n",
       "      <td>...</td>\n",
       "      <td>...</td>\n",
       "      <td>...</td>\n",
       "      <td>...</td>\n",
       "      <td>...</td>\n",
       "      <td>...</td>\n",
       "      <td>...</td>\n",
       "      <td>...</td>\n",
       "      <td>...</td>\n",
       "      <td>...</td>\n",
       "      <td>...</td>\n",
       "      <td>...</td>\n",
       "      <td>...</td>\n",
       "      <td>...</td>\n",
       "      <td>...</td>\n",
       "      <td>...</td>\n",
       "      <td>...</td>\n",
       "      <td>...</td>\n",
       "      <td>...</td>\n",
       "      <td>...</td>\n",
       "    </tr>\n",
       "    <tr>\n",
       "      <th>232</th>\n",
       "      <td>293</td>\n",
       "      <td>0.00</td>\n",
       "      <td>0.0</td>\n",
       "      <td>0.00</td>\n",
       "      <td>0.00</td>\n",
       "      <td>0.0</td>\n",
       "      <td>0.0</td>\n",
       "      <td>0.0</td>\n",
       "      <td>0.0</td>\n",
       "      <td>0.0</td>\n",
       "      <td>...</td>\n",
       "      <td>0.00</td>\n",
       "      <td>0.00</td>\n",
       "      <td>0.0</td>\n",
       "      <td>0.00</td>\n",
       "      <td>0.0</td>\n",
       "      <td>0.0</td>\n",
       "      <td>0.0</td>\n",
       "      <td>0.0</td>\n",
       "      <td>0.0</td>\n",
       "      <td>0</td>\n",
       "    </tr>\n",
       "    <tr>\n",
       "      <th>233</th>\n",
       "      <td>295</td>\n",
       "      <td>0.00</td>\n",
       "      <td>0.0</td>\n",
       "      <td>5.00</td>\n",
       "      <td>5.50</td>\n",
       "      <td>0.0</td>\n",
       "      <td>0.0</td>\n",
       "      <td>0.0</td>\n",
       "      <td>0.0</td>\n",
       "      <td>0.0</td>\n",
       "      <td>...</td>\n",
       "      <td>0.00</td>\n",
       "      <td>0.00</td>\n",
       "      <td>0.0</td>\n",
       "      <td>5.25</td>\n",
       "      <td>0.0</td>\n",
       "      <td>0.0</td>\n",
       "      <td>0.0</td>\n",
       "      <td>0.0</td>\n",
       "      <td>0.0</td>\n",
       "      <td>0</td>\n",
       "    </tr>\n",
       "    <tr>\n",
       "      <th>234</th>\n",
       "      <td>297</td>\n",
       "      <td>0.00</td>\n",
       "      <td>0.0</td>\n",
       "      <td>0.00</td>\n",
       "      <td>0.00</td>\n",
       "      <td>0.0</td>\n",
       "      <td>0.0</td>\n",
       "      <td>0.0</td>\n",
       "      <td>0.0</td>\n",
       "      <td>0.0</td>\n",
       "      <td>...</td>\n",
       "      <td>0.00</td>\n",
       "      <td>4.75</td>\n",
       "      <td>0.0</td>\n",
       "      <td>0.00</td>\n",
       "      <td>0.0</td>\n",
       "      <td>0.0</td>\n",
       "      <td>0.0</td>\n",
       "      <td>0.0</td>\n",
       "      <td>0.0</td>\n",
       "      <td>0</td>\n",
       "    </tr>\n",
       "    <tr>\n",
       "      <th>235</th>\n",
       "      <td>298</td>\n",
       "      <td>0.00</td>\n",
       "      <td>0.0</td>\n",
       "      <td>0.00</td>\n",
       "      <td>0.00</td>\n",
       "      <td>0.0</td>\n",
       "      <td>0.0</td>\n",
       "      <td>0.0</td>\n",
       "      <td>0.0</td>\n",
       "      <td>0.0</td>\n",
       "      <td>...</td>\n",
       "      <td>0.00</td>\n",
       "      <td>5.75</td>\n",
       "      <td>0.0</td>\n",
       "      <td>0.00</td>\n",
       "      <td>0.0</td>\n",
       "      <td>0.0</td>\n",
       "      <td>0.0</td>\n",
       "      <td>0.0</td>\n",
       "      <td>0.0</td>\n",
       "      <td>0</td>\n",
       "    </tr>\n",
       "    <tr>\n",
       "      <th>236</th>\n",
       "      <td>300</td>\n",
       "      <td>0.00</td>\n",
       "      <td>0.0</td>\n",
       "      <td>0.00</td>\n",
       "      <td>0.00</td>\n",
       "      <td>0.0</td>\n",
       "      <td>0.0</td>\n",
       "      <td>0.0</td>\n",
       "      <td>0.0</td>\n",
       "      <td>0.0</td>\n",
       "      <td>...</td>\n",
       "      <td>5.50</td>\n",
       "      <td>0.00</td>\n",
       "      <td>0.0</td>\n",
       "      <td>0.00</td>\n",
       "      <td>0.0</td>\n",
       "      <td>0.0</td>\n",
       "      <td>0.0</td>\n",
       "      <td>0.0</td>\n",
       "      <td>0.0</td>\n",
       "      <td>0</td>\n",
       "    </tr>\n",
       "  </tbody>\n",
       "</table>\n",
       "<p>237 rows × 170 columns</p>\n",
       "</div>"
      ],
      "text/plain": [
       "     StudentID  12E050SCIENCES  12E051SCIENCES  5869  5870  71105  71120  \\\n",
       "0            3            4.50             5.5  0.00  0.00    0.0    0.0   \n",
       "1            4            0.00             0.0  5.25  5.25    0.0    0.0   \n",
       "2            5            0.00             0.0  5.00  5.00    0.0    0.0   \n",
       "3            7            5.25             5.0  0.00  0.00    0.0    0.0   \n",
       "4            8            5.75             5.0  0.00  0.00    0.0    0.0   \n",
       "..         ...             ...             ...   ...   ...    ...    ...   \n",
       "232        293            0.00             0.0  0.00  0.00    0.0    0.0   \n",
       "233        295            0.00             0.0  5.00  5.50    0.0    0.0   \n",
       "234        297            0.00             0.0  0.00  0.00    0.0    0.0   \n",
       "235        298            0.00             0.0  0.00  0.00    0.0    0.0   \n",
       "236        300            0.00             0.0  0.00  0.00    0.0    0.0   \n",
       "\n",
       "     71121  71133  74110  ...  T208011  T208012  T208013  T208014  T208015  \\\n",
       "0      0.0    0.0    0.0  ...     0.00     0.00      0.0     0.00      0.0   \n",
       "1      0.0    0.0    0.0  ...     4.25     0.00      0.0     0.00      0.0   \n",
       "2      0.0    0.0    0.0  ...     0.00     0.00      0.0     0.00      0.0   \n",
       "3      0.0    0.0    0.0  ...     0.00     0.00      0.0     0.00      0.0   \n",
       "4      0.0    0.0    0.0  ...     0.00     0.00      0.0     0.00      0.0   \n",
       "..     ...    ...    ...  ...      ...      ...      ...      ...      ...   \n",
       "232    0.0    0.0    0.0  ...     0.00     0.00      0.0     0.00      0.0   \n",
       "233    0.0    0.0    0.0  ...     0.00     0.00      0.0     5.25      0.0   \n",
       "234    0.0    0.0    0.0  ...     0.00     4.75      0.0     0.00      0.0   \n",
       "235    0.0    0.0    0.0  ...     0.00     5.75      0.0     0.00      0.0   \n",
       "236    0.0    0.0    0.0  ...     5.50     0.00      0.0     0.00      0.0   \n",
       "\n",
       "     T208016  T208017  T208033  T214006  cluster  \n",
       "0        0.0      0.0      0.0      0.0        0  \n",
       "1        0.0      0.0      0.0      0.0        0  \n",
       "2        0.0      0.0      0.0      0.0        0  \n",
       "3        0.0      0.0      0.0      0.0        0  \n",
       "4        0.0      0.0      0.0      0.0        0  \n",
       "..       ...      ...      ...      ...      ...  \n",
       "232      0.0      0.0      0.0      0.0        0  \n",
       "233      0.0      0.0      0.0      0.0        0  \n",
       "234      0.0      0.0      0.0      0.0        0  \n",
       "235      0.0      0.0      0.0      0.0        0  \n",
       "236      0.0      0.0      0.0      0.0        0  \n",
       "\n",
       "[237 rows x 170 columns]"
      ]
     },
     "execution_count": 36,
     "metadata": {},
     "output_type": "execute_result"
    }
   ],
   "source": [
    "cluster_1 # (cluster numbers start at 0)"
   ]
  },
  {
   "cell_type": "code",
   "execution_count": 37,
   "metadata": {
    "ExecuteTime": {
     "end_time": "2022-09-23T10:40:55.637290Z",
     "start_time": "2022-09-23T10:40:55.574793Z"
    }
   },
   "outputs": [
    {
     "data": {
      "text/html": [
       "<div>\n",
       "<style scoped>\n",
       "    .dataframe tbody tr th:only-of-type {\n",
       "        vertical-align: middle;\n",
       "    }\n",
       "\n",
       "    .dataframe tbody tr th {\n",
       "        vertical-align: top;\n",
       "    }\n",
       "\n",
       "    .dataframe thead th {\n",
       "        text-align: right;\n",
       "    }\n",
       "</style>\n",
       "<table border=\"1\" class=\"dataframe\">\n",
       "  <thead>\n",
       "    <tr style=\"text-align: right;\">\n",
       "      <th></th>\n",
       "      <th>StudentID</th>\n",
       "      <th>12E050SCIENCES</th>\n",
       "      <th>12E051SCIENCES</th>\n",
       "      <th>5869</th>\n",
       "      <th>5870</th>\n",
       "      <th>71105</th>\n",
       "      <th>71120</th>\n",
       "      <th>71121</th>\n",
       "      <th>71133</th>\n",
       "      <th>74110</th>\n",
       "      <th>...</th>\n",
       "      <th>T208011</th>\n",
       "      <th>T208012</th>\n",
       "      <th>T208013</th>\n",
       "      <th>T208014</th>\n",
       "      <th>T208015</th>\n",
       "      <th>T208016</th>\n",
       "      <th>T208017</th>\n",
       "      <th>T208033</th>\n",
       "      <th>T214006</th>\n",
       "      <th>cluster</th>\n",
       "    </tr>\n",
       "  </thead>\n",
       "  <tbody>\n",
       "    <tr>\n",
       "      <th>237</th>\n",
       "      <td>301</td>\n",
       "      <td>0.0</td>\n",
       "      <td>0.0</td>\n",
       "      <td>0.0</td>\n",
       "      <td>0.0</td>\n",
       "      <td>0.0</td>\n",
       "      <td>0.0</td>\n",
       "      <td>0.0</td>\n",
       "      <td>0.0</td>\n",
       "      <td>0.00</td>\n",
       "      <td>...</td>\n",
       "      <td>0.0</td>\n",
       "      <td>0.0</td>\n",
       "      <td>0.0</td>\n",
       "      <td>0.0</td>\n",
       "      <td>0.0</td>\n",
       "      <td>0.0</td>\n",
       "      <td>0.0</td>\n",
       "      <td>0.0</td>\n",
       "      <td>0.0</td>\n",
       "      <td>1</td>\n",
       "    </tr>\n",
       "    <tr>\n",
       "      <th>238</th>\n",
       "      <td>302</td>\n",
       "      <td>0.0</td>\n",
       "      <td>0.0</td>\n",
       "      <td>0.0</td>\n",
       "      <td>0.0</td>\n",
       "      <td>0.0</td>\n",
       "      <td>5.5</td>\n",
       "      <td>0.0</td>\n",
       "      <td>0.0</td>\n",
       "      <td>5.75</td>\n",
       "      <td>...</td>\n",
       "      <td>0.0</td>\n",
       "      <td>0.0</td>\n",
       "      <td>0.0</td>\n",
       "      <td>0.0</td>\n",
       "      <td>0.0</td>\n",
       "      <td>0.0</td>\n",
       "      <td>0.0</td>\n",
       "      <td>0.0</td>\n",
       "      <td>0.0</td>\n",
       "      <td>1</td>\n",
       "    </tr>\n",
       "    <tr>\n",
       "      <th>239</th>\n",
       "      <td>303</td>\n",
       "      <td>0.0</td>\n",
       "      <td>0.0</td>\n",
       "      <td>0.0</td>\n",
       "      <td>0.0</td>\n",
       "      <td>0.0</td>\n",
       "      <td>0.0</td>\n",
       "      <td>0.0</td>\n",
       "      <td>0.0</td>\n",
       "      <td>0.00</td>\n",
       "      <td>...</td>\n",
       "      <td>0.0</td>\n",
       "      <td>0.0</td>\n",
       "      <td>0.0</td>\n",
       "      <td>0.0</td>\n",
       "      <td>0.0</td>\n",
       "      <td>0.0</td>\n",
       "      <td>0.0</td>\n",
       "      <td>0.0</td>\n",
       "      <td>0.0</td>\n",
       "      <td>1</td>\n",
       "    </tr>\n",
       "    <tr>\n",
       "      <th>240</th>\n",
       "      <td>304</td>\n",
       "      <td>0.0</td>\n",
       "      <td>0.0</td>\n",
       "      <td>0.0</td>\n",
       "      <td>0.0</td>\n",
       "      <td>0.0</td>\n",
       "      <td>0.0</td>\n",
       "      <td>0.0</td>\n",
       "      <td>0.0</td>\n",
       "      <td>5.25</td>\n",
       "      <td>...</td>\n",
       "      <td>0.0</td>\n",
       "      <td>0.0</td>\n",
       "      <td>0.0</td>\n",
       "      <td>0.0</td>\n",
       "      <td>0.0</td>\n",
       "      <td>0.0</td>\n",
       "      <td>0.0</td>\n",
       "      <td>0.0</td>\n",
       "      <td>0.0</td>\n",
       "      <td>1</td>\n",
       "    </tr>\n",
       "    <tr>\n",
       "      <th>241</th>\n",
       "      <td>305</td>\n",
       "      <td>0.0</td>\n",
       "      <td>0.0</td>\n",
       "      <td>0.0</td>\n",
       "      <td>0.0</td>\n",
       "      <td>0.0</td>\n",
       "      <td>0.0</td>\n",
       "      <td>0.0</td>\n",
       "      <td>0.0</td>\n",
       "      <td>5.50</td>\n",
       "      <td>...</td>\n",
       "      <td>0.0</td>\n",
       "      <td>0.0</td>\n",
       "      <td>0.0</td>\n",
       "      <td>0.0</td>\n",
       "      <td>0.0</td>\n",
       "      <td>0.0</td>\n",
       "      <td>0.0</td>\n",
       "      <td>0.0</td>\n",
       "      <td>0.0</td>\n",
       "      <td>1</td>\n",
       "    </tr>\n",
       "    <tr>\n",
       "      <th>...</th>\n",
       "      <td>...</td>\n",
       "      <td>...</td>\n",
       "      <td>...</td>\n",
       "      <td>...</td>\n",
       "      <td>...</td>\n",
       "      <td>...</td>\n",
       "      <td>...</td>\n",
       "      <td>...</td>\n",
       "      <td>...</td>\n",
       "      <td>...</td>\n",
       "      <td>...</td>\n",
       "      <td>...</td>\n",
       "      <td>...</td>\n",
       "      <td>...</td>\n",
       "      <td>...</td>\n",
       "      <td>...</td>\n",
       "      <td>...</td>\n",
       "      <td>...</td>\n",
       "      <td>...</td>\n",
       "      <td>...</td>\n",
       "      <td>...</td>\n",
       "    </tr>\n",
       "    <tr>\n",
       "      <th>475</th>\n",
       "      <td>595</td>\n",
       "      <td>0.0</td>\n",
       "      <td>0.0</td>\n",
       "      <td>0.0</td>\n",
       "      <td>0.0</td>\n",
       "      <td>0.0</td>\n",
       "      <td>0.0</td>\n",
       "      <td>0.0</td>\n",
       "      <td>0.0</td>\n",
       "      <td>5.00</td>\n",
       "      <td>...</td>\n",
       "      <td>0.0</td>\n",
       "      <td>0.0</td>\n",
       "      <td>0.0</td>\n",
       "      <td>0.0</td>\n",
       "      <td>0.0</td>\n",
       "      <td>0.0</td>\n",
       "      <td>0.0</td>\n",
       "      <td>0.0</td>\n",
       "      <td>0.0</td>\n",
       "      <td>1</td>\n",
       "    </tr>\n",
       "    <tr>\n",
       "      <th>476</th>\n",
       "      <td>596</td>\n",
       "      <td>0.0</td>\n",
       "      <td>0.0</td>\n",
       "      <td>0.0</td>\n",
       "      <td>0.0</td>\n",
       "      <td>0.0</td>\n",
       "      <td>0.0</td>\n",
       "      <td>0.0</td>\n",
       "      <td>0.0</td>\n",
       "      <td>5.50</td>\n",
       "      <td>...</td>\n",
       "      <td>0.0</td>\n",
       "      <td>0.0</td>\n",
       "      <td>0.0</td>\n",
       "      <td>0.0</td>\n",
       "      <td>0.0</td>\n",
       "      <td>0.0</td>\n",
       "      <td>0.0</td>\n",
       "      <td>0.0</td>\n",
       "      <td>0.0</td>\n",
       "      <td>1</td>\n",
       "    </tr>\n",
       "    <tr>\n",
       "      <th>477</th>\n",
       "      <td>597</td>\n",
       "      <td>0.0</td>\n",
       "      <td>0.0</td>\n",
       "      <td>0.0</td>\n",
       "      <td>0.0</td>\n",
       "      <td>0.0</td>\n",
       "      <td>0.0</td>\n",
       "      <td>0.0</td>\n",
       "      <td>0.0</td>\n",
       "      <td>4.50</td>\n",
       "      <td>...</td>\n",
       "      <td>0.0</td>\n",
       "      <td>0.0</td>\n",
       "      <td>0.0</td>\n",
       "      <td>0.0</td>\n",
       "      <td>0.0</td>\n",
       "      <td>0.0</td>\n",
       "      <td>0.0</td>\n",
       "      <td>0.0</td>\n",
       "      <td>0.0</td>\n",
       "      <td>1</td>\n",
       "    </tr>\n",
       "    <tr>\n",
       "      <th>478</th>\n",
       "      <td>598</td>\n",
       "      <td>0.0</td>\n",
       "      <td>0.0</td>\n",
       "      <td>0.0</td>\n",
       "      <td>0.0</td>\n",
       "      <td>0.0</td>\n",
       "      <td>0.0</td>\n",
       "      <td>0.0</td>\n",
       "      <td>0.0</td>\n",
       "      <td>0.00</td>\n",
       "      <td>...</td>\n",
       "      <td>0.0</td>\n",
       "      <td>0.0</td>\n",
       "      <td>0.0</td>\n",
       "      <td>0.0</td>\n",
       "      <td>0.0</td>\n",
       "      <td>0.0</td>\n",
       "      <td>0.0</td>\n",
       "      <td>0.0</td>\n",
       "      <td>0.0</td>\n",
       "      <td>1</td>\n",
       "    </tr>\n",
       "    <tr>\n",
       "      <th>479</th>\n",
       "      <td>600</td>\n",
       "      <td>0.0</td>\n",
       "      <td>0.0</td>\n",
       "      <td>0.0</td>\n",
       "      <td>0.0</td>\n",
       "      <td>0.0</td>\n",
       "      <td>0.0</td>\n",
       "      <td>0.0</td>\n",
       "      <td>0.0</td>\n",
       "      <td>5.00</td>\n",
       "      <td>...</td>\n",
       "      <td>0.0</td>\n",
       "      <td>0.0</td>\n",
       "      <td>0.0</td>\n",
       "      <td>0.0</td>\n",
       "      <td>0.0</td>\n",
       "      <td>0.0</td>\n",
       "      <td>0.0</td>\n",
       "      <td>0.0</td>\n",
       "      <td>0.0</td>\n",
       "      <td>1</td>\n",
       "    </tr>\n",
       "  </tbody>\n",
       "</table>\n",
       "<p>243 rows × 170 columns</p>\n",
       "</div>"
      ],
      "text/plain": [
       "     StudentID  12E050SCIENCES  12E051SCIENCES  5869  5870  71105  71120  \\\n",
       "237        301             0.0             0.0   0.0   0.0    0.0    0.0   \n",
       "238        302             0.0             0.0   0.0   0.0    0.0    5.5   \n",
       "239        303             0.0             0.0   0.0   0.0    0.0    0.0   \n",
       "240        304             0.0             0.0   0.0   0.0    0.0    0.0   \n",
       "241        305             0.0             0.0   0.0   0.0    0.0    0.0   \n",
       "..         ...             ...             ...   ...   ...    ...    ...   \n",
       "475        595             0.0             0.0   0.0   0.0    0.0    0.0   \n",
       "476        596             0.0             0.0   0.0   0.0    0.0    0.0   \n",
       "477        597             0.0             0.0   0.0   0.0    0.0    0.0   \n",
       "478        598             0.0             0.0   0.0   0.0    0.0    0.0   \n",
       "479        600             0.0             0.0   0.0   0.0    0.0    0.0   \n",
       "\n",
       "     71121  71133  74110  ...  T208011  T208012  T208013  T208014  T208015  \\\n",
       "237    0.0    0.0   0.00  ...      0.0      0.0      0.0      0.0      0.0   \n",
       "238    0.0    0.0   5.75  ...      0.0      0.0      0.0      0.0      0.0   \n",
       "239    0.0    0.0   0.00  ...      0.0      0.0      0.0      0.0      0.0   \n",
       "240    0.0    0.0   5.25  ...      0.0      0.0      0.0      0.0      0.0   \n",
       "241    0.0    0.0   5.50  ...      0.0      0.0      0.0      0.0      0.0   \n",
       "..     ...    ...    ...  ...      ...      ...      ...      ...      ...   \n",
       "475    0.0    0.0   5.00  ...      0.0      0.0      0.0      0.0      0.0   \n",
       "476    0.0    0.0   5.50  ...      0.0      0.0      0.0      0.0      0.0   \n",
       "477    0.0    0.0   4.50  ...      0.0      0.0      0.0      0.0      0.0   \n",
       "478    0.0    0.0   0.00  ...      0.0      0.0      0.0      0.0      0.0   \n",
       "479    0.0    0.0   5.00  ...      0.0      0.0      0.0      0.0      0.0   \n",
       "\n",
       "     T208016  T208017  T208033  T214006  cluster  \n",
       "237      0.0      0.0      0.0      0.0        1  \n",
       "238      0.0      0.0      0.0      0.0        1  \n",
       "239      0.0      0.0      0.0      0.0        1  \n",
       "240      0.0      0.0      0.0      0.0        1  \n",
       "241      0.0      0.0      0.0      0.0        1  \n",
       "..       ...      ...      ...      ...      ...  \n",
       "475      0.0      0.0      0.0      0.0        1  \n",
       "476      0.0      0.0      0.0      0.0        1  \n",
       "477      0.0      0.0      0.0      0.0        1  \n",
       "478      0.0      0.0      0.0      0.0        1  \n",
       "479      0.0      0.0      0.0      0.0        1  \n",
       "\n",
       "[243 rows x 170 columns]"
      ]
     },
     "execution_count": 37,
     "metadata": {},
     "output_type": "execute_result"
    }
   ],
   "source": [
    "cluster_2"
   ]
  },
  {
   "cell_type": "code",
   "execution_count": 38,
   "metadata": {
    "ExecuteTime": {
     "end_time": "2022-09-23T10:40:55.652913Z",
     "start_time": "2022-09-23T10:40:55.637290Z"
    }
   },
   "outputs": [
    {
     "data": {
      "text/plain": [
       "[237, 243]"
      ]
     },
     "execution_count": 38,
     "metadata": {},
     "output_type": "execute_result"
    }
   ],
   "source": [
    "students_per_cluster = [len(cluster_1), len(cluster_2)]\n",
    "students_per_cluster"
   ]
  },
  {
   "cell_type": "code",
   "execution_count": 39,
   "metadata": {
    "ExecuteTime": {
     "end_time": "2022-09-23T10:40:55.668536Z",
     "start_time": "2022-09-23T10:40:55.652913Z"
    }
   },
   "outputs": [],
   "source": [
    "cluster_number = ['1', '2']"
   ]
  },
  {
   "cell_type": "code",
   "execution_count": 40,
   "metadata": {
    "ExecuteTime": {
     "end_time": "2022-09-23T10:40:55.907945Z",
     "start_time": "2022-09-23T10:40:55.668536Z"
    }
   },
   "outputs": [
    {
     "data": {
      "image/png": "[encoded data removed]",
      "text/plain": [
       "<Figure size 720x360 with 1 Axes>"
      ]
     },
     "metadata": {
      "needs_background": "light"
     },
     "output_type": "display_data"
    }
   ],
   "source": [
    "# creating data on which bar chart will be plot\n",
    "x = cluster_number\n",
    "y = students_per_cluster\n",
    "      \n",
    "    # setting figure size by using figure() function \n",
    "plt.figure(figsize = (10, 5))\n",
    "      \n",
    "    # making the bar chart on the data\n",
    "plt.bar(x, y)\n",
    "      \n",
    "    # calling the function to add value labels\n",
    "hlp.addlabels(x, y)\n",
    "      \n",
    "    # giving title to the plot\n",
    "plt.title(\"Number of Students per Cluster\")\n",
    "      \n",
    "    # giving X and Y labels\n",
    "plt.xlabel(\"Clusters\")\n",
    "plt.ylabel(\"Number of Students\")   \n",
    "    # visualizing the plot\n",
    "plt.show()\n",
    "\n"
   ]
  },
  {
   "cell_type": "code",
   "execution_count": 41,
   "metadata": {
    "ExecuteTime": {
     "end_time": "2022-09-23T10:40:56.032952Z",
     "start_time": "2022-09-23T10:40:55.907945Z"
    }
   },
   "outputs": [],
   "source": [
    "predicted_cluster_train.to_csv(os.path.join('C:~your_path~/RecSys/obtained_data', 'predicted_cluster_train.csv'), index = False) "
   ]
  },
  {
   "cell_type": "code",
   "execution_count": 42,
   "metadata": {
    "ExecuteTime": {
     "end_time": "2022-09-23T10:40:56.064182Z",
     "start_time": "2022-09-23T10:40:56.032952Z"
    }
   },
   "outputs": [],
   "source": [
    "# predicting test subjects to existing clusters:\n",
    "# step 1) load test data\n",
    "# step 2) create student course matrix with test data\n",
    "# step 3) predict respective cluster of test subjects with obtained k means fit\n",
    "\n",
    "\n",
    "test_df = pd.read_csv('C:~your_path~/RecSys/obtained_data/test_df_NaN.csv')"
   ]
  },
  {
   "cell_type": "code",
   "execution_count": 45,
   "metadata": {
    "ExecuteTime": {
     "end_time": "2022-09-23T10:41:51.213008Z",
     "start_time": "2022-09-23T10:41:51.189001Z"
    }
   },
   "outputs": [],
   "source": [
    "test_df = pd.concat([test_df, fake_df])"
   ]
  },
  {
   "cell_type": "code",
   "execution_count": 46,
   "metadata": {
    "ExecuteTime": {
     "end_time": "2022-09-23T10:41:51.260962Z",
     "start_time": "2022-09-23T10:41:51.217989Z"
    }
   },
   "outputs": [],
   "source": [
    "test_df = test_df.set_index('StudentID')\n",
    "test_matrix = test_df.pivot_table(values = 'Grades', index = test_df.index, columns = 'CourseID', aggfunc = 'first')\n",
    "test_matrix = test_matrix.fillna(0)\n"
   ]
  },
  {
   "cell_type": "code",
   "execution_count": 47,
   "metadata": {
    "ExecuteTime": {
     "end_time": "2022-09-23T10:41:51.328650Z",
     "start_time": "2022-09-23T10:41:51.264959Z"
    }
   },
   "outputs": [
    {
     "data": {
      "text/html": [
       "<div>\n",
       "<style scoped>\n",
       "    .dataframe tbody tr th:only-of-type {\n",
       "        vertical-align: middle;\n",
       "    }\n",
       "\n",
       "    .dataframe tbody tr th {\n",
       "        vertical-align: top;\n",
       "    }\n",
       "\n",
       "    .dataframe thead th {\n",
       "        text-align: right;\n",
       "    }\n",
       "</style>\n",
       "<table border=\"1\" class=\"dataframe\">\n",
       "  <thead>\n",
       "    <tr style=\"text-align: right;\">\n",
       "      <th>CourseID</th>\n",
       "      <th>12E050SCIENCES</th>\n",
       "      <th>12E051SCIENCES</th>\n",
       "      <th>5869</th>\n",
       "      <th>5870</th>\n",
       "      <th>71105</th>\n",
       "      <th>71120</th>\n",
       "      <th>71121</th>\n",
       "      <th>71133</th>\n",
       "      <th>74110</th>\n",
       "      <th>74112</th>\n",
       "      <th>...</th>\n",
       "      <th>T208003</th>\n",
       "      <th>T208011</th>\n",
       "      <th>T208012</th>\n",
       "      <th>T208013</th>\n",
       "      <th>T208014</th>\n",
       "      <th>T208015</th>\n",
       "      <th>T208016</th>\n",
       "      <th>T208017</th>\n",
       "      <th>T208033</th>\n",
       "      <th>T214006</th>\n",
       "    </tr>\n",
       "    <tr>\n",
       "      <th>StudentID</th>\n",
       "      <th></th>\n",
       "      <th></th>\n",
       "      <th></th>\n",
       "      <th></th>\n",
       "      <th></th>\n",
       "      <th></th>\n",
       "      <th></th>\n",
       "      <th></th>\n",
       "      <th></th>\n",
       "      <th></th>\n",
       "      <th></th>\n",
       "      <th></th>\n",
       "      <th></th>\n",
       "      <th></th>\n",
       "      <th></th>\n",
       "      <th></th>\n",
       "      <th></th>\n",
       "      <th></th>\n",
       "      <th></th>\n",
       "      <th></th>\n",
       "      <th></th>\n",
       "    </tr>\n",
       "  </thead>\n",
       "  <tbody>\n",
       "    <tr>\n",
       "      <th>1</th>\n",
       "      <td>1.0</td>\n",
       "      <td>1.0</td>\n",
       "      <td>1.0</td>\n",
       "      <td>1.0</td>\n",
       "      <td>1.0</td>\n",
       "      <td>1.0</td>\n",
       "      <td>1.0</td>\n",
       "      <td>1.0</td>\n",
       "      <td>1.0</td>\n",
       "      <td>1.0</td>\n",
       "      <td>...</td>\n",
       "      <td>1.0</td>\n",
       "      <td>1.0</td>\n",
       "      <td>1.0</td>\n",
       "      <td>1.0</td>\n",
       "      <td>1.0</td>\n",
       "      <td>1.0</td>\n",
       "      <td>1.0</td>\n",
       "      <td>1.0</td>\n",
       "      <td>1.0</td>\n",
       "      <td>1.0</td>\n",
       "    </tr>\n",
       "    <tr>\n",
       "      <th>2</th>\n",
       "      <td>0.0</td>\n",
       "      <td>0.0</td>\n",
       "      <td>0.0</td>\n",
       "      <td>0.0</td>\n",
       "      <td>0.0</td>\n",
       "      <td>0.0</td>\n",
       "      <td>0.0</td>\n",
       "      <td>0.0</td>\n",
       "      <td>0.0</td>\n",
       "      <td>0.0</td>\n",
       "      <td>...</td>\n",
       "      <td>0.0</td>\n",
       "      <td>0.0</td>\n",
       "      <td>0.0</td>\n",
       "      <td>0.0</td>\n",
       "      <td>0.0</td>\n",
       "      <td>0.0</td>\n",
       "      <td>0.0</td>\n",
       "      <td>0.0</td>\n",
       "      <td>0.0</td>\n",
       "      <td>0.0</td>\n",
       "    </tr>\n",
       "    <tr>\n",
       "      <th>6</th>\n",
       "      <td>0.0</td>\n",
       "      <td>0.0</td>\n",
       "      <td>0.0</td>\n",
       "      <td>0.0</td>\n",
       "      <td>0.0</td>\n",
       "      <td>0.0</td>\n",
       "      <td>0.0</td>\n",
       "      <td>0.0</td>\n",
       "      <td>0.0</td>\n",
       "      <td>0.0</td>\n",
       "      <td>...</td>\n",
       "      <td>0.0</td>\n",
       "      <td>0.0</td>\n",
       "      <td>0.0</td>\n",
       "      <td>0.0</td>\n",
       "      <td>0.0</td>\n",
       "      <td>0.0</td>\n",
       "      <td>0.0</td>\n",
       "      <td>0.0</td>\n",
       "      <td>0.0</td>\n",
       "      <td>0.0</td>\n",
       "    </tr>\n",
       "    <tr>\n",
       "      <th>9</th>\n",
       "      <td>0.0</td>\n",
       "      <td>0.0</td>\n",
       "      <td>0.0</td>\n",
       "      <td>0.0</td>\n",
       "      <td>0.0</td>\n",
       "      <td>0.0</td>\n",
       "      <td>0.0</td>\n",
       "      <td>0.0</td>\n",
       "      <td>0.0</td>\n",
       "      <td>0.0</td>\n",
       "      <td>...</td>\n",
       "      <td>0.0</td>\n",
       "      <td>0.0</td>\n",
       "      <td>0.0</td>\n",
       "      <td>0.0</td>\n",
       "      <td>0.0</td>\n",
       "      <td>0.0</td>\n",
       "      <td>0.0</td>\n",
       "      <td>0.0</td>\n",
       "      <td>0.0</td>\n",
       "      <td>0.0</td>\n",
       "    </tr>\n",
       "    <tr>\n",
       "      <th>16</th>\n",
       "      <td>0.0</td>\n",
       "      <td>0.0</td>\n",
       "      <td>0.0</td>\n",
       "      <td>0.0</td>\n",
       "      <td>0.0</td>\n",
       "      <td>0.0</td>\n",
       "      <td>0.0</td>\n",
       "      <td>0.0</td>\n",
       "      <td>0.0</td>\n",
       "      <td>0.0</td>\n",
       "      <td>...</td>\n",
       "      <td>0.0</td>\n",
       "      <td>0.0</td>\n",
       "      <td>0.0</td>\n",
       "      <td>0.0</td>\n",
       "      <td>0.0</td>\n",
       "      <td>0.0</td>\n",
       "      <td>0.0</td>\n",
       "      <td>0.0</td>\n",
       "      <td>0.0</td>\n",
       "      <td>0.0</td>\n",
       "    </tr>\n",
       "  </tbody>\n",
       "</table>\n",
       "<p>5 rows × 168 columns</p>\n",
       "</div>"
      ],
      "text/plain": [
       "CourseID   12E050SCIENCES  12E051SCIENCES  5869  5870  71105  71120  71121  \\\n",
       "StudentID                                                                    \n",
       "1                     1.0             1.0   1.0   1.0    1.0    1.0    1.0   \n",
       "2                     0.0             0.0   0.0   0.0    0.0    0.0    0.0   \n",
       "6                     0.0             0.0   0.0   0.0    0.0    0.0    0.0   \n",
       "9                     0.0             0.0   0.0   0.0    0.0    0.0    0.0   \n",
       "16                    0.0             0.0   0.0   0.0    0.0    0.0    0.0   \n",
       "\n",
       "CourseID   71133  74110  74112  ...  T208003  T208011  T208012  T208013  \\\n",
       "StudentID                       ...                                       \n",
       "1            1.0    1.0    1.0  ...      1.0      1.0      1.0      1.0   \n",
       "2            0.0    0.0    0.0  ...      0.0      0.0      0.0      0.0   \n",
       "6            0.0    0.0    0.0  ...      0.0      0.0      0.0      0.0   \n",
       "9            0.0    0.0    0.0  ...      0.0      0.0      0.0      0.0   \n",
       "16           0.0    0.0    0.0  ...      0.0      0.0      0.0      0.0   \n",
       "\n",
       "CourseID   T208014  T208015  T208016  T208017  T208033  T214006  \n",
       "StudentID                                                        \n",
       "1              1.0      1.0      1.0      1.0      1.0      1.0  \n",
       "2              0.0      0.0      0.0      0.0      0.0      0.0  \n",
       "6              0.0      0.0      0.0      0.0      0.0      0.0  \n",
       "9              0.0      0.0      0.0      0.0      0.0      0.0  \n",
       "16             0.0      0.0      0.0      0.0      0.0      0.0  \n",
       "\n",
       "[5 rows x 168 columns]"
      ]
     },
     "execution_count": 47,
     "metadata": {},
     "output_type": "execute_result"
    }
   ],
   "source": [
    "test_matrix.head()"
   ]
  },
  {
   "cell_type": "code",
   "execution_count": 48,
   "metadata": {
    "ExecuteTime": {
     "end_time": "2022-09-23T10:41:51.423007Z",
     "start_time": "2022-09-23T10:41:51.334646Z"
    }
   },
   "outputs": [
    {
     "data": {
      "text/html": [
       "<div>\n",
       "<style scoped>\n",
       "    .dataframe tbody tr th:only-of-type {\n",
       "        vertical-align: middle;\n",
       "    }\n",
       "\n",
       "    .dataframe tbody tr th {\n",
       "        vertical-align: top;\n",
       "    }\n",
       "\n",
       "    .dataframe thead th {\n",
       "        text-align: right;\n",
       "    }\n",
       "</style>\n",
       "<table border=\"1\" class=\"dataframe\">\n",
       "  <thead>\n",
       "    <tr style=\"text-align: right;\">\n",
       "      <th>CourseID</th>\n",
       "      <th>12E050SCIENCES</th>\n",
       "      <th>12E051SCIENCES</th>\n",
       "      <th>5869</th>\n",
       "      <th>5870</th>\n",
       "      <th>71105</th>\n",
       "      <th>71120</th>\n",
       "      <th>71121</th>\n",
       "      <th>71133</th>\n",
       "      <th>74110</th>\n",
       "      <th>74112</th>\n",
       "      <th>...</th>\n",
       "      <th>T208003</th>\n",
       "      <th>T208011</th>\n",
       "      <th>T208012</th>\n",
       "      <th>T208013</th>\n",
       "      <th>T208014</th>\n",
       "      <th>T208015</th>\n",
       "      <th>T208016</th>\n",
       "      <th>T208017</th>\n",
       "      <th>T208033</th>\n",
       "      <th>T214006</th>\n",
       "    </tr>\n",
       "    <tr>\n",
       "      <th>StudentID</th>\n",
       "      <th></th>\n",
       "      <th></th>\n",
       "      <th></th>\n",
       "      <th></th>\n",
       "      <th></th>\n",
       "      <th></th>\n",
       "      <th></th>\n",
       "      <th></th>\n",
       "      <th></th>\n",
       "      <th></th>\n",
       "      <th></th>\n",
       "      <th></th>\n",
       "      <th></th>\n",
       "      <th></th>\n",
       "      <th></th>\n",
       "      <th></th>\n",
       "      <th></th>\n",
       "      <th></th>\n",
       "      <th></th>\n",
       "      <th></th>\n",
       "      <th></th>\n",
       "    </tr>\n",
       "  </thead>\n",
       "  <tbody>\n",
       "    <tr>\n",
       "      <th>2</th>\n",
       "      <td>0.0</td>\n",
       "      <td>0.0</td>\n",
       "      <td>0.0</td>\n",
       "      <td>0.0</td>\n",
       "      <td>0.0</td>\n",
       "      <td>0.0</td>\n",
       "      <td>0.0</td>\n",
       "      <td>0.0</td>\n",
       "      <td>0.0</td>\n",
       "      <td>0.0</td>\n",
       "      <td>...</td>\n",
       "      <td>0.0</td>\n",
       "      <td>0.0</td>\n",
       "      <td>0.0</td>\n",
       "      <td>0.0</td>\n",
       "      <td>0.0</td>\n",
       "      <td>0.0</td>\n",
       "      <td>0.0</td>\n",
       "      <td>0.0</td>\n",
       "      <td>0.0</td>\n",
       "      <td>0.0</td>\n",
       "    </tr>\n",
       "    <tr>\n",
       "      <th>6</th>\n",
       "      <td>0.0</td>\n",
       "      <td>0.0</td>\n",
       "      <td>0.0</td>\n",
       "      <td>0.0</td>\n",
       "      <td>0.0</td>\n",
       "      <td>0.0</td>\n",
       "      <td>0.0</td>\n",
       "      <td>0.0</td>\n",
       "      <td>0.0</td>\n",
       "      <td>0.0</td>\n",
       "      <td>...</td>\n",
       "      <td>0.0</td>\n",
       "      <td>0.0</td>\n",
       "      <td>0.0</td>\n",
       "      <td>0.0</td>\n",
       "      <td>0.0</td>\n",
       "      <td>0.0</td>\n",
       "      <td>0.0</td>\n",
       "      <td>0.0</td>\n",
       "      <td>0.0</td>\n",
       "      <td>0.0</td>\n",
       "    </tr>\n",
       "    <tr>\n",
       "      <th>9</th>\n",
       "      <td>0.0</td>\n",
       "      <td>0.0</td>\n",
       "      <td>0.0</td>\n",
       "      <td>0.0</td>\n",
       "      <td>0.0</td>\n",
       "      <td>0.0</td>\n",
       "      <td>0.0</td>\n",
       "      <td>0.0</td>\n",
       "      <td>0.0</td>\n",
       "      <td>0.0</td>\n",
       "      <td>...</td>\n",
       "      <td>0.0</td>\n",
       "      <td>0.0</td>\n",
       "      <td>0.0</td>\n",
       "      <td>0.0</td>\n",
       "      <td>0.0</td>\n",
       "      <td>0.0</td>\n",
       "      <td>0.0</td>\n",
       "      <td>0.0</td>\n",
       "      <td>0.0</td>\n",
       "      <td>0.0</td>\n",
       "    </tr>\n",
       "    <tr>\n",
       "      <th>16</th>\n",
       "      <td>0.0</td>\n",
       "      <td>0.0</td>\n",
       "      <td>0.0</td>\n",
       "      <td>0.0</td>\n",
       "      <td>0.0</td>\n",
       "      <td>0.0</td>\n",
       "      <td>0.0</td>\n",
       "      <td>0.0</td>\n",
       "      <td>0.0</td>\n",
       "      <td>0.0</td>\n",
       "      <td>...</td>\n",
       "      <td>0.0</td>\n",
       "      <td>0.0</td>\n",
       "      <td>0.0</td>\n",
       "      <td>0.0</td>\n",
       "      <td>0.0</td>\n",
       "      <td>0.0</td>\n",
       "      <td>0.0</td>\n",
       "      <td>0.0</td>\n",
       "      <td>0.0</td>\n",
       "      <td>0.0</td>\n",
       "    </tr>\n",
       "    <tr>\n",
       "      <th>17</th>\n",
       "      <td>0.0</td>\n",
       "      <td>0.0</td>\n",
       "      <td>0.0</td>\n",
       "      <td>0.0</td>\n",
       "      <td>0.0</td>\n",
       "      <td>0.0</td>\n",
       "      <td>0.0</td>\n",
       "      <td>0.0</td>\n",
       "      <td>0.0</td>\n",
       "      <td>0.0</td>\n",
       "      <td>...</td>\n",
       "      <td>0.0</td>\n",
       "      <td>0.0</td>\n",
       "      <td>0.0</td>\n",
       "      <td>0.0</td>\n",
       "      <td>0.0</td>\n",
       "      <td>0.0</td>\n",
       "      <td>0.0</td>\n",
       "      <td>0.0</td>\n",
       "      <td>0.0</td>\n",
       "      <td>0.0</td>\n",
       "    </tr>\n",
       "  </tbody>\n",
       "</table>\n",
       "<p>5 rows × 168 columns</p>\n",
       "</div>"
      ],
      "text/plain": [
       "CourseID   12E050SCIENCES  12E051SCIENCES  5869  5870  71105  71120  71121  \\\n",
       "StudentID                                                                    \n",
       "2                     0.0             0.0   0.0   0.0    0.0    0.0    0.0   \n",
       "6                     0.0             0.0   0.0   0.0    0.0    0.0    0.0   \n",
       "9                     0.0             0.0   0.0   0.0    0.0    0.0    0.0   \n",
       "16                    0.0             0.0   0.0   0.0    0.0    0.0    0.0   \n",
       "17                    0.0             0.0   0.0   0.0    0.0    0.0    0.0   \n",
       "\n",
       "CourseID   71133  74110  74112  ...  T208003  T208011  T208012  T208013  \\\n",
       "StudentID                       ...                                       \n",
       "2            0.0    0.0    0.0  ...      0.0      0.0      0.0      0.0   \n",
       "6            0.0    0.0    0.0  ...      0.0      0.0      0.0      0.0   \n",
       "9            0.0    0.0    0.0  ...      0.0      0.0      0.0      0.0   \n",
       "16           0.0    0.0    0.0  ...      0.0      0.0      0.0      0.0   \n",
       "17           0.0    0.0    0.0  ...      0.0      0.0      0.0      0.0   \n",
       "\n",
       "CourseID   T208014  T208015  T208016  T208017  T208033  T214006  \n",
       "StudentID                                                        \n",
       "2              0.0      0.0      0.0      0.0      0.0      0.0  \n",
       "6              0.0      0.0      0.0      0.0      0.0      0.0  \n",
       "9              0.0      0.0      0.0      0.0      0.0      0.0  \n",
       "16             0.0      0.0      0.0      0.0      0.0      0.0  \n",
       "17             0.0      0.0      0.0      0.0      0.0      0.0  \n",
       "\n",
       "[5 rows x 168 columns]"
      ]
     },
     "execution_count": 48,
     "metadata": {},
     "output_type": "execute_result"
    }
   ],
   "source": [
    "# remove fake student to match dimensionality of the input matrix\n",
    "test_matrix = test_matrix.drop([1])\n",
    "test_matrix.head()"
   ]
  },
  {
   "cell_type": "code",
   "execution_count": 49,
   "metadata": {
    "ExecuteTime": {
     "end_time": "2022-09-23T10:41:51.439000Z",
     "start_time": "2022-09-23T10:41:51.428005Z"
    }
   },
   "outputs": [],
   "source": [
    "# create sparse matrix\n",
    "test_sparse = csr_matrix(test_matrix) "
   ]
  },
  {
   "cell_type": "code",
   "execution_count": 50,
   "metadata": {
    "ExecuteTime": {
     "end_time": "2022-09-23T10:41:51.460492Z",
     "start_time": "2022-09-23T10:41:51.441120Z"
    }
   },
   "outputs": [],
   "source": [
    "# predict sujects to exsiting clusters\n",
    "test_predictions = kmeans_algo.predict(test_sparse)\n"
   ]
  },
  {
   "cell_type": "code",
   "execution_count": 51,
   "metadata": {
    "ExecuteTime": {
     "end_time": "2022-09-23T10:41:51.573347Z",
     "start_time": "2022-09-23T10:41:51.460492Z"
    }
   },
   "outputs": [
    {
     "data": {
      "text/html": [
       "<div>\n",
       "<style scoped>\n",
       "    .dataframe tbody tr th:only-of-type {\n",
       "        vertical-align: middle;\n",
       "    }\n",
       "\n",
       "    .dataframe tbody tr th {\n",
       "        vertical-align: top;\n",
       "    }\n",
       "\n",
       "    .dataframe thead th {\n",
       "        text-align: right;\n",
       "    }\n",
       "</style>\n",
       "<table border=\"1\" class=\"dataframe\">\n",
       "  <thead>\n",
       "    <tr style=\"text-align: right;\">\n",
       "      <th></th>\n",
       "      <th>StudentID</th>\n",
       "      <th>12E050SCIENCES</th>\n",
       "      <th>12E051SCIENCES</th>\n",
       "      <th>5869</th>\n",
       "      <th>5870</th>\n",
       "      <th>71105</th>\n",
       "      <th>71120</th>\n",
       "      <th>71121</th>\n",
       "      <th>71133</th>\n",
       "      <th>74110</th>\n",
       "      <th>...</th>\n",
       "      <th>T208011</th>\n",
       "      <th>T208012</th>\n",
       "      <th>T208013</th>\n",
       "      <th>T208014</th>\n",
       "      <th>T208015</th>\n",
       "      <th>T208016</th>\n",
       "      <th>T208017</th>\n",
       "      <th>T208033</th>\n",
       "      <th>T214006</th>\n",
       "      <th>cluster</th>\n",
       "    </tr>\n",
       "  </thead>\n",
       "  <tbody>\n",
       "    <tr>\n",
       "      <th>0</th>\n",
       "      <td>2</td>\n",
       "      <td>0.0</td>\n",
       "      <td>0.0</td>\n",
       "      <td>0.0</td>\n",
       "      <td>0.0</td>\n",
       "      <td>0.0</td>\n",
       "      <td>0.0</td>\n",
       "      <td>0.0</td>\n",
       "      <td>0.0</td>\n",
       "      <td>0.0</td>\n",
       "      <td>...</td>\n",
       "      <td>0.0</td>\n",
       "      <td>0.0</td>\n",
       "      <td>0.0</td>\n",
       "      <td>0.0</td>\n",
       "      <td>0.0</td>\n",
       "      <td>0.0</td>\n",
       "      <td>0.0</td>\n",
       "      <td>0.0</td>\n",
       "      <td>0.0</td>\n",
       "      <td>0</td>\n",
       "    </tr>\n",
       "    <tr>\n",
       "      <th>1</th>\n",
       "      <td>6</td>\n",
       "      <td>0.0</td>\n",
       "      <td>0.0</td>\n",
       "      <td>0.0</td>\n",
       "      <td>0.0</td>\n",
       "      <td>0.0</td>\n",
       "      <td>0.0</td>\n",
       "      <td>0.0</td>\n",
       "      <td>0.0</td>\n",
       "      <td>0.0</td>\n",
       "      <td>...</td>\n",
       "      <td>0.0</td>\n",
       "      <td>0.0</td>\n",
       "      <td>0.0</td>\n",
       "      <td>0.0</td>\n",
       "      <td>0.0</td>\n",
       "      <td>0.0</td>\n",
       "      <td>0.0</td>\n",
       "      <td>0.0</td>\n",
       "      <td>0.0</td>\n",
       "      <td>0</td>\n",
       "    </tr>\n",
       "    <tr>\n",
       "      <th>2</th>\n",
       "      <td>9</td>\n",
       "      <td>0.0</td>\n",
       "      <td>0.0</td>\n",
       "      <td>0.0</td>\n",
       "      <td>0.0</td>\n",
       "      <td>0.0</td>\n",
       "      <td>0.0</td>\n",
       "      <td>0.0</td>\n",
       "      <td>0.0</td>\n",
       "      <td>0.0</td>\n",
       "      <td>...</td>\n",
       "      <td>0.0</td>\n",
       "      <td>0.0</td>\n",
       "      <td>0.0</td>\n",
       "      <td>0.0</td>\n",
       "      <td>0.0</td>\n",
       "      <td>0.0</td>\n",
       "      <td>0.0</td>\n",
       "      <td>0.0</td>\n",
       "      <td>0.0</td>\n",
       "      <td>0</td>\n",
       "    </tr>\n",
       "    <tr>\n",
       "      <th>3</th>\n",
       "      <td>16</td>\n",
       "      <td>0.0</td>\n",
       "      <td>0.0</td>\n",
       "      <td>0.0</td>\n",
       "      <td>0.0</td>\n",
       "      <td>0.0</td>\n",
       "      <td>0.0</td>\n",
       "      <td>0.0</td>\n",
       "      <td>0.0</td>\n",
       "      <td>0.0</td>\n",
       "      <td>...</td>\n",
       "      <td>0.0</td>\n",
       "      <td>0.0</td>\n",
       "      <td>0.0</td>\n",
       "      <td>0.0</td>\n",
       "      <td>0.0</td>\n",
       "      <td>0.0</td>\n",
       "      <td>0.0</td>\n",
       "      <td>0.0</td>\n",
       "      <td>0.0</td>\n",
       "      <td>0</td>\n",
       "    </tr>\n",
       "    <tr>\n",
       "      <th>4</th>\n",
       "      <td>17</td>\n",
       "      <td>0.0</td>\n",
       "      <td>0.0</td>\n",
       "      <td>0.0</td>\n",
       "      <td>0.0</td>\n",
       "      <td>0.0</td>\n",
       "      <td>0.0</td>\n",
       "      <td>0.0</td>\n",
       "      <td>0.0</td>\n",
       "      <td>0.0</td>\n",
       "      <td>...</td>\n",
       "      <td>0.0</td>\n",
       "      <td>0.0</td>\n",
       "      <td>0.0</td>\n",
       "      <td>0.0</td>\n",
       "      <td>0.0</td>\n",
       "      <td>0.0</td>\n",
       "      <td>0.0</td>\n",
       "      <td>0.0</td>\n",
       "      <td>0.0</td>\n",
       "      <td>0</td>\n",
       "    </tr>\n",
       "  </tbody>\n",
       "</table>\n",
       "<p>5 rows × 170 columns</p>\n",
       "</div>"
      ],
      "text/plain": [
       "   StudentID  12E050SCIENCES  12E051SCIENCES  5869  5870  71105  71120  71121  \\\n",
       "0          2             0.0             0.0   0.0   0.0    0.0    0.0    0.0   \n",
       "1          6             0.0             0.0   0.0   0.0    0.0    0.0    0.0   \n",
       "2          9             0.0             0.0   0.0   0.0    0.0    0.0    0.0   \n",
       "3         16             0.0             0.0   0.0   0.0    0.0    0.0    0.0   \n",
       "4         17             0.0             0.0   0.0   0.0    0.0    0.0    0.0   \n",
       "\n",
       "   71133  74110  ...  T208011  T208012  T208013  T208014  T208015  T208016  \\\n",
       "0    0.0    0.0  ...      0.0      0.0      0.0      0.0      0.0      0.0   \n",
       "1    0.0    0.0  ...      0.0      0.0      0.0      0.0      0.0      0.0   \n",
       "2    0.0    0.0  ...      0.0      0.0      0.0      0.0      0.0      0.0   \n",
       "3    0.0    0.0  ...      0.0      0.0      0.0      0.0      0.0      0.0   \n",
       "4    0.0    0.0  ...      0.0      0.0      0.0      0.0      0.0      0.0   \n",
       "\n",
       "   T208017  T208033  T214006  cluster  \n",
       "0      0.0      0.0      0.0        0  \n",
       "1      0.0      0.0      0.0        0  \n",
       "2      0.0      0.0      0.0        0  \n",
       "3      0.0      0.0      0.0        0  \n",
       "4      0.0      0.0      0.0        0  \n",
       "\n",
       "[5 rows x 170 columns]"
      ]
     },
     "execution_count": 51,
     "metadata": {},
     "output_type": "execute_result"
    }
   ],
   "source": [
    "predicted_cluster_test = pd.concat([test_matrix.reset_index(), pd.DataFrame({'cluster': test_predictions})], axis = 1)\n",
    "predicted_cluster_test.head()"
   ]
  },
  {
   "cell_type": "code",
   "execution_count": 52,
   "metadata": {
    "ExecuteTime": {
     "end_time": "2022-09-23T10:41:51.680284Z",
     "start_time": "2022-09-23T10:41:51.582343Z"
    }
   },
   "outputs": [
    {
     "data": {
      "text/html": [
       "<div>\n",
       "<style scoped>\n",
       "    .dataframe tbody tr th:only-of-type {\n",
       "        vertical-align: middle;\n",
       "    }\n",
       "\n",
       "    .dataframe tbody tr th {\n",
       "        vertical-align: top;\n",
       "    }\n",
       "\n",
       "    .dataframe thead th {\n",
       "        text-align: right;\n",
       "    }\n",
       "</style>\n",
       "<table border=\"1\" class=\"dataframe\">\n",
       "  <thead>\n",
       "    <tr style=\"text-align: right;\">\n",
       "      <th></th>\n",
       "      <th>StudentID</th>\n",
       "      <th>12E050SCIENCES</th>\n",
       "      <th>12E051SCIENCES</th>\n",
       "      <th>5869</th>\n",
       "      <th>5870</th>\n",
       "      <th>71105</th>\n",
       "      <th>71120</th>\n",
       "      <th>71121</th>\n",
       "      <th>71133</th>\n",
       "      <th>74110</th>\n",
       "      <th>...</th>\n",
       "      <th>T208011</th>\n",
       "      <th>T208012</th>\n",
       "      <th>T208013</th>\n",
       "      <th>T208014</th>\n",
       "      <th>T208015</th>\n",
       "      <th>T208016</th>\n",
       "      <th>T208017</th>\n",
       "      <th>T208033</th>\n",
       "      <th>T214006</th>\n",
       "      <th>cluster</th>\n",
       "    </tr>\n",
       "  </thead>\n",
       "  <tbody>\n",
       "    <tr>\n",
       "      <th>114</th>\n",
       "      <td>581</td>\n",
       "      <td>0.0</td>\n",
       "      <td>0.0</td>\n",
       "      <td>0.0</td>\n",
       "      <td>0.0</td>\n",
       "      <td>0.0</td>\n",
       "      <td>0.0</td>\n",
       "      <td>0.00</td>\n",
       "      <td>0.0</td>\n",
       "      <td>0.0</td>\n",
       "      <td>...</td>\n",
       "      <td>0.0</td>\n",
       "      <td>0.0</td>\n",
       "      <td>0.0</td>\n",
       "      <td>0.0</td>\n",
       "      <td>0.0</td>\n",
       "      <td>0.0</td>\n",
       "      <td>0.0</td>\n",
       "      <td>0.0</td>\n",
       "      <td>0.0</td>\n",
       "      <td>1</td>\n",
       "    </tr>\n",
       "    <tr>\n",
       "      <th>115</th>\n",
       "      <td>584</td>\n",
       "      <td>0.0</td>\n",
       "      <td>0.0</td>\n",
       "      <td>0.0</td>\n",
       "      <td>0.0</td>\n",
       "      <td>0.0</td>\n",
       "      <td>0.0</td>\n",
       "      <td>0.00</td>\n",
       "      <td>0.0</td>\n",
       "      <td>0.0</td>\n",
       "      <td>...</td>\n",
       "      <td>0.0</td>\n",
       "      <td>0.0</td>\n",
       "      <td>0.0</td>\n",
       "      <td>0.0</td>\n",
       "      <td>0.0</td>\n",
       "      <td>0.0</td>\n",
       "      <td>0.0</td>\n",
       "      <td>0.0</td>\n",
       "      <td>0.0</td>\n",
       "      <td>1</td>\n",
       "    </tr>\n",
       "    <tr>\n",
       "      <th>116</th>\n",
       "      <td>585</td>\n",
       "      <td>0.0</td>\n",
       "      <td>0.0</td>\n",
       "      <td>0.0</td>\n",
       "      <td>0.0</td>\n",
       "      <td>0.0</td>\n",
       "      <td>0.0</td>\n",
       "      <td>4.25</td>\n",
       "      <td>0.0</td>\n",
       "      <td>0.0</td>\n",
       "      <td>...</td>\n",
       "      <td>0.0</td>\n",
       "      <td>0.0</td>\n",
       "      <td>0.0</td>\n",
       "      <td>0.0</td>\n",
       "      <td>0.0</td>\n",
       "      <td>0.0</td>\n",
       "      <td>0.0</td>\n",
       "      <td>0.0</td>\n",
       "      <td>0.0</td>\n",
       "      <td>1</td>\n",
       "    </tr>\n",
       "    <tr>\n",
       "      <th>117</th>\n",
       "      <td>590</td>\n",
       "      <td>0.0</td>\n",
       "      <td>0.0</td>\n",
       "      <td>0.0</td>\n",
       "      <td>0.0</td>\n",
       "      <td>0.0</td>\n",
       "      <td>0.0</td>\n",
       "      <td>0.00</td>\n",
       "      <td>0.0</td>\n",
       "      <td>0.0</td>\n",
       "      <td>...</td>\n",
       "      <td>0.0</td>\n",
       "      <td>0.0</td>\n",
       "      <td>0.0</td>\n",
       "      <td>0.0</td>\n",
       "      <td>0.0</td>\n",
       "      <td>0.0</td>\n",
       "      <td>0.0</td>\n",
       "      <td>0.0</td>\n",
       "      <td>0.0</td>\n",
       "      <td>1</td>\n",
       "    </tr>\n",
       "    <tr>\n",
       "      <th>118</th>\n",
       "      <td>599</td>\n",
       "      <td>0.0</td>\n",
       "      <td>0.0</td>\n",
       "      <td>0.0</td>\n",
       "      <td>0.0</td>\n",
       "      <td>0.0</td>\n",
       "      <td>0.0</td>\n",
       "      <td>0.00</td>\n",
       "      <td>0.0</td>\n",
       "      <td>5.5</td>\n",
       "      <td>...</td>\n",
       "      <td>0.0</td>\n",
       "      <td>0.0</td>\n",
       "      <td>0.0</td>\n",
       "      <td>0.0</td>\n",
       "      <td>0.0</td>\n",
       "      <td>0.0</td>\n",
       "      <td>0.0</td>\n",
       "      <td>0.0</td>\n",
       "      <td>0.0</td>\n",
       "      <td>1</td>\n",
       "    </tr>\n",
       "  </tbody>\n",
       "</table>\n",
       "<p>5 rows × 170 columns</p>\n",
       "</div>"
      ],
      "text/plain": [
       "     StudentID  12E050SCIENCES  12E051SCIENCES  5869  5870  71105  71120  \\\n",
       "114        581             0.0             0.0   0.0   0.0    0.0    0.0   \n",
       "115        584             0.0             0.0   0.0   0.0    0.0    0.0   \n",
       "116        585             0.0             0.0   0.0   0.0    0.0    0.0   \n",
       "117        590             0.0             0.0   0.0   0.0    0.0    0.0   \n",
       "118        599             0.0             0.0   0.0   0.0    0.0    0.0   \n",
       "\n",
       "     71121  71133  74110  ...  T208011  T208012  T208013  T208014  T208015  \\\n",
       "114   0.00    0.0    0.0  ...      0.0      0.0      0.0      0.0      0.0   \n",
       "115   0.00    0.0    0.0  ...      0.0      0.0      0.0      0.0      0.0   \n",
       "116   4.25    0.0    0.0  ...      0.0      0.0      0.0      0.0      0.0   \n",
       "117   0.00    0.0    0.0  ...      0.0      0.0      0.0      0.0      0.0   \n",
       "118   0.00    0.0    5.5  ...      0.0      0.0      0.0      0.0      0.0   \n",
       "\n",
       "     T208016  T208017  T208033  T214006  cluster  \n",
       "114      0.0      0.0      0.0      0.0        1  \n",
       "115      0.0      0.0      0.0      0.0        1  \n",
       "116      0.0      0.0      0.0      0.0        1  \n",
       "117      0.0      0.0      0.0      0.0        1  \n",
       "118      0.0      0.0      0.0      0.0        1  \n",
       "\n",
       "[5 rows x 170 columns]"
      ]
     },
     "execution_count": 52,
     "metadata": {},
     "output_type": "execute_result"
    }
   ],
   "source": [
    "predicted_cluster_test.tail()"
   ]
  },
  {
   "cell_type": "code",
   "execution_count": 53,
   "metadata": {
    "ExecuteTime": {
     "end_time": "2022-09-23T10:41:51.712267Z",
     "start_time": "2022-09-23T10:41:51.685281Z"
    }
   },
   "outputs": [
    {
     "data": {
      "text/plain": [
       "array([0, 0, 0, 0, 0, 0, 0, 0, 0, 0, 0, 0, 0, 0, 0, 0, 0, 0, 0, 0, 0, 0,\n",
       "       0, 0, 0, 0, 0, 0, 0, 0, 0, 0, 0, 0, 0, 0, 0, 0, 0, 0, 0, 0, 0, 0,\n",
       "       0, 0, 0, 0, 0, 0, 0, 0, 0, 0, 0, 0, 0, 0, 0, 0, 0, 0, 1, 1, 1, 1,\n",
       "       1, 1, 1, 1, 1, 1, 1, 1, 1, 1, 1, 1, 1, 1, 1, 1, 1, 1, 1, 1, 1, 1,\n",
       "       1, 1, 1, 1, 1, 1, 1, 1, 1, 1, 1, 1, 1, 1, 1, 1, 1, 1, 1, 1, 1, 1,\n",
       "       1, 1, 1, 1, 1, 1, 1, 1, 1])"
      ]
     },
     "execution_count": 53,
     "metadata": {},
     "output_type": "execute_result"
    }
   ],
   "source": [
    "test_predictions"
   ]
  },
  {
   "cell_type": "code",
   "execution_count": 54,
   "metadata": {
    "ExecuteTime": {
     "end_time": "2022-09-23T10:41:51.759243Z",
     "start_time": "2022-09-23T10:41:51.739259Z"
    }
   },
   "outputs": [
    {
     "data": {
      "text/plain": [
       "{0: 62, 1: 57}"
      ]
     },
     "execution_count": 54,
     "metadata": {},
     "output_type": "execute_result"
    }
   ],
   "source": [
    "cluster, counts = np.unique(test_predictions, return_counts = True)\n",
    "dict(zip(cluster, counts))"
   ]
  },
  {
   "cell_type": "code",
   "execution_count": 55,
   "metadata": {
    "ExecuteTime": {
     "end_time": "2022-09-23T10:41:51.839021Z",
     "start_time": "2022-09-23T10:41:51.764237Z"
    }
   },
   "outputs": [],
   "source": [
    "# saving the state as csv to obtained_data folder\n",
    "\n",
    "predicted_cluster_test.to_csv(os.path.join('C:/~your_path~/RecSys/obtained_data', 'predicted_cluster_test.csv'), index = False)\n"
   ]
  }
 ],
 "metadata": {
  "kernelspec": {
   "display_name": "Python 3",
   "language": "python",
   "name": "python3"
  },
  "language_info": {
   "codemirror_mode": {
    "name": "ipython",
    "version": 3
   },
   "file_extension": ".py",
   "mimetype": "text/x-python",
   "name": "python",
   "nbconvert_exporter": "python",
   "pygments_lexer": "ipython3",
   "version": "3.8.5"
  }
 },
 "nbformat": 4,
 "nbformat_minor": 4
}
