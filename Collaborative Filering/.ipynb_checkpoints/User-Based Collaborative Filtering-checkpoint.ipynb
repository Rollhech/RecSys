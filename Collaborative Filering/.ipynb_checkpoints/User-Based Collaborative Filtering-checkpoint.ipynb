{
 "cells": [
  {
   "cell_type": "code",
   "execution_count": 64,
   "metadata": {
    "ExecuteTime": {
     "end_time": "2022-09-23T10:42:14.886007Z",
     "start_time": "2022-09-23T10:42:14.872018Z"
    }
   },
   "outputs": [],
   "source": [
    "import pandas as pd\n",
    "import numpy as np\n",
    "\n",
    "from CF_Helpers import cf_helpers as hlp\n",
    "\n",
    "import os.path"
   ]
  },
  {
   "cell_type": "markdown",
   "metadata": {},
   "source": [
    "# User-Based Collaborative Filtering"
   ]
  },
  {
   "cell_type": "code",
   "execution_count": 65,
   "metadata": {
    "ExecuteTime": {
     "end_time": "2022-09-23T10:42:14.996947Z",
     "start_time": "2022-09-23T10:42:14.891011Z"
    }
   },
   "outputs": [],
   "source": [
    "#load data from previous notebooks\n",
    "train_df_cluster = pd.read_csv('C:~your_path~/RecSys/obtained_data/predicted_cluster_train.csv')\n",
    "test_df_cluster = pd.read_csv('C:~your_path~/RecSys/obtained_data/predicted_cluster_test.csv')\n"
   ]
  },
  {
   "cell_type": "code",
   "execution_count": 66,
   "metadata": {
    "ExecuteTime": {
     "end_time": "2022-09-23T10:42:15.074898Z",
     "start_time": "2022-09-23T10:42:15.001941Z"
    }
   },
   "outputs": [
    {
     "data": {
      "text/html": [
       "<div>\n",
       "<style scoped>\n",
       "    .dataframe tbody tr th:only-of-type {\n",
       "        vertical-align: middle;\n",
       "    }\n",
       "\n",
       "    .dataframe tbody tr th {\n",
       "        vertical-align: top;\n",
       "    }\n",
       "\n",
       "    .dataframe thead th {\n",
       "        text-align: right;\n",
       "    }\n",
       "</style>\n",
       "<table border=\"1\" class=\"dataframe\">\n",
       "  <thead>\n",
       "    <tr style=\"text-align: right;\">\n",
       "      <th></th>\n",
       "      <th>StudentID</th>\n",
       "      <th>12E050SCIENCES</th>\n",
       "      <th>12E051SCIENCES</th>\n",
       "      <th>5869</th>\n",
       "      <th>5870</th>\n",
       "      <th>71105</th>\n",
       "      <th>71120</th>\n",
       "      <th>71121</th>\n",
       "      <th>71133</th>\n",
       "      <th>74110</th>\n",
       "      <th>...</th>\n",
       "      <th>T208011</th>\n",
       "      <th>T208012</th>\n",
       "      <th>T208013</th>\n",
       "      <th>T208014</th>\n",
       "      <th>T208015</th>\n",
       "      <th>T208016</th>\n",
       "      <th>T208017</th>\n",
       "      <th>T208033</th>\n",
       "      <th>T214006</th>\n",
       "      <th>cluster</th>\n",
       "    </tr>\n",
       "  </thead>\n",
       "  <tbody>\n",
       "    <tr>\n",
       "      <th>479</th>\n",
       "      <td>600</td>\n",
       "      <td>0.0</td>\n",
       "      <td>0.0</td>\n",
       "      <td>0.0</td>\n",
       "      <td>0.0</td>\n",
       "      <td>0.0</td>\n",
       "      <td>0.0</td>\n",
       "      <td>0.0</td>\n",
       "      <td>0.0</td>\n",
       "      <td>5.0</td>\n",
       "      <td>...</td>\n",
       "      <td>0.0</td>\n",
       "      <td>0.0</td>\n",
       "      <td>0.0</td>\n",
       "      <td>0.0</td>\n",
       "      <td>0.0</td>\n",
       "      <td>0.0</td>\n",
       "      <td>0.0</td>\n",
       "      <td>0.0</td>\n",
       "      <td>0.0</td>\n",
       "      <td>1</td>\n",
       "    </tr>\n",
       "  </tbody>\n",
       "</table>\n",
       "<p>1 rows × 170 columns</p>\n",
       "</div>"
      ],
      "text/plain": [
       "     StudentID  12E050SCIENCES  12E051SCIENCES  5869  5870  71105  71120  \\\n",
       "479        600             0.0             0.0   0.0   0.0    0.0    0.0   \n",
       "\n",
       "     71121  71133  74110  ...  T208011  T208012  T208013  T208014  T208015  \\\n",
       "479    0.0    0.0    5.0  ...      0.0      0.0      0.0      0.0      0.0   \n",
       "\n",
       "     T208016  T208017  T208033  T214006  cluster  \n",
       "479      0.0      0.0      0.0      0.0        1  \n",
       "\n",
       "[1 rows x 170 columns]"
      ]
     },
     "execution_count": 66,
     "metadata": {},
     "output_type": "execute_result"
    }
   ],
   "source": [
    "train_df_cluster.tail(1)"
   ]
  },
  {
   "cell_type": "code",
   "execution_count": 67,
   "metadata": {
    "ExecuteTime": {
     "end_time": "2022-09-23T10:42:15.106883Z",
     "start_time": "2022-09-23T10:42:15.079896Z"
    }
   },
   "outputs": [
    {
     "data": {
      "text/html": [
       "<div>\n",
       "<style scoped>\n",
       "    .dataframe tbody tr th:only-of-type {\n",
       "        vertical-align: middle;\n",
       "    }\n",
       "\n",
       "    .dataframe tbody tr th {\n",
       "        vertical-align: top;\n",
       "    }\n",
       "\n",
       "    .dataframe thead th {\n",
       "        text-align: right;\n",
       "    }\n",
       "</style>\n",
       "<table border=\"1\" class=\"dataframe\">\n",
       "  <thead>\n",
       "    <tr style=\"text-align: right;\">\n",
       "      <th></th>\n",
       "      <th>StudentID</th>\n",
       "      <th>cluster</th>\n",
       "    </tr>\n",
       "  </thead>\n",
       "  <tbody>\n",
       "    <tr>\n",
       "      <th>0</th>\n",
       "      <td>2</td>\n",
       "      <td>0</td>\n",
       "    </tr>\n",
       "    <tr>\n",
       "      <th>1</th>\n",
       "      <td>6</td>\n",
       "      <td>0</td>\n",
       "    </tr>\n",
       "    <tr>\n",
       "      <th>2</th>\n",
       "      <td>9</td>\n",
       "      <td>0</td>\n",
       "    </tr>\n",
       "    <tr>\n",
       "      <th>3</th>\n",
       "      <td>16</td>\n",
       "      <td>0</td>\n",
       "    </tr>\n",
       "    <tr>\n",
       "      <th>4</th>\n",
       "      <td>17</td>\n",
       "      <td>0</td>\n",
       "    </tr>\n",
       "  </tbody>\n",
       "</table>\n",
       "</div>"
      ],
      "text/plain": [
       "   StudentID  cluster\n",
       "0          2        0\n",
       "1          6        0\n",
       "2          9        0\n",
       "3         16        0\n",
       "4         17        0"
      ]
     },
     "execution_count": 67,
     "metadata": {},
     "output_type": "execute_result"
    }
   ],
   "source": [
    "# students and their respective cluster\n",
    "student_cluster = pd.DataFrame({\n",
    "    'StudentID': test_df_cluster['StudentID'].values,\n",
    "    'cluster': test_df_cluster['cluster'].values\n",
    "})\n",
    "\n",
    "student_cluster.head()"
   ]
  },
  {
   "cell_type": "code",
   "execution_count": 68,
   "metadata": {
    "ExecuteTime": {
     "end_time": "2022-09-23T10:42:15.134245Z",
     "start_time": "2022-09-23T10:42:15.107487Z"
    }
   },
   "outputs": [
    {
     "data": {
      "text/plain": [
       "[0, 1]"
      ]
     },
     "execution_count": 68,
     "metadata": {},
     "output_type": "execute_result"
    }
   ],
   "source": [
    "clusters = student_cluster['cluster'].unique().tolist()\n",
    "clusters # ClusterIDs used "
   ]
  },
  {
   "cell_type": "markdown",
   "metadata": {},
   "source": [
    "### **The first essential step is to merge the test students to their respective training cluster, in order to recommend courses collaboratively.**"
   ]
  },
  {
   "cell_type": "code",
   "execution_count": 69,
   "metadata": {
    "ExecuteTime": {
     "end_time": "2022-09-23T10:42:15.166057Z",
     "start_time": "2022-09-23T10:42:15.147068Z"
    }
   },
   "outputs": [],
   "source": [
    "def collaborative_filtering_df(train_df, test_df, x): #joining test subjects to their respective cluster with train subjects\n",
    "    df = hlp.filter_df_cluster(train_df, x)\n",
    "    df_temp = hlp.filter_df_cluster(test_df, x)\n",
    "    index_list = df_temp.StudentID.values\n",
    "    df_concat = pd.concat([df, df_temp], ignore_index=True)\n",
    "    df_concat = df_concat.set_index('StudentID')\n",
    "    df_concat = df_concat.replace(0, np.NaN)\n",
    "    return df_concat, index_list     #x is cluster number"
   ]
  },
  {
   "cell_type": "code",
   "execution_count": 70,
   "metadata": {
    "ExecuteTime": {
     "end_time": "2022-09-23T10:42:15.181047Z",
     "start_time": "2022-09-23T10:42:15.172052Z"
    }
   },
   "outputs": [],
   "source": [
    "def create_recommendation_input(train_df_cluster, test_df):\n",
    "    list_cf_df = []\n",
    "    student_cluster = pd.DataFrame({\n",
    "        'StudentID': test_df['StudentID'].values,\n",
    "        'cluster': test_df['cluster'].values})\n",
    "    unique_clusters = student_cluster['cluster'].unique().tolist()\n",
    "    for i in unique_clusters:\n",
    "        df_temp = collaborative_filtering_df(train_df_cluster, test_df, i)\n",
    "        list_cf_df.append(df_temp)\n",
    "    return list_cf_df\n",
    "    \n",
    "# Output is a list of tuples(dataframe with merged train and test students, list of unique StudentIDs of test students)   \n",
    "#_________\n",
    "# Example of indexing:\n",
    "# list_cf_df[0][0] #dataframe of respective cluster\n",
    "# list_cf_df[0][1].tolist() # unique StudentID"
   ]
  },
  {
   "cell_type": "code",
   "execution_count": 71,
   "metadata": {
    "ExecuteTime": {
     "end_time": "2022-09-23T10:42:15.241362Z",
     "start_time": "2022-09-23T10:42:15.190042Z"
    }
   },
   "outputs": [],
   "source": [
    "list_cf_df = create_recommendation_input(train_df_cluster, test_df_cluster)"
   ]
  },
  {
   "cell_type": "code",
   "execution_count": 72,
   "metadata": {
    "ExecuteTime": {
     "end_time": "2022-09-23T10:42:15.272733Z",
     "start_time": "2022-09-23T10:42:15.243848Z"
    }
   },
   "outputs": [
    {
     "data": {
      "text/plain": [
       "[1]"
      ]
     },
     "execution_count": 72,
     "metadata": {},
     "output_type": "execute_result"
    }
   ],
   "source": [
    "list_cf_df[1][0]['cluster'].unique().tolist()"
   ]
  },
  {
   "cell_type": "code",
   "execution_count": 73,
   "metadata": {
    "ExecuteTime": {
     "end_time": "2022-09-23T10:42:15.309488Z",
     "start_time": "2022-09-23T10:42:15.272733Z"
    }
   },
   "outputs": [
    {
     "data": {
      "text/plain": [
       "[2, 6, 9, 16, 17, 18, 20, 23, 38, 40]"
      ]
     },
     "execution_count": 73,
     "metadata": {},
     "output_type": "execute_result"
    }
   ],
   "source": [
    "list_cf_df[0][1].tolist()[:10] # StudentIDs"
   ]
  },
  {
   "cell_type": "code",
   "execution_count": 74,
   "metadata": {
    "ExecuteTime": {
     "end_time": "2022-09-23T10:42:15.330349Z",
     "start_time": "2022-09-23T10:42:15.314958Z"
    }
   },
   "outputs": [
    {
     "data": {
      "text/plain": [
       "array([ 2,  6,  9, 16, 17, 18, 20, 23, 38, 40], dtype=int64)"
      ]
     },
     "execution_count": 74,
     "metadata": {},
     "output_type": "execute_result"
    }
   ],
   "source": [
    "student_cluster.StudentID.unique()[:10] #obtained IDs in list_cf_df is exactly the same as test subjects"
   ]
  },
  {
   "cell_type": "markdown",
   "metadata": {},
   "source": [
    "### **After Creating the Input for the RecSys Engine, Recommendations can be obtained**"
   ]
  },
  {
   "cell_type": "code",
   "execution_count": 75,
   "metadata": {
    "ExecuteTime": {
     "end_time": "2022-09-23T10:42:15.380073Z",
     "start_time": "2022-09-23T10:42:15.332000Z"
    }
   },
   "outputs": [],
   "source": [
    "# keeping track of the cluster and the test subject as well\n",
    "# consider filtering mean_grades with a higher count than a precalculated \n",
    "# store two recommendation lists\n",
    "#     1) highest mean_grades\n",
    "#     2) Majority Vote\n",
    "# int: x = number of recommendations to be obtained per student\n",
    "# list_cf_df = list of tuples with dataframe that corresponds to output of create_recommendation_input()\n",
    "\n",
    "def get_recommendations(list_cf_df, x):\n",
    "    rec_mean_grades = pd.DataFrame()\n",
    "    rec_majority = pd.DataFrame()\n",
    "    for i in list_cf_df: # iteration over tuple of (df, index_list of test students added )\n",
    "        df = i[0] # dataframe an der stelle i[0]\n",
    "        cluster_threshold = int(len(i[0])* 0.1)\n",
    "        print(cluster_threshold)\n",
    "        user_id = i[1].tolist()\n",
    "        for j in user_id: # jth entry of index list in resutling from filtering in i[0]\n",
    "            student_data = df[df.index == j] # get student data\n",
    "            courses_not_taken = hlp.filter_T1_courses(student_data) # get all courses not taken by student j, excluding T1\n",
    "            cf_mean = pd.DataFrame({'mean_cluster_grade': hlp.round_to_nearest_grade(df.mean(skipna = True))})\n",
    "            cf_count = pd.DataFrame({'count': df.count()})\n",
    "            mean_grades = pd.concat([courses_not_taken, cf_mean, cf_count],join = 'inner', axis = 1)\n",
    "            recommendations = pd.DataFrame(mean_grades[mean_grades['count'] >= cluster_threshold]) #df where count is bigger than 5\n",
    "            rec_mean = recommendations.sort_values(by = 'mean_cluster_grade', ascending = False)[:x]\n",
    "            iterables = [df['cluster'].unique().tolist(),[j],rec_mean.index.tolist()]\n",
    "            index = pd.MultiIndex.from_product(iterables, names=[\"ClusterID\",\"StudentID\", \"CourseID\"])\n",
    "            rec_mean = rec_mean.set_index(index)\n",
    "            rec_mean_grades = pd.concat([rec_mean_grades, rec_mean]) \n",
    "            rec_maj = recommendations.sort_values(by = 'count', ascending = False)[:x]\n",
    "            iterables = [df['cluster'].unique().tolist(), [j], rec_maj.index.tolist()]\n",
    "            index = pd.MultiIndex.from_product(iterables, names=[\"ClusterID\", \"StudentID\", \"CourseID\"])\n",
    "            rec_maj = rec_maj.set_index(index)\n",
    "            rec_majority = pd.concat([rec_majority, rec_maj])\n",
    "    return rec_mean_grades, rec_majority\n"
   ]
  },
  {
   "cell_type": "markdown",
   "metadata": {},
   "source": [
    "### **Obtain 10 Recommendations per student**"
   ]
  },
  {
   "cell_type": "code",
   "execution_count": 76,
   "metadata": {
    "ExecuteTime": {
     "end_time": "2022-09-23T10:42:20.071117Z",
     "start_time": "2022-09-23T10:42:15.385067Z"
    }
   },
   "outputs": [
    {
     "name": "stdout",
     "output_type": "stream",
     "text": [
      "29\n",
      "30\n"
     ]
    },
    {
     "data": {
      "text/html": [
       "<div>\n",
       "<style scoped>\n",
       "    .dataframe tbody tr th:only-of-type {\n",
       "        vertical-align: middle;\n",
       "    }\n",
       "\n",
       "    .dataframe tbody tr th {\n",
       "        vertical-align: top;\n",
       "    }\n",
       "\n",
       "    .dataframe thead th {\n",
       "        text-align: right;\n",
       "    }\n",
       "</style>\n",
       "<table border=\"1\" class=\"dataframe\">\n",
       "  <thead>\n",
       "    <tr style=\"text-align: right;\">\n",
       "      <th></th>\n",
       "      <th></th>\n",
       "      <th></th>\n",
       "      <th>mean_cluster_grade</th>\n",
       "      <th>count</th>\n",
       "    </tr>\n",
       "    <tr>\n",
       "      <th>ClusterID</th>\n",
       "      <th>StudentID</th>\n",
       "      <th>CourseID</th>\n",
       "      <th></th>\n",
       "      <th></th>\n",
       "    </tr>\n",
       "  </thead>\n",
       "  <tbody>\n",
       "    <tr>\n",
       "      <th rowspan=\"10\" valign=\"top\">NaN</th>\n",
       "      <th rowspan=\"10\" valign=\"top\">2</th>\n",
       "      <th>12E050SCIENCES</th>\n",
       "      <td>5.0</td>\n",
       "      <td>82</td>\n",
       "    </tr>\n",
       "    <tr>\n",
       "      <th>12E051SCIENCES</th>\n",
       "      <td>5.0</td>\n",
       "      <td>82</td>\n",
       "    </tr>\n",
       "    <tr>\n",
       "      <th>T208012</th>\n",
       "      <td>5.0</td>\n",
       "      <td>64</td>\n",
       "    </tr>\n",
       "    <tr>\n",
       "      <th>T208011</th>\n",
       "      <td>5.0</td>\n",
       "      <td>33</td>\n",
       "    </tr>\n",
       "    <tr>\n",
       "      <th>T208003</th>\n",
       "      <td>5.0</td>\n",
       "      <td>43</td>\n",
       "    </tr>\n",
       "    <tr>\n",
       "      <th>T208000</th>\n",
       "      <td>5.0</td>\n",
       "      <td>46</td>\n",
       "    </tr>\n",
       "    <tr>\n",
       "      <th>T207059</th>\n",
       "      <td>5.0</td>\n",
       "      <td>92</td>\n",
       "    </tr>\n",
       "    <tr>\n",
       "      <th>T207037</th>\n",
       "      <td>5.0</td>\n",
       "      <td>207</td>\n",
       "    </tr>\n",
       "    <tr>\n",
       "      <th>T207036</th>\n",
       "      <td>5.0</td>\n",
       "      <td>190</td>\n",
       "    </tr>\n",
       "    <tr>\n",
       "      <th>T207034</th>\n",
       "      <td>5.0</td>\n",
       "      <td>178</td>\n",
       "    </tr>\n",
       "  </tbody>\n",
       "</table>\n",
       "</div>"
      ],
      "text/plain": [
       "                                    mean_cluster_grade  count\n",
       "ClusterID StudentID CourseID                                 \n",
       "NaN       2         12E050SCIENCES                 5.0     82\n",
       "                    12E051SCIENCES                 5.0     82\n",
       "                    T208012                        5.0     64\n",
       "                    T208011                        5.0     33\n",
       "                    T208003                        5.0     43\n",
       "                    T208000                        5.0     46\n",
       "                    T207059                        5.0     92\n",
       "                    T207037                        5.0    207\n",
       "                    T207036                        5.0    190\n",
       "                    T207034                        5.0    178"
      ]
     },
     "execution_count": 76,
     "metadata": {},
     "output_type": "execute_result"
    }
   ],
   "source": [
    "# MultiIndex Dataframe for easier evaluation\n",
    "rec_mean_grades, rec_majority = get_recommendations(list_cf_df, 10)\n",
    "rec_mean_grades.head(10)"
   ]
  },
  {
   "cell_type": "code",
   "execution_count": 77,
   "metadata": {
    "ExecuteTime": {
     "end_time": "2022-09-23T10:42:20.086004Z",
     "start_time": "2022-09-23T10:42:20.075113Z"
    }
   },
   "outputs": [
    {
     "data": {
      "text/plain": [
       "Float64Index([nan, 1.0], dtype='float64', name='ClusterID')"
      ]
     },
     "execution_count": 77,
     "metadata": {},
     "output_type": "execute_result"
    }
   ],
   "source": [
    "rec_majority.index.get_level_values('ClusterID').unique()\n",
    "# ClusterID 0 was interpreted as empty\n",
    "# /!\\ Cluster ID is now float, needs to be fixed"
   ]
  },
  {
   "cell_type": "code",
   "execution_count": 78,
   "metadata": {
    "ExecuteTime": {
     "end_time": "2022-09-23T10:42:20.147492Z",
     "start_time": "2022-09-23T10:42:20.094940Z"
    }
   },
   "outputs": [
    {
     "data": {
      "text/html": [
       "<div>\n",
       "<style scoped>\n",
       "    .dataframe tbody tr th:only-of-type {\n",
       "        vertical-align: middle;\n",
       "    }\n",
       "\n",
       "    .dataframe tbody tr th {\n",
       "        vertical-align: top;\n",
       "    }\n",
       "\n",
       "    .dataframe thead th {\n",
       "        text-align: right;\n",
       "    }\n",
       "</style>\n",
       "<table border=\"1\" class=\"dataframe\">\n",
       "  <thead>\n",
       "    <tr style=\"text-align: right;\">\n",
       "      <th></th>\n",
       "      <th></th>\n",
       "      <th></th>\n",
       "      <th>mean_cluster_grade</th>\n",
       "      <th>count</th>\n",
       "    </tr>\n",
       "    <tr>\n",
       "      <th>ClusterID</th>\n",
       "      <th>StudentID</th>\n",
       "      <th>CourseID</th>\n",
       "      <th></th>\n",
       "      <th></th>\n",
       "    </tr>\n",
       "  </thead>\n",
       "  <tbody>\n",
       "    <tr>\n",
       "      <th rowspan=\"5\" valign=\"top\">0</th>\n",
       "      <th rowspan=\"5\" valign=\"top\">2</th>\n",
       "      <th>T207037</th>\n",
       "      <td>5.0</td>\n",
       "      <td>207</td>\n",
       "    </tr>\n",
       "    <tr>\n",
       "      <th>T207004</th>\n",
       "      <td>5.0</td>\n",
       "      <td>194</td>\n",
       "    </tr>\n",
       "    <tr>\n",
       "      <th>T207036</th>\n",
       "      <td>5.0</td>\n",
       "      <td>190</td>\n",
       "    </tr>\n",
       "    <tr>\n",
       "      <th>T206060</th>\n",
       "      <td>5.0</td>\n",
       "      <td>184</td>\n",
       "    </tr>\n",
       "    <tr>\n",
       "      <th>T207034</th>\n",
       "      <td>5.0</td>\n",
       "      <td>178</td>\n",
       "    </tr>\n",
       "  </tbody>\n",
       "</table>\n",
       "</div>"
      ],
      "text/plain": [
       "                              mean_cluster_grade  count\n",
       "ClusterID StudentID CourseID                           \n",
       "0         2         T207037                  5.0    207\n",
       "                    T207004                  5.0    194\n",
       "                    T207036                  5.0    190\n",
       "                    T206060                  5.0    184\n",
       "                    T207034                  5.0    178"
      ]
     },
     "execution_count": 78,
     "metadata": {},
     "output_type": "execute_result"
    }
   ],
   "source": [
    "#Fill nan with 0 in MultiIndex for both recommendation approaches\n",
    "if isinstance(rec_majority.index, pd.MultiIndex):\n",
    "    rec_majority.index = pd.MultiIndex.from_frame(\n",
    "       rec_majority.index.to_frame().fillna(0)\n",
    "    )\n",
    "else:\n",
    "    rec_majority.index = rec_majority.index.fillna(0)\n",
    "\n",
    "rec_majority.index = rec_majority.index.set_levels(rec_majority.index.levels[0].astype(int), level = 0)\n",
    "rec_majority.head()\n",
    "\n",
    "# inspiration of code snippet:\n",
    "# https://stackoverflow.com/questions/32506689/replace-nan-in-dataframe-index"
   ]
  },
  {
   "cell_type": "code",
   "execution_count": 79,
   "metadata": {
    "ExecuteTime": {
     "end_time": "2022-09-23T10:42:20.195341Z",
     "start_time": "2022-09-23T10:42:20.147492Z"
    }
   },
   "outputs": [
    {
     "data": {
      "text/html": [
       "<div>\n",
       "<style scoped>\n",
       "    .dataframe tbody tr th:only-of-type {\n",
       "        vertical-align: middle;\n",
       "    }\n",
       "\n",
       "    .dataframe tbody tr th {\n",
       "        vertical-align: top;\n",
       "    }\n",
       "\n",
       "    .dataframe thead th {\n",
       "        text-align: right;\n",
       "    }\n",
       "</style>\n",
       "<table border=\"1\" class=\"dataframe\">\n",
       "  <thead>\n",
       "    <tr style=\"text-align: right;\">\n",
       "      <th></th>\n",
       "      <th></th>\n",
       "      <th></th>\n",
       "      <th>mean_cluster_grade</th>\n",
       "      <th>count</th>\n",
       "    </tr>\n",
       "    <tr>\n",
       "      <th>ClusterID</th>\n",
       "      <th>StudentID</th>\n",
       "      <th>CourseID</th>\n",
       "      <th></th>\n",
       "      <th></th>\n",
       "    </tr>\n",
       "  </thead>\n",
       "  <tbody>\n",
       "    <tr>\n",
       "      <th rowspan=\"5\" valign=\"top\">0</th>\n",
       "      <th rowspan=\"5\" valign=\"top\">2</th>\n",
       "      <th>12E050SCIENCES</th>\n",
       "      <td>5.0</td>\n",
       "      <td>82</td>\n",
       "    </tr>\n",
       "    <tr>\n",
       "      <th>12E051SCIENCES</th>\n",
       "      <td>5.0</td>\n",
       "      <td>82</td>\n",
       "    </tr>\n",
       "    <tr>\n",
       "      <th>T208012</th>\n",
       "      <td>5.0</td>\n",
       "      <td>64</td>\n",
       "    </tr>\n",
       "    <tr>\n",
       "      <th>T208011</th>\n",
       "      <td>5.0</td>\n",
       "      <td>33</td>\n",
       "    </tr>\n",
       "    <tr>\n",
       "      <th>T208003</th>\n",
       "      <td>5.0</td>\n",
       "      <td>43</td>\n",
       "    </tr>\n",
       "  </tbody>\n",
       "</table>\n",
       "</div>"
      ],
      "text/plain": [
       "                                    mean_cluster_grade  count\n",
       "ClusterID StudentID CourseID                                 \n",
       "0         2         12E050SCIENCES                 5.0     82\n",
       "                    12E051SCIENCES                 5.0     82\n",
       "                    T208012                        5.0     64\n",
       "                    T208011                        5.0     33\n",
       "                    T208003                        5.0     43"
      ]
     },
     "execution_count": 79,
     "metadata": {},
     "output_type": "execute_result"
    }
   ],
   "source": [
    "if isinstance(rec_mean_grades.index, pd.MultiIndex):\n",
    "    rec_mean_grades.index = pd.MultiIndex.from_frame(\n",
    "       rec_mean_grades.index.to_frame().fillna(0)\n",
    "    )\n",
    "else:\n",
    "    rec_mean_grades.index = rec_mean_grades.index.fillna(0)\n",
    "\n",
    "rec_mean_grades.index = rec_mean_grades.index.set_levels(rec_mean_grades.index.levels[0].astype(int), level = 0)\n",
    "rec_mean_grades.head()\n"
   ]
  },
  {
   "cell_type": "markdown",
   "metadata": {},
   "source": [
    "**Check if the number of students in the test set has the same length as in the recommendations obtained**"
   ]
  },
  {
   "cell_type": "code",
   "execution_count": 80,
   "metadata": {
    "ExecuteTime": {
     "end_time": "2022-09-23T10:42:20.222374Z",
     "start_time": "2022-09-23T10:42:20.195341Z"
    }
   },
   "outputs": [
    {
     "data": {
      "text/plain": [
       "119"
      ]
     },
     "execution_count": 80,
     "metadata": {},
     "output_type": "execute_result"
    }
   ],
   "source": [
    "rec_mean_grades.index.get_level_values('StudentID').nunique()"
   ]
  },
  {
   "cell_type": "code",
   "execution_count": 81,
   "metadata": {
    "ExecuteTime": {
     "end_time": "2022-09-23T10:42:20.248645Z",
     "start_time": "2022-09-23T10:42:20.226357Z"
    }
   },
   "outputs": [
    {
     "data": {
      "text/plain": [
       "119"
      ]
     },
     "execution_count": 81,
     "metadata": {},
     "output_type": "execute_result"
    }
   ],
   "source": [
    "rec_majority.index.get_level_values('StudentID').nunique()"
   ]
  },
  {
   "cell_type": "code",
   "execution_count": 82,
   "metadata": {
    "ExecuteTime": {
     "end_time": "2022-09-23T10:42:20.275903Z",
     "start_time": "2022-09-23T10:42:20.256156Z"
    }
   },
   "outputs": [
    {
     "data": {
      "text/plain": [
       "119"
      ]
     },
     "execution_count": 82,
     "metadata": {},
     "output_type": "execute_result"
    }
   ],
   "source": [
    "len(student_cluster)"
   ]
  },
  {
   "cell_type": "code",
   "execution_count": 83,
   "metadata": {
    "ExecuteTime": {
     "end_time": "2022-09-23T10:42:20.342800Z",
     "start_time": "2022-09-23T10:42:20.275903Z"
    }
   },
   "outputs": [],
   "source": [
    "rec_mean_grades.to_csv(os.path.join('C:~your_path~/RecSys/obtained_data', 'rec_mean_grades.csv'), index = True)\n",
    "rec_majority.to_csv(os.path.join('C:~your_path~/RecSys/obtained_data', 'rec_majority.csv'), index = True)"
   ]
  },
  {
   "cell_type": "code",
   "execution_count": 84,
   "metadata": {
    "ExecuteTime": {
     "end_time": "2022-09-23T10:42:20.366200Z",
     "start_time": "2022-09-23T10:42:20.342800Z"
    }
   },
   "outputs": [
    {
     "data": {
      "text/plain": [
       "Int64Index([0, 1], dtype='int64', name='ClusterID')"
      ]
     },
     "execution_count": 84,
     "metadata": {},
     "output_type": "execute_result"
    }
   ],
   "source": [
    "rec_majority.index.get_level_values('ClusterID').unique() # changed index 'ClusterID' to int"
   ]
  },
  {
   "cell_type": "code",
   "execution_count": 85,
   "metadata": {
    "ExecuteTime": {
     "end_time": "2022-09-23T10:42:20.392627Z",
     "start_time": "2022-09-23T10:42:20.373339Z"
    }
   },
   "outputs": [
    {
     "data": {
      "text/plain": [
       "Int64Index([0, 1], dtype='int64', name='ClusterID')"
      ]
     },
     "execution_count": 85,
     "metadata": {},
     "output_type": "execute_result"
    }
   ],
   "source": [
    "rec_mean_grades.index.get_level_values('ClusterID').unique()"
   ]
  },
  {
   "cell_type": "markdown",
   "metadata": {},
   "source": [
    "# Step by Step Ilustration of interal mechanism of RecSys Implementation\n",
    "This is a step by step illustration on the output, each step of the recommendation engine creates and further processes"
   ]
  },
  {
   "cell_type": "markdown",
   "metadata": {},
   "source": [
    "## Step 1: Create Collaborative Filtering Data Frame"
   ]
  },
  {
   "cell_type": "code",
   "execution_count": 86,
   "metadata": {
    "ExecuteTime": {
     "end_time": "2022-09-23T10:42:20.429978Z",
     "start_time": "2022-09-23T10:42:20.404461Z"
    }
   },
   "outputs": [],
   "source": [
    "test_cf, index_list = collaborative_filtering_df(train_df_cluster, test_df_cluster, 1) # cluster 2, numbers start at 0!"
   ]
  },
  {
   "cell_type": "code",
   "execution_count": 87,
   "metadata": {
    "ExecuteTime": {
     "end_time": "2022-09-23T10:42:20.487029Z",
     "start_time": "2022-09-23T10:42:20.439968Z"
    }
   },
   "outputs": [
    {
     "name": "stdout",
     "output_type": "stream",
     "text": [
      "<class 'pandas.core.frame.DataFrame'>\n",
      "Int64Index: 300 entries, 301 to 599\n",
      "Columns: 169 entries, 12E050SCIENCES to cluster\n",
      "dtypes: float64(168), int64(1)\n",
      "memory usage: 398.4 KB\n"
     ]
    }
   ],
   "source": [
    "test_cf.info() #169 columns as the whole course catalogue is mapped, dataframe still carries 'cluster column'"
   ]
  },
  {
   "cell_type": "code",
   "execution_count": 88,
   "metadata": {
    "ExecuteTime": {
     "end_time": "2022-09-23T10:42:20.568662Z",
     "start_time": "2022-09-23T10:42:20.493683Z"
    }
   },
   "outputs": [
    {
     "data": {
      "text/html": [
       "<div>\n",
       "<style scoped>\n",
       "    .dataframe tbody tr th:only-of-type {\n",
       "        vertical-align: middle;\n",
       "    }\n",
       "\n",
       "    .dataframe tbody tr th {\n",
       "        vertical-align: top;\n",
       "    }\n",
       "\n",
       "    .dataframe thead th {\n",
       "        text-align: right;\n",
       "    }\n",
       "</style>\n",
       "<table border=\"1\" class=\"dataframe\">\n",
       "  <thead>\n",
       "    <tr style=\"text-align: right;\">\n",
       "      <th></th>\n",
       "      <th>12E050SCIENCES</th>\n",
       "      <th>12E051SCIENCES</th>\n",
       "      <th>5869</th>\n",
       "      <th>5870</th>\n",
       "      <th>71105</th>\n",
       "      <th>71120</th>\n",
       "      <th>71121</th>\n",
       "      <th>71133</th>\n",
       "      <th>74110</th>\n",
       "      <th>74112</th>\n",
       "      <th>...</th>\n",
       "      <th>T208011</th>\n",
       "      <th>T208012</th>\n",
       "      <th>T208013</th>\n",
       "      <th>T208014</th>\n",
       "      <th>T208015</th>\n",
       "      <th>T208016</th>\n",
       "      <th>T208017</th>\n",
       "      <th>T208033</th>\n",
       "      <th>T214006</th>\n",
       "      <th>cluster</th>\n",
       "    </tr>\n",
       "    <tr>\n",
       "      <th>StudentID</th>\n",
       "      <th></th>\n",
       "      <th></th>\n",
       "      <th></th>\n",
       "      <th></th>\n",
       "      <th></th>\n",
       "      <th></th>\n",
       "      <th></th>\n",
       "      <th></th>\n",
       "      <th></th>\n",
       "      <th></th>\n",
       "      <th></th>\n",
       "      <th></th>\n",
       "      <th></th>\n",
       "      <th></th>\n",
       "      <th></th>\n",
       "      <th></th>\n",
       "      <th></th>\n",
       "      <th></th>\n",
       "      <th></th>\n",
       "      <th></th>\n",
       "      <th></th>\n",
       "    </tr>\n",
       "  </thead>\n",
       "  <tbody>\n",
       "    <tr>\n",
       "      <th>301</th>\n",
       "      <td>NaN</td>\n",
       "      <td>NaN</td>\n",
       "      <td>NaN</td>\n",
       "      <td>NaN</td>\n",
       "      <td>NaN</td>\n",
       "      <td>NaN</td>\n",
       "      <td>NaN</td>\n",
       "      <td>NaN</td>\n",
       "      <td>NaN</td>\n",
       "      <td>NaN</td>\n",
       "      <td>...</td>\n",
       "      <td>NaN</td>\n",
       "      <td>NaN</td>\n",
       "      <td>NaN</td>\n",
       "      <td>NaN</td>\n",
       "      <td>NaN</td>\n",
       "      <td>NaN</td>\n",
       "      <td>NaN</td>\n",
       "      <td>NaN</td>\n",
       "      <td>NaN</td>\n",
       "      <td>1</td>\n",
       "    </tr>\n",
       "    <tr>\n",
       "      <th>302</th>\n",
       "      <td>NaN</td>\n",
       "      <td>NaN</td>\n",
       "      <td>NaN</td>\n",
       "      <td>NaN</td>\n",
       "      <td>NaN</td>\n",
       "      <td>5.5</td>\n",
       "      <td>NaN</td>\n",
       "      <td>NaN</td>\n",
       "      <td>5.75</td>\n",
       "      <td>NaN</td>\n",
       "      <td>...</td>\n",
       "      <td>NaN</td>\n",
       "      <td>NaN</td>\n",
       "      <td>NaN</td>\n",
       "      <td>NaN</td>\n",
       "      <td>NaN</td>\n",
       "      <td>NaN</td>\n",
       "      <td>NaN</td>\n",
       "      <td>NaN</td>\n",
       "      <td>NaN</td>\n",
       "      <td>1</td>\n",
       "    </tr>\n",
       "    <tr>\n",
       "      <th>303</th>\n",
       "      <td>NaN</td>\n",
       "      <td>NaN</td>\n",
       "      <td>NaN</td>\n",
       "      <td>NaN</td>\n",
       "      <td>NaN</td>\n",
       "      <td>NaN</td>\n",
       "      <td>NaN</td>\n",
       "      <td>NaN</td>\n",
       "      <td>NaN</td>\n",
       "      <td>NaN</td>\n",
       "      <td>...</td>\n",
       "      <td>NaN</td>\n",
       "      <td>NaN</td>\n",
       "      <td>NaN</td>\n",
       "      <td>NaN</td>\n",
       "      <td>NaN</td>\n",
       "      <td>NaN</td>\n",
       "      <td>NaN</td>\n",
       "      <td>NaN</td>\n",
       "      <td>NaN</td>\n",
       "      <td>1</td>\n",
       "    </tr>\n",
       "    <tr>\n",
       "      <th>304</th>\n",
       "      <td>NaN</td>\n",
       "      <td>NaN</td>\n",
       "      <td>NaN</td>\n",
       "      <td>NaN</td>\n",
       "      <td>NaN</td>\n",
       "      <td>NaN</td>\n",
       "      <td>NaN</td>\n",
       "      <td>NaN</td>\n",
       "      <td>5.25</td>\n",
       "      <td>NaN</td>\n",
       "      <td>...</td>\n",
       "      <td>NaN</td>\n",
       "      <td>NaN</td>\n",
       "      <td>NaN</td>\n",
       "      <td>NaN</td>\n",
       "      <td>NaN</td>\n",
       "      <td>NaN</td>\n",
       "      <td>NaN</td>\n",
       "      <td>NaN</td>\n",
       "      <td>NaN</td>\n",
       "      <td>1</td>\n",
       "    </tr>\n",
       "    <tr>\n",
       "      <th>305</th>\n",
       "      <td>NaN</td>\n",
       "      <td>NaN</td>\n",
       "      <td>NaN</td>\n",
       "      <td>NaN</td>\n",
       "      <td>NaN</td>\n",
       "      <td>NaN</td>\n",
       "      <td>NaN</td>\n",
       "      <td>NaN</td>\n",
       "      <td>5.50</td>\n",
       "      <td>NaN</td>\n",
       "      <td>...</td>\n",
       "      <td>NaN</td>\n",
       "      <td>NaN</td>\n",
       "      <td>NaN</td>\n",
       "      <td>NaN</td>\n",
       "      <td>NaN</td>\n",
       "      <td>NaN</td>\n",
       "      <td>NaN</td>\n",
       "      <td>NaN</td>\n",
       "      <td>NaN</td>\n",
       "      <td>1</td>\n",
       "    </tr>\n",
       "  </tbody>\n",
       "</table>\n",
       "<p>5 rows × 169 columns</p>\n",
       "</div>"
      ],
      "text/plain": [
       "           12E050SCIENCES  12E051SCIENCES  5869  5870  71105  71120  71121  \\\n",
       "StudentID                                                                    \n",
       "301                   NaN             NaN   NaN   NaN    NaN    NaN    NaN   \n",
       "302                   NaN             NaN   NaN   NaN    NaN    5.5    NaN   \n",
       "303                   NaN             NaN   NaN   NaN    NaN    NaN    NaN   \n",
       "304                   NaN             NaN   NaN   NaN    NaN    NaN    NaN   \n",
       "305                   NaN             NaN   NaN   NaN    NaN    NaN    NaN   \n",
       "\n",
       "           71133  74110  74112  ...  T208011  T208012  T208013  T208014  \\\n",
       "StudentID                       ...                                       \n",
       "301          NaN    NaN    NaN  ...      NaN      NaN      NaN      NaN   \n",
       "302          NaN   5.75    NaN  ...      NaN      NaN      NaN      NaN   \n",
       "303          NaN    NaN    NaN  ...      NaN      NaN      NaN      NaN   \n",
       "304          NaN   5.25    NaN  ...      NaN      NaN      NaN      NaN   \n",
       "305          NaN   5.50    NaN  ...      NaN      NaN      NaN      NaN   \n",
       "\n",
       "           T208015  T208016  T208017  T208033  T214006  cluster  \n",
       "StudentID                                                        \n",
       "301            NaN      NaN      NaN      NaN      NaN        1  \n",
       "302            NaN      NaN      NaN      NaN      NaN        1  \n",
       "303            NaN      NaN      NaN      NaN      NaN        1  \n",
       "304            NaN      NaN      NaN      NaN      NaN        1  \n",
       "305            NaN      NaN      NaN      NaN      NaN        1  \n",
       "\n",
       "[5 rows x 169 columns]"
      ]
     },
     "execution_count": 88,
     "metadata": {},
     "output_type": "execute_result"
    }
   ],
   "source": [
    "test_cf.head() # merged dataframe with test students added to the predicted cluster"
   ]
  },
  {
   "cell_type": "code",
   "execution_count": 89,
   "metadata": {
    "ExecuteTime": {
     "end_time": "2022-09-23T10:42:20.600645Z",
     "start_time": "2022-09-23T10:42:20.582654Z"
    }
   },
   "outputs": [
    {
     "data": {
      "text/plain": [
       "57"
      ]
     },
     "execution_count": 89,
     "metadata": {},
     "output_type": "execute_result"
    }
   ],
   "source": [
    "len(index_list) "
   ]
  },
  {
   "cell_type": "markdown",
   "metadata": {},
   "source": [
    "## **Step 2: Get the courses the student took (student data)**"
   ]
  },
  {
   "cell_type": "code",
   "execution_count": 90,
   "metadata": {
    "ExecuteTime": {
     "end_time": "2022-09-23T10:42:20.625299Z",
     "start_time": "2022-09-23T10:42:20.604643Z"
    }
   },
   "outputs": [
    {
     "data": {
      "text/plain": [
       "365"
      ]
     },
     "execution_count": 90,
     "metadata": {},
     "output_type": "execute_result"
    }
   ],
   "source": [
    "# get test student \n",
    "user_id = index_list[10]\n",
    "user_id"
   ]
  },
  {
   "cell_type": "code",
   "execution_count": 91,
   "metadata": {
    "ExecuteTime": {
     "end_time": "2022-09-23T10:42:20.645263Z",
     "start_time": "2022-09-23T10:42:20.629836Z"
    }
   },
   "outputs": [],
   "source": [
    "student_data = test_cf[test_cf.index == user_id]"
   ]
  },
  {
   "cell_type": "code",
   "execution_count": 92,
   "metadata": {
    "ExecuteTime": {
     "end_time": "2022-09-23T10:42:20.726642Z",
     "start_time": "2022-09-23T10:42:20.650259Z"
    }
   },
   "outputs": [
    {
     "data": {
      "text/html": [
       "<div>\n",
       "<style scoped>\n",
       "    .dataframe tbody tr th:only-of-type {\n",
       "        vertical-align: middle;\n",
       "    }\n",
       "\n",
       "    .dataframe tbody tr th {\n",
       "        vertical-align: top;\n",
       "    }\n",
       "\n",
       "    .dataframe thead th {\n",
       "        text-align: right;\n",
       "    }\n",
       "</style>\n",
       "<table border=\"1\" class=\"dataframe\">\n",
       "  <thead>\n",
       "    <tr style=\"text-align: right;\">\n",
       "      <th></th>\n",
       "      <th>12E050SCIENCES</th>\n",
       "      <th>12E051SCIENCES</th>\n",
       "      <th>5869</th>\n",
       "      <th>5870</th>\n",
       "      <th>71105</th>\n",
       "      <th>71120</th>\n",
       "      <th>71121</th>\n",
       "      <th>71133</th>\n",
       "      <th>74110</th>\n",
       "      <th>74112</th>\n",
       "      <th>...</th>\n",
       "      <th>T208011</th>\n",
       "      <th>T208012</th>\n",
       "      <th>T208013</th>\n",
       "      <th>T208014</th>\n",
       "      <th>T208015</th>\n",
       "      <th>T208016</th>\n",
       "      <th>T208017</th>\n",
       "      <th>T208033</th>\n",
       "      <th>T214006</th>\n",
       "      <th>cluster</th>\n",
       "    </tr>\n",
       "    <tr>\n",
       "      <th>StudentID</th>\n",
       "      <th></th>\n",
       "      <th></th>\n",
       "      <th></th>\n",
       "      <th></th>\n",
       "      <th></th>\n",
       "      <th></th>\n",
       "      <th></th>\n",
       "      <th></th>\n",
       "      <th></th>\n",
       "      <th></th>\n",
       "      <th></th>\n",
       "      <th></th>\n",
       "      <th></th>\n",
       "      <th></th>\n",
       "      <th></th>\n",
       "      <th></th>\n",
       "      <th></th>\n",
       "      <th></th>\n",
       "      <th></th>\n",
       "      <th></th>\n",
       "      <th></th>\n",
       "    </tr>\n",
       "  </thead>\n",
       "  <tbody>\n",
       "    <tr>\n",
       "      <th>365</th>\n",
       "      <td>NaN</td>\n",
       "      <td>NaN</td>\n",
       "      <td>NaN</td>\n",
       "      <td>NaN</td>\n",
       "      <td>NaN</td>\n",
       "      <td>NaN</td>\n",
       "      <td>NaN</td>\n",
       "      <td>NaN</td>\n",
       "      <td>NaN</td>\n",
       "      <td>NaN</td>\n",
       "      <td>...</td>\n",
       "      <td>NaN</td>\n",
       "      <td>NaN</td>\n",
       "      <td>NaN</td>\n",
       "      <td>NaN</td>\n",
       "      <td>NaN</td>\n",
       "      <td>NaN</td>\n",
       "      <td>NaN</td>\n",
       "      <td>NaN</td>\n",
       "      <td>NaN</td>\n",
       "      <td>1</td>\n",
       "    </tr>\n",
       "  </tbody>\n",
       "</table>\n",
       "<p>1 rows × 169 columns</p>\n",
       "</div>"
      ],
      "text/plain": [
       "           12E050SCIENCES  12E051SCIENCES  5869  5870  71105  71120  71121  \\\n",
       "StudentID                                                                    \n",
       "365                   NaN             NaN   NaN   NaN    NaN    NaN    NaN   \n",
       "\n",
       "           71133  74110  74112  ...  T208011  T208012  T208013  T208014  \\\n",
       "StudentID                       ...                                       \n",
       "365          NaN    NaN    NaN  ...      NaN      NaN      NaN      NaN   \n",
       "\n",
       "           T208015  T208016  T208017  T208033  T214006  cluster  \n",
       "StudentID                                                        \n",
       "365            NaN      NaN      NaN      NaN      NaN        1  \n",
       "\n",
       "[1 rows x 169 columns]"
      ]
     },
     "execution_count": 92,
     "metadata": {},
     "output_type": "execute_result"
    }
   ],
   "source": [
    "student_data # all the courses the student took, NaN for courses the student did not take"
   ]
  },
  {
   "cell_type": "markdown",
   "metadata": {},
   "source": [
    "## **Step 3: Get the courses the student did not take (courses not taken), filter T1 courses**"
   ]
  },
  {
   "cell_type": "code",
   "execution_count": 93,
   "metadata": {
    "ExecuteTime": {
     "end_time": "2022-09-23T10:42:20.754374Z",
     "start_time": "2022-09-23T10:42:20.730638Z"
    }
   },
   "outputs": [],
   "source": [
    "courses_not_taken = list(student_data.columns[student_data.isna().all()]) "
   ]
  },
  {
   "cell_type": "code",
   "execution_count": 94,
   "metadata": {
    "ExecuteTime": {
     "end_time": "2022-09-23T10:42:20.770315Z",
     "start_time": "2022-09-23T10:42:20.754374Z"
    }
   },
   "outputs": [
    {
     "name": "stdout",
     "output_type": "stream",
     "text": [
      "['12E050SCIENCES', '12E051SCIENCES', '5869', '5870', '71105', '71120', '71121', '71133', '74110', '74112']\n"
     ]
    }
   ],
   "source": [
    "print(courses_not_taken[:10]) # T1 courses need to be filtered out!\n",
    "# at this step, we see that it holds courses from both bachelor programs"
   ]
  },
  {
   "cell_type": "code",
   "execution_count": 95,
   "metadata": {
    "ExecuteTime": {
     "end_time": "2022-09-23T10:42:20.785306Z",
     "start_time": "2022-09-23T10:42:20.776313Z"
    }
   },
   "outputs": [
    {
     "name": "stdout",
     "output_type": "stream",
     "text": [
      "['12E050SCIENCES', '12E051SCIENCES', '5869', '5870', '71105', '71120', '71121', '71133', '74110', '74112']\n"
     ]
    }
   ],
   "source": [
    "# T1 courses are courses from first year of political science, that need to be filtered out because the student cannot take any T1 courses \n",
    "# once all T1 requirements are passed. \n",
    "# This type of indication amongst courses does not exist for the bachelore of educational science\n",
    "prefix = 'T1'\n",
    "for course in courses_not_taken[:]:\n",
    "    if course.startswith(prefix):\n",
    "        courses_not_taken.remove(course)\n",
    "print(courses_not_taken[:10])\n"
   ]
  },
  {
   "cell_type": "code",
   "execution_count": 96,
   "metadata": {
    "ExecuteTime": {
     "end_time": "2022-09-23T10:42:20.821343Z",
     "start_time": "2022-09-23T10:42:20.790304Z"
    }
   },
   "outputs": [
    {
     "data": {
      "text/html": [
       "<div>\n",
       "<style scoped>\n",
       "    .dataframe tbody tr th:only-of-type {\n",
       "        vertical-align: middle;\n",
       "    }\n",
       "\n",
       "    .dataframe tbody tr th {\n",
       "        vertical-align: top;\n",
       "    }\n",
       "\n",
       "    .dataframe thead th {\n",
       "        text-align: right;\n",
       "    }\n",
       "</style>\n",
       "<table border=\"1\" class=\"dataframe\">\n",
       "  <thead>\n",
       "    <tr style=\"text-align: right;\">\n",
       "      <th></th>\n",
       "    </tr>\n",
       "    <tr>\n",
       "      <th></th>\n",
       "    </tr>\n",
       "  </thead>\n",
       "  <tbody>\n",
       "    <tr>\n",
       "      <th>12E050SCIENCES</th>\n",
       "    </tr>\n",
       "    <tr>\n",
       "      <th>12E051SCIENCES</th>\n",
       "    </tr>\n",
       "    <tr>\n",
       "      <th>5869</th>\n",
       "    </tr>\n",
       "    <tr>\n",
       "      <th>5870</th>\n",
       "    </tr>\n",
       "    <tr>\n",
       "      <th>71105</th>\n",
       "    </tr>\n",
       "  </tbody>\n",
       "</table>\n",
       "</div>"
      ],
      "text/plain": [
       "Empty DataFrame\n",
       "Columns: []\n",
       "Index: [12E050SCIENCES, 12E051SCIENCES, 5869, 5870, 71105]"
      ]
     },
     "execution_count": 96,
     "metadata": {},
     "output_type": "execute_result"
    }
   ],
   "source": [
    "# all the courses that the student did not take yet with T2 prefix need to be merged to a dataframe with empty index\n",
    "selection = pd.DataFrame()\n",
    "selection[''] = courses_not_taken\n",
    "selection = selection.set_index([''])\n",
    "selection.head()"
   ]
  },
  {
   "cell_type": "markdown",
   "metadata": {},
   "source": [
    "## Step 4: Get mean_cluster_grades and total cluster counts of all courses in the cluster"
   ]
  },
  {
   "cell_type": "code",
   "execution_count": 97,
   "metadata": {
    "ExecuteTime": {
     "end_time": "2022-09-23T10:42:20.893004Z",
     "start_time": "2022-09-23T10:42:20.826566Z"
    }
   },
   "outputs": [],
   "source": [
    "cf_mean = pd.DataFrame({\n",
    "    'mean_cluster_grade': hlp.round_to_nearest_grade(test_cf.mean(skipna = True))})"
   ]
  },
  {
   "cell_type": "code",
   "execution_count": 98,
   "metadata": {
    "ExecuteTime": {
     "end_time": "2022-09-23T10:42:20.913679Z",
     "start_time": "2022-09-23T10:42:20.897005Z"
    }
   },
   "outputs": [
    {
     "data": {
      "text/html": [
       "<div>\n",
       "<style scoped>\n",
       "    .dataframe tbody tr th:only-of-type {\n",
       "        vertical-align: middle;\n",
       "    }\n",
       "\n",
       "    .dataframe tbody tr th {\n",
       "        vertical-align: top;\n",
       "    }\n",
       "\n",
       "    .dataframe thead th {\n",
       "        text-align: right;\n",
       "    }\n",
       "</style>\n",
       "<table border=\"1\" class=\"dataframe\">\n",
       "  <thead>\n",
       "    <tr style=\"text-align: right;\">\n",
       "      <th></th>\n",
       "      <th>mean_cluster_grade</th>\n",
       "    </tr>\n",
       "  </thead>\n",
       "  <tbody>\n",
       "    <tr>\n",
       "      <th>12E050SCIENCES</th>\n",
       "      <td>NaN</td>\n",
       "    </tr>\n",
       "    <tr>\n",
       "      <th>12E051SCIENCES</th>\n",
       "      <td>NaN</td>\n",
       "    </tr>\n",
       "    <tr>\n",
       "      <th>5869</th>\n",
       "      <td>NaN</td>\n",
       "    </tr>\n",
       "    <tr>\n",
       "      <th>5870</th>\n",
       "      <td>NaN</td>\n",
       "    </tr>\n",
       "    <tr>\n",
       "      <th>71105</th>\n",
       "      <td>4.75</td>\n",
       "    </tr>\n",
       "  </tbody>\n",
       "</table>\n",
       "</div>"
      ],
      "text/plain": [
       "                mean_cluster_grade\n",
       "12E050SCIENCES                 NaN\n",
       "12E051SCIENCES                 NaN\n",
       "5869                           NaN\n",
       "5870                           NaN\n",
       "71105                         4.75"
      ]
     },
     "execution_count": 98,
     "metadata": {},
     "output_type": "execute_result"
    }
   ],
   "source": [
    "cf_mean.head() # NaN for those courses that are not in the study program"
   ]
  },
  {
   "cell_type": "code",
   "execution_count": 99,
   "metadata": {
    "ExecuteTime": {
     "end_time": "2022-09-23T10:42:20.941716Z",
     "start_time": "2022-09-23T10:42:20.913679Z"
    }
   },
   "outputs": [
    {
     "data": {
      "text/html": [
       "<div>\n",
       "<style scoped>\n",
       "    .dataframe tbody tr th:only-of-type {\n",
       "        vertical-align: middle;\n",
       "    }\n",
       "\n",
       "    .dataframe tbody tr th {\n",
       "        vertical-align: top;\n",
       "    }\n",
       "\n",
       "    .dataframe thead th {\n",
       "        text-align: right;\n",
       "    }\n",
       "</style>\n",
       "<table border=\"1\" class=\"dataframe\">\n",
       "  <thead>\n",
       "    <tr style=\"text-align: right;\">\n",
       "      <th></th>\n",
       "      <th>count</th>\n",
       "    </tr>\n",
       "  </thead>\n",
       "  <tbody>\n",
       "    <tr>\n",
       "      <th>12E050SCIENCES</th>\n",
       "      <td>0</td>\n",
       "    </tr>\n",
       "    <tr>\n",
       "      <th>12E051SCIENCES</th>\n",
       "      <td>0</td>\n",
       "    </tr>\n",
       "    <tr>\n",
       "      <th>5869</th>\n",
       "      <td>0</td>\n",
       "    </tr>\n",
       "    <tr>\n",
       "      <th>5870</th>\n",
       "      <td>0</td>\n",
       "    </tr>\n",
       "    <tr>\n",
       "      <th>71105</th>\n",
       "      <td>10</td>\n",
       "    </tr>\n",
       "  </tbody>\n",
       "</table>\n",
       "</div>"
      ],
      "text/plain": [
       "                count\n",
       "12E050SCIENCES      0\n",
       "12E051SCIENCES      0\n",
       "5869                0\n",
       "5870                0\n",
       "71105              10"
      ]
     },
     "execution_count": 99,
     "metadata": {},
     "output_type": "execute_result"
    }
   ],
   "source": [
    "cf_count = pd.DataFrame({'count': test_cf.count()})\n",
    "cf_count.head()"
   ]
  },
  {
   "cell_type": "markdown",
   "metadata": {},
   "source": [
    "## Step 4: Merge mean grades and total counts to the course selection of the test student\n",
    "### **This step is important, based on this recommendations can be derived**"
   ]
  },
  {
   "cell_type": "code",
   "execution_count": 100,
   "metadata": {
    "ExecuteTime": {
     "end_time": "2022-09-23T10:42:20.972681Z",
     "start_time": "2022-09-23T10:42:20.941716Z"
    }
   },
   "outputs": [],
   "source": [
    "mean_grades = pd.concat([selection, cf_mean, cf_count],join = 'inner', axis=1)"
   ]
  },
  {
   "cell_type": "markdown",
   "metadata": {},
   "source": [
    "**Recommendations based on mean grades**"
   ]
  },
  {
   "cell_type": "code",
   "execution_count": 101,
   "metadata": {
    "ExecuteTime": {
     "end_time": "2022-09-23T10:42:21.021133Z",
     "start_time": "2022-09-23T10:42:20.976678Z"
    }
   },
   "outputs": [
    {
     "data": {
      "text/html": [
       "<div>\n",
       "<style scoped>\n",
       "    .dataframe tbody tr th:only-of-type {\n",
       "        vertical-align: middle;\n",
       "    }\n",
       "\n",
       "    .dataframe tbody tr th {\n",
       "        vertical-align: top;\n",
       "    }\n",
       "\n",
       "    .dataframe thead th {\n",
       "        text-align: right;\n",
       "    }\n",
       "</style>\n",
       "<table border=\"1\" class=\"dataframe\">\n",
       "  <thead>\n",
       "    <tr style=\"text-align: right;\">\n",
       "      <th></th>\n",
       "      <th>mean_cluster_grade</th>\n",
       "      <th>count</th>\n",
       "    </tr>\n",
       "  </thead>\n",
       "  <tbody>\n",
       "    <tr>\n",
       "      <th>7421AG</th>\n",
       "      <td>5.25</td>\n",
       "      <td>17</td>\n",
       "    </tr>\n",
       "    <tr>\n",
       "      <th>7422AT</th>\n",
       "      <td>5.25</td>\n",
       "      <td>25</td>\n",
       "    </tr>\n",
       "    <tr>\n",
       "      <th>7422AU</th>\n",
       "      <td>5.25</td>\n",
       "      <td>21</td>\n",
       "    </tr>\n",
       "    <tr>\n",
       "      <th>7422AA</th>\n",
       "      <td>5.00</td>\n",
       "      <td>29</td>\n",
       "    </tr>\n",
       "    <tr>\n",
       "      <th>742380</th>\n",
       "      <td>5.00</td>\n",
       "      <td>124</td>\n",
       "    </tr>\n",
       "    <tr>\n",
       "      <th>7422AK</th>\n",
       "      <td>5.00</td>\n",
       "      <td>21</td>\n",
       "    </tr>\n",
       "  </tbody>\n",
       "</table>\n",
       "</div>"
      ],
      "text/plain": [
       "        mean_cluster_grade  count\n",
       "7421AG                5.25     17\n",
       "7422AT                5.25     25\n",
       "7422AU                5.25     21\n",
       "7422AA                5.00     29\n",
       "742380                5.00    124\n",
       "7422AK                5.00     21"
      ]
     },
     "execution_count": 101,
     "metadata": {},
     "output_type": "execute_result"
    }
   ],
   "source": [
    "recommendations = pd.DataFrame(mean_grades[mean_grades['count'] >= 5]) #at least 5 students should have taken the course \n",
    "recommendations = pd.DataFrame(recommendations.sort_values(by = 'mean_cluster_grade', ascending = False))\n",
    "recommendations.head(6)"
   ]
  },
  {
   "cell_type": "markdown",
   "metadata": {},
   "source": [
    "**Recommendations based on majority vote**"
   ]
  },
  {
   "cell_type": "code",
   "execution_count": 102,
   "metadata": {
    "ExecuteTime": {
     "end_time": "2022-09-23T10:42:21.060124Z",
     "start_time": "2022-09-23T10:42:21.027003Z"
    }
   },
   "outputs": [
    {
     "data": {
      "text/html": [
       "<div>\n",
       "<style scoped>\n",
       "    .dataframe tbody tr th:only-of-type {\n",
       "        vertical-align: middle;\n",
       "    }\n",
       "\n",
       "    .dataframe tbody tr th {\n",
       "        vertical-align: top;\n",
       "    }\n",
       "\n",
       "    .dataframe thead th {\n",
       "        text-align: right;\n",
       "    }\n",
       "</style>\n",
       "<table border=\"1\" class=\"dataframe\">\n",
       "  <thead>\n",
       "    <tr style=\"text-align: right;\">\n",
       "      <th></th>\n",
       "      <th>mean_cluster_grade</th>\n",
       "      <th>count</th>\n",
       "    </tr>\n",
       "  </thead>\n",
       "  <tbody>\n",
       "    <tr>\n",
       "      <th>7422A7</th>\n",
       "      <td>5.0</td>\n",
       "      <td>243</td>\n",
       "    </tr>\n",
       "    <tr>\n",
       "      <th>7422A8</th>\n",
       "      <td>5.0</td>\n",
       "      <td>243</td>\n",
       "    </tr>\n",
       "    <tr>\n",
       "      <th>7422A5</th>\n",
       "      <td>5.0</td>\n",
       "      <td>243</td>\n",
       "    </tr>\n",
       "    <tr>\n",
       "      <th>7417I</th>\n",
       "      <td>5.0</td>\n",
       "      <td>243</td>\n",
       "    </tr>\n",
       "    <tr>\n",
       "      <th>742871</th>\n",
       "      <td>5.0</td>\n",
       "      <td>214</td>\n",
       "    </tr>\n",
       "    <tr>\n",
       "      <th>742066</th>\n",
       "      <td>5.0</td>\n",
       "      <td>211</td>\n",
       "    </tr>\n",
       "  </tbody>\n",
       "</table>\n",
       "</div>"
      ],
      "text/plain": [
       "        mean_cluster_grade  count\n",
       "7422A7                 5.0    243\n",
       "7422A8                 5.0    243\n",
       "7422A5                 5.0    243\n",
       "7417I                  5.0    243\n",
       "742871                 5.0    214\n",
       "742066                 5.0    211"
      ]
     },
     "execution_count": 102,
     "metadata": {},
     "output_type": "execute_result"
    }
   ],
   "source": [
    "recommendations = pd.DataFrame(recommendations.sort_values(by = 'count', ascending = False))\n",
    "recommendations.head(6)"
   ]
  },
  {
   "cell_type": "markdown",
   "metadata": {},
   "source": [
    "## Step 5: Add MultiIndex for Evaluation"
   ]
  },
  {
   "cell_type": "code",
   "execution_count": 103,
   "metadata": {
    "ExecuteTime": {
     "end_time": "2022-09-23T10:42:21.088998Z",
     "start_time": "2022-09-23T10:42:21.060124Z"
    }
   },
   "outputs": [],
   "source": [
    "iterables = [test_cf['cluster'].unique().tolist(),[index_list[10]],recommendations.index.tolist()]\n",
    "index = pd.MultiIndex.from_product(iterables, names=[\"ClusterID\", \"StudentID\", \"CourseID\"])"
   ]
  },
  {
   "cell_type": "code",
   "execution_count": 104,
   "metadata": {
    "ExecuteTime": {
     "end_time": "2022-09-23T10:42:21.113387Z",
     "start_time": "2022-09-23T10:42:21.093994Z"
    }
   },
   "outputs": [],
   "source": [
    "recommendations = recommendations.set_index(index)"
   ]
  },
  {
   "cell_type": "code",
   "execution_count": 105,
   "metadata": {
    "ExecuteTime": {
     "end_time": "2022-09-23T10:42:21.163554Z",
     "start_time": "2022-09-23T10:42:21.126381Z"
    }
   },
   "outputs": [
    {
     "data": {
      "text/html": [
       "<div>\n",
       "<style scoped>\n",
       "    .dataframe tbody tr th:only-of-type {\n",
       "        vertical-align: middle;\n",
       "    }\n",
       "\n",
       "    .dataframe tbody tr th {\n",
       "        vertical-align: top;\n",
       "    }\n",
       "\n",
       "    .dataframe thead th {\n",
       "        text-align: right;\n",
       "    }\n",
       "</style>\n",
       "<table border=\"1\" class=\"dataframe\">\n",
       "  <thead>\n",
       "    <tr style=\"text-align: right;\">\n",
       "      <th></th>\n",
       "      <th></th>\n",
       "      <th></th>\n",
       "      <th>mean_cluster_grade</th>\n",
       "      <th>count</th>\n",
       "    </tr>\n",
       "    <tr>\n",
       "      <th>ClusterID</th>\n",
       "      <th>StudentID</th>\n",
       "      <th>CourseID</th>\n",
       "      <th></th>\n",
       "      <th></th>\n",
       "    </tr>\n",
       "  </thead>\n",
       "  <tbody>\n",
       "    <tr>\n",
       "      <th rowspan=\"5\" valign=\"top\">1</th>\n",
       "      <th rowspan=\"5\" valign=\"top\">365</th>\n",
       "      <th>7422A7</th>\n",
       "      <td>5.0</td>\n",
       "      <td>243</td>\n",
       "    </tr>\n",
       "    <tr>\n",
       "      <th>7422A8</th>\n",
       "      <td>5.0</td>\n",
       "      <td>243</td>\n",
       "    </tr>\n",
       "    <tr>\n",
       "      <th>7422A5</th>\n",
       "      <td>5.0</td>\n",
       "      <td>243</td>\n",
       "    </tr>\n",
       "    <tr>\n",
       "      <th>7417I</th>\n",
       "      <td>5.0</td>\n",
       "      <td>243</td>\n",
       "    </tr>\n",
       "    <tr>\n",
       "      <th>742871</th>\n",
       "      <td>5.0</td>\n",
       "      <td>214</td>\n",
       "    </tr>\n",
       "  </tbody>\n",
       "</table>\n",
       "</div>"
      ],
      "text/plain": [
       "                              mean_cluster_grade  count\n",
       "ClusterID StudentID CourseID                           \n",
       "1         365       7422A7                   5.0    243\n",
       "                    7422A8                   5.0    243\n",
       "                    7422A5                   5.0    243\n",
       "                    7417I                    5.0    243\n",
       "                    742871                   5.0    214"
      ]
     },
     "execution_count": 105,
     "metadata": {},
     "output_type": "execute_result"
    }
   ],
   "source": [
    "recommendations.head() \n",
    "# The student studies educational science. Luckily, no courses are recommended that belong to the other bachelor program"
   ]
  }
 ],
 "metadata": {
  "kernelspec": {
   "display_name": "Python 3",
   "language": "python",
   "name": "python3"
  },
  "language_info": {
   "codemirror_mode": {
    "name": "ipython",
    "version": 3
   },
   "file_extension": ".py",
   "mimetype": "text/x-python",
   "name": "python",
   "nbconvert_exporter": "python",
   "pygments_lexer": "ipython3",
   "version": "3.8.5"
  }
 },
 "nbformat": 4,
 "nbformat_minor": 4
}
