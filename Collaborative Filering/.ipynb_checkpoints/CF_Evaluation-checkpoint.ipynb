{
 "cells": [
  {
   "cell_type": "code",
   "execution_count": 87,
   "metadata": {
    "ExecuteTime": {
     "end_time": "2022-09-23T10:42:43.115055Z",
     "start_time": "2022-09-23T10:42:43.097045Z"
    }
   },
   "outputs": [],
   "source": [
    "import pandas as pd\n",
    "import numpy as np"
   ]
  },
  {
   "cell_type": "markdown",
   "metadata": {},
   "source": [
    "# Evaluation of CF-based Recommendations"
   ]
  },
  {
   "cell_type": "markdown",
   "metadata": {},
   "source": [
    "The pre-processed data is initially split in training and test sets and the last ten courses are removed. The quality of each recommendation approach is assessed offline, by examining whether courses that are proposed to the user of interest, were actually taken. This is achieved by removing entries, obtain corresponding recommendations, and then compare those to the actual course selection. <br> Per RecSys-Approach and for both study programs, two different ranking methods are applied: **majority vote** and **mean grades**, and are evaluated separately in order to identify whether any statements of the course selection procedure can be derived. Although this approach merely assess how accurate the Course RecSys can predict the course history, it serves as an initial benchmark for offline evaluation as it still assesses how accurate course preferences are captured. What cannot be anticipated is whether a different choice would have been made, if a student was confronted with the obtained recommendation list. <br>\n",
    "In order to evaluate the recommendation quality, key measurement metrics from the traditional **Information Retrieval (IR)** are applied. The table below depicts the four possible outcomes of the course recommendation process, from which key metrics can be derived and is commonly known as the *Confusion Matrix*. <br> The state in which a course, that was taken was truly recommended, is defined as a **True Positive (TP)**, however if it was not recommended it is defined as a **False Negative (FN)**. The scenario in which a course that was not taken by a student, was actually provided as a recommendation is denoted as **False Positive (FP)** or as a **True Negative (TN)**, for the case of non-recommendation. Given these four building blocks, the evaluation metrics **Recall**, **Precision** and **F1** are derived.<br>\n",
    "<br>\n",
    "\n",
    "| |**Recommended** | **Not Recommended**  | \n",
    "|---:|:-------------|:-----------|\n",
    "|**Course Taken**| True Positive (TP)  | False Negative (FN)      | \n",
    "| **Course Not Taken**| False Positive (FP)  |True Negative (TN)   | \n",
    "\n",
    "<br>\n",
    "\n",
    "The metric **Recall** is defined as the number of successful recommendations to the total number of course choices made and is given by: <br>\n",
    "\\begin{equation}\n",
    "    \\label{eq:Recall}\n",
    "    Recall = \\frac{TP}{TP + FN}\n",
    "\\end{equation}<br>\n",
    "**Precision** can be understood as a measure of result relevancy, where the ratio of all courses truly taken out of any given recommendation list, to all courses that were recommended, is examined: <br>\n",
    "\\begin{equation}\n",
    "    \\label{eq:Precision}\n",
    "    Precision = \\frac{TP}{TP + FP}\n",
    "\\end{equation}<br>\n",
    "The **F-measure** is a metric derived from formulas **Recall** and **Precision** and when viewed from the probability perspective, can be seen as the number of course recommendations that need to be made before the first failure is detected. The most common F-measure represents a consistent mean of Precision and Recall, denoted as **F1** and is defined as:<br>\n",
    "\\begin{equation}\n",
    "    \\label{eq:F1}\n",
    "    F1 = \\frac{2 \\times (Precision \\times Recall)}{(Precision + Recall)}\n",
    "\\end{equation}"
   ]
  },
  {
   "cell_type": "code",
   "execution_count": 88,
   "metadata": {
    "ExecuteTime": {
     "end_time": "2022-09-23T10:42:43.162011Z",
     "start_time": "2022-09-23T10:42:43.119033Z"
    }
   },
   "outputs": [],
   "source": [
    "# load data and validate that Multi Index Data Frame was loaded correctly\n",
    "\n",
    "##  Recommendation List, two different ranking methods\n",
    "mean_grades = pd.read_csv('C:~your_path~/RecSys/obtained_data/rec_mean_grades.csv', index_col = [0, 1, 2])\n",
    "maj_vote = pd.read_csv('C:~your_path~/RecSys/obtained_data/rec_majority.csv', index_col = [0, 1, 2])\n",
    "\n",
    "\n",
    "## initial data set that is needed for validation\n",
    "true_test_df = pd.read_csv('C:~your_path~/RecSys/obtained_data/test_df.csv')"
   ]
  },
  {
   "cell_type": "code",
   "execution_count": 89,
   "metadata": {
    "ExecuteTime": {
     "end_time": "2022-09-23T10:42:43.194009Z",
     "start_time": "2022-09-23T10:42:43.167005Z"
    }
   },
   "outputs": [
    {
     "data": {
      "text/html": [
       "<div>\n",
       "<style scoped>\n",
       "    .dataframe tbody tr th:only-of-type {\n",
       "        vertical-align: middle;\n",
       "    }\n",
       "\n",
       "    .dataframe tbody tr th {\n",
       "        vertical-align: top;\n",
       "    }\n",
       "\n",
       "    .dataframe thead th {\n",
       "        text-align: right;\n",
       "    }\n",
       "</style>\n",
       "<table border=\"1\" class=\"dataframe\">\n",
       "  <thead>\n",
       "    <tr style=\"text-align: right;\">\n",
       "      <th></th>\n",
       "      <th>CourseID</th>\n",
       "      <th>Grades</th>\n",
       "    </tr>\n",
       "    <tr>\n",
       "      <th>StudentID</th>\n",
       "      <th></th>\n",
       "      <th></th>\n",
       "    </tr>\n",
       "  </thead>\n",
       "  <tbody>\n",
       "    <tr>\n",
       "      <th>313</th>\n",
       "      <td>742004</td>\n",
       "      <td>5.25</td>\n",
       "    </tr>\n",
       "    <tr>\n",
       "      <th>313</th>\n",
       "      <td>742003</td>\n",
       "      <td>5.75</td>\n",
       "    </tr>\n",
       "    <tr>\n",
       "      <th>313</th>\n",
       "      <td>742002</td>\n",
       "      <td>5.50</td>\n",
       "    </tr>\n",
       "    <tr>\n",
       "      <th>313</th>\n",
       "      <td>742001</td>\n",
       "      <td>5.00</td>\n",
       "    </tr>\n",
       "    <tr>\n",
       "      <th>313</th>\n",
       "      <td>742064</td>\n",
       "      <td>5.25</td>\n",
       "    </tr>\n",
       "  </tbody>\n",
       "</table>\n",
       "</div>"
      ],
      "text/plain": [
       "          CourseID  Grades\n",
       "StudentID                 \n",
       "313         742004    5.25\n",
       "313         742003    5.75\n",
       "313         742002    5.50\n",
       "313         742001    5.00\n",
       "313         742064    5.25"
      ]
     },
     "execution_count": 89,
     "metadata": {},
     "output_type": "execute_result"
    }
   ],
   "source": [
    "true_test_df = true_test_df.set_index(['StudentID'])\n",
    "true_test_df.head()"
   ]
  },
  {
   "cell_type": "code",
   "execution_count": 90,
   "metadata": {
    "ExecuteTime": {
     "end_time": "2022-09-23T10:42:43.229179Z",
     "start_time": "2022-09-23T10:42:43.198986Z"
    }
   },
   "outputs": [
    {
     "data": {
      "text/html": [
       "<div>\n",
       "<style scoped>\n",
       "    .dataframe tbody tr th:only-of-type {\n",
       "        vertical-align: middle;\n",
       "    }\n",
       "\n",
       "    .dataframe tbody tr th {\n",
       "        vertical-align: top;\n",
       "    }\n",
       "\n",
       "    .dataframe thead th {\n",
       "        text-align: right;\n",
       "    }\n",
       "</style>\n",
       "<table border=\"1\" class=\"dataframe\">\n",
       "  <thead>\n",
       "    <tr style=\"text-align: right;\">\n",
       "      <th></th>\n",
       "      <th></th>\n",
       "      <th></th>\n",
       "      <th>mean_cluster_grade</th>\n",
       "      <th>count</th>\n",
       "    </tr>\n",
       "    <tr>\n",
       "      <th>ClusterID</th>\n",
       "      <th>StudentID</th>\n",
       "      <th>CourseID</th>\n",
       "      <th></th>\n",
       "      <th></th>\n",
       "    </tr>\n",
       "  </thead>\n",
       "  <tbody>\n",
       "    <tr>\n",
       "      <th>0</th>\n",
       "      <th>2</th>\n",
       "      <th>12E050SCIENCES</th>\n",
       "      <td>5.0</td>\n",
       "      <td>82</td>\n",
       "    </tr>\n",
       "  </tbody>\n",
       "</table>\n",
       "</div>"
      ],
      "text/plain": [
       "                                    mean_cluster_grade  count\n",
       "ClusterID StudentID CourseID                                 \n",
       "0         2         12E050SCIENCES                 5.0     82"
      ]
     },
     "execution_count": 90,
     "metadata": {},
     "output_type": "execute_result"
    }
   ],
   "source": [
    "mean_grades.head(1)"
   ]
  },
  {
   "cell_type": "code",
   "execution_count": 91,
   "metadata": {
    "ExecuteTime": {
     "end_time": "2022-09-23T10:42:43.260684Z",
     "start_time": "2022-09-23T10:42:43.229179Z"
    }
   },
   "outputs": [
    {
     "data": {
      "text/html": [
       "<div>\n",
       "<style scoped>\n",
       "    .dataframe tbody tr th:only-of-type {\n",
       "        vertical-align: middle;\n",
       "    }\n",
       "\n",
       "    .dataframe tbody tr th {\n",
       "        vertical-align: top;\n",
       "    }\n",
       "\n",
       "    .dataframe thead th {\n",
       "        text-align: right;\n",
       "    }\n",
       "</style>\n",
       "<table border=\"1\" class=\"dataframe\">\n",
       "  <thead>\n",
       "    <tr style=\"text-align: right;\">\n",
       "      <th></th>\n",
       "      <th></th>\n",
       "      <th></th>\n",
       "      <th>mean_cluster_grade</th>\n",
       "      <th>count</th>\n",
       "    </tr>\n",
       "    <tr>\n",
       "      <th>ClusterID</th>\n",
       "      <th>StudentID</th>\n",
       "      <th>CourseID</th>\n",
       "      <th></th>\n",
       "      <th></th>\n",
       "    </tr>\n",
       "  </thead>\n",
       "  <tbody>\n",
       "    <tr>\n",
       "      <th>0</th>\n",
       "      <th>2</th>\n",
       "      <th>T207037</th>\n",
       "      <td>5.0</td>\n",
       "      <td>207</td>\n",
       "    </tr>\n",
       "  </tbody>\n",
       "</table>\n",
       "</div>"
      ],
      "text/plain": [
       "                              mean_cluster_grade  count\n",
       "ClusterID StudentID CourseID                           \n",
       "0         2         T207037                  5.0    207"
      ]
     },
     "execution_count": 91,
     "metadata": {},
     "output_type": "execute_result"
    }
   ],
   "source": [
    "maj_vote.head(1)"
   ]
  },
  {
   "cell_type": "markdown",
   "metadata": {},
   "source": [
    "## Core Function of Evaluation Method"
   ]
  },
  {
   "cell_type": "markdown",
   "metadata": {},
   "source": [
    "### Calculation of Precision, Recal and F1"
   ]
  },
  {
   "cell_type": "code",
   "execution_count": 92,
   "metadata": {
    "ExecuteTime": {
     "end_time": "2022-09-23T10:42:43.294686Z",
     "start_time": "2022-09-23T10:42:43.265914Z"
    }
   },
   "outputs": [],
   "source": [
    "# calculate precision, recall and f1 \n",
    "# a confusion matrix as a whole cannot be build as true negatives will highly delute the evaluation performance\n",
    "# tn = (if a course is not recommended it is not taken)\n",
    "\n",
    "# input:\n",
    "#        the true test dataframe,\n",
    "#        the recommendation dataframe\n",
    "#        'entries removed': (int) number of entries removed from the original test dataframe (here 10)\n",
    "\n",
    "#output: a dataframe with the respective metric calcualted per StudentID\n",
    "\n",
    "def evaluate_rec(true_test_df, rec_df, entries_removed):\n",
    "    evaluation_df = pd.DataFrame()\n",
    "    IDs = rec_df.index.get_level_values('StudentID').unique().tolist()\n",
    "    for i in IDs:\n",
    "        true = set(true_test_df[true_test_df.index == i][-entries_removed:]['CourseID'].tolist())\n",
    "        rec_temp = rec_df[rec_df.index.get_level_values('StudentID') == i]\n",
    "        rec = set(rec_temp.index.get_level_values('CourseID').tolist())\n",
    "        intersection = true & rec\n",
    "        tp = len(intersection)\n",
    "        fn = len(true) - len(intersection)\n",
    "        fp = len(rec) - tp\n",
    "        recall = tp / (tp + fn)\n",
    "        precision = tp / (tp + fp)\n",
    "        if (recall > 0) & (precision > 0): \n",
    "            f1 = (2*(precision * recall)) / (precision + recall)\n",
    "        else: \n",
    "            f1 = 0\n",
    "        cluster = rec_temp.index.get_level_values('ClusterID').unique().tolist()[0]\n",
    "        evaluation_i = pd.DataFrame(columns = ['ClusterID','StudentID', 'Recall', 'Precision', 'F1'], index = [0])\n",
    "        evaluation_i.iloc[0] = [cluster, i, recall, precision, f1]\n",
    "        evaluation_df = pd.concat([evaluation_df, evaluation_i], axis = 0)\n",
    "    evaluation_df = evaluation_df.set_index(['StudentID'])\n",
    "    return evaluation_df"
   ]
  },
  {
   "cell_type": "code",
   "execution_count": 93,
   "metadata": {
    "ExecuteTime": {
     "end_time": "2022-09-23T10:42:44.462857Z",
     "start_time": "2022-09-23T10:42:43.298685Z"
    }
   },
   "outputs": [],
   "source": [
    "eval_rec_maj = evaluate_rec(true_test_df, maj_vote, 10) \n",
    "eval_rec_mean = evaluate_rec(true_test_df, mean_grades, 10) "
   ]
  },
  {
   "cell_type": "code",
   "execution_count": 94,
   "metadata": {
    "ExecuteTime": {
     "end_time": "2022-09-23T10:42:44.503175Z",
     "start_time": "2022-09-23T10:42:44.468427Z"
    }
   },
   "outputs": [
    {
     "data": {
      "text/html": [
       "<div>\n",
       "<style scoped>\n",
       "    .dataframe tbody tr th:only-of-type {\n",
       "        vertical-align: middle;\n",
       "    }\n",
       "\n",
       "    .dataframe tbody tr th {\n",
       "        vertical-align: top;\n",
       "    }\n",
       "\n",
       "    .dataframe thead th {\n",
       "        text-align: right;\n",
       "    }\n",
       "</style>\n",
       "<table border=\"1\" class=\"dataframe\">\n",
       "  <thead>\n",
       "    <tr style=\"text-align: right;\">\n",
       "      <th></th>\n",
       "      <th>ClusterID</th>\n",
       "      <th>Recall</th>\n",
       "      <th>Precision</th>\n",
       "      <th>F1</th>\n",
       "    </tr>\n",
       "    <tr>\n",
       "      <th>StudentID</th>\n",
       "      <th></th>\n",
       "      <th></th>\n",
       "      <th></th>\n",
       "      <th></th>\n",
       "    </tr>\n",
       "  </thead>\n",
       "  <tbody>\n",
       "    <tr>\n",
       "      <th>2</th>\n",
       "      <td>0</td>\n",
       "      <td>0.3</td>\n",
       "      <td>0.3</td>\n",
       "      <td>0.3</td>\n",
       "    </tr>\n",
       "    <tr>\n",
       "      <th>6</th>\n",
       "      <td>0</td>\n",
       "      <td>0.6</td>\n",
       "      <td>0.6</td>\n",
       "      <td>0.6</td>\n",
       "    </tr>\n",
       "    <tr>\n",
       "      <th>9</th>\n",
       "      <td>0</td>\n",
       "      <td>0.4</td>\n",
       "      <td>0.4</td>\n",
       "      <td>0.4</td>\n",
       "    </tr>\n",
       "    <tr>\n",
       "      <th>16</th>\n",
       "      <td>0</td>\n",
       "      <td>0.4</td>\n",
       "      <td>0.4</td>\n",
       "      <td>0.4</td>\n",
       "    </tr>\n",
       "    <tr>\n",
       "      <th>17</th>\n",
       "      <td>0</td>\n",
       "      <td>0.555556</td>\n",
       "      <td>0.5</td>\n",
       "      <td>0.526316</td>\n",
       "    </tr>\n",
       "    <tr>\n",
       "      <th>18</th>\n",
       "      <td>0</td>\n",
       "      <td>0.5</td>\n",
       "      <td>0.5</td>\n",
       "      <td>0.5</td>\n",
       "    </tr>\n",
       "    <tr>\n",
       "      <th>20</th>\n",
       "      <td>0</td>\n",
       "      <td>0.4</td>\n",
       "      <td>0.4</td>\n",
       "      <td>0.4</td>\n",
       "    </tr>\n",
       "    <tr>\n",
       "      <th>23</th>\n",
       "      <td>0</td>\n",
       "      <td>0.4</td>\n",
       "      <td>0.4</td>\n",
       "      <td>0.4</td>\n",
       "    </tr>\n",
       "    <tr>\n",
       "      <th>38</th>\n",
       "      <td>0</td>\n",
       "      <td>0.4</td>\n",
       "      <td>0.4</td>\n",
       "      <td>0.4</td>\n",
       "    </tr>\n",
       "    <tr>\n",
       "      <th>40</th>\n",
       "      <td>0</td>\n",
       "      <td>0.555556</td>\n",
       "      <td>0.5</td>\n",
       "      <td>0.526316</td>\n",
       "    </tr>\n",
       "  </tbody>\n",
       "</table>\n",
       "</div>"
      ],
      "text/plain": [
       "          ClusterID    Recall Precision        F1\n",
       "StudentID                                        \n",
       "2                 0       0.3       0.3       0.3\n",
       "6                 0       0.6       0.6       0.6\n",
       "9                 0       0.4       0.4       0.4\n",
       "16                0       0.4       0.4       0.4\n",
       "17                0  0.555556       0.5  0.526316\n",
       "18                0       0.5       0.5       0.5\n",
       "20                0       0.4       0.4       0.4\n",
       "23                0       0.4       0.4       0.4\n",
       "38                0       0.4       0.4       0.4\n",
       "40                0  0.555556       0.5  0.526316"
      ]
     },
     "execution_count": 94,
     "metadata": {},
     "output_type": "execute_result"
    }
   ],
   "source": [
    "eval_rec_maj.head(10) #evaluation of each student with defined evaluation metric"
   ]
  },
  {
   "cell_type": "markdown",
   "metadata": {},
   "source": [
    "### Overview of Evaluation Metrics per Method and Semester"
   ]
  },
  {
   "cell_type": "code",
   "execution_count": 95,
   "metadata": {
    "ExecuteTime": {
     "end_time": "2022-09-23T10:42:44.520937Z",
     "start_time": "2022-09-23T10:42:44.505379Z"
    }
   },
   "outputs": [],
   "source": [
    "a = eval_rec_maj.mean().tolist()\n",
    "b = eval_rec_mean.mean().tolist()\n",
    "\n",
    "result = [a, b]"
   ]
  },
  {
   "cell_type": "code",
   "execution_count": 96,
   "metadata": {
    "ExecuteTime": {
     "end_time": "2022-09-23T10:42:44.570054Z",
     "start_time": "2022-09-23T10:42:44.520937Z"
    }
   },
   "outputs": [
    {
     "data": {
      "text/html": [
       "<div>\n",
       "<style scoped>\n",
       "    .dataframe tbody tr th:only-of-type {\n",
       "        vertical-align: middle;\n",
       "    }\n",
       "\n",
       "    .dataframe tbody tr th {\n",
       "        vertical-align: top;\n",
       "    }\n",
       "\n",
       "    .dataframe thead th {\n",
       "        text-align: right;\n",
       "    }\n",
       "</style>\n",
       "<table border=\"1\" class=\"dataframe\">\n",
       "  <thead>\n",
       "    <tr style=\"text-align: right;\">\n",
       "      <th></th>\n",
       "      <th>Majority Vote</th>\n",
       "      <th>Mean Grades</th>\n",
       "    </tr>\n",
       "  </thead>\n",
       "  <tbody>\n",
       "    <tr>\n",
       "      <th>Recall</th>\n",
       "      <td>0.463212</td>\n",
       "      <td>0.309337</td>\n",
       "    </tr>\n",
       "    <tr>\n",
       "      <th>Precision</th>\n",
       "      <td>0.460504</td>\n",
       "      <td>0.307563</td>\n",
       "    </tr>\n",
       "    <tr>\n",
       "      <th>F1</th>\n",
       "      <td>0.461787</td>\n",
       "      <td>0.308403</td>\n",
       "    </tr>\n",
       "  </tbody>\n",
       "</table>\n",
       "</div>"
      ],
      "text/plain": [
       "          Majority Vote Mean Grades\n",
       "Recall         0.463212    0.309337\n",
       "Precision      0.460504    0.307563\n",
       "F1             0.461787    0.308403"
      ]
     },
     "execution_count": 96,
     "metadata": {},
     "output_type": "execute_result"
    }
   ],
   "source": [
    "df = pd.DataFrame(columns = ['Majority Vote', 'Mean Grades'],\n",
    "                 index = ['Recall', 'Precision', 'F1'])\n",
    "df.loc['Recall'] = pd.Series({'Majority Vote':result[0][1], 'Mean Grades':result[1][1]})\n",
    "df.loc['Precision'] = pd.Series({'Majority Vote':result[0][2], 'Mean Grades':result[1][2]})\n",
    "df.loc['F1'] = pd.Series({'Majority Vote':result[0][3], 'Mean Grades':result[1][3]})\n",
    "\n",
    "df"
   ]
  },
  {
   "cell_type": "markdown",
   "metadata": {},
   "source": [
    "### Overview of Evaluation Metrics per Cluster, Method and Semester"
   ]
  },
  {
   "cell_type": "code",
   "execution_count": 97,
   "metadata": {
    "ExecuteTime": {
     "end_time": "2022-09-23T10:42:44.594778Z",
     "start_time": "2022-09-23T10:42:44.575056Z"
    }
   },
   "outputs": [],
   "source": [
    "clusters = [0, 1]\n",
    "list_of_df = [eval_rec_maj, eval_rec_mean]\n",
    "df_cluster = pd.DataFrame(columns = ['Majority Vote', 'Mean Grades'],\n",
    "                 index = ['Recall', 'Precision', 'F1'])\n",
    "\n",
    "def create_metric_df(clusters, list_of_df, df_cluster):\n",
    "    df_fin_list = []\n",
    "    for i in clusters:\n",
    "        for dfi in range(len(list_of_df)):\n",
    "            df = list_of_df[dfi]\n",
    "            a = df[df['ClusterID'] == i].mean().tolist()\n",
    "            column = df_cluster.columns[dfi]\n",
    "        \n",
    "            df_cluster.loc['Recall'][dfi] = a[1]\n",
    "            df_cluster.loc['Precision'][dfi] = a[2]\n",
    "            df_cluster.loc['F1'][dfi] = a[3]\n",
    "    \n",
    "        iterables = [[i] ,df_cluster.index.tolist()]\n",
    "        index = pd.MultiIndex.from_product(iterables, names=[\"ClusterID\", 'Metrics'])\n",
    "        temp = df_cluster.set_index(index)\n",
    "        df_fin_list.append(temp)\n",
    "    \n",
    "    df_fin = pd.concat(df_fin_list, axis = 0)\n",
    "    return df_fin"
   ]
  },
  {
   "cell_type": "code",
   "execution_count": 98,
   "metadata": {
    "ExecuteTime": {
     "end_time": "2022-09-23T10:42:44.642522Z",
     "start_time": "2022-09-23T10:42:44.594778Z"
    }
   },
   "outputs": [
    {
     "data": {
      "text/html": [
       "<div>\n",
       "<style scoped>\n",
       "    .dataframe tbody tr th:only-of-type {\n",
       "        vertical-align: middle;\n",
       "    }\n",
       "\n",
       "    .dataframe tbody tr th {\n",
       "        vertical-align: top;\n",
       "    }\n",
       "\n",
       "    .dataframe thead th {\n",
       "        text-align: right;\n",
       "    }\n",
       "</style>\n",
       "<table border=\"1\" class=\"dataframe\">\n",
       "  <thead>\n",
       "    <tr style=\"text-align: right;\">\n",
       "      <th></th>\n",
       "      <th></th>\n",
       "      <th>Majority Vote</th>\n",
       "      <th>Mean Grades</th>\n",
       "    </tr>\n",
       "    <tr>\n",
       "      <th>ClusterID</th>\n",
       "      <th>Metrics</th>\n",
       "      <th></th>\n",
       "      <th></th>\n",
       "    </tr>\n",
       "  </thead>\n",
       "  <tbody>\n",
       "    <tr>\n",
       "      <th rowspan=\"3\" valign=\"top\">0</th>\n",
       "      <th>Recall</th>\n",
       "      <td>0.521326</td>\n",
       "      <td>0.359857</td>\n",
       "    </tr>\n",
       "    <tr>\n",
       "      <th>Precision</th>\n",
       "      <td>0.516129</td>\n",
       "      <td>0.356452</td>\n",
       "    </tr>\n",
       "    <tr>\n",
       "      <th>F1</th>\n",
       "      <td>0.518591</td>\n",
       "      <td>0.358065</td>\n",
       "    </tr>\n",
       "    <tr>\n",
       "      <th rowspan=\"3\" valign=\"top\">1</th>\n",
       "      <th>Recall</th>\n",
       "      <td>0.4</td>\n",
       "      <td>0.254386</td>\n",
       "    </tr>\n",
       "    <tr>\n",
       "      <th>Precision</th>\n",
       "      <td>0.4</td>\n",
       "      <td>0.254386</td>\n",
       "    </tr>\n",
       "    <tr>\n",
       "      <th>F1</th>\n",
       "      <td>0.4</td>\n",
       "      <td>0.254386</td>\n",
       "    </tr>\n",
       "  </tbody>\n",
       "</table>\n",
       "</div>"
      ],
      "text/plain": [
       "                    Majority Vote Mean Grades\n",
       "ClusterID Metrics                            \n",
       "0         Recall         0.521326    0.359857\n",
       "          Precision      0.516129    0.356452\n",
       "          F1             0.518591    0.358065\n",
       "1         Recall              0.4    0.254386\n",
       "          Precision           0.4    0.254386\n",
       "          F1                  0.4    0.254386"
      ]
     },
     "execution_count": 98,
     "metadata": {},
     "output_type": "execute_result"
    }
   ],
   "source": [
    "df_final = create_metric_df(clusters, list_of_df, df_cluster)\n",
    "df_final"
   ]
  },
  {
   "cell_type": "markdown",
   "metadata": {},
   "source": [
    "Recommendation Systems originate from the urge to facilitate user navigation through item catalogues on diverse content platforms, which needs to be clearly distinguished to the Learning Environment of a university. Students enrolled in university programs need to complete a mandatory course workload and the amount of courses that can be freely chosen varies depending on the program. This situation does not exist on platforms where users merely consume content. There is no such thing as **mandatory content**, before movie or music choices can be made. The fact that the performance metrics of cluster 1 are significantly lower then those obtained for cluster 0 indicate that if one can filter out 'mandatory' content, the recommendation performance will improve. Mandatory courses in the bachelor of Political Science are indicated with the prefix 'T1' and can be easily filtered. In the Bachelor of Educational Science no such seperation exist, as there most of the time a *choose-x-out-of-y*-scenario. Collaborative Filtering internal ranking mechanism will rank course that can be understood as mandatory at the very top, even though all choices of the mandatory workload were already made.\n"
   ]
  },
  {
   "cell_type": "markdown",
   "metadata": {},
   "source": [
    "# Step by Step Illustration of Internal Mechanism Of Rec-Sys Evaluation\n"
   ]
  },
  {
   "cell_type": "code",
   "execution_count": 99,
   "metadata": {
    "ExecuteTime": {
     "end_time": "2022-09-23T10:42:44.682614Z",
     "start_time": "2022-09-23T10:42:44.642522Z"
    }
   },
   "outputs": [
    {
     "data": {
      "text/html": [
       "<div>\n",
       "<style scoped>\n",
       "    .dataframe tbody tr th:only-of-type {\n",
       "        vertical-align: middle;\n",
       "    }\n",
       "\n",
       "    .dataframe tbody tr th {\n",
       "        vertical-align: top;\n",
       "    }\n",
       "\n",
       "    .dataframe thead th {\n",
       "        text-align: right;\n",
       "    }\n",
       "</style>\n",
       "<table border=\"1\" class=\"dataframe\">\n",
       "  <thead>\n",
       "    <tr style=\"text-align: right;\">\n",
       "      <th></th>\n",
       "      <th>CourseID</th>\n",
       "      <th>Grades</th>\n",
       "    </tr>\n",
       "    <tr>\n",
       "      <th>StudentID</th>\n",
       "      <th></th>\n",
       "      <th></th>\n",
       "    </tr>\n",
       "  </thead>\n",
       "  <tbody>\n",
       "    <tr>\n",
       "      <th>17</th>\n",
       "      <td>T207002</td>\n",
       "      <td>5.25</td>\n",
       "    </tr>\n",
       "    <tr>\n",
       "      <th>17</th>\n",
       "      <td>T207034</td>\n",
       "      <td>4.50</td>\n",
       "    </tr>\n",
       "    <tr>\n",
       "      <th>17</th>\n",
       "      <td>T207004</td>\n",
       "      <td>4.75</td>\n",
       "    </tr>\n",
       "    <tr>\n",
       "      <th>17</th>\n",
       "      <td>T207002</td>\n",
       "      <td>4.00</td>\n",
       "    </tr>\n",
       "    <tr>\n",
       "      <th>17</th>\n",
       "      <td>J2P201</td>\n",
       "      <td>4.50</td>\n",
       "    </tr>\n",
       "    <tr>\n",
       "      <th>17</th>\n",
       "      <td>12E050SCIENCES</td>\n",
       "      <td>5.50</td>\n",
       "    </tr>\n",
       "    <tr>\n",
       "      <th>17</th>\n",
       "      <td>12E051SCIENCES</td>\n",
       "      <td>5.50</td>\n",
       "    </tr>\n",
       "    <tr>\n",
       "      <th>17</th>\n",
       "      <td>T206006</td>\n",
       "      <td>5.25</td>\n",
       "    </tr>\n",
       "    <tr>\n",
       "      <th>17</th>\n",
       "      <td>T205004</td>\n",
       "      <td>5.75</td>\n",
       "    </tr>\n",
       "    <tr>\n",
       "      <th>17</th>\n",
       "      <td>T206001</td>\n",
       "      <td>4.75</td>\n",
       "    </tr>\n",
       "  </tbody>\n",
       "</table>\n",
       "</div>"
      ],
      "text/plain": [
       "                 CourseID  Grades\n",
       "StudentID                        \n",
       "17                T207002    5.25\n",
       "17                T207034    4.50\n",
       "17                T207004    4.75\n",
       "17                T207002    4.00\n",
       "17                 J2P201    4.50\n",
       "17         12E050SCIENCES    5.50\n",
       "17         12E051SCIENCES    5.50\n",
       "17                T206006    5.25\n",
       "17                T205004    5.75\n",
       "17                T206001    4.75"
      ]
     },
     "execution_count": 99,
     "metadata": {},
     "output_type": "execute_result"
    }
   ],
   "source": [
    "# starting with test user 17\n",
    "# get last 10 entries from test_data, corresponds to 'entries removed' in the preprocessing step\n",
    "true_test_df[true_test_df.index == 17][-10:] "
   ]
  },
  {
   "cell_type": "code",
   "execution_count": 100,
   "metadata": {
    "ExecuteTime": {
     "end_time": "2022-09-23T10:42:44.698700Z",
     "start_time": "2022-09-23T10:42:44.686612Z"
    }
   },
   "outputs": [],
   "source": [
    "# store as set for efficient comparison\n",
    "true = set(true_test_df[true_test_df.index == 17][-10:]['CourseID'].tolist()) "
   ]
  },
  {
   "cell_type": "code",
   "execution_count": 101,
   "metadata": {
    "ExecuteTime": {
     "end_time": "2022-09-23T10:42:44.757460Z",
     "start_time": "2022-09-23T10:42:44.703335Z"
    }
   },
   "outputs": [
    {
     "data": {
      "text/html": [
       "<div>\n",
       "<style scoped>\n",
       "    .dataframe tbody tr th:only-of-type {\n",
       "        vertical-align: middle;\n",
       "    }\n",
       "\n",
       "    .dataframe tbody tr th {\n",
       "        vertical-align: top;\n",
       "    }\n",
       "\n",
       "    .dataframe thead th {\n",
       "        text-align: right;\n",
       "    }\n",
       "</style>\n",
       "<table border=\"1\" class=\"dataframe\">\n",
       "  <thead>\n",
       "    <tr style=\"text-align: right;\">\n",
       "      <th></th>\n",
       "      <th></th>\n",
       "      <th></th>\n",
       "      <th>mean_cluster_grade</th>\n",
       "      <th>count</th>\n",
       "    </tr>\n",
       "    <tr>\n",
       "      <th>ClusterID</th>\n",
       "      <th>StudentID</th>\n",
       "      <th>CourseID</th>\n",
       "      <th></th>\n",
       "      <th></th>\n",
       "    </tr>\n",
       "  </thead>\n",
       "  <tbody>\n",
       "    <tr>\n",
       "      <th rowspan=\"5\" valign=\"top\">0</th>\n",
       "      <th rowspan=\"5\" valign=\"top\">17</th>\n",
       "      <th>T207002</th>\n",
       "      <td>5.0</td>\n",
       "      <td>233</td>\n",
       "    </tr>\n",
       "    <tr>\n",
       "      <th>T207035</th>\n",
       "      <td>5.0</td>\n",
       "      <td>214</td>\n",
       "    </tr>\n",
       "    <tr>\n",
       "      <th>T207004</th>\n",
       "      <td>5.0</td>\n",
       "      <td>194</td>\n",
       "    </tr>\n",
       "    <tr>\n",
       "      <th>T207036</th>\n",
       "      <td>5.0</td>\n",
       "      <td>190</td>\n",
       "    </tr>\n",
       "    <tr>\n",
       "      <th>T206060</th>\n",
       "      <td>5.0</td>\n",
       "      <td>184</td>\n",
       "    </tr>\n",
       "  </tbody>\n",
       "</table>\n",
       "</div>"
      ],
      "text/plain": [
       "                              mean_cluster_grade  count\n",
       "ClusterID StudentID CourseID                           \n",
       "0         17        T207002                  5.0    233\n",
       "                    T207035                  5.0    214\n",
       "                    T207004                  5.0    194\n",
       "                    T207036                  5.0    190\n",
       "                    T206060                  5.0    184"
      ]
     },
     "execution_count": 101,
     "metadata": {},
     "output_type": "execute_result"
    }
   ],
   "source": [
    "# get the recommendations for the same user from recommendation dataframe\n",
    "df_temp = maj_vote[maj_vote.index.get_level_values('StudentID') == 17]\n",
    "df_temp.head()"
   ]
  },
  {
   "cell_type": "code",
   "execution_count": 102,
   "metadata": {
    "ExecuteTime": {
     "end_time": "2022-09-23T10:42:44.785438Z",
     "start_time": "2022-09-23T10:42:44.767448Z"
    }
   },
   "outputs": [
    {
     "data": {
      "text/plain": [
       "[2, 6, 9, 16, 17]"
      ]
     },
     "execution_count": 102,
     "metadata": {},
     "output_type": "execute_result"
    }
   ],
   "source": [
    "maj_vote.index.get_level_values('StudentID').unique().tolist()[:5]"
   ]
  },
  {
   "cell_type": "code",
   "execution_count": 103,
   "metadata": {
    "ExecuteTime": {
     "end_time": "2022-09-23T10:42:44.803332Z",
     "start_time": "2022-09-23T10:42:44.788024Z"
    }
   },
   "outputs": [],
   "source": [
    "rec = set(df_temp.index.get_level_values('CourseID').tolist())"
   ]
  },
  {
   "cell_type": "code",
   "execution_count": 104,
   "metadata": {
    "ExecuteTime": {
     "end_time": "2022-09-23T10:42:44.826053Z",
     "start_time": "2022-09-23T10:42:44.808333Z"
    }
   },
   "outputs": [
    {
     "data": {
      "text/plain": [
       "{'12E050SCIENCES', '12E051SCIENCES', 'T207002', 'T207004', 'T207034'}"
      ]
     },
     "execution_count": 104,
     "metadata": {},
     "output_type": "execute_result"
    }
   ],
   "source": [
    "# get the intersection of two sets (recommendations and actual courses taken)\n",
    "intersection = true & rec\n",
    "intersection"
   ]
  },
  {
   "cell_type": "code",
   "execution_count": 105,
   "metadata": {
    "ExecuteTime": {
     "end_time": "2022-09-23T10:42:44.845135Z",
     "start_time": "2022-09-23T10:42:44.829087Z"
    }
   },
   "outputs": [],
   "source": [
    "tp = len(intersection) # True positive is the length of the intersection: the course that are in both sets\n",
    "fn = len(true) - len(intersection) # False negative is the length of actual courses -  true positives\n",
    "fp = len(rec) - tp # False positive "
   ]
  },
  {
   "cell_type": "code",
   "execution_count": 106,
   "metadata": {
    "ExecuteTime": {
     "end_time": "2022-09-23T10:42:44.874605Z",
     "start_time": "2022-09-23T10:42:44.845790Z"
    }
   },
   "outputs": [
    {
     "data": {
      "text/plain": [
       "0.5555555555555556"
      ]
     },
     "execution_count": 106,
     "metadata": {},
     "output_type": "execute_result"
    }
   ],
   "source": [
    "recall = tp / (tp + fn)\n",
    "recall"
   ]
  },
  {
   "cell_type": "code",
   "execution_count": 107,
   "metadata": {
    "ExecuteTime": {
     "end_time": "2022-09-23T10:42:44.905135Z",
     "start_time": "2022-09-23T10:42:44.874605Z"
    }
   },
   "outputs": [
    {
     "data": {
      "text/plain": [
       "0.5"
      ]
     },
     "execution_count": 107,
     "metadata": {},
     "output_type": "execute_result"
    }
   ],
   "source": [
    "precision = tp / (tp + fp)\n",
    "precision # precision is very bad due to the nature of recommending out of a list"
   ]
  },
  {
   "cell_type": "code",
   "execution_count": 108,
   "metadata": {
    "ExecuteTime": {
     "end_time": "2022-09-23T10:42:44.923910Z",
     "start_time": "2022-09-23T10:42:44.907944Z"
    }
   },
   "outputs": [
    {
     "data": {
      "text/plain": [
       "0.5263157894736842"
      ]
     },
     "execution_count": 108,
     "metadata": {},
     "output_type": "execute_result"
    }
   ],
   "source": [
    "f1 = (2*(precision * recall)) / (precision + recall)\n",
    "f1"
   ]
  }
 ],
 "metadata": {
  "kernelspec": {
   "display_name": "Python 3",
   "language": "python",
   "name": "python3"
  },
  "language_info": {
   "codemirror_mode": {
    "name": "ipython",
    "version": 3
   },
   "file_extension": ".py",
   "mimetype": "text/x-python",
   "name": "python",
   "nbconvert_exporter": "python",
   "pygments_lexer": "ipython3",
   "version": "3.8.5"
  }
 },
 "nbformat": 4,
 "nbformat_minor": 4
}
