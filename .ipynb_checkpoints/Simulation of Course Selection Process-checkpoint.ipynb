{
 "cells": [
  {
   "cell_type": "code",
   "execution_count": 11,
   "metadata": {
    "ExecuteTime": {
     "end_time": "2022-09-19T11:40:13.675973Z",
     "start_time": "2022-09-19T11:40:11.207242Z"
    }
   },
   "outputs": [],
   "source": [
    "import pandas as pd\n",
    "import numpy as np\n",
    "import random"
   ]
  },
  {
   "cell_type": "markdown",
   "metadata": {},
   "source": [
    "# Course Selection Process\n",
    "**Two programs of the university are chosen for the course selection simulation:** <br>\n",
    "1.) Political Science (B.Sc.) <br>\n",
    "2.) Educational Science (B.Sc.) <br>\n",
    "<br>\n",
    "For simplicity a set of assumptions is made to facilitate the simulation of Course choices for both programs:\n",
    "1. Choices start in Autumn\n",
    "2. at least 30 CP are taken per semester\n",
    "3. Mandatory Courses are given priority\n",
    "4. No Exchange Semester, no MOOCs\n",
    "5. Finish the degree in six semesters\n"
   ]
  },
  {
   "cell_type": "markdown",
   "metadata": {},
   "source": [
    "## 1) Political Science Bachelor Program\n",
    "Study Program can be found here:\n",
    "https://www.unige.ch/sciences-societe/formations/bachelors/sciences-politiques/plan-detudes-et-reglement/ <br>\n",
    "(Study Program Version might be subject to change, version used: Academic Year 2021/2022)"
   ]
  },
  {
   "cell_type": "code",
   "execution_count": 13,
   "metadata": {
    "ExecuteTime": {
     "end_time": "2022-09-14T08:43:57.783278Z",
     "start_time": "2022-09-14T08:43:57.766287Z"
    }
   },
   "outputs": [],
   "source": [
    "# Mapping of selection rules:\n",
    "# # Electives in Part 1:\n",
    "elecp1 = ['T108000','T108002','T106001','T105001'] # choose 3 out of 4\n",
    "elec_seminars_p1 = ['T108001','T108003','T106006','T105006'] #choose 1\n",
    "\n",
    "# Electives in Part 2\n",
    "# choose 5 out of 7\n",
    "elec_pol_p = ['T207012', 'T207035', 'T207037','T207038']                  \n",
    "elec_pol_a =  ['T207034','T207036','T207004'] #choose 2 out of 3\n",
    "\n",
    " # Choose 2. Some Electives are also among elec_pol \n",
    "elec_part2_p = ['T207012','T207035','T207037','T207038','J2P273','J2D034','T207001','J2P234','T207039','J2P302']\n",
    "elec_part2_a = ['T207034','T207036','T207004','J2D035','T207002','J2P201','J2P015','T207059']\n",
    "# Choose 12 CP of free options from open faculty T206054\n",
    "open_faculty_a = ['T206007','T205011','T206000','T208013','T208002','T207003','T214006','T206059','T208016','T208017','T208006','S102012','T208033','T208015','T205000','T205023']\n",
    "open_faculty_p = ['T206024','T206001','T208003','T208012','T206056','T206058','T206006','T208014','S102013','T208000','T206002','T206057','T208011','T205004','T205020','T205027']\n",
    "three_CP_Course_selection_a = ['12E050SCIENCES', '5869','']"
   ]
  },
  {
   "cell_type": "code",
   "execution_count": 23,
   "metadata": {
    "ExecuteTime": {
     "end_time": "2022-09-14T08:47:25.691984Z",
     "start_time": "2022-09-14T08:47:25.669002Z"
    }
   },
   "outputs": [],
   "source": [
    "# If a certain course is selected that represents a prerequisitve, the corresponding seminar is selected\n",
    "def course_first_year():\n",
    "    first_year = ['T100007','T100005','T107005','T100000','T100001','T100004','T100006','T107009','T100003']\n",
    "    choice = []\n",
    "    choice = np.random.choice(elecp1, size = 3,replace = False )\n",
    "    for i in choice:\n",
    "        first_year.append(i)\n",
    "    sem_count = 0\n",
    "    if 'T106001' in first_year:\n",
    "        first_year.append('T106006')\n",
    "        sem_count += 1\n",
    "    elif 'T108002' in first_year and sem_count == 0:\n",
    "        first_year.append('T108003') \n",
    "        sem_count += 1\n",
    "    else: \n",
    "        sem = np.random.choice(elec_seminars_p1, size = 1)\n",
    "        first_year.append(sem)\n",
    "    return first_year"
   ]
  },
  {
   "cell_type": "code",
   "execution_count": 24,
   "metadata": {
    "ExecuteTime": {
     "end_time": "2022-09-14T08:47:26.581056Z",
     "start_time": "2022-09-14T08:47:26.573042Z"
    }
   },
   "outputs": [],
   "source": [
    "check = course_first_year()"
   ]
  },
  {
   "cell_type": "code",
   "execution_count": 25,
   "metadata": {
    "ExecuteTime": {
     "end_time": "2022-09-14T08:47:27.236008Z",
     "start_time": "2022-09-14T08:47:27.220997Z"
    }
   },
   "outputs": [
    {
     "data": {
      "text/plain": [
       "13"
      ]
     },
     "execution_count": 25,
     "metadata": {},
     "output_type": "execute_result"
    }
   ],
   "source": [
    "len(check)\n",
    "#First Year correct number of classes taken, exactly 60 CP"
   ]
  },
  {
   "cell_type": "code",
   "execution_count": 26,
   "metadata": {
    "ExecuteTime": {
     "end_time": "2022-09-14T08:47:28.093509Z",
     "start_time": "2022-09-14T08:47:28.078501Z"
    }
   },
   "outputs": [
    {
     "name": "stdout",
     "output_type": "stream",
     "text": [
      "['T100007', 'T100005', 'T107005', 'T100000', 'T100001', 'T100004', 'T100006', 'T107009', 'T100003', 'T106001', 'T105001', 'T108002', 'T106006']\n"
     ]
    }
   ],
   "source": [
    "print(check)"
   ]
  },
  {
   "cell_type": "code",
   "execution_count": 27,
   "metadata": {
    "ExecuteTime": {
     "end_time": "2022-09-14T08:49:32.637165Z",
     "start_time": "2022-09-14T08:49:32.630168Z"
    }
   },
   "outputs": [],
   "source": [
    "def course_second_year():\n",
    "    first_year = course_first_year()\n",
    "    second_part_second_year = ['T200002','T200000','T200001','T207041','T207033','T207040','T200003','T207000']\n",
    "    choice = []\n",
    "    reduce_choice = False\n",
    "    geography = False\n",
    "    choice = np.random.choice(elec_pol_p, size = 3, replace = False)\n",
    "    for i in choice:\n",
    "        second_part_second_year.append(i)\n",
    "    if 'T207038' in second_part_second_year: #Political Theory taken in spring\n",
    "        second_part_second_year.append('T207002') #Ethic and politics game in Autumn third year\n",
    "        reduce_choice = True \n",
    "    if 'T106006' in first_year: #geography path\n",
    "        second_part_second_year.append('T206060') # Environmental game Autum second year first sem!\n",
    "        geography = True\n",
    "    courses = first_year + second_part_second_year\n",
    "    return courses, geography, reduce_choice"
   ]
  },
  {
   "cell_type": "code",
   "execution_count": 28,
   "metadata": {
    "ExecuteTime": {
     "end_time": "2022-09-14T08:49:33.443697Z",
     "start_time": "2022-09-14T08:49:33.429709Z"
    }
   },
   "outputs": [
    {
     "name": "stdout",
     "output_type": "stream",
     "text": [
      "['T100007', 'T100005', 'T107005', 'T100000', 'T100001', 'T100004', 'T100006', 'T107009', 'T100003', 'T105001', 'T106001', 'T108002', 'T106006', 'T200002', 'T200000', 'T200001', 'T207041', 'T207033', 'T207040', 'T200003', 'T207000', 'T207012', 'T207038', 'T207037', 'T207002', 'T206060']\n"
     ]
    }
   ],
   "source": [
    "test2,bol1,bol2 = course_second_year()\n",
    "print(test2)\n"
   ]
  },
  {
   "cell_type": "code",
   "execution_count": 29,
   "metadata": {
    "ExecuteTime": {
     "end_time": "2022-09-14T08:49:34.192187Z",
     "start_time": "2022-09-14T08:49:34.181194Z"
    }
   },
   "outputs": [
    {
     "name": "stdout",
     "output_type": "stream",
     "text": [
      "26\n",
      "True\n",
      "True\n"
     ]
    }
   ],
   "source": [
    "print(len(test2)) \n",
    "print(bol1)\n",
    "print(bol2)"
   ]
  },
  {
   "cell_type": "code",
   "execution_count": 58,
   "metadata": {
    "ExecuteTime": {
     "end_time": "2022-09-14T09:47:54.382902Z",
     "start_time": "2022-09-14T09:47:54.363894Z"
    }
   },
   "outputs": [],
   "source": [
    "def all_courses_pol_science():\n",
    "    second_part_second_year, geography, reduce_choice = course_second_year()\n",
    "    second_part_third_year = [] #54 CP to choose\n",
    "    choice = []\n",
    "    choice = np.random.choice(elec_pol_a, size = 2, replace = False)\n",
    "    for i in choice:\n",
    "        second_part_third_year.append(i)\n",
    "    count = 1\n",
    "    while count < 3: \n",
    "        choice = np.random.choice(elec_part2_a, size = 1, replace = False)\n",
    "        if choice not in second_part_third_year:\n",
    "            for i in choice:\n",
    "                second_part_third_year.append(i)\n",
    "                count += 1\n",
    "    choice = []\n",
    "    if reduce_choice == True: #no geography, ethics game,take at most 3CP more\n",
    "        choice = np.random.choice(three_CP_Course_selection_a, size = 1, replace = False, p =[0.4, 0.3, 0.3])\n",
    "        for i in choice:\n",
    "            second_part_third_year.append(i)\n",
    "    elif geography == True and reduce_choice == False : # geography and no Ethics game\n",
    "        second_part_third_year.append('T206054')# political geography\n",
    "    elif geography == True and reduce_choice == True:\n",
    "        second_part_third_year.append('') #empty, do nothing\n",
    "    else:\n",
    "        choice = np.random.choice(open_faculty_a, size = 1) #random choice unless geography!\n",
    "        for i in choice:\n",
    "            second_part_third_year.append(i)\n",
    "    choice = []\n",
    "    if '5869' in second_part_third_year:\n",
    "        second_part_third_year.append('5870')\n",
    "        choice = np.random.choice(open_faculty_p, size = 3, replace = False) #only 27 is needed\n",
    "    elif '12E050SCIENCES' in second_part_third_year:\n",
    "        second_part_third_year.append('12E051SCIENCES')\n",
    "        choice = np.random.choice(open_faculty_p, size = 3, replace = False)\n",
    "    elif reduce_choice == True: # 36 ECTS in Sem1 Second year\n",
    "        choice = np.random.choice(open_faculty_p, size = 3, replace = False)\n",
    "    else: # usecase if no specialties are taken\n",
    "        choice = np.random.choice(open_faculty_p, size = 4,replace = False)\n",
    "    for i in choice:\n",
    "        second_part_third_year.append(i)\n",
    "    second_part_third_year = list(filter(None, second_part_third_year))\n",
    "    courses = second_part_second_year + second_part_third_year\n",
    "    return courses, geography"
   ]
  },
  {
   "cell_type": "code",
   "execution_count": 59,
   "metadata": {
    "ExecuteTime": {
     "end_time": "2022-09-14T09:47:55.338299Z",
     "start_time": "2022-09-14T09:47:55.323305Z"
    }
   },
   "outputs": [
    {
     "name": "stdout",
     "output_type": "stream",
     "text": [
      "32\n",
      "['T100007', 'T100005', 'T107005', 'T100000', 'T100001', 'T100004', 'T100006', 'T107009', 'T100003', 'T108000', 'T105001', 'T108002', 'T108003', 'T200002', 'T200000', 'T200001', 'T207041', 'T207033', 'T207040', 'T200003', 'T207000', 'T207038', 'T207012', 'T207035', 'T207002', 'T207004', 'T207034', 'J2P015', 'J2D035', 'T208003', 'T205027', 'T206057']\n",
      "False\n"
     ]
    }
   ],
   "source": [
    "full_hist, geo = all_courses_pol_science()\n",
    "print(len(full_hist))\n",
    "print(full_hist)\n",
    "print(geo)"
   ]
  },
  {
   "cell_type": "code",
   "execution_count": 71,
   "metadata": {
    "ExecuteTime": {
     "end_time": "2022-09-20T17:37:22.473607Z",
     "start_time": "2022-09-20T17:37:22.453602Z"
    }
   },
   "outputs": [
    {
     "name": "stdout",
     "output_type": "stream",
     "text": [
      "[0.029411764705882353, 0.058823529411764705, 0.11764705882352941, 0.17647058823529413, 0.23529411764705882, 0.17647058823529413, 0.11764705882352941, 0.058823529411764705, 0.029411764705882353]\n"
     ]
    }
   ],
   "source": [
    "grades = [4.0, 4.25, 4.5, 4.75, 5, 5.25, 5.5, 5.75, 6.0]\n",
    "p_grades = [1/34,2/34,4/34,6/34,8/34,6/34,4/34,2/34,1/34]\n",
    "len(p_grades)\n",
    "print(p_grades)"
   ]
  },
  {
   "cell_type": "markdown",
   "metadata": {},
   "source": [
    "### Obtain Training Data"
   ]
  },
  {
   "cell_type": "code",
   "execution_count": 60,
   "metadata": {
    "ExecuteTime": {
     "end_time": "2022-09-14T09:49:51.457161Z",
     "start_time": "2022-09-14T09:49:49.859216Z"
    }
   },
   "outputs": [
    {
     "data": {
      "text/html": [
       "<div>\n",
       "<style scoped>\n",
       "    .dataframe tbody tr th:only-of-type {\n",
       "        vertical-align: middle;\n",
       "    }\n",
       "\n",
       "    .dataframe tbody tr th {\n",
       "        vertical-align: top;\n",
       "    }\n",
       "\n",
       "    .dataframe thead th {\n",
       "        text-align: right;\n",
       "    }\n",
       "</style>\n",
       "<table border=\"1\" class=\"dataframe\">\n",
       "  <thead>\n",
       "    <tr style=\"text-align: right;\">\n",
       "      <th></th>\n",
       "      <th>CourseID</th>\n",
       "      <th>StudentID</th>\n",
       "      <th>Grades</th>\n",
       "      <th>Geography</th>\n",
       "    </tr>\n",
       "  </thead>\n",
       "  <tbody>\n",
       "    <tr>\n",
       "      <th>0</th>\n",
       "      <td>T100007</td>\n",
       "      <td>1</td>\n",
       "      <td>5.75</td>\n",
       "      <td>True</td>\n",
       "    </tr>\n",
       "    <tr>\n",
       "      <th>1</th>\n",
       "      <td>T100005</td>\n",
       "      <td>1</td>\n",
       "      <td>5.25</td>\n",
       "      <td>True</td>\n",
       "    </tr>\n",
       "    <tr>\n",
       "      <th>2</th>\n",
       "      <td>T107005</td>\n",
       "      <td>1</td>\n",
       "      <td>4.75</td>\n",
       "      <td>True</td>\n",
       "    </tr>\n",
       "    <tr>\n",
       "      <th>3</th>\n",
       "      <td>T100000</td>\n",
       "      <td>1</td>\n",
       "      <td>5.25</td>\n",
       "      <td>True</td>\n",
       "    </tr>\n",
       "    <tr>\n",
       "      <th>4</th>\n",
       "      <td>T100001</td>\n",
       "      <td>1</td>\n",
       "      <td>5.00</td>\n",
       "      <td>True</td>\n",
       "    </tr>\n",
       "    <tr>\n",
       "      <th>5</th>\n",
       "      <td>T100004</td>\n",
       "      <td>1</td>\n",
       "      <td>4.75</td>\n",
       "      <td>True</td>\n",
       "    </tr>\n",
       "    <tr>\n",
       "      <th>6</th>\n",
       "      <td>T100006</td>\n",
       "      <td>1</td>\n",
       "      <td>5.75</td>\n",
       "      <td>True</td>\n",
       "    </tr>\n",
       "    <tr>\n",
       "      <th>7</th>\n",
       "      <td>T107009</td>\n",
       "      <td>1</td>\n",
       "      <td>5.50</td>\n",
       "      <td>True</td>\n",
       "    </tr>\n",
       "    <tr>\n",
       "      <th>8</th>\n",
       "      <td>T100003</td>\n",
       "      <td>1</td>\n",
       "      <td>5.00</td>\n",
       "      <td>True</td>\n",
       "    </tr>\n",
       "    <tr>\n",
       "      <th>9</th>\n",
       "      <td>T106001</td>\n",
       "      <td>1</td>\n",
       "      <td>4.50</td>\n",
       "      <td>True</td>\n",
       "    </tr>\n",
       "  </tbody>\n",
       "</table>\n",
       "</div>"
      ],
      "text/plain": [
       "  CourseID  StudentID  Grades  Geography\n",
       "0  T100007          1    5.75       True\n",
       "1  T100005          1    5.25       True\n",
       "2  T107005          1    4.75       True\n",
       "3  T100000          1    5.25       True\n",
       "4  T100001          1    5.00       True\n",
       "5  T100004          1    4.75       True\n",
       "6  T100006          1    5.75       True\n",
       "7  T107009          1    5.50       True\n",
       "8  T100003          1    5.00       True\n",
       "9  T106001          1    4.50       True"
      ]
     },
     "execution_count": 60,
     "metadata": {},
     "output_type": "execute_result"
    }
   ],
   "source": [
    "df = pd.DataFrame()\n",
    "\n",
    "for i in range(1,301):\n",
    "    df_temp = pd.DataFrame()\n",
    "    course_selection, geography = all_courses_pol_science()\n",
    "    df_temp['CourseID'] = course_selection\n",
    "    df_temp['StudentID'] = [i] * len(df_temp)\n",
    "    df_temp['Grades'] = np.random.choice(grades, size = len(df_temp), p = p_grades)\n",
    "    df_temp['Geography'] = [geography] * len(df_temp)\n",
    "    df = pd.concat([df, df_temp], ignore_index = True)\n",
    "df.head(10)    "
   ]
  },
  {
   "cell_type": "code",
   "execution_count": 68,
   "metadata": {
    "ExecuteTime": {
     "end_time": "2022-09-14T09:55:51.642929Z",
     "start_time": "2022-09-14T09:55:51.626940Z"
    }
   },
   "outputs": [
    {
     "data": {
      "text/plain": [
       "300"
      ]
     },
     "execution_count": 68,
     "metadata": {},
     "output_type": "execute_result"
    }
   ],
   "source": [
    "len(df.StudentID.unique()) # 300 Training subjects for political Science"
   ]
  },
  {
   "cell_type": "code",
   "execution_count": 80,
   "metadata": {
    "ExecuteTime": {
     "end_time": "2022-09-14T10:06:33.741238Z",
     "start_time": "2022-09-14T10:06:33.723248Z"
    }
   },
   "outputs": [
    {
     "data": {
      "text/plain": [
       "array([ True])"
      ]
     },
     "execution_count": 80,
     "metadata": {},
     "output_type": "execute_result"
    }
   ],
   "source": [
    "df[df.StudentID ==1].Geography.unique()"
   ]
  },
  {
   "cell_type": "code",
   "execution_count": 87,
   "metadata": {
    "ExecuteTime": {
     "end_time": "2022-09-14T10:07:53.667461Z",
     "start_time": "2022-09-14T10:07:52.419254Z"
    }
   },
   "outputs": [],
   "source": [
    "# Look up table is created to check for Geography Orientation at a later step\n",
    "look_up_table = pd.DataFrame()\n",
    "\n",
    "for i in df.StudentID.unique():\n",
    "    df_temp = pd.DataFrame()\n",
    "    df_temp['StudentID'] = [i]\n",
    "    df_temp['Geography'] = df[df.StudentID == i].Geography.unique()\n",
    "    look_up_table = pd.concat([look_up_table, df_temp])\n",
    "\n",
    "look_up_table.set_index('StudentID')"
   ]
  },
  {
   "cell_type": "code",
   "execution_count": 94,
   "metadata": {
    "ExecuteTime": {
     "end_time": "2022-09-15T09:29:58.852219Z",
     "start_time": "2022-09-15T09:29:58.829230Z"
    }
   },
   "outputs": [
    {
     "data": {
      "text/html": [
       "<div>\n",
       "<style scoped>\n",
       "    .dataframe tbody tr th:only-of-type {\n",
       "        vertical-align: middle;\n",
       "    }\n",
       "\n",
       "    .dataframe tbody tr th {\n",
       "        vertical-align: top;\n",
       "    }\n",
       "\n",
       "    .dataframe thead th {\n",
       "        text-align: right;\n",
       "    }\n",
       "</style>\n",
       "<table border=\"1\" class=\"dataframe\">\n",
       "  <thead>\n",
       "    <tr style=\"text-align: right;\">\n",
       "      <th></th>\n",
       "      <th>StudentID</th>\n",
       "      <th>Geography</th>\n",
       "    </tr>\n",
       "  </thead>\n",
       "  <tbody>\n",
       "    <tr>\n",
       "      <th>0</th>\n",
       "      <td>291</td>\n",
       "      <td>True</td>\n",
       "    </tr>\n",
       "    <tr>\n",
       "      <th>0</th>\n",
       "      <td>292</td>\n",
       "      <td>True</td>\n",
       "    </tr>\n",
       "    <tr>\n",
       "      <th>0</th>\n",
       "      <td>293</td>\n",
       "      <td>True</td>\n",
       "    </tr>\n",
       "    <tr>\n",
       "      <th>0</th>\n",
       "      <td>294</td>\n",
       "      <td>False</td>\n",
       "    </tr>\n",
       "    <tr>\n",
       "      <th>0</th>\n",
       "      <td>295</td>\n",
       "      <td>False</td>\n",
       "    </tr>\n",
       "    <tr>\n",
       "      <th>0</th>\n",
       "      <td>296</td>\n",
       "      <td>True</td>\n",
       "    </tr>\n",
       "    <tr>\n",
       "      <th>0</th>\n",
       "      <td>297</td>\n",
       "      <td>True</td>\n",
       "    </tr>\n",
       "    <tr>\n",
       "      <th>0</th>\n",
       "      <td>298</td>\n",
       "      <td>True</td>\n",
       "    </tr>\n",
       "    <tr>\n",
       "      <th>0</th>\n",
       "      <td>299</td>\n",
       "      <td>True</td>\n",
       "    </tr>\n",
       "    <tr>\n",
       "      <th>0</th>\n",
       "      <td>300</td>\n",
       "      <td>True</td>\n",
       "    </tr>\n",
       "  </tbody>\n",
       "</table>\n",
       "</div>"
      ],
      "text/plain": [
       "   StudentID  Geography\n",
       "0        291       True\n",
       "0        292       True\n",
       "0        293       True\n",
       "0        294      False\n",
       "0        295      False\n",
       "0        296       True\n",
       "0        297       True\n",
       "0        298       True\n",
       "0        299       True\n",
       "0        300       True"
      ]
     },
     "execution_count": 94,
     "metadata": {},
     "output_type": "execute_result"
    }
   ],
   "source": [
    "look_up_table.tail(10)"
   ]
  },
  {
   "cell_type": "code",
   "execution_count": 91,
   "metadata": {
    "ExecuteTime": {
     "end_time": "2022-09-14T10:22:34.736677Z",
     "start_time": "2022-09-14T10:22:34.717687Z"
    }
   },
   "outputs": [
    {
     "data": {
      "text/plain": [
       "True     230\n",
       "False     70\n",
       "Name: Geography, dtype: int64"
      ]
     },
     "execution_count": 91,
     "metadata": {},
     "output_type": "execute_result"
    }
   ],
   "source": [
    "look_up_table.Geography.value_counts()"
   ]
  },
  {
   "cell_type": "code",
   "execution_count": 67,
   "metadata": {
    "ExecuteTime": {
     "end_time": "2022-09-14T09:55:47.375385Z",
     "start_time": "2022-09-14T09:55:47.293162Z"
    }
   },
   "outputs": [],
   "source": [
    "df.to_csv('obtained_data/train_pol_BSc.csv',index = False)"
   ]
  },
  {
   "cell_type": "code",
   "execution_count": 95,
   "metadata": {
    "ExecuteTime": {
     "end_time": "2022-09-15T09:30:50.984347Z",
     "start_time": "2022-09-15T09:30:50.958103Z"
    }
   },
   "outputs": [],
   "source": [
    "look_up_table.to_csv('obtained_data/train_pol_BSc.csv',index = False)"
   ]
  },
  {
   "cell_type": "markdown",
   "metadata": {},
   "source": [
    "## 2) Educational Science Bachelor Program\n",
    "The program outline is to be found at: <br>\n",
    "https://pgc.unige.ch/main/study-plans?year=2022&fac=464&studyPlanDep=default-value"
   ]
  },
  {
   "cell_type": "code",
   "execution_count": 4,
   "metadata": {
    "ExecuteTime": {
     "end_time": "2022-09-19T10:10:52.869867Z",
     "start_time": "2022-09-19T10:10:52.854875Z"
    }
   },
   "outputs": [],
   "source": [
    "# First Cycle courses\n",
    "\n",
    "# Domain 1: Choose 4\n",
    "dom1 = ['742000', '742001', '742002', '742003', '742004', '742006', '742111', '742007']\n",
    "# Domain 2: Choose 4\n",
    "dom2 = ['742060','7420601', '742062', '742064', '742066', '742067']\n",
    "# Domain Psy: Choose 1 (or 1 from Dom 1 or 2)\n",
    "dom_psy = ['71105', '71120', '71121', '74112', '71133']\n",
    "# Seminar in SITS: choose 1\n",
    "sem_sits = ['7420AA', '7420AB', '7420AC', '7420AD', '7420AE', '7420AF', '7420AH', '7421AA', '7421AB', '7421AC', '7421AD', '7421AE', '7421AG']\n",
    "# Seminar in education: choose 1\n",
    "sem_edu = ['742120', '742121']\n"
   ]
  },
  {
   "cell_type": "code",
   "execution_count": 58,
   "metadata": {
    "ExecuteTime": {
     "end_time": "2022-09-20T16:14:26.925603Z",
     "start_time": "2022-09-20T16:14:26.846647Z"
    }
   },
   "outputs": [],
   "source": [
    "def first_cycle():\n",
    "    first_cycle = []\n",
    "    domains = [dom1, dom2]\n",
    "    names = ['dom1', 'dom2', 'dom_psy']\n",
    "    for i in domains:\n",
    "        choice = []\n",
    "        choice = np.random.choice(i, size = 4, replace = False)\n",
    "        [first_cycle.append(j) for j in choice]\n",
    "    choice = np.random.choice(names, size = 1, replace = False)\n",
    "    if choice == 'dom1':\n",
    "        course = np.random.choice(dom1, size = 1, replace = False)\n",
    "        first_cycle.append(course[0])\n",
    "    elif choice == 'dom2':\n",
    "        course = np.random.choice(dom2, size = 1, replace = False)\n",
    "        first_cycle.append(course[0])\n",
    "    else:\n",
    "        course = np.random.choice(dom_psy, size = 1, replace = False)\n",
    "        first_cycle.append(course[0])\n",
    "    sem = np.random.choice(sem_sits, size = 1, replace = False)\n",
    "    first_cycle.append(sem[0])\n",
    "    sem = np.random.choice(sem_edu, size = 1, replace = False)\n",
    "    first_cycle.append(sem[0])\n",
    "    return first_cycle"
   ]
  },
  {
   "cell_type": "code",
   "execution_count": 59,
   "metadata": {
    "ExecuteTime": {
     "end_time": "2022-09-20T16:14:53.539643Z",
     "start_time": "2022-09-20T16:14:53.521654Z"
    }
   },
   "outputs": [
    {
     "data": {
      "text/plain": [
       "11"
      ]
     },
     "execution_count": 59,
     "metadata": {},
     "output_type": "execute_result"
    }
   ],
   "source": [
    "test1 = first_cycle()\n",
    "len(test1) # 11 courses are chosen during the first cycle"
   ]
  },
  {
   "cell_type": "code",
   "execution_count": 2,
   "metadata": {
    "ExecuteTime": {
     "end_time": "2022-09-19T10:10:40.460434Z",
     "start_time": "2022-09-19T10:10:40.448442Z"
    }
   },
   "outputs": [],
   "source": [
    "# Second Cycle Course (BSEF Only)\n",
    "\n",
    "# Domain 1 (choose 6)\n",
    "dom1_cyc2 = ['742215', '742205', '742206', '742208', '742209', '742211', '742327', '742214', 'J2M292', '7414H']\n",
    "\n",
    "# Domain 2 (choose 6)\n",
    "dom2_cyc2 = ['742261', '742262', '742272', '742270', '742840','742841', '742851', '742271', '742871']\n",
    "\n",
    "# Domain 3 (choose 6)\n",
    "dom3_cyc2 = ['742329', '742331', '742334', '742336', '742337', '742338','742340', '742342', '742343', '742344']\n",
    "\n",
    "# Domain 4 (choose 6)\n",
    "dom4_cyc2 = ['742380', '742382', '742383', '742385', '742386', '742396', '742397', '742389', '752254', '742861', '742870', '74110', '74146']\n",
    "\n",
    "# Domain 5 (choose all)\n",
    "dom5_cyc2 = ['7422A5', '7422A8', '7422A7', '7417I']\n",
    "\n",
    "# Domain 6 \n",
    "# (Methods: choose 4 in total, at least one of each subdomain)\n",
    "m1 = ['742450', '742452']\n",
    "m2 = ['742481', '742481','742483', '742514']\n",
    "m3 = ['742515', '742516', '742517', '742518']\n",
    "\n",
    "# Seminar: Choose 1\n",
    "sem_cyc2 = ['7422AA', '7422AG', '7422AH', '7422AN', '7422AQ', '7422AR', '7422AS', '7422AT', '7422AU', '7422AV', '7422AK']\n"
   ]
  },
  {
   "cell_type": "code",
   "execution_count": 46,
   "metadata": {
    "ExecuteTime": {
     "end_time": "2022-09-19T13:14:52.803587Z",
     "start_time": "2022-09-19T13:14:52.784581Z"
    }
   },
   "outputs": [],
   "source": [
    "def domVI():\n",
    "    domains = [m1, m2, m3]\n",
    "    names = ['m1', 'm2', 'm3']\n",
    "    dom6 = []\n",
    "    for i in domains:\n",
    "        methods = []\n",
    "        methods = np.random.choice(i, size = 1, replace = False)\n",
    "        [dom6.append(j) for j in methods]\n",
    "    while len(dom6) < 4:\n",
    "        extra = np.random.choice(names, size = 1, replace = False)\n",
    "        methods = []\n",
    "        if extra == 'm1': \n",
    "            methods = np.random.choice(m1, size = 1, replace = False)\n",
    "            [dom6.append(j) for j in methods if j not in dom6]\n",
    "        elif extra == 'm2':\n",
    "            methods = np.random.choice(m2, size = 1, replace = False)\n",
    "            [dom6.append(j) for j in methods if j not in dom6]\n",
    "        else:\n",
    "            methods = np.random.choice(m3, size = 1, replace = False)\n",
    "            [dom6.append(j) for j in methods if j not in dom6]    \n",
    "    return dom6"
   ]
  },
  {
   "cell_type": "code",
   "execution_count": 51,
   "metadata": {
    "ExecuteTime": {
     "end_time": "2022-09-19T13:55:51.918896Z",
     "start_time": "2022-09-19T13:55:51.897909Z"
    }
   },
   "outputs": [
    {
     "data": {
      "text/plain": [
       "4"
      ]
     },
     "execution_count": 51,
     "metadata": {},
     "output_type": "execute_result"
    }
   ],
   "source": [
    "test6 = domVI()\n",
    "len(test6)"
   ]
  },
  {
   "cell_type": "code",
   "execution_count": 52,
   "metadata": {
    "ExecuteTime": {
     "end_time": "2022-09-19T13:55:52.889892Z",
     "start_time": "2022-09-19T13:55:52.873899Z"
    }
   },
   "outputs": [
    {
     "data": {
      "text/plain": [
       "['742450', '742481', '742517', '742452']"
      ]
     },
     "execution_count": 52,
     "metadata": {},
     "output_type": "execute_result"
    }
   ],
   "source": [
    "test6"
   ]
  },
  {
   "cell_type": "code",
   "execution_count": 55,
   "metadata": {
    "ExecuteTime": {
     "end_time": "2022-09-19T13:58:17.720261Z",
     "start_time": "2022-09-19T13:58:17.697258Z"
    }
   },
   "outputs": [],
   "source": [
    "def second_cycle():\n",
    "    domains = [dom1_cyc2, dom2_cyc2, dom3_cyc2, dom4_cyc2] # Domains 1-5\n",
    "    second_cycle = []\n",
    "    for i in domains:\n",
    "        choice = []\n",
    "        choice = np.random.choice(i, size = 6, replace = False )\n",
    "        [second_cycle.append(j) for j in choice]\n",
    "    [second_cycle.append(k) for k in dom5_cyc2]\n",
    "    sem = np.random.choice(sem_cyc2, size = 1, replace = False)\n",
    "    second_cycle.append(sem[0])\n",
    "    dom6 = domVI()\n",
    "    [second_cycle.append(l) for l in dom6]\n",
    "    return second_cycle"
   ]
  },
  {
   "cell_type": "code",
   "execution_count": 56,
   "metadata": {
    "ExecuteTime": {
     "end_time": "2022-09-19T13:58:20.428817Z",
     "start_time": "2022-09-19T13:58:20.409828Z"
    }
   },
   "outputs": [
    {
     "data": {
      "text/plain": [
       "{'7417I', '7422A5', '7422A7', '7422A8'}"
      ]
     },
     "execution_count": 56,
     "metadata": {},
     "output_type": "execute_result"
    }
   ],
   "source": [
    "test = second_cycle()\n",
    "set(dom5_cyc2) & set(test) # testing with intersection of sets to validate the number of choices made"
   ]
  },
  {
   "cell_type": "code",
   "execution_count": 69,
   "metadata": {
    "ExecuteTime": {
     "end_time": "2022-09-20T16:24:26.005015Z",
     "start_time": "2022-09-20T16:24:25.984032Z"
    }
   },
   "outputs": [
    {
     "data": {
      "text/plain": [
       "33"
      ]
     },
     "execution_count": 69,
     "metadata": {},
     "output_type": "execute_result"
    }
   ],
   "source": [
    "len(test)"
   ]
  },
  {
   "cell_type": "code",
   "execution_count": 66,
   "metadata": {
    "ExecuteTime": {
     "end_time": "2022-09-20T16:23:49.210131Z",
     "start_time": "2022-09-20T16:23:49.193137Z"
    }
   },
   "outputs": [],
   "source": [
    "def all_courses_edu():\n",
    "    all_courses = []\n",
    "    first = first_cycle()\n",
    "    second = second_cycle()\n",
    "    [all_courses.append(x) for x in first]\n",
    "    [all_courses.append(y) for y in second]\n",
    "    return all_courses"
   ]
  },
  {
   "cell_type": "code",
   "execution_count": 67,
   "metadata": {
    "ExecuteTime": {
     "end_time": "2022-09-20T16:23:51.629128Z",
     "start_time": "2022-09-20T16:23:51.616139Z"
    }
   },
   "outputs": [],
   "source": [
    "complete_record = all_courses_edu()"
   ]
  },
  {
   "cell_type": "code",
   "execution_count": 68,
   "metadata": {
    "ExecuteTime": {
     "end_time": "2022-09-20T16:23:52.530914Z",
     "start_time": "2022-09-20T16:23:52.511926Z"
    }
   },
   "outputs": [
    {
     "data": {
      "text/plain": [
       "44"
      ]
     },
     "execution_count": 68,
     "metadata": {},
     "output_type": "execute_result"
    }
   ],
   "source": [
    "len(complete_record)\n",
    "# 11 from first cycle\n",
    "# 33 from second cycle"
   ]
  },
  {
   "cell_type": "code",
   "execution_count": 72,
   "metadata": {
    "ExecuteTime": {
     "end_time": "2022-09-20T17:37:55.651433Z",
     "start_time": "2022-09-20T17:37:53.952401Z"
    }
   },
   "outputs": [
    {
     "data": {
      "text/html": [
       "<div>\n",
       "<style scoped>\n",
       "    .dataframe tbody tr th:only-of-type {\n",
       "        vertical-align: middle;\n",
       "    }\n",
       "\n",
       "    .dataframe tbody tr th {\n",
       "        vertical-align: top;\n",
       "    }\n",
       "\n",
       "    .dataframe thead th {\n",
       "        text-align: right;\n",
       "    }\n",
       "</style>\n",
       "<table border=\"1\" class=\"dataframe\">\n",
       "  <thead>\n",
       "    <tr style=\"text-align: right;\">\n",
       "      <th></th>\n",
       "      <th>CourseID</th>\n",
       "      <th>StudentID</th>\n",
       "      <th>Grades</th>\n",
       "    </tr>\n",
       "  </thead>\n",
       "  <tbody>\n",
       "    <tr>\n",
       "      <th>0</th>\n",
       "      <td>742004</td>\n",
       "      <td>301</td>\n",
       "      <td>5.75</td>\n",
       "    </tr>\n",
       "    <tr>\n",
       "      <th>1</th>\n",
       "      <td>742111</td>\n",
       "      <td>301</td>\n",
       "      <td>4.25</td>\n",
       "    </tr>\n",
       "    <tr>\n",
       "      <th>2</th>\n",
       "      <td>742003</td>\n",
       "      <td>301</td>\n",
       "      <td>5.00</td>\n",
       "    </tr>\n",
       "    <tr>\n",
       "      <th>3</th>\n",
       "      <td>742000</td>\n",
       "      <td>301</td>\n",
       "      <td>4.75</td>\n",
       "    </tr>\n",
       "    <tr>\n",
       "      <th>4</th>\n",
       "      <td>742066</td>\n",
       "      <td>301</td>\n",
       "      <td>5.25</td>\n",
       "    </tr>\n",
       "    <tr>\n",
       "      <th>5</th>\n",
       "      <td>742064</td>\n",
       "      <td>301</td>\n",
       "      <td>5.25</td>\n",
       "    </tr>\n",
       "    <tr>\n",
       "      <th>6</th>\n",
       "      <td>742062</td>\n",
       "      <td>301</td>\n",
       "      <td>4.75</td>\n",
       "    </tr>\n",
       "    <tr>\n",
       "      <th>7</th>\n",
       "      <td>742060</td>\n",
       "      <td>301</td>\n",
       "      <td>5.25</td>\n",
       "    </tr>\n",
       "    <tr>\n",
       "      <th>8</th>\n",
       "      <td>71105</td>\n",
       "      <td>301</td>\n",
       "      <td>4.50</td>\n",
       "    </tr>\n",
       "    <tr>\n",
       "      <th>9</th>\n",
       "      <td>7421AB</td>\n",
       "      <td>301</td>\n",
       "      <td>4.50</td>\n",
       "    </tr>\n",
       "  </tbody>\n",
       "</table>\n",
       "</div>"
      ],
      "text/plain": [
       "  CourseID  StudentID  Grades\n",
       "0   742004        301    5.75\n",
       "1   742111        301    4.25\n",
       "2   742003        301    5.00\n",
       "3   742000        301    4.75\n",
       "4   742066        301    5.25\n",
       "5   742064        301    5.25\n",
       "6   742062        301    4.75\n",
       "7   742060        301    5.25\n",
       "8    71105        301    4.50\n",
       "9   7421AB        301    4.50"
      ]
     },
     "execution_count": 72,
     "metadata": {},
     "output_type": "execute_result"
    }
   ],
   "source": [
    "df_edu = pd.DataFrame()\n",
    "\n",
    "for i in range(301,601):\n",
    "    df_temp = pd.DataFrame()\n",
    "    course_selection = all_courses_edu()\n",
    "    df_temp['CourseID'] = course_selection\n",
    "    df_temp['StudentID'] = [i] * len(df_temp)\n",
    "    df_temp['Grades'] = np.random.choice(grades, size = len(df_temp), p = p_grades)\n",
    "    df_edu = pd.concat([df_edu, df_temp], ignore_index = True)\n",
    "df_edu.head(10)  "
   ]
  }
 ],
 "metadata": {
  "kernelspec": {
   "display_name": "Python 3",
   "language": "python",
   "name": "python3"
  },
  "language_info": {
   "codemirror_mode": {
    "name": "ipython",
    "version": 3
   },
   "file_extension": ".py",
   "mimetype": "text/x-python",
   "name": "python",
   "nbconvert_exporter": "python",
   "pygments_lexer": "ipython3",
   "version": "3.8.5"
  }
 },
 "nbformat": 4,
 "nbformat_minor": 4
}
