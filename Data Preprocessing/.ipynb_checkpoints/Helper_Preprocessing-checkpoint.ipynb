{
 "cells": [
  {
   "cell_type": "code",
   "execution_count": 1,
   "metadata": {
    "ExecuteTime": {
     "end_time": "2022-09-20T19:04:59.889153Z",
     "start_time": "2022-09-20T19:04:59.264865Z"
    }
   },
   "outputs": [],
   "source": [
    "import numpy as np\n",
    "import pandas as pd\n"
   ]
  },
  {
   "cell_type": "code",
   "execution_count": 2,
   "metadata": {
    "ExecuteTime": {
     "end_time": "2022-09-20T19:05:17.310205Z",
     "start_time": "2022-09-20T19:05:17.298213Z"
    }
   },
   "outputs": [],
   "source": [
    "# obtain the corresponding data frames (df) from a given (index_list)\n",
    "\n",
    "def get_student_data(index_list, df):\n",
    "    test_df = pd.DataFrame()\n",
    "    for i in index_list:\n",
    "        df_temp = df[df['StudentID'] == i]\n",
    "        test_df = pd.concat([test_df, df_temp])\n",
    "    return test_df"
   ]
  },
  {
   "cell_type": "code",
   "execution_count": 3,
   "metadata": {
    "ExecuteTime": {
     "end_time": "2022-09-20T19:05:51.141478Z",
     "start_time": "2022-09-20T19:05:51.137478Z"
    }
   },
   "outputs": [],
   "source": [
    "def round_to_nearest_grade(x):\n",
    "    return round(x * 4) / 4\n"
   ]
  },
  {
   "cell_type": "code",
   "execution_count": 4,
   "metadata": {
    "ExecuteTime": {
     "end_time": "2022-09-20T19:05:52.123500Z",
     "start_time": "2022-09-20T19:05:52.113507Z"
    }
   },
   "outputs": [],
   "source": [
    "def remove_entries(df, x):\n",
    "    prep_df = pd.DataFrame()\n",
    "    index = df['StudentID'].unique()\n",
    "    for i in index:\n",
    "        df_temp = df[df['StudentID'] == i ]\n",
    "        df_temp.iloc[x:,[3]] = np.NaN\n",
    "        prep_df = pd.concat([prep_df, df_temp])\n",
    "    return prep_df\n"
   ]
  }
 ],
 "metadata": {
  "kernelspec": {
   "display_name": "Python 3",
   "language": "python",
   "name": "python3"
  },
  "language_info": {
   "codemirror_mode": {
    "name": "ipython",
    "version": 3
   },
   "file_extension": ".py",
   "mimetype": "text/x-python",
   "name": "python",
   "nbconvert_exporter": "python",
   "pygments_lexer": "ipython3",
   "version": "3.8.5"
  }
 },
 "nbformat": 4,
 "nbformat_minor": 4
}
